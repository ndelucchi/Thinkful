{
 "cells": [
  {
   "cell_type": "code",
   "execution_count": null,
   "metadata": {},
   "outputs": [],
   "source": [
    "import pandas as pd\n",
    "import requests"
   ]
  },
  {
   "cell_type": "code",
   "execution_count": 1,
   "metadata": {},
   "outputs": [],
   "source": [
    "api_key = \"04zkFjcpBBATQw2LjFLlbyyxNIGNGgHv\""
   ]
  },
  {
   "cell_type": "code",
   "execution_count": 16,
   "metadata": {},
   "outputs": [
    {
     "name": "stdout",
     "output_type": "stream",
     "text": [
      "what .gif do you want? nickelodeon\n"
     ]
    }
   ],
   "source": [
    "query = input(\"what .gif do you want? \")\n",
    "data = requests.get(f\"http://api.giphy.com/v1/gifs/search?q={query}&api_key={api_key}&limit=20\")"
   ]
  },
  {
   "cell_type": "code",
   "execution_count": 17,
   "metadata": {},
   "outputs": [
    {
     "data": {
      "text/plain": [
       "<Response [200]>"
      ]
     },
     "execution_count": 17,
     "metadata": {},
     "output_type": "execute_result"
    }
   ],
   "source": [
    "data"
   ]
  },
  {
   "cell_type": "code",
   "execution_count": 18,
   "metadata": {},
   "outputs": [
    {
     "data": {
      "text/plain": [
       "20"
      ]
     },
     "execution_count": 18,
     "metadata": {},
     "output_type": "execute_result"
    }
   ],
   "source": [
    "res = data.json()\n",
    "len(res[\"data\"])"
   ]
  },
  {
   "cell_type": "code",
   "execution_count": 21,
   "metadata": {},
   "outputs": [],
   "source": [
    "id_name = []\n",
    "url = []\n",
    "for i in res[\"data\"]:\n",
    "    try:\n",
    "        url.append(i[\"url\"])\n",
    "        id_name.append(i[\"id\"])\n",
    "    except:\n",
    "        print('data not found')\n",
    "        pass"
   ]
  },
  {
   "cell_type": "code",
   "execution_count": 22,
   "metadata": {
    "scrolled": true
   },
   "outputs": [
    {
     "data": {
      "text/html": [
       "<div>\n",
       "<style scoped>\n",
       "    .dataframe tbody tr th:only-of-type {\n",
       "        vertical-align: middle;\n",
       "    }\n",
       "\n",
       "    .dataframe tbody tr th {\n",
       "        vertical-align: top;\n",
       "    }\n",
       "\n",
       "    .dataframe thead th {\n",
       "        text-align: right;\n",
       "    }\n",
       "</style>\n",
       "<table border=\"1\" class=\"dataframe\">\n",
       "  <thead>\n",
       "    <tr style=\"text-align: right;\">\n",
       "      <th></th>\n",
       "      <th>id</th>\n",
       "      <th>url</th>\n",
       "    </tr>\n",
       "  </thead>\n",
       "  <tbody>\n",
       "    <tr>\n",
       "      <th>0</th>\n",
       "      <td>HlqvH9JrahLZ6</td>\n",
       "      <td>https://giphy.com/gifs/bored-nickelodeon-spong...</td>\n",
       "    </tr>\n",
       "    <tr>\n",
       "      <th>1</th>\n",
       "      <td>l2JhpjWPccQhsAMfu</td>\n",
       "      <td>https://giphy.com/gifs/nickelodeon-funny-spong...</td>\n",
       "    </tr>\n",
       "    <tr>\n",
       "      <th>2</th>\n",
       "      <td>xT0GqwwQ8jBBXEP3I4</td>\n",
       "      <td>https://giphy.com/gifs/nickelodeon-nick-ident-...</td>\n",
       "    </tr>\n",
       "    <tr>\n",
       "      <th>3</th>\n",
       "      <td>l0MYIyf9DahKYvLwY</td>\n",
       "      <td>https://giphy.com/gifs/nickelodeon-nick-nickto...</td>\n",
       "    </tr>\n",
       "    <tr>\n",
       "      <th>4</th>\n",
       "      <td>9o041AUibA5ri</td>\n",
       "      <td>https://giphy.com/gifs/90s-tv-show-nickelodeon...</td>\n",
       "    </tr>\n",
       "  </tbody>\n",
       "</table>\n",
       "</div>"
      ],
      "text/plain": [
       "                   id                                                url\n",
       "0       HlqvH9JrahLZ6  https://giphy.com/gifs/bored-nickelodeon-spong...\n",
       "1   l2JhpjWPccQhsAMfu  https://giphy.com/gifs/nickelodeon-funny-spong...\n",
       "2  xT0GqwwQ8jBBXEP3I4  https://giphy.com/gifs/nickelodeon-nick-ident-...\n",
       "3   l0MYIyf9DahKYvLwY  https://giphy.com/gifs/nickelodeon-nick-nickto...\n",
       "4       9o041AUibA5ri  https://giphy.com/gifs/90s-tv-show-nickelodeon..."
      ]
     },
     "execution_count": 22,
     "metadata": {},
     "output_type": "execute_result"
    }
   ],
   "source": [
    "gifs = pd.DataFrame({\"id\":id_name,\"url\":url})\n",
    "gifs.head()"
   ]
  },
  {
   "cell_type": "code",
   "execution_count": null,
   "metadata": {},
   "outputs": [],
   "source": [
    "# how you would save data to local\n",
    "#gifs.to_csv(\"gifs.csv\")"
   ]
  }
 ],
 "metadata": {
  "kernelspec": {
   "display_name": "Python 3",
   "language": "python",
   "name": "python3"
  },
  "language_info": {
   "codemirror_mode": {
    "name": "ipython",
    "version": 3
   },
   "file_extension": ".py",
   "mimetype": "text/x-python",
   "name": "python",
   "nbconvert_exporter": "python",
   "pygments_lexer": "ipython3",
   "version": "3.7.2"
  }
 },
 "nbformat": 4,
 "nbformat_minor": 2
}
