{
 "cells": [
  {
   "cell_type": "code",
   "execution_count": 1,
   "metadata": {
    "collapsed": true
   },
   "outputs": [],
   "source": [
    "import tensorflow as tf\n",
    "sess = tf.Session()"
   ]
  },
  {
   "cell_type": "markdown",
   "metadata": {},
   "source": [
    "# Modeling with TensorFlow\n",
    "\n",
    "You're now ready to start building your first model with TensorFlow. To do that, we'll walk through a simple example: a linear model. Remember, Neural Networks are just ensembles of many many linear models, so this is a fine place to start.\n",
    "\n",
    "Here it will be worth noting that we also have some shorthand built into TensorFlow to make our code even more readable (hooray for Python!). You'll see what we mean in a moment.\n",
    "\n",
    "## Variables\n",
    "\n",
    "To build a model in TensorFlow, we will need another type of input than the nodes we've covered so far. Specifically we'll need TensorFlow variables.\n",
    "\n",
    "First we'll implement one below and then describe its uses."
   ]
  },
  {
   "cell_type": "code",
   "execution_count": 5,
   "metadata": {
    "collapsed": true
   },
   "outputs": [],
   "source": [
    "q = tf.Variable([0], tf.float32)"
   ]
  },
  {
   "cell_type": "markdown",
   "metadata": {},
   "source": [
    "Now, a tensor flow variable is somewhere between a constand and a placeholder, with a few of its own added features. Much like a placeholder, it does not have a set value. It does, however, take a default, much like a constant.\n",
    "\n",
    "However, the big difference is that variables are not initialized when they are defined. You have to initialize them manually. Like this:"
   ]
  },
  {
   "cell_type": "code",
   "execution_count": 7,
   "metadata": {
    "collapsed": true
   },
   "outputs": [],
   "source": [
    "init = tf.global_variables_initializer()\n",
    "sess.run(init)"
   ]
  },
  {
   "cell_type": "markdown",
   "metadata": {},
   "source": [
    "Now our variables are initialized. Let's try it in a context of a linear model to further explain."
   ]
  },
  {
   "cell_type": "code",
   "execution_count": 8,
   "metadata": {
    "collapsed": true
   },
   "outputs": [],
   "source": [
    "# Note that our initial value has to match the data type\n",
    "# so 1 would give an error since it's an int...\n",
    "b = tf.Variable([1.], tf.float32)\n",
    "m = tf.Variable([1.], tf.float32)\n",
    "x = tf.placeholder(tf.float32)\n",
    "\n",
    "# Implement a linear model with shorthand for tf.add() by using '+'\n",
    "# and tf.multiply with '*'\n",
    "linear_model = m * x + b\n",
    "\n",
    "# New variables means we have to initialize again\n",
    "init = tf.global_variables_initializer()\n",
    "sess.run(init)"
   ]
  },
  {
   "cell_type": "markdown",
   "metadata": {},
   "source": [
    "Now we can run our model over a given string of values. You can think of our variables as the parameters we want to estimate and our placeholder as the input values for training or testing our model. Let's give it a tensor of some input values and see how that initial value for `b` behaves."
   ]
  },
  {
   "cell_type": "code",
   "execution_count": 9,
   "metadata": {},
   "outputs": [
    {
     "name": "stdout",
     "output_type": "stream",
     "text": [
      "[ 2.  3.  4.  5.]\n"
     ]
    }
   ],
   "source": [
    "print(sess.run(linear_model, {x:[1, 2, 3, 4]}))"
   ]
  },
  {
   "cell_type": "markdown",
   "metadata": {},
   "source": [
    "So this does what we'd expect with an initial m and b value of 1. For each x value in our tensor it simply added one. But what if we were trying to match a real line?\n",
    "\n",
    "For that we need to have training data and a loss function. Again, this is implemented below."
   ]
  },
  {
   "cell_type": "code",
   "execution_count": 10,
   "metadata": {},
   "outputs": [
    {
     "name": "stdout",
     "output_type": "stream",
     "text": [
      "116.04\n"
     ]
    }
   ],
   "source": [
    "y = tf.placeholder(tf.float32)\n",
    "squared_deltas = tf.square(linear_model - y)\n",
    "loss = tf.reduce_sum(squared_deltas)\n",
    "print(sess.run(loss, {x:[1, 2, 3, 4], y:[.1, -.9, -1.9, -2.9]}))"
   ]
  },
  {
   "cell_type": "markdown",
   "metadata": {},
   "source": [
    "Now this uses squared errors as our loss function and we find that our initial values of 1 and 1 seem to be quite poor. When you look at that data perhaps you saw the actual values of m and b?\n",
    "\n",
    "We can manually set them with `tf.assign`."
   ]
  },
  {
   "cell_type": "code",
   "execution_count": 11,
   "metadata": {},
   "outputs": [
    {
     "name": "stdout",
     "output_type": "stream",
     "text": [
      "4.996e-16\n"
     ]
    }
   ],
   "source": [
    "fixm = tf.assign(m, [-1.])\n",
    "fixb = tf.assign(b, [1.1])\n",
    "sess.run([fixm, fixb])\n",
    "print(sess.run(loss, {x:[1, 2, 3, 4], y:[.1, -.9, -1.9, -2.9]}))"
   ]
  },
  {
   "cell_type": "markdown",
   "metadata": {},
   "source": [
    "This gives us a much better error, basically zero. But it's also not that useful. If we already knew the answer we probably wouldn't need to build the model in the first place!\n",
    "\n",
    "So how can we use TensorFlow to find the answers for us?\n",
    "\n",
    "## Training in TensorFlow\n",
    "\n",
    "We can implement the same optimization framework we did previously: Gradient Descent! This uses the training module within TensorFlow to implement a gradient descent approach to minimizing our loss function. Here's how it works:"
   ]
  },
  {
   "cell_type": "code",
   "execution_count": 12,
   "metadata": {},
   "outputs": [
    {
     "name": "stdout",
     "output_type": "stream",
     "text": [
      "[array([-0.92869979], dtype=float32), array([ 0.89036876], dtype=float32)]\n"
     ]
    }
   ],
   "source": [
    "# Set your learning rate in Gradient Descent\n",
    "optimizer = tf.train.GradientDescentOptimizer(0.01)\n",
    "train = optimizer.minimize(loss)\n",
    "\n",
    "# reset values to incorrect defaults.\n",
    "sess.run(init) \n",
    "\n",
    "# Loop for 100 iterations, trying to find optimal values\n",
    "for i in range(100):\n",
    "    sess.run(train, {x:[1, 2, 3, 4], y:[.1, -.9, -1.9, -2.9]})\n",
    "\n",
    "print(sess.run([m, b]))"
   ]
  },
  {
   "cell_type": "markdown",
   "metadata": {},
   "source": [
    "Vary the number of loops you run by adjusting the value in range. We find a pretty good solution around 1000 loops.\n",
    "\n",
    "This explicitly sets up gradient descent for our given model, thinking about it as a node in the process with adjustable variable values. We do that by establishing an optimizer that is traditional Gradient Descent, and then telling that approach to minimize our loss function.\n",
    "\n",
    "With this level of manual control there is a lot you could mess around with. You could make a different loss function. You could make it maximize the loss. You could loop it an exceedingly large or small number of times. The options really are endless."
   ]
  },
  {
   "cell_type": "markdown",
   "metadata": {},
   "source": [
    "You should now be familiar with the mechanisms of modeling in TensorFlow. \n",
    "\n",
    "If you're looking for more, note that everything we've done in this and the previous session is a walkthrough based on TensorFlow's documentation and getting started guide, found [here](https://www.tensorflow.org/get_started/get_started), if you're looking for another variation of this lesson in a slightly varied context."
   ]
  },
  {
   "cell_type": "code",
   "execution_count": null,
   "metadata": {
    "collapsed": true
   },
   "outputs": [],
   "source": []
  }
 ],
 "metadata": {
  "hide_input": false,
  "kernelspec": {
   "display_name": "Python 3",
   "language": "python",
   "name": "python3"
  },
  "language_info": {
   "codemirror_mode": {
    "name": "ipython",
    "version": 3
   },
   "file_extension": ".py",
   "mimetype": "text/x-python",
   "name": "python",
   "nbconvert_exporter": "python",
   "pygments_lexer": "ipython3",
   "version": "3.7.1"
  }
 },
 "nbformat": 4,
 "nbformat_minor": 2
}
