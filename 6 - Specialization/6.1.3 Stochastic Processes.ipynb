{
 "cells": [
  {
   "cell_type": "markdown",
   "metadata": {},
   "source": [
    "# Stochastic Processes\n",
    "Sometimes when we think about time we aren’t thinking about seasonality. In fact we may not even have data about the time of year. The data could just be a sequence of variables that are understood to have happened over a course of time. This is something that’s typically called a process. When those variables are random, based of off some known or unknown distribution, then it is said to be a stochastic process.\n",
    "\n",
    "Here we will give you an all too brief introduction into stochastic processes and why you need to be aware of them in data science. Our goal here is to give you a lexicon of terms and an understanding of core concepts that will allow you to recognize a stochastic process when you see one and begin to investigate. As has been the case with many topics in this course, this could be many many semesters of work. Also, it is worth calling out that finance is a field that is often dominated by conversations of stochastic processes, so if you particularly enjoy this then that may be a field for you, and vice versa.\n",
    "\n",
    "## Bernoulli process\n",
    "Let’s crystallize the definition of a stochastic process with its simplest example: the Bernoulli Process.\n",
    "\n",
    "A Bernoulli process is a set of independent and identically distributed random variables, each one following a Bernoulli distribution. We’ll break that definition down piece by piece.\n",
    "\n",
    "First there is independent. By now the idea of independence should be familiar to you. This means that the outcome of one observation does not affect any other outcome. Identically distributed means that each random variable is drawn from the same distribution. These two traits are very important to stochastic processes so often you'll see \"independent and identically distributed\" abbreviated simply \"iid\".\n",
    "\n",
    "A Bernoulli distribution is one of the simplest distributions in statistics. It means the outcome has only two possible values, 1 and 0 occurring with a probability of p and 1-p respectively. The most common example of a Bernoulli distribution is a coin flip. If it is a fair coin then that is said to be Bernoulli(.5), with .5 the value of p.\n",
    "\n",
    "Returning to our definition of a Bernoulli process, that is then simply a series of outcomes from a Bernoulli distribution. Again, most commonly the example given is a series of coin flips, or something like [0, 1, 1, 0, 1, 0, 0, 0, 0, 1, 1, 0, 1, 0, 0, 1].\n",
    "\n",
    "If given a Bernoulli process, you can take its average value as an estimate of p, and then use a random generator to simulate the process further. So here p = 7/16, and we could simply randomly generate more 0’s and 1’s giving a probability of p to 1, appending them to our set as we continue.\n",
    "\n",
    "## Random walks\n",
    "Now, if Bernoulli processes are the simplest stochastic processes then random walks are the next logical complication. Random walks are defined as the sum of iid random variables.\n",
    "\n",
    "Let’s think about someone walking along a path, where each brick in the path is numbered in both a positive and negative direction and you start at zero. A person can step forward or backward with some constant probability. A random walk would be the path of the bricks that a person walks. [0, 1, 2, 1, 2, 3, 4, 5, 4, 3, 4, 5, 6] is a random walk. So too is [0, 1, 0, -1, -2, -1, 0, 1, 0, 1]. The step here is either -1 or 1 with some random probability.\n",
    "\n",
    "If that random distribution of a step is Bernoulli with 1 and -1 as the outcomes, then it is called a \"simple random walk\". Even further, if the p of that Bernoulli is .5 and the values are 1 or -1, then it is a \"symmetric simple random walk\", because the probability to go in either direction is symmetrical.\n",
    "\n",
    "Random walks are thought of as occurring in discrete time, meaning there are specified steps where the process moves rather than a smooth and continuous progression.\n",
    "\n",
    "Another extension of the random walk is the Wiener Process_, also called \"Brownian motion\". In this process the step, or the direction to its next position, is normally distributed. Note that the standard normal distribution has an expected value of zero. In stochastic processes, having an expected value of 0 is an important characteristic because it means the future value of the process is actually expected to be wherever the process is currently. These processes are called _stationary. If it is expected to deviate from its current position that is called drift.\n",
    "\n",
    "## Application\n",
    "Now this has been very abstract, and deliberately so. Stochastic processes have their own language, and when talking about them it is important to understand those terms.\n",
    "\n",
    "But where will you see these in the wild?\n",
    "\n",
    "You'll see them all the time. When you’re tracking a single object or entity over time, the observed values can be thought of as a stochastic process. It moves randomly in some direction over time (that randomness being the stochasticity). For example, purchases by a customer over their lifetime is a stochastic process. So is the price of a stock.\n",
    "\n",
    "When you define these time series in terms of their stochastic characteristics, it allows you to model and often predict what they are going to do next.\n",
    "\n",
    "In the next section we’ll cover modeling a specific kind of stochastic process modeling using a model called ARMA.\n",
    "\n",
    "If you want more specificity and a wider range of topics in this field, Introduction to Stochastic Processes by Gordan Žitković at UT Austin is a good continuation of these notes.\n",
    "\n",
    "Remember Gradient Descent? It’s often called Stochastic Gradient Descent. Stochastic really just means random. Can you think of any part of that process that functions as a stochastic process?\n",
    "\n"
   ]
  },
  {
   "cell_type": "code",
   "execution_count": null,
   "metadata": {},
   "outputs": [],
   "source": []
  }
 ],
 "metadata": {
  "kernelspec": {
   "display_name": "Python 3",
   "language": "python",
   "name": "python3"
  },
  "language_info": {
   "codemirror_mode": {
    "name": "ipython",
    "version": 3
   },
   "file_extension": ".py",
   "mimetype": "text/x-python",
   "name": "python",
   "nbconvert_exporter": "python",
   "pygments_lexer": "ipython3",
   "version": "3.7.2"
  }
 },
 "nbformat": 4,
 "nbformat_minor": 2
}
