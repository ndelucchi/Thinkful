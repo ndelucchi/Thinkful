{
 "cells": [
  {
   "cell_type": "code",
   "execution_count": 1,
   "metadata": {},
   "outputs": [],
   "source": [
    "# TensorFlow's import convention is tf\n",
    "import tensorflow as tf"
   ]
  },
  {
   "cell_type": "markdown",
   "metadata": {},
   "source": [
    "# Components of TensorFlow\n",
    "\n",
    "Now, before we start going off and building our own models, we need to know more about how TensorFlow thinks. Tensor flows conceives of the world and modeling within it with a very specific set of components. Understanding these components will facilitate our understanding of TensorFlow and how to best use it to build our models.\n",
    "\n",
    "In this section, we'll go through those core elements, setting the stage for us to build models later on.\n",
    "\n",
    "# Tensors\n",
    "\n",
    "The core data structure in TensorFlow is called a tensor. A tensor will have a lot of similarity to a numpy array. Much like an array, a tensor is specified with `[` and `]`.  Similarly, it can come in n-dimensions, reaching whatever level of complexity the problem necessitates.\n",
    "\n",
    "Let's build a few tensors below."
   ]
  },
  {
   "cell_type": "code",
   "execution_count": 2,
   "metadata": {},
   "outputs": [
    {
     "data": {
      "text/plain": [
       "2"
      ]
     },
     "execution_count": 2,
     "metadata": {},
     "output_type": "execute_result"
    }
   ],
   "source": [
    "[3, 2, 1]\n",
    "[[3, 2], [1, 3]]\n",
    "[[[1], [2]], [[1], [2]]]\n",
    "2"
   ]
  },
  {
   "cell_type": "markdown",
   "metadata": {},
   "source": [
    "When we talk about tensors, one of their defining characteristics is its __rank__. The rank is just the dimension of the tensor.\n",
    "\n",
    "Can you figure out the rank of the tensors above?\n",
    "\n",
    "Well, that first tensor is simply rank 1, a single dimensional tensor. The next one adds another dimension, as does the one after that. However, what about that final tensor? Is it a tensor at all?\n",
    "\n",
    "It is! A scalar value like this can be considered a tensor of rank 0, as it is just a single value.\n",
    "\n",
    "Tensors are how we'll handle data in Tensor flow. When we get inputs, we'll leave them as tensors and run those tensors through the various nodes and steps of our model. We will also likely return a tensor as our output.\n",
    "\n",
    "So far, tensors sound a lot like numpy arrays, and they are. There are many ways we can conceive of tensors, but the key is that they easily support higher dimensions than the typical dataframe, with less syntactical nomenclature like column names or indices, and are more robust for our modeling uses than a simple numpy array.\n",
    "\n",
    "Tensors are easily converted to NumPy arrays using `.eval()`. Before running this method, tensors are more like placeholder structures of a shape and size, with strong data typing and holding the data given to them (if you have given them data), but the structure and its contents remain distinct.\n",
    "\n",
    "## Nodes\n",
    "\n",
    "The other key object in TensorFlow, at its most rudimentary, is the node. Nodes are places where things can happen in our model. Let's start with an example.\n",
    "\n",
    "The first kind of node we'll discuss is the constant. Let's implement one!"
   ]
  },
  {
   "cell_type": "code",
   "execution_count": 3,
   "metadata": {},
   "outputs": [
    {
     "name": "stdout",
     "output_type": "stream",
     "text": [
      "Tensor(\"Const:0\", shape=(), dtype=int32)\n"
     ]
    }
   ],
   "source": [
    "# Create the Node\n",
    "node_const = tf.constant(70)\n",
    "\n",
    "# Print the Node\n",
    "print(node_const)"
   ]
  },
  {
   "cell_type": "markdown",
   "metadata": {},
   "source": [
    "There are a few things to note here.\n",
    "\n",
    "Firstly, it was pretty simple to create the node, we defined it like we would any other variable. However, note that when we print the node, it printed a description of the node rather than its value. This is because nodes are much more than just constants. Even though the node we created in this case was a constant, the class itself supports a wider range of functionalities with the printed output reflecting that potential diversity.\n",
    "\n",
    "To better explain what we mean, let's make another node. This one will be for addition."
   ]
  },
  {
   "cell_type": "code",
   "execution_count": 4,
   "metadata": {},
   "outputs": [
    {
     "name": "stdout",
     "output_type": "stream",
     "text": [
      "Tensor(\"Add:0\", shape=(), dtype=int32)\n"
     ]
    }
   ],
   "source": [
    "# Let's make a node that adds our constant to itself\n",
    "node_add = tf.add(node_const, node_const)\n",
    "\n",
    "# Print that node!\n",
    "print(node_add)"
   ]
  },
  {
   "cell_type": "markdown",
   "metadata": {},
   "source": [
    "Now this again is similar to our previous printed node, however the first term is now `Add`. Add simply defines the kind of node we've made. If you were to run that cell again, the label would increment to `Add_1` as each addition node will get a unique name. The 0 is that it is still rank 0. Addition nodes are simply one example of a group of nodes that represent operations. Any operation you'd want to do on your data would be done via a node.\n",
    "\n",
    "There is one final node we'll introduce here: Placeholder nodes.\n",
    "\n",
    "Placeholders are exactly what you'd think: a placeholder for other data to come in and be utilized by the function."
   ]
  },
  {
   "cell_type": "code",
   "execution_count": 5,
   "metadata": {},
   "outputs": [
    {
     "name": "stdout",
     "output_type": "stream",
     "text": [
      "Tensor(\"Placeholder:0\", dtype=int32)\n"
     ]
    }
   ],
   "source": [
    "# Initiate our node with a default data type\n",
    "node_place = tf.placeholder(tf.int32)\n",
    "\n",
    "# Print it again!\n",
    "print(node_place)"
   ]
  },
  {
   "cell_type": "markdown",
   "metadata": {},
   "source": [
    "Now we have our three main types of nodes. Let's stitch them together!\n",
    "\n",
    "But how?\n",
    "\n",
    "We've already seen that when we print our nodes, we aren't necessarily getting the values we have assigned to that given node.\n",
    "\n",
    "It turns out we're missing one other key element of TensorFlow: Sessions.\n",
    "\n",
    "## Sessions in TensorFlow\n",
    "\n",
    "Sessions are TensorFlow's way of saying that we actually intend to do something with our various nodes and tensors with the intention of generating some kind of output."
   ]
  },
  {
   "cell_type": "code",
   "execution_count": 6,
   "metadata": {},
   "outputs": [
    {
     "data": {
      "text/plain": [
       "70"
      ]
     },
     "execution_count": 6,
     "metadata": {},
     "output_type": "execute_result"
    }
   ],
   "source": [
    "sess = tf.Session()\n",
    "\n",
    "sess.run(node_const)"
   ]
  },
  {
   "cell_type": "markdown",
   "metadata": {},
   "source": [
    "What did we do there? We got a very different output than when we printed our node. Running a session of the node returned the value we had stored to it. Why did this happen?\n",
    "\n",
    "Well, when we run the session itself, the node is actually executed, leading the value to be returned. Before that, the node exists as a more complicated structure wrapping our (in this case) constant. \n",
    "\n",
    "Let's do something more complicated, utilizing all of our node types."
   ]
  },
  {
   "cell_type": "code",
   "execution_count": 7,
   "metadata": {},
   "outputs": [
    {
     "data": {
      "text/plain": [
       "6"
      ]
     },
     "execution_count": 7,
     "metadata": {},
     "output_type": "execute_result"
    }
   ],
   "source": [
    "# Establish a placeholder, named 'a'\n",
    "a = tf.placeholder(tf.int32)\n",
    "\n",
    "# Create an operator node that takes our placeholder and a constant node\n",
    "multiply_by_2 = tf.multiply(a, tf.constant(2))\n",
    "\n",
    "# Run the node to return our output\n",
    "sess.run(multiply_by_2, {a : 3})"
   ]
  },
  {
   "cell_type": "markdown",
   "metadata": {},
   "source": [
    "Let's talk through what we've done here. First we created a placeholder. This will act like a parameter in our later operator node. \n",
    "\n",
    "Our second line creates an operator node that is defined as multiplication but takes a parameter for that placeholder and then the constant 2. \n",
    "\n",
    "Lastly our third line runs the session to use our new multiplier operator. When passing parameters into a session, note that they are given like a dictionary. Also note that these sessions can happily operate over whatever dimensionality of tensor they're given. For instance:"
   ]
  },
  {
   "cell_type": "code",
   "execution_count": 8,
   "metadata": {},
   "outputs": [
    {
     "data": {
      "text/plain": [
       "array([[  6,   8, 162],\n",
       "       [  4,  62,  26]], dtype=int32)"
      ]
     },
     "execution_count": 8,
     "metadata": {},
     "output_type": "execute_result"
    }
   ],
   "source": [
    "sess.run(multiply_by_2, {a : [[3, 4, 81], [2, 31, 13]]})"
   ]
  },
  {
   "cell_type": "markdown",
   "metadata": {},
   "source": [
    "See! Our session ran our nodes over every value in the tensor passed in for a. This will continue to be true whatever dimension of tensor we input."
   ]
  },
  {
   "cell_type": "markdown",
   "metadata": {
    "collapsed": true
   },
   "source": [
    "\n",
    "\n",
    "You're now ready to build a more recognizable machine learning model with TensorFlow, though before you go try a quick drill to reinforce what you've learned.\n",
    "\n",
    "## Drill\n",
    "\n",
    "Now you have the basic elements of tensor flow, so it's time to build some things on your own. In the cell below, create the following tensors:\n",
    "\n",
    "1. Add a two constants, 3 and 2, together.\n",
    "\n",
    "2. Divide a placeholder by 2.\n",
    "\n",
    "3. Take two placeholders and multiply them.\n",
    "\n",
    "4. Sum a 7 and a placeholder, then multiply it by two."
   ]
  },
  {
   "cell_type": "code",
   "execution_count": 9,
   "metadata": {},
   "outputs": [
    {
     "data": {
      "text/plain": [
       "5"
      ]
     },
     "execution_count": 9,
     "metadata": {},
     "output_type": "execute_result"
    }
   ],
   "source": [
    "#1 add 3 amd 2\n",
    "add = tf.add(tf.constant(2),tf.constant(3))\n",
    "sess.run(add)"
   ]
  },
  {
   "cell_type": "code",
   "execution_count": 13,
   "metadata": {},
   "outputs": [
    {
     "data": {
      "text/plain": [
       "2.0"
      ]
     },
     "execution_count": 13,
     "metadata": {},
     "output_type": "execute_result"
    }
   ],
   "source": [
    "#2 divide placeholder by 2\n",
    "b = tf.placeholder(tf.int32)\n",
    "divide = tf.divide(b,tf.constant(2))\n",
    "sess.run(divide,{b : 4})"
   ]
  },
  {
   "cell_type": "code",
   "execution_count": 14,
   "metadata": {},
   "outputs": [
    {
     "data": {
      "text/plain": [
       "24"
      ]
     },
     "execution_count": 14,
     "metadata": {},
     "output_type": "execute_result"
    }
   ],
   "source": [
    "#3 multiply two placeholders\n",
    "c = tf.placeholder(tf.int32)\n",
    "d = tf.placeholder(tf.int32)\n",
    "multiply = tf.multiply(c,d)\n",
    "sess.run(multiply,{c : 4, d : 6})"
   ]
  },
  {
   "cell_type": "code",
   "execution_count": 16,
   "metadata": {},
   "outputs": [
    {
     "data": {
      "text/plain": [
       "26"
      ]
     },
     "execution_count": 16,
     "metadata": {},
     "output_type": "execute_result"
    }
   ],
   "source": [
    "#4 (x +7)*2\n",
    "e = tf.placeholder(tf.int32)\n",
    "add2 = tf.add(e,tf.constant(7))\n",
    "multiply2 = tf.multiply(add2,tf.constant(2))\n",
    "sess.run(multiply2,{e:6})"
   ]
  },
  {
   "cell_type": "code",
   "execution_count": null,
   "metadata": {},
   "outputs": [],
   "source": []
  }
 ],
 "metadata": {
  "hide_input": false,
  "kernelspec": {
   "display_name": "Python 3",
   "language": "python",
   "name": "python3"
  },
  "language_info": {
   "codemirror_mode": {
    "name": "ipython",
    "version": 3
   },
   "file_extension": ".py",
   "mimetype": "text/x-python",
   "name": "python",
   "nbconvert_exporter": "python",
   "pygments_lexer": "ipython3",
   "version": "3.7.2"
  }
 },
 "nbformat": 4,
 "nbformat_minor": 2
}
