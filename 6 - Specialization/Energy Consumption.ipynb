{
 "cells": [
  {
   "cell_type": "code",
   "execution_count": 46,
   "metadata": {
    "ExecuteTime": {
     "end_time": "2019-09-18T05:21:27.753717Z",
     "start_time": "2019-09-18T05:21:27.699962Z"
    }
   },
   "outputs": [],
   "source": [
    "import pandas as pd\n",
    "import numpy as np\n",
    "import matplotlib.pyplot as plt\n",
    "import seaborn as sns"
   ]
  },
  {
   "cell_type": "code",
   "execution_count": 58,
   "metadata": {
    "ExecuteTime": {
     "end_time": "2019-09-18T05:23:18.294364Z",
     "start_time": "2019-09-18T05:23:17.831310Z"
    }
   },
   "outputs": [
    {
     "data": {
      "text/html": [
       "<div>\n",
       "<style scoped>\n",
       "    .dataframe tbody tr th:only-of-type {\n",
       "        vertical-align: middle;\n",
       "    }\n",
       "\n",
       "    .dataframe tbody tr th {\n",
       "        vertical-align: top;\n",
       "    }\n",
       "\n",
       "    .dataframe thead th {\n",
       "        text-align: right;\n",
       "    }\n",
       "</style>\n",
       "<table border=\"1\" class=\"dataframe\">\n",
       "  <thead>\n",
       "    <tr style=\"text-align: right;\">\n",
       "      <th></th>\n",
       "      <th>PJM_Load</th>\n",
       "    </tr>\n",
       "    <tr>\n",
       "      <th>Datetime</th>\n",
       "      <th></th>\n",
       "    </tr>\n",
       "  </thead>\n",
       "  <tbody>\n",
       "    <tr>\n",
       "      <th>1998-12-31 01:00:00</th>\n",
       "      <td>29309.0</td>\n",
       "    </tr>\n",
       "    <tr>\n",
       "      <th>1998-12-31 02:00:00</th>\n",
       "      <td>28236.0</td>\n",
       "    </tr>\n",
       "    <tr>\n",
       "      <th>1998-12-31 03:00:00</th>\n",
       "      <td>27692.0</td>\n",
       "    </tr>\n",
       "    <tr>\n",
       "      <th>1998-12-31 04:00:00</th>\n",
       "      <td>27596.0</td>\n",
       "    </tr>\n",
       "    <tr>\n",
       "      <th>1998-12-31 05:00:00</th>\n",
       "      <td>27888.0</td>\n",
       "    </tr>\n",
       "  </tbody>\n",
       "</table>\n",
       "</div>"
      ],
      "text/plain": [
       "                     PJM_Load\n",
       "Datetime                     \n",
       "1998-12-31 01:00:00   29309.0\n",
       "1998-12-31 02:00:00   28236.0\n",
       "1998-12-31 03:00:00   27692.0\n",
       "1998-12-31 04:00:00   27596.0\n",
       "1998-12-31 05:00:00   27888.0"
      ]
     },
     "execution_count": 58,
     "metadata": {},
     "output_type": "execute_result"
    }
   ],
   "source": [
    "energy = pd.read_csv(\"pjm_hourly_est.csv\")\n",
    "energy.index = energy.Datetime\n",
    "energy = energy[['PJM_Load']]\n",
    "energy = energy.dropna()\n",
    "energy.head()"
   ]
  },
  {
   "cell_type": "code",
   "execution_count": 59,
   "metadata": {
    "ExecuteTime": {
     "end_time": "2019-09-18T05:23:19.114847Z",
     "start_time": "2019-09-18T05:23:19.086229Z"
    }
   },
   "outputs": [
    {
     "data": {
      "text/html": [
       "<div>\n",
       "<style scoped>\n",
       "    .dataframe tbody tr th:only-of-type {\n",
       "        vertical-align: middle;\n",
       "    }\n",
       "\n",
       "    .dataframe tbody tr th {\n",
       "        vertical-align: top;\n",
       "    }\n",
       "\n",
       "    .dataframe thead th {\n",
       "        text-align: right;\n",
       "    }\n",
       "</style>\n",
       "<table border=\"1\" class=\"dataframe\">\n",
       "  <thead>\n",
       "    <tr style=\"text-align: right;\">\n",
       "      <th></th>\n",
       "      <th>PJM_Load</th>\n",
       "    </tr>\n",
       "  </thead>\n",
       "  <tbody>\n",
       "    <tr>\n",
       "      <th>count</th>\n",
       "      <td>32896.000000</td>\n",
       "    </tr>\n",
       "    <tr>\n",
       "      <th>mean</th>\n",
       "      <td>29766.427408</td>\n",
       "    </tr>\n",
       "    <tr>\n",
       "      <th>std</th>\n",
       "      <td>5849.769954</td>\n",
       "    </tr>\n",
       "    <tr>\n",
       "      <th>min</th>\n",
       "      <td>17461.000000</td>\n",
       "    </tr>\n",
       "    <tr>\n",
       "      <th>25%</th>\n",
       "      <td>25473.000000</td>\n",
       "    </tr>\n",
       "    <tr>\n",
       "      <th>50%</th>\n",
       "      <td>29655.000000</td>\n",
       "    </tr>\n",
       "    <tr>\n",
       "      <th>75%</th>\n",
       "      <td>33073.250000</td>\n",
       "    </tr>\n",
       "    <tr>\n",
       "      <th>max</th>\n",
       "      <td>54030.000000</td>\n",
       "    </tr>\n",
       "  </tbody>\n",
       "</table>\n",
       "</div>"
      ],
      "text/plain": [
       "           PJM_Load\n",
       "count  32896.000000\n",
       "mean   29766.427408\n",
       "std     5849.769954\n",
       "min    17461.000000\n",
       "25%    25473.000000\n",
       "50%    29655.000000\n",
       "75%    33073.250000\n",
       "max    54030.000000"
      ]
     },
     "execution_count": 59,
     "metadata": {},
     "output_type": "execute_result"
    }
   ],
   "source": [
    "energy.describe()"
   ]
  },
  {
   "cell_type": "code",
   "execution_count": 60,
   "metadata": {
    "ExecuteTime": {
     "end_time": "2019-09-18T05:23:21.725316Z",
     "start_time": "2019-09-18T05:23:21.400821Z"
    }
   },
   "outputs": [
    {
     "data": {
      "text/plain": [
       "<matplotlib.axes._subplots.AxesSubplot at 0x1a2ca1d7b8>"
      ]
     },
     "execution_count": 60,
     "metadata": {},
     "output_type": "execute_result"
    },
    {
     "data": {
      "image/png": "[encoded data removed]",
      "text/plain": [
       "<Figure size 432x288 with 1 Axes>"
      ]
     },
     "metadata": {
      "needs_background": "light"
     },
     "output_type": "display_data"
    }
   ],
   "source": [
    "energy.plot()"
   ]
  },
  {
   "cell_type": "code",
   "execution_count": 61,
   "metadata": {
    "ExecuteTime": {
     "end_time": "2019-09-18T05:23:23.485962Z",
     "start_time": "2019-09-18T05:23:22.393836Z"
    }
   },
   "outputs": [
    {
     "data": {
      "image/png": "[encoded data removed]",
      "text/plain": [
       "<Figure size 432x288 with 1 Axes>"
      ]
     },
     "metadata": {
      "needs_background": "light"
     },
     "output_type": "display_data"
    }
   ],
   "source": [
    "energy['diff_1'] = energy.PJM_Load - energy.PJM_Load.shift()\n",
    "energy.plot(y='diff_1')\n",
    "plt.title('Energy Production diff')\n",
    "plt.show()"
   ]
  },
  {
   "cell_type": "code",
   "execution_count": 62,
   "metadata": {
    "ExecuteTime": {
     "end_time": "2019-09-18T05:23:24.595775Z",
     "start_time": "2019-09-18T05:23:24.081361Z"
    }
   },
   "outputs": [
    {
     "data": {
      "text/plain": [
       "Text(0.5, 1.0, 'Energy Production PACF')"
      ]
     },
     "execution_count": 62,
     "metadata": {},
     "output_type": "execute_result"
    },
    {
     "data": {
      "image/png": "[encoded data removed]",
      "text/plain": [
       "<Figure size 432x288 with 1 Axes>"
      ]
     },
     "metadata": {
      "needs_background": "light"
     },
     "output_type": "display_data"
    }
   ],
   "source": [
    "from statsmodels.tsa.stattools import pacf\n",
    "\n",
    "x_acf = pd.DataFrame(pacf(energy.PJM_Load))\n",
    "x_acf.plot(kind='bar')\n",
    "plt.title(\"Energy Production PACF\")"
   ]
  },
  {
   "cell_type": "code",
   "execution_count": 63,
   "metadata": {
    "ExecuteTime": {
     "end_time": "2019-09-18T05:23:25.774972Z",
     "start_time": "2019-09-18T05:23:25.295329Z"
    }
   },
   "outputs": [
    {
     "data": {
      "text/plain": [
       "<matplotlib.legend.Legend at 0x1a2caa6b70>"
      ]
     },
     "execution_count": 63,
     "metadata": {},
     "output_type": "execute_result"
    },
    {
     "data": {
      "image/png": "[encoded data removed]",
      "text/plain": [
       "<Figure size 432x288 with 1 Axes>"
      ]
     },
     "metadata": {
      "needs_background": "light"
     },
     "output_type": "display_data"
    }
   ],
   "source": [
    "x_acf = pd.DataFrame(pacf(energy.diff_1[1:]))\n",
    "x_acf.plot(kind='bar')\n",
    "plt.title(\"Energy Production Diff PACF\")\n",
    "plt.legend(['difference'])"
   ]
  },
  {
   "cell_type": "code",
   "execution_count": 64,
   "metadata": {
    "ExecuteTime": {
     "end_time": "2019-09-18T05:23:30.817602Z",
     "start_time": "2019-09-18T05:23:30.728483Z"
    }
   },
   "outputs": [
    {
     "name": "stdout",
     "output_type": "stream",
     "text": [
      "                             ARIMA Model Results                              \n",
      "==============================================================================\n",
      "Dep. Variable:             D.PJM_Load   No. Observations:                32895\n",
      "Model:                 ARIMA(0, 1, 0)   Log Likelihood             -287929.142\n",
      "Method:                           css   S.D. of innovations           1531.553\n",
      "Date:                Tue, 17 Sep 2019   AIC                         575862.284\n",
      "Time:                        22:23:30   BIC                         575879.086\n",
      "Sample:                             1   HQIC                        575867.652\n",
      "                                                                              \n",
      "==============================================================================\n",
      "                 coef    std err          z      P>|z|      [0.025      0.975]\n",
      "------------------------------------------------------------------------------\n",
      "const          0.0060      8.444      0.001      0.999     -16.545      16.557\n",
      "==============================================================================\n",
      "Residuals Description\n",
      "count    3.289500e+04\n",
      "mean    -1.775028e-14\n",
      "std      1.531576e+03\n",
      "min     -1.514101e+04\n",
      "25%     -7.150060e+02\n",
      "50%     -7.300599e+01\n",
      "75%      7.664940e+02\n",
      "max      9.700994e+03\n",
      "dtype: float64\n"
     ]
    },
    {
     "name": "stderr",
     "output_type": "stream",
     "text": [
      "/Users/nickdelucchi/anaconda3/lib/python3.7/site-packages/statsmodels/tsa/base/tsa_model.py:225: ValueWarning:\n",
      "\n",
      "A date index has been provided, but it has no associated frequency information and so will be ignored when e.g. forecasting.\n",
      "\n",
      "/Users/nickdelucchi/anaconda3/lib/python3.7/site-packages/statsmodels/tsa/base/tsa_model.py:225: ValueWarning:\n",
      "\n",
      "A date index has been provided, but it has no associated frequency information and so will be ignored when e.g. forecasting.\n",
      "\n",
      "/Users/nickdelucchi/anaconda3/lib/python3.7/site-packages/scipy/signal/signaltools.py:1341: FutureWarning:\n",
      "\n",
      "Using a non-tuple sequence for multidimensional indexing is deprecated; use `arr[tuple(seq)]` instead of `arr[seq]`. In the future this will be interpreted as an array index, `arr[np.array(seq)]`, which will result either in an error or a different result.\n",
      "\n",
      "/Users/nickdelucchi/anaconda3/lib/python3.7/site-packages/scipy/signal/signaltools.py:1344: FutureWarning:\n",
      "\n",
      "Using a non-tuple sequence for multidimensional indexing is deprecated; use `arr[tuple(seq)]` instead of `arr[seq]`. In the future this will be interpreted as an array index, `arr[np.array(seq)]`, which will result either in an error or a different result.\n",
      "\n",
      "/Users/nickdelucchi/anaconda3/lib/python3.7/site-packages/scipy/signal/signaltools.py:1350: FutureWarning:\n",
      "\n",
      "Using a non-tuple sequence for multidimensional indexing is deprecated; use `arr[tuple(seq)]` instead of `arr[seq]`. In the future this will be interpreted as an array index, `arr[np.array(seq)]`, which will result either in an error or a different result.\n",
      "\n"
     ]
    }
   ],
   "source": [
    "from statsmodels.tsa.arima_model import ARIMA\n",
    "\n",
    "model = ARIMA(energy.PJM_Load, order=(0,1,0))\n",
    "model_fit = model.fit()\n",
    "print(model_fit.summary())\n",
    "print('Residuals Description')\n",
    "print(model_fit.resid.describe())"
   ]
  },
  {
   "cell_type": "code",
   "execution_count": 65,
   "metadata": {
    "ExecuteTime": {
     "end_time": "2019-09-18T05:23:51.866050Z",
     "start_time": "2019-09-18T05:23:51.519162Z"
    }
   },
   "outputs": [
    {
     "name": "stderr",
     "output_type": "stream",
     "text": [
      "/Users/nickdelucchi/anaconda3/lib/python3.7/site-packages/statsmodels/tsa/base/tsa_model.py:225: ValueWarning:\n",
      "\n",
      "A date index has been provided, but it has no associated frequency information and so will be ignored when e.g. forecasting.\n",
      "\n",
      "/Users/nickdelucchi/anaconda3/lib/python3.7/site-packages/scipy/signal/signaltools.py:1341: FutureWarning:\n",
      "\n",
      "Using a non-tuple sequence for multidimensional indexing is deprecated; use `arr[tuple(seq)]` instead of `arr[seq]`. In the future this will be interpreted as an array index, `arr[np.array(seq)]`, which will result either in an error or a different result.\n",
      "\n",
      "/Users/nickdelucchi/anaconda3/lib/python3.7/site-packages/scipy/signal/signaltools.py:1344: FutureWarning:\n",
      "\n",
      "Using a non-tuple sequence for multidimensional indexing is deprecated; use `arr[tuple(seq)]` instead of `arr[seq]`. In the future this will be interpreted as an array index, `arr[np.array(seq)]`, which will result either in an error or a different result.\n",
      "\n",
      "/Users/nickdelucchi/anaconda3/lib/python3.7/site-packages/scipy/signal/signaltools.py:1350: FutureWarning:\n",
      "\n",
      "Using a non-tuple sequence for multidimensional indexing is deprecated; use `arr[tuple(seq)]` instead of `arr[seq]`. In the future this will be interpreted as an array index, `arr[np.array(seq)]`, which will result either in an error or a different result.\n",
      "\n"
     ]
    },
    {
     "name": "stdout",
     "output_type": "stream",
     "text": [
      "                              ARMA Model Results                              \n",
      "==============================================================================\n",
      "Dep. Variable:               PJM_Load   No. Observations:                32896\n",
      "Model:                     ARMA(1, 0)   Log Likelihood             -287654.439\n",
      "Method:                       css-mle   S.D. of innovations           1518.350\n",
      "Date:                Tue, 17 Sep 2019   AIC                         575314.877\n",
      "Time:                        22:23:51   BIC                         575340.081\n",
      "Sample:                             0   HQIC                        575322.929\n",
      "                                                                              \n",
      "==================================================================================\n",
      "                     coef    std err          z      P>|z|      [0.025      0.975]\n",
      "----------------------------------------------------------------------------------\n",
      "const           2.977e+04    243.839    122.074      0.000    2.93e+04    3.02e+04\n",
      "ar.L1.PJM_Load     0.9657      0.001    675.090      0.000       0.963       0.969\n",
      "                                    Roots                                    \n",
      "=============================================================================\n",
      "                  Real          Imaginary           Modulus         Frequency\n",
      "-----------------------------------------------------------------------------\n",
      "AR.1            1.0355           +0.0000j            1.0355            0.0000\n",
      "-----------------------------------------------------------------------------\n",
      "Residuals Description\n",
      "count    32896.000000\n",
      "mean        -0.007645\n",
      "std       1518.375234\n",
      "min     -14886.455306\n",
      "25%       -726.460754\n",
      "50%        -77.089983\n",
      "75%        820.719230\n",
      "max       9741.976907\n",
      "dtype: float64\n"
     ]
    }
   ],
   "source": [
    "model = ARIMA(energy.PJM_Load, order=(1,0,0))\n",
    "model_fit = model.fit()\n",
    "print(model_fit.summary())\n",
    "print('Residuals Description')\n",
    "print(model_fit.resid.describe())"
   ]
  },
  {
   "cell_type": "code",
   "execution_count": 66,
   "metadata": {
    "ExecuteTime": {
     "end_time": "2019-09-18T05:24:11.891655Z",
     "start_time": "2019-09-18T05:24:03.089885Z"
    }
   },
   "outputs": [
    {
     "name": "stderr",
     "output_type": "stream",
     "text": [
      "/Users/nickdelucchi/anaconda3/lib/python3.7/site-packages/statsmodels/tsa/base/tsa_model.py:225: ValueWarning:\n",
      "\n",
      "A date index has been provided, but it has no associated frequency information and so will be ignored when e.g. forecasting.\n",
      "\n"
     ]
    },
    {
     "name": "stdout",
     "output_type": "stream",
     "text": [
      "                              ARMA Model Results                              \n",
      "==============================================================================\n",
      "Dep. Variable:               PJM_Load   No. Observations:                32896\n",
      "Model:                     ARMA(1, 1)   Log Likelihood             -279615.207\n",
      "Method:                       css-mle   S.D. of innovations           1189.136\n",
      "Date:                Tue, 17 Sep 2019   AIC                         559238.414\n",
      "Time:                        22:24:10   BIC                         559272.019\n",
      "Sample:                             0   HQIC                        559249.149\n",
      "                                                                              \n",
      "==================================================================================\n",
      "                     coef    std err          z      P>|z|      [0.025      0.975]\n",
      "----------------------------------------------------------------------------------\n",
      "const           2.977e+04    198.996    149.583      0.000    2.94e+04    3.02e+04\n",
      "ar.L1.PJM_Load     0.9476      0.002    534.008      0.000       0.944       0.951\n",
      "ma.L1.PJM_Load     0.5900      0.004    167.696      0.000       0.583       0.597\n",
      "                                    Roots                                    \n",
      "=============================================================================\n",
      "                  Real          Imaginary           Modulus         Frequency\n",
      "-----------------------------------------------------------------------------\n",
      "AR.1            1.0552           +0.0000j            1.0552            0.0000\n",
      "MA.1           -1.6951           +0.0000j            1.6951            0.5000\n",
      "-----------------------------------------------------------------------------\n",
      "Residuals Description\n",
      "count    32896.000000\n",
      "mean        -0.029365\n",
      "std       1189.160999\n",
      "min     -13337.241789\n",
      "25%       -525.838182\n",
      "50%          9.721971\n",
      "75%        610.084960\n",
      "max      10498.176612\n",
      "dtype: float64\n"
     ]
    }
   ],
   "source": [
    "model = ARIMA(energy.PJM_Load, order=(1,0,1))\n",
    "model_fit = model.fit()\n",
    "print(model_fit.summary())\n",
    "print('Residuals Description')\n",
    "print(model_fit.resid.describe())"
   ]
  },
  {
   "cell_type": "code",
   "execution_count": 67,
   "metadata": {
    "ExecuteTime": {
     "end_time": "2019-09-18T05:24:35.842182Z",
     "start_time": "2019-09-18T05:24:28.564393Z"
    }
   },
   "outputs": [
    {
     "name": "stderr",
     "output_type": "stream",
     "text": [
      "/Users/nickdelucchi/anaconda3/lib/python3.7/site-packages/statsmodels/tsa/base/tsa_model.py:225: ValueWarning:\n",
      "\n",
      "A date index has been provided, but it has no associated frequency information and so will be ignored when e.g. forecasting.\n",
      "\n",
      "/Users/nickdelucchi/anaconda3/lib/python3.7/site-packages/statsmodels/tsa/base/tsa_model.py:225: ValueWarning:\n",
      "\n",
      "A date index has been provided, but it has no associated frequency information and so will be ignored when e.g. forecasting.\n",
      "\n"
     ]
    },
    {
     "name": "stdout",
     "output_type": "stream",
     "text": [
      "                             ARIMA Model Results                              \n",
      "==============================================================================\n",
      "Dep. Variable:             D.PJM_Load   No. Observations:                32895\n",
      "Model:                 ARIMA(1, 1, 1)   Log Likelihood             -276659.749\n",
      "Method:                       css-mle   S.D. of innovations           1087.286\n",
      "Date:                Tue, 17 Sep 2019   AIC                         553327.499\n",
      "Time:                        22:24:35   BIC                         553361.103\n",
      "Sample:                             1   HQIC                        553338.234\n",
      "                                                                              \n",
      "====================================================================================\n",
      "                       coef    std err          z      P>|z|      [0.025      0.975]\n",
      "------------------------------------------------------------------------------------\n",
      "const                0.0060     18.726      0.000      1.000     -36.697      36.709\n",
      "ar.L1.D.PJM_Load     0.6418      0.006    111.865      0.000       0.631       0.653\n",
      "ma.L1.D.PJM_Load     0.1190      0.007     16.767      0.000       0.105       0.133\n",
      "                                    Roots                                    \n",
      "=============================================================================\n",
      "                  Real          Imaginary           Modulus         Frequency\n",
      "-----------------------------------------------------------------------------\n",
      "AR.1            1.5581           +0.0000j            1.5581            0.0000\n",
      "MA.1           -8.4037           +0.0000j            8.4037            0.5000\n",
      "-----------------------------------------------------------------------------\n",
      "Residuals Description\n",
      "count    32895.000000\n",
      "mean        -0.045055\n",
      "std       1087.310599\n",
      "min     -12327.421415\n",
      "25%       -454.169726\n",
      "50%         -3.969195\n",
      "75%        435.986651\n",
      "max      11081.066918\n",
      "dtype: float64\n"
     ]
    }
   ],
   "source": [
    "model = ARIMA(energy.PJM_Load, order=(1,1,1))\n",
    "model_fit = model.fit()\n",
    "print(model_fit.summary())\n",
    "print('Residuals Description')\n",
    "print(model_fit.resid.describe())"
   ]
  },
  {
   "cell_type": "code",
   "execution_count": 68,
   "metadata": {
    "ExecuteTime": {
     "end_time": "2019-09-18T05:29:04.915894Z",
     "start_time": "2019-09-18T05:27:37.686176Z"
    }
   },
   "outputs": [
    {
     "name": "stderr",
     "output_type": "stream",
     "text": [
      "/Users/nickdelucchi/anaconda3/lib/python3.7/site-packages/statsmodels/tsa/base/tsa_model.py:225: ValueWarning:\n",
      "\n",
      "A date index has been provided, but it has no associated frequency information and so will be ignored when e.g. forecasting.\n",
      "\n",
      "/Users/nickdelucchi/anaconda3/lib/python3.7/site-packages/statsmodels/tsa/base/tsa_model.py:225: ValueWarning:\n",
      "\n",
      "A date index has been provided, but it has no associated frequency information and so will be ignored when e.g. forecasting.\n",
      "\n"
     ]
    },
    {
     "name": "stdout",
     "output_type": "stream",
     "text": [
      "                             ARIMA Model Results                              \n",
      "==============================================================================\n",
      "Dep. Variable:             D.PJM_Load   No. Observations:                32895\n",
      "Model:                 ARIMA(5, 1, 5)   Log Likelihood             -273126.068\n",
      "Method:                       css-mle   S.D. of innovations            976.466\n",
      "Date:                Tue, 17 Sep 2019   AIC                         546276.137\n",
      "Time:                        22:28:48   BIC                         546376.950\n",
      "Sample:                             1   HQIC                        546308.343\n",
      "                                                                              \n",
      "====================================================================================\n",
      "                       coef    std err          z      P>|z|      [0.025      0.975]\n",
      "------------------------------------------------------------------------------------\n",
      "const               -0.0054      1.670     -0.003      0.997      -3.279       3.268\n",
      "ar.L1.D.PJM_Load     1.2779      0.006    205.020      0.000       1.266       1.290\n",
      "ar.L2.D.PJM_Load    -0.5260      0.011    -48.328      0.000      -0.547      -0.505\n",
      "ar.L3.D.PJM_Load    -0.4924      0.013    -38.120      0.000      -0.518      -0.467\n",
      "ar.L4.D.PJM_Load     1.2824      0.011    121.539      0.000       1.262       1.303\n",
      "ar.L5.D.PJM_Load    -0.8045      0.006   -140.068      0.000      -0.816      -0.793\n",
      "ma.L1.D.PJM_Load    -0.6781      0.009    -76.609      0.000      -0.695      -0.661\n",
      "ma.L2.D.PJM_Load     0.1417      0.009     15.036      0.000       0.123       0.160\n",
      "ma.L3.D.PJM_Load     0.4684      0.009     49.987      0.000       0.450       0.487\n",
      "ma.L4.D.PJM_Load    -1.0042      0.008   -126.653      0.000      -1.020      -0.989\n",
      "ma.L5.D.PJM_Load     0.1535      0.008     19.686      0.000       0.138       0.169\n",
      "                                    Roots                                    \n",
      "=============================================================================\n",
      "                  Real          Imaginary           Modulus         Frequency\n",
      "-----------------------------------------------------------------------------\n",
      "AR.1           -1.0257           -0.0000j            1.0257           -0.5000\n",
      "AR.2            0.2586           -0.9663j            1.0003           -0.2084\n",
      "AR.3            0.2586           +0.9663j            1.0003            0.2084\n",
      "AR.4            1.0513           -0.3256j            1.1006           -0.0478\n",
      "AR.5            1.0513           +0.3256j            1.1006            0.0478\n",
      "MA.1           -1.0349           -0.0000j            1.0349           -0.5000\n",
      "MA.2            0.2584           -0.9710j            1.0048           -0.2086\n",
      "MA.3            0.2584           +0.9710j            1.0048            0.2086\n",
      "MA.4            1.0347           -0.0000j            1.0347           -0.0000\n",
      "MA.5            6.0237           -0.0000j            6.0237           -0.0000\n",
      "-----------------------------------------------------------------------------\n",
      "Residuals Description\n",
      "count    32895.000000\n",
      "mean         0.102749\n",
      "std        976.565441\n",
      "min     -12175.293819\n",
      "25%       -462.603491\n",
      "50%         12.989047\n",
      "75%        464.449850\n",
      "max      10689.919416\n",
      "dtype: float64\n"
     ]
    }
   ],
   "source": [
    "model = ARIMA(energy.PJM_Load, order=(5,1,5))\n",
    "model_fit = model.fit()\n",
    "print(model_fit.summary())\n",
    "print('Residuals Description')\n",
    "print(model_fit.resid.describe())"
   ]
  },
  {
   "cell_type": "code",
   "execution_count": null,
   "metadata": {
    "ExecuteTime": {
     "start_time": "2019-09-18T05:40:37.590Z"
    }
   },
   "outputs": [
    {
     "name": "stderr",
     "output_type": "stream",
     "text": [
      "/Users/nickdelucchi/anaconda3/lib/python3.7/site-packages/statsmodels/tsa/base/tsa_model.py:225: ValueWarning:\n",
      "\n",
      "A date index has been provided, but it has no associated frequency information and so will be ignored when e.g. forecasting.\n",
      "\n",
      "/Users/nickdelucchi/anaconda3/lib/python3.7/site-packages/statsmodels/tsa/base/tsa_model.py:225: ValueWarning:\n",
      "\n",
      "A date index has been provided, but it has no associated frequency information and so will be ignored when e.g. forecasting.\n",
      "\n"
     ]
    }
   ],
   "source": [
    "model = ARIMA(energy.PJM_Load, order=(48,1,5))\n",
    "model_fit = model.fit()\n",
    "print(model_fit.summary())\n",
    "print('Residuals Description')\n",
    "print(model_fit.resid.describe())"
   ]
  },
  {
   "cell_type": "code",
   "execution_count": null,
   "metadata": {},
   "outputs": [],
   "source": []
  }
 ],
 "metadata": {
  "kernelspec": {
   "display_name": "Python 3",
   "language": "python",
   "name": "python3"
  },
  "language_info": {
   "codemirror_mode": {
    "name": "ipython",
    "version": 3
   },
   "file_extension": ".py",
   "mimetype": "text/x-python",
   "name": "python",
   "nbconvert_exporter": "python",
   "pygments_lexer": "ipython3",
   "version": "3.7.2"
  }
 },
 "nbformat": 4,
 "nbformat_minor": 2
}
