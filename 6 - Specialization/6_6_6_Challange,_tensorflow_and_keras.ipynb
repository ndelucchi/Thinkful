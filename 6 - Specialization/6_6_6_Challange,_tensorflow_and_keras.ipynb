{
  "nbformat": 4,
  "nbformat_minor": 0,
  "metadata": {
    "colab": {
      "name": "6.6.6 Challange, tensorflow and keras.ipynb",
      "version": "0.3.2",
      "provenance": []
    },
    "language_info": {
      "codemirror_mode": {
        "name": "ipython",
        "version": 3
      },
      "file_extension": ".py",
      "mimetype": "text/x-python",
      "name": "python",
      "nbconvert_exporter": "python",
      "pygments_lexer": "ipython3",
      "version": "3.7.2"
    },
    "kernelspec": {
      "display_name": "Python 3",
      "language": "python",
      "name": "python3"
    }
  },
  "cells": [
    {
      "cell_type": "markdown",
      "metadata": {
        "id": "XbnKNchJ3x2-",
        "colab_type": "text"
      },
      "source": [
        "Now take your Keras skills and go build another neural network. Pick your data set, but it should be one of abstract types, possibly even nonnumeric, and use Keras to make five implementations of your network. Compare them both in computational complexity as well as in accuracy and given that tradeoff decide which one you like best.\n",
        "\n",
        "Your dataset should be sufficiently large for a neural network to perform well (samples should really be in the thousands here) and try to pick something that takes advantage of neural networks’ ability to have both feature extraction and supervised capabilities, so don’t pick something with an easy to consume list of features already generated for you (though neural networks can still be useful in those contexts).\n",
        "\n",
        "Note that if you want to use an unprocessed image dataset, scikit-image is a useful package for converting to importable numerics."
      ]
    },
    {
      "cell_type": "code",
      "metadata": {
        "id": "mv3tTaONKYfh",
        "colab_type": "code",
        "colab": {
          "base_uri": "https://localhost:8080/",
          "height": 300
        },
        "outputId": "f4a72b74-dab9-4ce8-c40e-1661fc0a5ef0"
      },
      "source": [
        "from google.colab import drive\n",
        "drive.mount('/content/drive')"
      ],
      "execution_count": 15,
      "outputs": [
        {
          "output_type": "error",
          "ename": "ValueError",
          "evalue": "ignored",
          "traceback": [
            "\u001b[0;31m---------------------------------------------------------------------------\u001b[0m",
            "\u001b[0;31mValueError\u001b[0m                                Traceback (most recent call last)",
            "\u001b[0;32m<ipython-input-15-21d3f128dd0b>\u001b[0m in \u001b[0;36m<module>\u001b[0;34m()\u001b[0m\n\u001b[1;32m      1\u001b[0m \u001b[0;32mfrom\u001b[0m \u001b[0mgoogle\u001b[0m\u001b[0;34m.\u001b[0m\u001b[0mcolab\u001b[0m \u001b[0;32mimport\u001b[0m \u001b[0mdrive\u001b[0m\u001b[0;34m\u001b[0m\u001b[0;34m\u001b[0m\u001b[0m\n\u001b[0;32m----> 2\u001b[0;31m \u001b[0mdrive\u001b[0m\u001b[0;34m.\u001b[0m\u001b[0mmount\u001b[0m\u001b[0;34m(\u001b[0m\u001b[0;34m'/content/drive/My Drive/Colab Notebooks'\u001b[0m\u001b[0;34m)\u001b[0m\u001b[0;34m\u001b[0m\u001b[0;34m\u001b[0m\u001b[0m\n\u001b[0m",
            "\u001b[0;32m/usr/local/lib/python3.6/dist-packages/google/colab/drive.py\u001b[0m in \u001b[0;36mmount\u001b[0;34m(mountpoint, force_remount, timeout_ms)\u001b[0m\n\u001b[1;32m     69\u001b[0m \u001b[0;34m\u001b[0m\u001b[0m\n\u001b[1;32m     70\u001b[0m   \u001b[0;32mif\u001b[0m \u001b[0;34m' '\u001b[0m \u001b[0;32min\u001b[0m \u001b[0mmountpoint\u001b[0m\u001b[0;34m:\u001b[0m\u001b[0;34m\u001b[0m\u001b[0;34m\u001b[0m\u001b[0m\n\u001b[0;32m---> 71\u001b[0;31m     \u001b[0;32mraise\u001b[0m \u001b[0mValueError\u001b[0m\u001b[0;34m(\u001b[0m\u001b[0;34m'Mountpoint must not contain a space.'\u001b[0m\u001b[0;34m)\u001b[0m\u001b[0;34m\u001b[0m\u001b[0;34m\u001b[0m\u001b[0m\n\u001b[0m\u001b[1;32m     72\u001b[0m \u001b[0;34m\u001b[0m\u001b[0m\n\u001b[1;32m     73\u001b[0m   \u001b[0mmountpoint\u001b[0m \u001b[0;34m=\u001b[0m \u001b[0m_os\u001b[0m\u001b[0;34m.\u001b[0m\u001b[0mpath\u001b[0m\u001b[0;34m.\u001b[0m\u001b[0mexpanduser\u001b[0m\u001b[0;34m(\u001b[0m\u001b[0mmountpoint\u001b[0m\u001b[0;34m)\u001b[0m\u001b[0;34m\u001b[0m\u001b[0;34m\u001b[0m\u001b[0m\n",
            "\u001b[0;31mValueError\u001b[0m: Mountpoint must not contain a space."
          ]
        }
      ]
    },
    {
      "cell_type": "code",
      "metadata": {
        "id": "YCc5H3A1Xh8Q",
        "colab_type": "code",
        "colab": {}
      },
      "source": [
        "import os\n",
        "os.chdir('/content/drive/My Drive/Colab Notebooks')"
      ],
      "execution_count": 0,
      "outputs": []
    },
    {
      "cell_type": "code",
      "metadata": {
        "id": "SvOWdhKyY86a",
        "colab_type": "code",
        "colab": {
          "base_uri": "https://localhost:8080/",
          "height": 34
        },
        "outputId": "d10bce47-e59b-47fc-978b-363816ac80c7"
      },
      "source": [
        "!ls"
      ],
      "execution_count": 17,
      "outputs": [
        {
          "output_type": "stream",
          "text": [
            "'6.6.6 Challange, tensorflow and keras.ipynb'\n"
          ],
          "name": "stdout"
        }
      ]
    },
    {
      "cell_type": "code",
      "metadata": {
        "id": "iLTBB8e_3x2_",
        "colab_type": "code",
        "colab": {}
      },
      "source": [
        "import tensorflow as tf\n",
        "import keras\n",
        "import pandas as pd\n",
        "from sklearn.model_selection import train_test_split\n",
        "from sklearn.preprocessing import StandardScaler\n",
        "\n",
        "\n",
        "# Import various componenets for model building\n",
        "from keras.models import Sequential\n",
        "from keras.layers import Dense, Dropout, Flatten, Conv2D, MaxPooling2D\n",
        "from keras.layers import LSTM, Input, TimeDistributed\n",
        "from keras.models import Model\n",
        "from keras.optimizers import RMSprop\n",
        "\n",
        "# Import the backend\n",
        "from keras import backend as K"
      ],
      "execution_count": 0,
      "outputs": []
    },
    {
      "cell_type": "code",
      "metadata": {
        "id": "9C8k7HKDC-hA",
        "colab_type": "code",
        "colab": {}
      },
      "source": [
        "#from google.colab import files\n",
        "#uploaded = files.upload()"
      ],
      "execution_count": 0,
      "outputs": []
    },
    {
      "cell_type": "code",
      "metadata": {
        "id": "yD0wc59I3x3E",
        "colab_type": "code",
        "outputId": "4362d9f4-0a6c-43f2-871e-049d652238d5",
        "colab": {
          "base_uri": "https://localhost:8080/",
          "height": 612
        }
      },
      "source": [
        "#import first part of data\n",
        "wine1 = pd.read_csv('winemag-data-first.csv')\n",
        "#import second part of data\n",
        "wine2 = pd.read_csv('winemag-data-second.csv')\n",
        "#combine wine data\n",
        "wine_merge = wine1.append(wine2, ignore_index=True)\n",
        "#print head\n",
        "wine_merge.head()"
      ],
      "execution_count": 20,
      "outputs": [
        {
          "output_type": "stream",
          "text": [
            "/usr/local/lib/python3.6/dist-packages/pandas/core/frame.py:6692: FutureWarning: Sorting because non-concatenation axis is not aligned. A future version\n",
            "of pandas will change to not sort by default.\n",
            "\n",
            "To accept the future behavior, pass 'sort=False'.\n",
            "\n",
            "To retain the current behavior and silence the warning, pass 'sort=True'.\n",
            "\n",
            "  sort=sort)\n"
          ],
          "name": "stderr"
        },
        {
          "output_type": "execute_result",
          "data": {
            "text/html": [
              "<div>\n",
              "<style scoped>\n",
              "    .dataframe tbody tr th:only-of-type {\n",
              "        vertical-align: middle;\n",
              "    }\n",
              "\n",
              "    .dataframe tbody tr th {\n",
              "        vertical-align: top;\n",
              "    }\n",
              "\n",
              "    .dataframe thead th {\n",
              "        text-align: right;\n",
              "    }\n",
              "</style>\n",
              "<table border=\"1\" class=\"dataframe\">\n",
              "  <thead>\n",
              "    <tr style=\"text-align: right;\">\n",
              "      <th></th>\n",
              "      <th>Unnamed: 0</th>\n",
              "      <th>country</th>\n",
              "      <th>description</th>\n",
              "      <th>designation</th>\n",
              "      <th>points</th>\n",
              "      <th>price</th>\n",
              "      <th>province</th>\n",
              "      <th>region_1</th>\n",
              "      <th>region_2</th>\n",
              "      <th>taster_name</th>\n",
              "      <th>taster_twitter_handle</th>\n",
              "      <th>title</th>\n",
              "      <th>variety</th>\n",
              "      <th>winery</th>\n",
              "    </tr>\n",
              "  </thead>\n",
              "  <tbody>\n",
              "    <tr>\n",
              "      <th>0</th>\n",
              "      <td>0</td>\n",
              "      <td>US</td>\n",
              "      <td>This tremendous 100% varietal wine hails from ...</td>\n",
              "      <td>Martha's Vineyard</td>\n",
              "      <td>96</td>\n",
              "      <td>235.0</td>\n",
              "      <td>California</td>\n",
              "      <td>Napa Valley</td>\n",
              "      <td>Napa</td>\n",
              "      <td>NaN</td>\n",
              "      <td>NaN</td>\n",
              "      <td>NaN</td>\n",
              "      <td>Cabernet Sauvignon</td>\n",
              "      <td>Heitz</td>\n",
              "    </tr>\n",
              "    <tr>\n",
              "      <th>1</th>\n",
              "      <td>1</td>\n",
              "      <td>Spain</td>\n",
              "      <td>Ripe aromas of fig, blackberry and cassis are ...</td>\n",
              "      <td>Carodorum Selección Especial Reserva</td>\n",
              "      <td>96</td>\n",
              "      <td>110.0</td>\n",
              "      <td>Northern Spain</td>\n",
              "      <td>Toro</td>\n",
              "      <td>NaN</td>\n",
              "      <td>NaN</td>\n",
              "      <td>NaN</td>\n",
              "      <td>NaN</td>\n",
              "      <td>Tinta de Toro</td>\n",
              "      <td>Bodega Carmen Rodríguez</td>\n",
              "    </tr>\n",
              "    <tr>\n",
              "      <th>2</th>\n",
              "      <td>2</td>\n",
              "      <td>US</td>\n",
              "      <td>Mac Watson honors the memory of a wine once ma...</td>\n",
              "      <td>Special Selected Late Harvest</td>\n",
              "      <td>96</td>\n",
              "      <td>90.0</td>\n",
              "      <td>California</td>\n",
              "      <td>Knights Valley</td>\n",
              "      <td>Sonoma</td>\n",
              "      <td>NaN</td>\n",
              "      <td>NaN</td>\n",
              "      <td>NaN</td>\n",
              "      <td>Sauvignon Blanc</td>\n",
              "      <td>Macauley</td>\n",
              "    </tr>\n",
              "    <tr>\n",
              "      <th>3</th>\n",
              "      <td>3</td>\n",
              "      <td>US</td>\n",
              "      <td>This spent 20 months in 30% new French oak, an...</td>\n",
              "      <td>Reserve</td>\n",
              "      <td>96</td>\n",
              "      <td>65.0</td>\n",
              "      <td>Oregon</td>\n",
              "      <td>Willamette Valley</td>\n",
              "      <td>Willamette Valley</td>\n",
              "      <td>NaN</td>\n",
              "      <td>NaN</td>\n",
              "      <td>NaN</td>\n",
              "      <td>Pinot Noir</td>\n",
              "      <td>Ponzi</td>\n",
              "    </tr>\n",
              "    <tr>\n",
              "      <th>4</th>\n",
              "      <td>4</td>\n",
              "      <td>France</td>\n",
              "      <td>This is the top wine from La Bégude, named aft...</td>\n",
              "      <td>La Brûlade</td>\n",
              "      <td>95</td>\n",
              "      <td>66.0</td>\n",
              "      <td>Provence</td>\n",
              "      <td>Bandol</td>\n",
              "      <td>NaN</td>\n",
              "      <td>NaN</td>\n",
              "      <td>NaN</td>\n",
              "      <td>NaN</td>\n",
              "      <td>Provence red blend</td>\n",
              "      <td>Domaine de la Bégude</td>\n",
              "    </tr>\n",
              "  </tbody>\n",
              "</table>\n",
              "</div>"
            ],
            "text/plain": [
              "   Unnamed: 0 country  ...             variety                   winery\n",
              "0           0      US  ...  Cabernet Sauvignon                    Heitz\n",
              "1           1   Spain  ...       Tinta de Toro  Bodega Carmen Rodríguez\n",
              "2           2      US  ...     Sauvignon Blanc                 Macauley\n",
              "3           3      US  ...          Pinot Noir                    Ponzi\n",
              "4           4  France  ...  Provence red blend     Domaine de la Bégude\n",
              "\n",
              "[5 rows x 14 columns]"
            ]
          },
          "metadata": {
            "tags": []
          },
          "execution_count": 20
        }
      ]
    },
    {
      "cell_type": "code",
      "metadata": {
        "id": "HH3ogTz23x3I",
        "colab_type": "code",
        "outputId": "4cffa20d-c5bf-40ff-9428-9246d17e5dd3",
        "colab": {
          "base_uri": "https://localhost:8080/",
          "height": 85
        }
      },
      "source": [
        "#get column names\n",
        "wine_merge.columns"
      ],
      "execution_count": 21,
      "outputs": [
        {
          "output_type": "execute_result",
          "data": {
            "text/plain": [
              "Index(['Unnamed: 0', 'country', 'description', 'designation', 'points',\n",
              "       'price', 'province', 'region_1', 'region_2', 'taster_name',\n",
              "       'taster_twitter_handle', 'title', 'variety', 'winery'],\n",
              "      dtype='object')"
            ]
          },
          "metadata": {
            "tags": []
          },
          "execution_count": 21
        }
      ]
    },
    {
      "cell_type": "code",
      "metadata": {
        "id": "zagq-mtX3x3L",
        "colab_type": "code",
        "outputId": "5dd1ee13-a71b-4ed0-dbf7-f89cdca55cdc",
        "colab": {
          "base_uri": "https://localhost:8080/",
          "height": 238
        }
      },
      "source": [
        "#drop irrelevant colums\n",
        "wine = wine_merge.drop(['Unnamed: 0','description','region_2','taster_name','taster_twitter_handle','title'],axis=1)\n",
        "#drop null\n",
        "wine = wine.dropna()\n",
        "#print info\n",
        "wine.info()"
      ],
      "execution_count": 22,
      "outputs": [
        {
          "output_type": "stream",
          "text": [
            "<class 'pandas.core.frame.DataFrame'>\n",
            "Int64Index: 147459 entries, 0 to 280900\n",
            "Data columns (total 8 columns):\n",
            "country        147459 non-null object\n",
            "designation    147459 non-null object\n",
            "points         147459 non-null int64\n",
            "price          147459 non-null float64\n",
            "province       147459 non-null object\n",
            "region_1       147459 non-null object\n",
            "variety        147459 non-null object\n",
            "winery         147459 non-null object\n",
            "dtypes: float64(1), int64(1), object(6)\n",
            "memory usage: 10.1+ MB\n"
          ],
          "name": "stdout"
        }
      ]
    },
    {
      "cell_type": "code",
      "metadata": {
        "id": "nhTNgf8z3x3P",
        "colab_type": "code",
        "outputId": "ca29f632-2c32-405e-81e1-25765c1fc8ce",
        "colab": {
          "base_uri": "https://localhost:8080/",
          "height": 204
        }
      },
      "source": [
        "from sklearn.preprocessing import LabelEncoder\n",
        "\n",
        "le = LabelEncoder()\n",
        "col = ['country','variety','winery','region_1','province','designation']\n",
        "wine[col] = wine[col].apply(lambda x: le.fit_transform(x))\n",
        "wine.head()"
      ],
      "execution_count": 23,
      "outputs": [
        {
          "output_type": "execute_result",
          "data": {
            "text/html": [
              "<div>\n",
              "<style scoped>\n",
              "    .dataframe tbody tr th:only-of-type {\n",
              "        vertical-align: middle;\n",
              "    }\n",
              "\n",
              "    .dataframe tbody tr th {\n",
              "        vertical-align: top;\n",
              "    }\n",
              "\n",
              "    .dataframe thead th {\n",
              "        text-align: right;\n",
              "    }\n",
              "</style>\n",
              "<table border=\"1\" class=\"dataframe\">\n",
              "  <thead>\n",
              "    <tr style=\"text-align: right;\">\n",
              "      <th></th>\n",
              "      <th>country</th>\n",
              "      <th>designation</th>\n",
              "      <th>points</th>\n",
              "      <th>price</th>\n",
              "      <th>province</th>\n",
              "      <th>region_1</th>\n",
              "      <th>variety</th>\n",
              "      <th>winery</th>\n",
              "    </tr>\n",
              "  </thead>\n",
              "  <tbody>\n",
              "    <tr>\n",
              "      <th>0</th>\n",
              "      <td>6</td>\n",
              "      <td>20879</td>\n",
              "      <td>96</td>\n",
              "      <td>235.0</td>\n",
              "      <td>8</td>\n",
              "      <td>715</td>\n",
              "      <td>47</td>\n",
              "      <td>5608</td>\n",
              "    </tr>\n",
              "    <tr>\n",
              "      <th>1</th>\n",
              "      <td>5</td>\n",
              "      <td>5276</td>\n",
              "      <td>96</td>\n",
              "      <td>110.0</td>\n",
              "      <td>39</td>\n",
              "      <td>1042</td>\n",
              "      <td>437</td>\n",
              "      <td>1016</td>\n",
              "    </tr>\n",
              "    <tr>\n",
              "      <th>2</th>\n",
              "      <td>6</td>\n",
              "      <td>30259</td>\n",
              "      <td>96</td>\n",
              "      <td>90.0</td>\n",
              "      <td>8</td>\n",
              "      <td>513</td>\n",
              "      <td>372</td>\n",
              "      <td>6988</td>\n",
              "    </tr>\n",
              "    <tr>\n",
              "      <th>3</th>\n",
              "      <td>6</td>\n",
              "      <td>26636</td>\n",
              "      <td>96</td>\n",
              "      <td>65.0</td>\n",
              "      <td>43</td>\n",
              "      <td>1190</td>\n",
              "      <td>322</td>\n",
              "      <td>8603</td>\n",
              "    </tr>\n",
              "    <tr>\n",
              "      <th>4</th>\n",
              "      <td>3</td>\n",
              "      <td>17075</td>\n",
              "      <td>95</td>\n",
              "      <td>66.0</td>\n",
              "      <td>47</td>\n",
              "      <td>60</td>\n",
              "      <td>335</td>\n",
              "      <td>4104</td>\n",
              "    </tr>\n",
              "  </tbody>\n",
              "</table>\n",
              "</div>"
            ],
            "text/plain": [
              "   country  designation  points  price  province  region_1  variety  winery\n",
              "0        6        20879      96  235.0         8       715       47    5608\n",
              "1        5         5276      96  110.0        39      1042      437    1016\n",
              "2        6        30259      96   90.0         8       513      372    6988\n",
              "3        6        26636      96   65.0        43      1190      322    8603\n",
              "4        3        17075      95   66.0        47        60      335    4104"
            ]
          },
          "metadata": {
            "tags": []
          },
          "execution_count": 23
        }
      ]
    },
    {
      "cell_type": "code",
      "metadata": {
        "id": "kx0kmpp-3x3R",
        "colab_type": "code",
        "colab": {}
      },
      "source": [
        "from sklearn.preprocessing import OneHotEncoder\n",
        "\n",
        "#ohe = OneHotEncoder()\n",
        "#ohe.fit(wine['country'].values.reshape(1,-1))\n",
        "#ohe.transform(wine['country'].values.reshape(1,-1)).toarray()[0]"
      ],
      "execution_count": 0,
      "outputs": []
    },
    {
      "cell_type": "code",
      "metadata": {
        "id": "6O4rguyW3x3T",
        "colab_type": "code",
        "colab": {}
      },
      "source": [
        "from keras.utils import to_categorical\n",
        "\n",
        "\n",
        "\n",
        "# Specify the data \n",
        "X=wine.drop(['country'],axis=1)\n",
        "\n",
        "# Specify the target labels and flatten the array \n",
        "y=to_categorical(wine['country'])\n",
        "\n",
        "\n",
        "# Split the data up in train and test sets\n",
        "X_train, X_test, y_train, y_test = train_test_split(X, y, test_size=0.33, random_state=1337, stratify=y)"
      ],
      "execution_count": 0,
      "outputs": []
    },
    {
      "cell_type": "code",
      "metadata": {
        "id": "0ySmYE303x3V",
        "colab_type": "code",
        "outputId": "38a05437-95c4-4563-f9e1-b73c15832bd2",
        "colab": {
          "base_uri": "https://localhost:8080/",
          "height": 377
        }
      },
      "source": [
        "# Initialize the constructor\n",
        "model = Sequential()\n",
        "\n",
        "# Add an input layer \n",
        "model.add(Dense(100, activation='relu', input_dim= X_train.shape[1] ))\n",
        "\n",
        "# Add a hidden layer \n",
        "model.add(Dense(100, activation='relu'))\n",
        "\n",
        "# Add an output layer \n",
        "model.add(Dense(7, activation='softmax'))\n",
        "\n",
        "model.summary()"
      ],
      "execution_count": 26,
      "outputs": [
        {
          "output_type": "stream",
          "text": [
            "WARNING: Logging before flag parsing goes to stderr.\n",
            "W0618 03:50:38.186343 140019014723456 deprecation_wrapper.py:119] From /usr/local/lib/python3.6/dist-packages/keras/backend/tensorflow_backend.py:74: The name tf.get_default_graph is deprecated. Please use tf.compat.v1.get_default_graph instead.\n",
            "\n",
            "W0618 03:50:38.248881 140019014723456 deprecation_wrapper.py:119] From /usr/local/lib/python3.6/dist-packages/keras/backend/tensorflow_backend.py:517: The name tf.placeholder is deprecated. Please use tf.compat.v1.placeholder instead.\n",
            "\n",
            "W0618 03:50:38.260551 140019014723456 deprecation_wrapper.py:119] From /usr/local/lib/python3.6/dist-packages/keras/backend/tensorflow_backend.py:4138: The name tf.random_uniform is deprecated. Please use tf.random.uniform instead.\n",
            "\n"
          ],
          "name": "stderr"
        },
        {
          "output_type": "stream",
          "text": [
            "_________________________________________________________________\n",
            "Layer (type)                 Output Shape              Param #   \n",
            "=================================================================\n",
            "dense_1 (Dense)              (None, 100)               800       \n",
            "_________________________________________________________________\n",
            "dense_2 (Dense)              (None, 100)               10100     \n",
            "_________________________________________________________________\n",
            "dense_3 (Dense)              (None, 7)                 707       \n",
            "=================================================================\n",
            "Total params: 11,607\n",
            "Trainable params: 11,607\n",
            "Non-trainable params: 0\n",
            "_________________________________________________________________\n"
          ],
          "name": "stdout"
        }
      ]
    },
    {
      "cell_type": "code",
      "metadata": {
        "id": "NoTOZNnd3x3X",
        "colab_type": "code",
        "outputId": "933ba98b-be9f-4933-cadf-b4c4bea42db2",
        "colab": {
          "base_uri": "https://localhost:8080/",
          "height": 581
        }
      },
      "source": [
        "model.compile(loss='categorical_crossentropy',\n",
        "              optimizer=RMSprop(),\n",
        "              metrics=['accuracy'])\n",
        "                   \n",
        "model.fit(X_train, y_train,epochs=10, batch_size=512, verbose=1,validation_data=(X_test, y_test))\n",
        "score = model.evaluate(X_test, y_test, verbose=0)\n",
        "print('Test loss:', score[0])\n",
        "print('Test accuracy:', score[1])"
      ],
      "execution_count": 27,
      "outputs": [
        {
          "output_type": "stream",
          "text": [
            "W0618 03:50:42.168314 140019014723456 deprecation_wrapper.py:119] From /usr/local/lib/python3.6/dist-packages/keras/optimizers.py:790: The name tf.train.Optimizer is deprecated. Please use tf.compat.v1.train.Optimizer instead.\n",
            "\n",
            "W0618 03:50:42.183020 140019014723456 deprecation_wrapper.py:119] From /usr/local/lib/python3.6/dist-packages/keras/backend/tensorflow_backend.py:3295: The name tf.log is deprecated. Please use tf.math.log instead.\n",
            "\n",
            "W0618 03:50:42.332171 140019014723456 deprecation.py:323] From /usr/local/lib/python3.6/dist-packages/tensorflow/python/ops/math_grad.py:1250: add_dispatch_support.<locals>.wrapper (from tensorflow.python.ops.array_ops) is deprecated and will be removed in a future version.\n",
            "Instructions for updating:\n",
            "Use tf.where in 2.0, which has the same broadcast rule as np.where\n",
            "W0618 03:50:42.411559 140019014723456 deprecation_wrapper.py:119] From /usr/local/lib/python3.6/dist-packages/keras/backend/tensorflow_backend.py:986: The name tf.assign_add is deprecated. Please use tf.compat.v1.assign_add instead.\n",
            "\n"
          ],
          "name": "stderr"
        },
        {
          "output_type": "stream",
          "text": [
            "Train on 98797 samples, validate on 48662 samples\n",
            "Epoch 1/10\n",
            "98797/98797 [==============================] - 2s 16us/step - loss: 7.8079 - acc: 0.5155 - val_loss: 7.7431 - val_acc: 0.5196\n",
            "Epoch 2/10\n",
            "98797/98797 [==============================] - 1s 9us/step - loss: 7.7433 - acc: 0.5196 - val_loss: 7.7431 - val_acc: 0.5196\n",
            "Epoch 3/10\n",
            "98797/98797 [==============================] - 1s 9us/step - loss: 7.7433 - acc: 0.5196 - val_loss: 7.7431 - val_acc: 0.5196\n",
            "Epoch 4/10\n",
            "98797/98797 [==============================] - 1s 9us/step - loss: 7.7433 - acc: 0.5196 - val_loss: 7.7431 - val_acc: 0.5196\n",
            "Epoch 5/10\n",
            "98797/98797 [==============================] - 1s 9us/step - loss: 7.7433 - acc: 0.5196 - val_loss: 7.7431 - val_acc: 0.5196\n",
            "Epoch 6/10\n",
            "98797/98797 [==============================] - 1s 10us/step - loss: 7.7433 - acc: 0.5196 - val_loss: 7.7431 - val_acc: 0.5196\n",
            "Epoch 7/10\n",
            "98797/98797 [==============================] - 1s 9us/step - loss: 7.7433 - acc: 0.5196 - val_loss: 7.7431 - val_acc: 0.5196\n",
            "Epoch 8/10\n",
            "98797/98797 [==============================] - 1s 9us/step - loss: 7.7433 - acc: 0.5196 - val_loss: 7.7431 - val_acc: 0.5196\n",
            "Epoch 9/10\n",
            "98797/98797 [==============================] - 1s 9us/step - loss: 7.7433 - acc: 0.5196 - val_loss: 7.7431 - val_acc: 0.5196\n",
            "Epoch 10/10\n",
            "98797/98797 [==============================] - 1s 9us/step - loss: 7.7433 - acc: 0.5196 - val_loss: 7.7431 - val_acc: 0.5196\n",
            "Test loss: 7.743058648328345\n",
            "Test accuracy: 0.5196046196161601\n"
          ],
          "name": "stdout"
        }
      ]
    },
    {
      "cell_type": "markdown",
      "metadata": {
        "id": "GGpn86XTvW7a",
        "colab_type": "text"
      },
      "source": [
        "ATTEMPT 2, extra layers"
      ]
    },
    {
      "cell_type": "code",
      "metadata": {
        "id": "CF4JbwLEF0N2",
        "colab_type": "code",
        "colab": {
          "base_uri": "https://localhost:8080/",
          "height": 306
        },
        "outputId": "d82cde11-1838-4e95-8bad-536aee8be3dc"
      },
      "source": [
        "# Initialize the constructor\n",
        "model = Sequential()\n",
        "\n",
        "# Add an input layer \n",
        "model.add(Dense(100, activation='relu', input_dim= X_train.shape[1] ))\n",
        "\n",
        "# Add a hidden layer \n",
        "model.add(Dense(100, activation='relu'))\n",
        "\n",
        "# Add a hidden layer \n",
        "model.add(Dense(100, activation='relu'))\n",
        "\n",
        "# Add a hidden layer \n",
        "model.add(Dense(100, activation='relu'))\n",
        "\n",
        "# Add an output layer \n",
        "model.add(Dense(7, activation='softmax'))\n",
        "\n",
        "model.summary()"
      ],
      "execution_count": 28,
      "outputs": [
        {
          "output_type": "stream",
          "text": [
            "_________________________________________________________________\n",
            "Layer (type)                 Output Shape              Param #   \n",
            "=================================================================\n",
            "dense_4 (Dense)              (None, 100)               800       \n",
            "_________________________________________________________________\n",
            "dense_5 (Dense)              (None, 100)               10100     \n",
            "_________________________________________________________________\n",
            "dense_6 (Dense)              (None, 100)               10100     \n",
            "_________________________________________________________________\n",
            "dense_7 (Dense)              (None, 100)               10100     \n",
            "_________________________________________________________________\n",
            "dense_8 (Dense)              (None, 7)                 707       \n",
            "=================================================================\n",
            "Total params: 31,807\n",
            "Trainable params: 31,807\n",
            "Non-trainable params: 0\n",
            "_________________________________________________________________\n"
          ],
          "name": "stdout"
        }
      ]
    },
    {
      "cell_type": "code",
      "metadata": {
        "id": "2KlF9wM4vf-q",
        "colab_type": "code",
        "colab": {
          "base_uri": "https://localhost:8080/",
          "height": 408
        },
        "outputId": "5645aff3-ab87-4c3a-a11c-0a513c9af0b8"
      },
      "source": [
        "model.compile(loss='categorical_crossentropy',\n",
        "              optimizer=RMSprop(),\n",
        "              metrics=['accuracy'])\n",
        "                   \n",
        "model.fit(X_train, y_train,epochs=10, batch_size=512, verbose=1,validation_data=(X_test, y_test))\n",
        "score = model.evaluate(X_test, y_test, verbose=0)\n",
        "print('Test loss:', score[0])\n",
        "print('Test accuracy:', score[1])"
      ],
      "execution_count": 29,
      "outputs": [
        {
          "output_type": "stream",
          "text": [
            "Train on 98797 samples, validate on 48662 samples\n",
            "Epoch 1/10\n",
            "98797/98797 [==============================] - 2s 18us/step - loss: 13.5587 - acc: 0.1588 - val_loss: 7.7431 - val_acc: 0.5196\n",
            "Epoch 2/10\n",
            "98797/98797 [==============================] - 2s 16us/step - loss: 7.7433 - acc: 0.5196 - val_loss: 7.7431 - val_acc: 0.5196\n",
            "Epoch 3/10\n",
            "98797/98797 [==============================] - 2s 16us/step - loss: 7.7433 - acc: 0.5196 - val_loss: 7.7431 - val_acc: 0.5196\n",
            "Epoch 4/10\n",
            "98797/98797 [==============================] - 1s 15us/step - loss: 7.7433 - acc: 0.5196 - val_loss: 7.7431 - val_acc: 0.5196\n",
            "Epoch 5/10\n",
            "98797/98797 [==============================] - 1s 15us/step - loss: 7.7433 - acc: 0.5196 - val_loss: 7.7431 - val_acc: 0.5196\n",
            "Epoch 6/10\n",
            "98797/98797 [==============================] - 2s 15us/step - loss: 7.7433 - acc: 0.5196 - val_loss: 7.7431 - val_acc: 0.5196\n",
            "Epoch 7/10\n",
            "98797/98797 [==============================] - 1s 15us/step - loss: 7.7433 - acc: 0.5196 - val_loss: 7.7431 - val_acc: 0.5196\n",
            "Epoch 8/10\n",
            "98797/98797 [==============================] - 1s 15us/step - loss: 7.7433 - acc: 0.5196 - val_loss: 7.7431 - val_acc: 0.5196\n",
            "Epoch 9/10\n",
            "98797/98797 [==============================] - 1s 15us/step - loss: 7.7433 - acc: 0.5196 - val_loss: 7.7431 - val_acc: 0.5196\n",
            "Epoch 10/10\n",
            "98797/98797 [==============================] - 1s 15us/step - loss: 7.7433 - acc: 0.5196 - val_loss: 7.7431 - val_acc: 0.5196\n",
            "Test loss: 7.743058648328345\n",
            "Test accuracy: 0.5196046196161601\n"
          ],
          "name": "stdout"
        }
      ]
    },
    {
      "cell_type": "markdown",
      "metadata": {
        "id": "sBWrmxTrvoHQ",
        "colab_type": "text"
      },
      "source": [
        "Attempt 3, more nodes"
      ]
    },
    {
      "cell_type": "code",
      "metadata": {
        "id": "3mDYaBcZvq82",
        "colab_type": "code",
        "colab": {
          "base_uri": "https://localhost:8080/",
          "height": 238
        },
        "outputId": "a407b3b4-41bf-4418-8d24-a27a9fd71e58"
      },
      "source": [
        "# Initialize the constructor\n",
        "model = Sequential()\n",
        "\n",
        "# Add an input layer \n",
        "model.add(Dense(500, activation='relu', input_dim= X_train.shape[1] ))\n",
        "\n",
        "# Add a hidden layer \n",
        "model.add(Dense(500, activation='relu'))\n",
        "\n",
        "# Add an output layer \n",
        "model.add(Dense(7, activation='softmax'))\n",
        "\n",
        "model.summary()"
      ],
      "execution_count": 30,
      "outputs": [
        {
          "output_type": "stream",
          "text": [
            "_________________________________________________________________\n",
            "Layer (type)                 Output Shape              Param #   \n",
            "=================================================================\n",
            "dense_9 (Dense)              (None, 500)               4000      \n",
            "_________________________________________________________________\n",
            "dense_10 (Dense)             (None, 500)               250500    \n",
            "_________________________________________________________________\n",
            "dense_11 (Dense)             (None, 7)                 3507      \n",
            "=================================================================\n",
            "Total params: 258,007\n",
            "Trainable params: 258,007\n",
            "Non-trainable params: 0\n",
            "_________________________________________________________________\n"
          ],
          "name": "stdout"
        }
      ]
    },
    {
      "cell_type": "code",
      "metadata": {
        "id": "z6nmUnRTvxB8",
        "colab_type": "code",
        "colab": {
          "base_uri": "https://localhost:8080/",
          "height": 408
        },
        "outputId": "033ffd30-14c6-4e3f-ef0b-785b0574ed34"
      },
      "source": [
        "model.compile(loss='categorical_crossentropy',\n",
        "              optimizer=RMSprop(),\n",
        "              metrics=['accuracy'])\n",
        "                   \n",
        "model.fit(X_train, y_train,epochs=10, batch_size=512, verbose=1,validation_data=(X_test, y_test))\n",
        "score = model.evaluate(X_test, y_test, verbose=0)\n",
        "print('Test loss:', score[0])\n",
        "print('Test accuracy:', score[1])"
      ],
      "execution_count": 31,
      "outputs": [
        {
          "output_type": "stream",
          "text": [
            "Train on 98797 samples, validate on 48662 samples\n",
            "Epoch 1/10\n",
            "98797/98797 [==============================] - 5s 54us/step - loss: 13.7382 - acc: 0.1476 - val_loss: 13.7379 - val_acc: 0.1477\n",
            "Epoch 2/10\n",
            "98797/98797 [==============================] - 5s 51us/step - loss: 13.7377 - acc: 0.1477 - val_loss: 13.7379 - val_acc: 0.1477\n",
            "Epoch 3/10\n",
            "98797/98797 [==============================] - 5s 51us/step - loss: 13.7377 - acc: 0.1477 - val_loss: 13.7379 - val_acc: 0.1477\n",
            "Epoch 4/10\n",
            "98797/98797 [==============================] - 5s 51us/step - loss: 13.7377 - acc: 0.1477 - val_loss: 13.7379 - val_acc: 0.1477\n",
            "Epoch 5/10\n",
            "98797/98797 [==============================] - 5s 52us/step - loss: 13.7377 - acc: 0.1477 - val_loss: 13.7379 - val_acc: 0.1477\n",
            "Epoch 6/10\n",
            "98797/98797 [==============================] - 5s 52us/step - loss: 13.7377 - acc: 0.1477 - val_loss: 13.7379 - val_acc: 0.1477\n",
            "Epoch 7/10\n",
            "98797/98797 [==============================] - 5s 52us/step - loss: 13.7377 - acc: 0.1477 - val_loss: 13.7379 - val_acc: 0.1477\n",
            "Epoch 8/10\n",
            "98797/98797 [==============================] - 5s 52us/step - loss: 13.7377 - acc: 0.1477 - val_loss: 13.7379 - val_acc: 0.1477\n",
            "Epoch 9/10\n",
            "98797/98797 [==============================] - 5s 52us/step - loss: 13.7377 - acc: 0.1477 - val_loss: 13.7379 - val_acc: 0.1477\n",
            "Epoch 10/10\n",
            "98797/98797 [==============================] - 5s 52us/step - loss: 13.7377 - acc: 0.1477 - val_loss: 13.7379 - val_acc: 0.1477\n",
            "Test loss: 13.737908956179572\n",
            "Test accuracy: 0.14767169454605236\n"
          ],
          "name": "stdout"
        }
      ]
    },
    {
      "cell_type": "markdown",
      "metadata": {
        "id": "Fu8iRDYowZb7",
        "colab_type": "text"
      },
      "source": [
        "Attempt 4, more nodes and more layers"
      ]
    },
    {
      "cell_type": "code",
      "metadata": {
        "id": "0isgAxJUwZxE",
        "colab_type": "code",
        "colab": {
          "base_uri": "https://localhost:8080/",
          "height": 306
        },
        "outputId": "f9e33811-f575-49b7-cc2b-fe989cfcf3c3"
      },
      "source": [
        "# Initialize the constructor\n",
        "model = Sequential()\n",
        "\n",
        "# Add an input layer \n",
        "model.add(Dense(500, activation='relu', input_dim= X_train.shape[1] ))\n",
        "\n",
        "# Add a hidden layer \n",
        "model.add(Dense(500, activation='relu'))\n",
        "\n",
        "# Add a hidden layer \n",
        "model.add(Dense(500, activation='relu'))\n",
        "\n",
        "# Add a hidden layer \n",
        "model.add(Dense(500, activation='relu'))\n",
        "\n",
        "# Add an output layer \n",
        "model.add(Dense(7, activation='softmax'))\n",
        "\n",
        "model.summary()"
      ],
      "execution_count": 32,
      "outputs": [
        {
          "output_type": "stream",
          "text": [
            "_________________________________________________________________\n",
            "Layer (type)                 Output Shape              Param #   \n",
            "=================================================================\n",
            "dense_12 (Dense)             (None, 500)               4000      \n",
            "_________________________________________________________________\n",
            "dense_13 (Dense)             (None, 500)               250500    \n",
            "_________________________________________________________________\n",
            "dense_14 (Dense)             (None, 500)               250500    \n",
            "_________________________________________________________________\n",
            "dense_15 (Dense)             (None, 500)               250500    \n",
            "_________________________________________________________________\n",
            "dense_16 (Dense)             (None, 7)                 3507      \n",
            "=================================================================\n",
            "Total params: 759,007\n",
            "Trainable params: 759,007\n",
            "Non-trainable params: 0\n",
            "_________________________________________________________________\n"
          ],
          "name": "stdout"
        }
      ]
    },
    {
      "cell_type": "code",
      "metadata": {
        "id": "Yy5xnysOwZ9D",
        "colab_type": "code",
        "colab": {
          "base_uri": "https://localhost:8080/",
          "height": 408
        },
        "outputId": "a3ae15ca-2e4c-4993-b4f8-cca395bac1fa"
      },
      "source": [
        "model.compile(loss='categorical_crossentropy',\n",
        "              optimizer=RMSprop(),\n",
        "              metrics=['accuracy'])\n",
        "                   \n",
        "model.fit(X_train, y_train,epochs=10, batch_size=512, verbose=1,validation_data=(X_test, y_test))\n",
        "score = model.evaluate(X_test, y_test, verbose=0)\n",
        "print('Test loss:', score[0])\n",
        "print('Test accuracy:', score[1])"
      ],
      "execution_count": 33,
      "outputs": [
        {
          "output_type": "stream",
          "text": [
            "Train on 98797 samples, validate on 48662 samples\n",
            "Epoch 1/10\n",
            "98797/98797 [==============================] - 13s 132us/step - loss: 15.3838 - acc: 0.0456 - val_loss: 15.3834 - val_acc: 0.0456\n",
            "Epoch 2/10\n",
            "98797/98797 [==============================] - 13s 132us/step - loss: 15.3836 - acc: 0.0456 - val_loss: 15.3834 - val_acc: 0.0456\n",
            "Epoch 3/10\n",
            "98797/98797 [==============================] - 13s 133us/step - loss: 15.3836 - acc: 0.0456 - val_loss: 15.3834 - val_acc: 0.0456\n",
            "Epoch 4/10\n",
            "98797/98797 [==============================] - 13s 133us/step - loss: 15.3836 - acc: 0.0456 - val_loss: 15.3834 - val_acc: 0.0456\n",
            "Epoch 5/10\n",
            "98797/98797 [==============================] - 13s 133us/step - loss: 15.3836 - acc: 0.0456 - val_loss: 15.3834 - val_acc: 0.0456\n",
            "Epoch 6/10\n",
            "98797/98797 [==============================] - 13s 132us/step - loss: 15.3836 - acc: 0.0456 - val_loss: 15.3834 - val_acc: 0.0456\n",
            "Epoch 7/10\n",
            "98797/98797 [==============================] - 13s 133us/step - loss: 15.3836 - acc: 0.0456 - val_loss: 15.3834 - val_acc: 0.0456\n",
            "Epoch 8/10\n",
            "98797/98797 [==============================] - 13s 132us/step - loss: 15.3836 - acc: 0.0456 - val_loss: 15.3834 - val_acc: 0.0456\n",
            "Epoch 9/10\n",
            "98797/98797 [==============================] - 13s 132us/step - loss: 15.3836 - acc: 0.0456 - val_loss: 15.3834 - val_acc: 0.0456\n",
            "Epoch 10/10\n",
            "98797/98797 [==============================] - 13s 132us/step - loss: 15.3836 - acc: 0.0456 - val_loss: 15.3834 - val_acc: 0.0456\n",
            "Test loss: 15.383436976925061\n",
            "Test accuracy: 0.04557971312378863\n"
          ],
          "name": "stdout"
        }
      ]
    },
    {
      "cell_type": "markdown",
      "metadata": {
        "id": "uoNdXSHH39WZ",
        "colab_type": "text"
      },
      "source": [
        "Attempt 5, different function"
      ]
    },
    {
      "cell_type": "code",
      "metadata": {
        "id": "-6yGfTu24Edz",
        "colab_type": "code",
        "colab": {
          "base_uri": "https://localhost:8080/",
          "height": 306
        },
        "outputId": "7199ead2-0bdc-48db-dca0-b378c6be6118"
      },
      "source": [
        "# Initialize the constructor\n",
        "model = Sequential()\n",
        "\n",
        "# Add an input layer \n",
        "model.add(Dense(100, activation='sigmoid', input_dim= X_train.shape[1] ))\n",
        "\n",
        "# Add a hidden layer \n",
        "model.add(Dense(100, activation='sigmoid'))\n",
        "\n",
        "# Add a hidden layer \n",
        "model.add(Dense(100, activation='sigmoid'))\n",
        "\n",
        "# Add a hidden layer \n",
        "model.add(Dense(100, activation='sigmoid'))\n",
        "\n",
        "# Add an output layer \n",
        "model.add(Dense(7, activation='softmax'))\n",
        "\n",
        "model.summary()"
      ],
      "execution_count": 34,
      "outputs": [
        {
          "output_type": "stream",
          "text": [
            "_________________________________________________________________\n",
            "Layer (type)                 Output Shape              Param #   \n",
            "=================================================================\n",
            "dense_17 (Dense)             (None, 100)               800       \n",
            "_________________________________________________________________\n",
            "dense_18 (Dense)             (None, 100)               10100     \n",
            "_________________________________________________________________\n",
            "dense_19 (Dense)             (None, 100)               10100     \n",
            "_________________________________________________________________\n",
            "dense_20 (Dense)             (None, 100)               10100     \n",
            "_________________________________________________________________\n",
            "dense_21 (Dense)             (None, 7)                 707       \n",
            "=================================================================\n",
            "Total params: 31,807\n",
            "Trainable params: 31,807\n",
            "Non-trainable params: 0\n",
            "_________________________________________________________________\n"
          ],
          "name": "stdout"
        }
      ]
    },
    {
      "cell_type": "code",
      "metadata": {
        "id": "2fjvMlGW4E2Z",
        "colab_type": "code",
        "colab": {
          "base_uri": "https://localhost:8080/",
          "height": 408
        },
        "outputId": "da38afd2-a1aa-4aba-eeff-4e9e8183917b"
      },
      "source": [
        "model.compile(loss='categorical_crossentropy',\n",
        "              optimizer=RMSprop(),\n",
        "              metrics=['accuracy'])\n",
        "                   \n",
        "model.fit(X_train, y_train,epochs=10, batch_size=512, verbose=1,validation_data=(X_test, y_test))\n",
        "score = model.evaluate(X_test, y_test, verbose=0)\n",
        "print('Test loss:', score[0])\n",
        "print('Test accuracy:', score[1])"
      ],
      "execution_count": 35,
      "outputs": [
        {
          "output_type": "stream",
          "text": [
            "Train on 98797 samples, validate on 48662 samples\n",
            "Epoch 1/10\n",
            "98797/98797 [==============================] - 2s 20us/step - loss: 1.4060 - acc: 0.5143 - val_loss: 1.3985 - val_acc: 0.5196\n",
            "Epoch 2/10\n",
            "98797/98797 [==============================] - 1s 15us/step - loss: 1.3827 - acc: 0.5196 - val_loss: 1.3634 - val_acc: 0.5199\n",
            "Epoch 3/10\n",
            "98797/98797 [==============================] - 1s 15us/step - loss: 1.3547 - acc: 0.5212 - val_loss: 1.3391 - val_acc: 0.5232\n",
            "Epoch 4/10\n",
            "98797/98797 [==============================] - 1s 14us/step - loss: 1.3415 - acc: 0.5229 - val_loss: 1.3503 - val_acc: 0.5173\n",
            "Epoch 5/10\n",
            "98797/98797 [==============================] - 1s 15us/step - loss: 1.3380 - acc: 0.5245 - val_loss: 1.3413 - val_acc: 0.5273\n",
            "Epoch 6/10\n",
            "98797/98797 [==============================] - 1s 15us/step - loss: 1.3389 - acc: 0.5263 - val_loss: 1.3338 - val_acc: 0.5299\n",
            "Epoch 7/10\n",
            "98797/98797 [==============================] - 1s 14us/step - loss: 1.3332 - acc: 0.5285 - val_loss: 1.3398 - val_acc: 0.5237\n",
            "Epoch 8/10\n",
            "98797/98797 [==============================] - 1s 14us/step - loss: 1.3369 - acc: 0.5279 - val_loss: 1.3379 - val_acc: 0.5360\n",
            "Epoch 9/10\n",
            "98797/98797 [==============================] - 1s 14us/step - loss: 1.3320 - acc: 0.5309 - val_loss: 1.3291 - val_acc: 0.5271\n",
            "Epoch 10/10\n",
            "98797/98797 [==============================] - 1s 15us/step - loss: 1.3299 - acc: 0.5330 - val_loss: 1.3190 - val_acc: 0.5506\n",
            "Test loss: 1.3189715347554218\n",
            "Test accuracy: 0.5505733426517448\n"
          ],
          "name": "stdout"
        }
      ]
    }
  ]
}