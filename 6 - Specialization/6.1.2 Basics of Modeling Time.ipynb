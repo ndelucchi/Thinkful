{
 "cells": [
  {
   "cell_type": "code",
   "execution_count": 1,
   "metadata": {
    "ExecuteTime": {
     "end_time": "2019-09-05T03:57:04.380354Z",
     "start_time": "2019-09-05T03:57:02.046226Z"
    }
   },
   "outputs": [],
   "source": [
    "import numpy as np\n",
    "import pandas as pd\n",
    "import scipy\n",
    "from datetime import datetime\n",
    "import datetime as dt\n",
    "import matplotlib.pyplot as plt\n",
    "%matplotlib inline"
   ]
  },
  {
   "cell_type": "markdown",
   "metadata": {},
   "source": [
    "## Basics of Modeling Time\n",
    "\n",
    "Now that we've introduced time as a concept, let's discuss how to include it in our models. After all, we've spent so much of this course covering how to build various models, it would be quite a shame if we didn't learn how to model time. For this, let's work with the same data as the previous lesson."
   ]
  },
  {
   "cell_type": "code",
   "execution_count": 2,
   "metadata": {
    "ExecuteTime": {
     "end_time": "2019-09-05T03:57:15.766464Z",
     "start_time": "2019-09-05T03:57:15.744637Z"
    }
   },
   "outputs": [],
   "source": [
    "# Create a data frame.\n",
    "learning_progress = pd.DataFrame()\n",
    "\n",
    "# Add a range of 100 dates starting Jan 1, 2017.\n",
    "learning_progress['date'] = pd.date_range(start='2017-01-01', periods=100)\n",
    "\n",
    "# Add linearly increasing knowledge and oscillating confidence.\n",
    "learning_progress['knowledge'] = np.arange(0, 100)\n",
    "learning_progress['confidence'] = 10 * np.cos(np.arange(0, 100) * np.pi / 3.5) + np.arange(0, 100)"
   ]
  },
  {
   "cell_type": "markdown",
   "metadata": {},
   "source": [
    "Now, this is an extremely simple example scenario, and you can easily see the time series trends we're inducing into the data from the code. But how could we model them?\n",
    "\n",
    "In this case we'll be working with a linear model. It is also worth noting that time series work is often done with least squares linear models and extensions thereof, because of their explanatory power. How things change over time is often a key learning of the model.\n",
    "\n",
    "## Linear Trends\n",
    "\n",
    "Perhaps the most intuitive way to deal with time series data is with a simple linear trend. This treats time just like any other variable. Let's say we were trying to explain variance in confidence over time.\n",
    "\n",
    "That model could look something like this:"
   ]
  },
  {
   "cell_type": "code",
   "execution_count": 3,
   "metadata": {
    "ExecuteTime": {
     "end_time": "2019-09-05T03:57:58.041026Z",
     "start_time": "2019-09-05T03:57:55.639781Z"
    },
    "scrolled": false
   },
   "outputs": [
    {
     "data": {
      "text/plain": [
       "0.9434054498353532"
      ]
     },
     "execution_count": 3,
     "metadata": {},
     "output_type": "execute_result"
    }
   ],
   "source": [
    "from sklearn import linear_model\n",
    "lm = linear_model.LinearRegression()\n",
    "\n",
    "# Note that for sklearn we must convert our data to numeric.\n",
    "X = pd.DataFrame(pd.to_numeric(learning_progress['date']))\n",
    "Y = learning_progress['confidence']\n",
    "lm.fit(X, Y)\n",
    "lm.score(X, Y)"
   ]
  },
  {
   "cell_type": "code",
   "execution_count": 4,
   "metadata": {
    "ExecuteTime": {
     "end_time": "2019-09-05T03:58:01.516096Z",
     "start_time": "2019-09-05T03:58:01.509311Z"
    }
   },
   "outputs": [
    {
     "data": {
      "text/plain": [
       "1.161624877097711e-14"
      ]
     },
     "execution_count": 4,
     "metadata": {},
     "output_type": "execute_result"
    }
   ],
   "source": [
    "lm.coef_[0]"
   ]
  },
  {
   "cell_type": "code",
   "execution_count": 5,
   "metadata": {
    "ExecuteTime": {
     "end_time": "2019-09-05T03:58:05.904073Z",
     "start_time": "2019-09-05T03:58:05.894988Z"
    }
   },
   "outputs": [
    {
     "data": {
      "text/plain": [
       "1.0036438938124224"
      ]
     },
     "execution_count": 5,
     "metadata": {},
     "output_type": "execute_result"
    }
   ],
   "source": [
    "# Convert coefficient from nanoseconds to days.\n",
    "lm.coef_[0] * 1000000000 * 24 * 60 * 60"
   ]
  },
  {
   "cell_type": "markdown",
   "metadata": {},
   "source": [
    "So there are a few things to note here. Firstly, sklearn requires all inputs to to be numeric, so you have to convert your timestamps to numeric. `pd.to_numeric` will do the job, converting the column to nanoseconds since January 1, 1970 (also referred to as _epoch time_ in nanoseconds, as typical epoch time is simply in seconds). This still allows for us to do the same linear trend, but we have to do our coefficient interpretation either in nanoseconds or with a conversion.\n",
    "\n",
    "We could do the same kind of feature engineering on this feature, taking any functional form or normalizing to a starting point.\n",
    "\n",
    "What does this coefficient mean? While, with every passing day, our confidence seems to go up .005. That gives us an overall trend to our confidence over time.\n",
    "\n",
    "However, this is only one way we can deal with time.\n",
    "\n",
    "## Indicators\n",
    "\n",
    "So far we've only dealt with a _trend_. This means something changing in a functional direction over time. However, when we deal with time a lot of what we're looking for is a pattern or _seasonality_. There are two traditional ways to deal with this.\n",
    "\n",
    "The first is with _indicators variables_. These are basically dummy variables that show whether you are in a time of year or not.\n",
    "\n",
    "The simplest way to do this is to create an indicator for every period of the season. This can be an indicator for each day of the week if you're concerned about a weekly cycle. It can be for every month of the year if you're worried about months. It can be for the four literal seasons if that's what fits your data.\n",
    "\n",
    "The advantage of this is also its disadvantage. You get a coefficient to adjust for every period in your seasonality allowing for you to get a very specified fit, however this does open you up to overfitting.\n",
    "\n",
    "You want to make sure that you have enough data so that you're not creating a problem for yourself with these kinds of indicators. For example, if you only have one datapoint in each period, you're going to get a perfect fit and a model that is pretty useless.\n",
    "\n",
    "Let's see how we could do it with the data from before.\n",
    "\n",
    "Here let's say we want to model confidence in terms of time."
   ]
  },
  {
   "cell_type": "code",
   "execution_count": 6,
   "metadata": {
    "ExecuteTime": {
     "end_time": "2019-09-05T04:00:32.171646Z",
     "start_time": "2019-09-05T04:00:31.907870Z"
    }
   },
   "outputs": [
    {
     "data": {
      "image/png": "[encoded data removed]",
      "text/plain": [
       "<Figure size 432x288 with 1 Axes>"
      ]
     },
     "metadata": {
      "needs_background": "light"
     },
     "output_type": "display_data"
    }
   ],
   "source": [
    "plt.plot(learning_progress.date, learning_progress.confidence)\n",
    "plt.xticks(rotation=60)\n",
    "plt.title('Time Series Linear Plots')\n",
    "plt.show()"
   ]
  },
  {
   "cell_type": "markdown",
   "metadata": {},
   "source": [
    "This looks to have a weekly pattern too it. Let's model it in terms of two factors: a trend line and a day of the week indicator. To get the indicator, we'll extract the day of the week from our dates and then convert it to a series of dummy variables."
   ]
  },
  {
   "cell_type": "code",
   "execution_count": 7,
   "metadata": {
    "ExecuteTime": {
     "end_time": "2019-09-05T04:01:03.153254Z",
     "start_time": "2019-09-05T04:01:03.067948Z"
    }
   },
   "outputs": [
    {
     "data": {
      "text/plain": [
       "1.0"
      ]
     },
     "execution_count": 7,
     "metadata": {},
     "output_type": "execute_result"
    }
   ],
   "source": [
    "learning_progress['day_of_week'] = learning_progress.date.apply(\n",
    "    lambda x: str(dt.datetime.weekday(x)))\n",
    "\n",
    "X = pd.get_dummies(learning_progress.day_of_week)\n",
    "X['date'] = pd.to_numeric(learning_progress.date) / (1000000000 * 24 * 60 * 60)\n",
    "Y = learning_progress['confidence']\n",
    "lm.fit(X, Y)\n",
    "lm.score(X, Y)"
   ]
  },
  {
   "cell_type": "code",
   "execution_count": 8,
   "metadata": {
    "ExecuteTime": {
     "end_time": "2019-09-05T04:01:18.190741Z",
     "start_time": "2019-09-05T04:01:18.181633Z"
    }
   },
   "outputs": [
    {
     "name": "stdout",
     "output_type": "stream",
     "text": [
      "Index(['0', '1', '2', '3', '4', '5', '6', 'date'], dtype='object')\n",
      "[ 6.23489802 -2.22520934 -9.00968868 -9.00968868 -2.22520934  6.23489802\n",
      " 10.          1.        ]\n"
     ]
    }
   ],
   "source": [
    "print(X.columns)\n",
    "print(lm.coef_)"
   ]
  },
  {
   "cell_type": "markdown",
   "metadata": {},
   "source": [
    "Here we see a series of coefficients for day of the week (with 0 corresponding to Monday). So you can see that mondays have higher confidence than Tuesdays through Friday, with it recovering again over the weekend. On top of that there is a daily trend, with confidence increasing on average 1 unit per day.\n",
    "\n",
    "All of this has a model score of 1.0, by the way, because this is the exact equation used to create the data, if you discretize the oscillating function."
   ]
  },
  {
   "cell_type": "markdown",
   "metadata": {},
   "source": [
    "## Oscillators\n",
    "\n",
    "We can also use trigonometric functions, specifically sine and cosine. \n",
    "\n",
    "These functions are oscillating functions. They have a period and an amplitude."
   ]
  },
  {
   "cell_type": "code",
   "execution_count": 9,
   "metadata": {},
   "outputs": [
    {
     "data": {
      "text/plain": [
       "<matplotlib.text.Text at 0x109892828>"
      ]
     },
     "execution_count": 9,
     "metadata": {},
     "output_type": "execute_result"
    },
    {
     "data": {
      "image/png": "[encoded data removed]",
      "text/plain": [
       "<matplotlib.figure.Figure at 0x104333940>"
      ]
     },
     "metadata": {},
     "output_type": "display_data"
    }
   ],
   "source": [
    "x = np.linspace(0, 50, 500)\n",
    "plt.plot(x, np.cos(x))\n",
    "plt.title('Cosine Function')"
   ]
  },
  {
   "cell_type": "markdown",
   "metadata": {},
   "source": [
    "## A Brief Visit to Trigonometry\n",
    "\n",
    "Maybe you remember the sine or cosine functions from previous math courses. They're derived from relationships from within triangles. How exactly that works isn't important for our purposes. We're not using them for their trigonometic properties. What's important for us is that they're a regularly repeating oscillating wave where we can control the height of the oscillations and their frequency. To that end, the wave has two features we need to know:\n",
    "\n",
    "_Amplitude_ is how high the curve goes. For our purposes that is how big its oscillations move from the center. In the image above our amplitude is 1.\n",
    "\n",
    "_Period_ is how long an oscillation is, or the length of the repeating pattern. Here the period is $2\\pi$. \n",
    "\n",
    "When working with a linear model and seeing something that oscillates regularly and in a symmetric fashion, it might be useful to use a sine transformation and see if you can draw out periodicity. This can add a regular wiggle or movement up or down, say within a week or a season, to any other linear trends you may have. You have to find the duration of the oscillation yourself before applying the cosine or sine transform.\n",
    "\n",
    "Let's try it with the data from before again."
   ]
  },
  {
   "cell_type": "code",
   "execution_count": 9,
   "metadata": {
    "ExecuteTime": {
     "end_time": "2019-09-05T04:03:41.956128Z",
     "start_time": "2019-09-05T04:03:41.922208Z"
    }
   },
   "outputs": [
    {
     "data": {
      "text/plain": [
       "1.0"
      ]
     },
     "execution_count": 9,
     "metadata": {},
     "output_type": "execute_result"
    }
   ],
   "source": [
    "X = pd.DataFrame()\n",
    "X['date'] = pd.to_numeric(learning_progress.date) / (1000000000 * 24 * 60 * 60)\n",
    "\n",
    "# Note that we're subtracting 17167 from date.\n",
    "# This is to normalize it so that it starts at zero.\n",
    "# This aligns the peak of the curve with the start of the cosine function.\n",
    "\n",
    "X['cos_date'] = np.cos((X.date - 17167) * np.pi / 3.5)\n",
    "Y = learning_progress['confidence']\n",
    "lm.fit(X, Y)\n",
    "lm.score(X, Y)"
   ]
  },
  {
   "cell_type": "code",
   "execution_count": 10,
   "metadata": {
    "ExecuteTime": {
     "end_time": "2019-09-05T04:03:42.795294Z",
     "start_time": "2019-09-05T04:03:42.782179Z"
    }
   },
   "outputs": [
    {
     "data": {
      "text/plain": [
       "array([ 1., 10.])"
      ]
     },
     "execution_count": 10,
     "metadata": {},
     "output_type": "execute_result"
    }
   ],
   "source": [
    "lm.coef_"
   ]
  },
  {
   "cell_type": "markdown",
   "metadata": {},
   "source": [
    "\n",
    "So, how do you find the duration of an oscillation? Well the easiest way is to have its period be present in the data. Things that repeat weekly have a weekly period. However, sometimes the period isn't so clear, like say if you see something monthly but it doesn't seem to perfectly line up with a clear start and end at the beginning of the month though you still see a regularly oscillating curve.\n",
    "\n",
    "For that you'll need [__spectral analysis__](https://en.wikipedia.org/wiki/Spectral_density_estimation). Implementing spectral analysis is beyond the scope of this specialization; in practice you can often attain a reasonable esitmation through indicators and other techniques.\n",
    "\n",
    "The main value of these trigonometric terms for seasonality is that they avoid overfitting by only offering a single term to match, the amplitude. Perhaps you're also manually estimating period. But other than that there is nowhere near the number of opportunities for overfitting, compared to say 12 indicators for month of the year."
   ]
  },
  {
   "cell_type": "code",
   "execution_count": null,
   "metadata": {},
   "outputs": [],
   "source": []
  }
 ],
 "metadata": {
  "hide_input": false,
  "kernelspec": {
   "display_name": "Python 3",
   "language": "python",
   "name": "python3"
  },
  "language_info": {
   "codemirror_mode": {
    "name": "ipython",
    "version": 3
   },
   "file_extension": ".py",
   "mimetype": "text/x-python",
   "name": "python",
   "nbconvert_exporter": "python",
   "pygments_lexer": "ipython3",
   "version": "3.7.2"
  }
 },
 "nbformat": 4,
 "nbformat_minor": 2
}
