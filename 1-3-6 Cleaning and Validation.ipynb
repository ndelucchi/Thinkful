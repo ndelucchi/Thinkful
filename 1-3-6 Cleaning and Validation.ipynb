{
 "cells": [
  {
   "cell_type": "code",
   "execution_count": 44,
   "metadata": {},
   "outputs": [],
   "source": [
    "import pandas as pd"
   ]
  },
  {
   "cell_type": "markdown",
   "metadata": {},
   "source": [
    "Determine: \n",
    "The five most common journals \n",
    "The total articles for each \n",
    "\n",
    "Calculate the mean, median, and standard deviation of the open-access cost per article for each journal . "
   ]
  },
  {
   "cell_type": "code",
   "execution_count": 108,
   "metadata": {
    "scrolled": false
   },
   "outputs": [],
   "source": [
    "mags = pd.read_csv('WELLCOME_APCspend2013.csv', encoding = \"ISO-8859-1\")\n",
    "#print(mags.describe().transpose())\n",
    "mags.columns = mags.columns.str.replace('(£)','')\n",
    "#print(mags.columns)\n",
    "mags['COST () charged to Wellcome (inc VAT when charged)'] = mags['COST () charged to Wellcome (inc VAT when charged)'].str.replace('£','')\n",
    "mags['COST () charged to Wellcome (inc VAT when charged)'] = mags['COST () charged to Wellcome (inc VAT when charged)'].str.replace('$','')\n",
    "\n",
    "mags['COST () charged to Wellcome (inc VAT when charged)'] = pd.to_numeric(mags['COST () charged to Wellcome (inc VAT when charged)'])\n",
    "\n",
    "\n",
    "mags['Journal title'] = mags['Journal title'].str.replace('NE','ne')\n",
    "mags['Journal title'] = mags['Journal title'].str.replace('PLOS','PLoS')\n",
    "#print(mags['COST (£) charged to Wellcome (inc VAT when charged)'].mean())\n",
    "#print(mags.head(5))"
   ]
  },
  {
   "cell_type": "code",
   "execution_count": 110,
   "metadata": {},
   "outputs": [
    {
     "name": "stdout",
     "output_type": "stream",
     "text": [
      "PLoS One                           178\n",
      "Journal of Biological Chemistry     48\n",
      "PLoS Genetics                       22\n",
      "PLoS Pathogens                      22\n",
      "Nucleic Acids Research              21\n",
      "Name: Journal title, dtype: int64\n"
     ]
    }
   ],
   "source": [
    "print(mags['Journal title'].value_counts().head())"
   ]
  },
  {
   "cell_type": "code",
   "execution_count": 114,
   "metadata": {},
   "outputs": [],
   "source": [
    "def stats(data, stat_column, criteria_column, criteria):\n",
    "    data_temp = data[data['criteria column'] == criteria]\n",
    "    print('The mean for', criteria,' is: ', data_temp['stat_column'].mean(),'\\n')\n",
    "    print('The median for', criteria,' is: ', data_temp['stat_column'].median(),'\\n')\n",
    "    print('The standard deviation for', criteria,' is: ', data_temp['stat_column'].std())\n",
    "    \n",
    "def stats2(criteria):\n",
    "    mags_temp = mags[mags['Journal title'] == criteria]\n",
    "    print('The mean for', criteria,' is: ', mags_temp['COST () charged to Wellcome (inc VAT when charged)'].mean())\n",
    "    print('The median for', criteria,' is: ', data_temp['COST () charged to Wellcome (inc VAT when charged)'].median())\n",
    "    print('The standard deviation for', criteria,' is: ', data_temp['COST () charged to Wellcome (inc VAT when charged)'].std())"
   ]
  },
  {
   "cell_type": "code",
   "execution_count": 117,
   "metadata": {},
   "outputs": [
    {
     "ename": "SyntaxError",
     "evalue": "invalid syntax (<ipython-input-117-710d24af0dde>, line 1)",
     "output_type": "error",
     "traceback": [
      "\u001b[0;36m  File \u001b[0;32m\"<ipython-input-117-710d24af0dde>\"\u001b[0;36m, line \u001b[0;32m1\u001b[0m\n\u001b[0;31m    stats2(PLoS One)\u001b[0m\n\u001b[0m                  ^\u001b[0m\n\u001b[0;31mSyntaxError\u001b[0m\u001b[0;31m:\u001b[0m invalid syntax\n"
     ]
    }
   ],
   "source": [
    "stats2(PLoS One)"
   ]
  },
  {
   "cell_type": "code",
   "execution_count": 122,
   "metadata": {},
   "outputs": [
    {
     "name": "stdout",
     "output_type": "stream",
     "text": [
      "The mean for PLoS One is:  41290.2317977528\n",
      "The median for PLoS One is:  897.075\n",
      "The standard deviation for PLoS One is:  195048.5954534007 \n",
      "\n",
      "The mean for Journal of Biological Chemistry is:  22233.86520833333\n",
      "The median for Journal of Biological Chemistry is:  1287.3049999999998\n",
      "The standard deviation for Journal of Biological Chemistry is:  144131.58656927478 \n",
      "\n",
      "The mean for PLoS Genetics is:  92390.75227272727\n",
      "The median for PLoS Genetics is:  1712.73\n",
      "The standard deviation for PLoS Genetics is:  293765.08790460345 \n",
      "\n",
      "The mean for PLoS Pathogens is:  92321.9940909091\n",
      "The median for PLoS Pathogens is:  1600.25\n",
      "The standard deviation for PLoS Pathogens is:  293787.34422557754 \n",
      "\n",
      "The mean for PLoS Pathogens is:  1118.2857142857142\n",
      "The median for PLoS Pathogens is:  852.0\n",
      "The standard deviation for PLoS Pathogens is:  442.4180311489512 \n",
      "\n"
     ]
    }
   ],
   "source": [
    "mags_PLos_One = mags[mags['Journal title']=='PLoS One']\n",
    "print('The mean for PLoS One is: ', mags_PLos_One['COST () charged to Wellcome (inc VAT when charged)'].mean(),)\n",
    "print('The median for PLoS One is: ', mags_PLos_One['COST () charged to Wellcome (inc VAT when charged)'].median())\n",
    "print('The standard deviation for PLoS One is: ', mags_PLos_One['COST () charged to Wellcome (inc VAT when charged)'].std(),'\\n')\n",
    "\n",
    "mags_JBC = mags[mags['Journal title']=='Journal of Biological Chemistry']\n",
    "print('The mean for Journal of Biological Chemistry is: ', mags_JBC['COST () charged to Wellcome (inc VAT when charged)'].mean())\n",
    "print('The median for Journal of Biological Chemistry is: ', mags_JBC['COST () charged to Wellcome (inc VAT when charged)'].median())\n",
    "print('The standard deviation for Journal of Biological Chemistry is: ', mags_JBC['COST () charged to Wellcome (inc VAT when charged)'].std(),'\\n')\n",
    "\n",
    "mags_Pgen = mags[mags['Journal title']=='PLoS Genetics']\n",
    "print('The mean for PLoS Genetics is: ', mags_Pgen['COST () charged to Wellcome (inc VAT when charged)'].mean())\n",
    "print('The median for PLoS Genetics is: ', mags_Pgen['COST () charged to Wellcome (inc VAT when charged)'].median())\n",
    "print('The standard deviation for PLoS Genetics is: ', mags_Pgen['COST () charged to Wellcome (inc VAT when charged)'].std(),'\\n')\n",
    "\n",
    "mags_Ppath = mags[mags['Journal title']=='PLoS Pathogens']\n",
    "print('The mean for PLoS Pathogens is: ', mags_Ppath['COST () charged to Wellcome (inc VAT when charged)'].mean())\n",
    "print('The median for PLoS Pathogens is: ', mags_Ppath['COST () charged to Wellcome (inc VAT when charged)'].median())\n",
    "print('The standard deviation for PLoS Pathogens is: ', mags_Ppath['COST () charged to Wellcome (inc VAT when charged)'].std(),'\\n')\n",
    "\n",
    "mags_NAR = mags[mags['Journal title']=='Nucleic Acids Research']\n",
    "print('The mean for PLoS Pathogens is: ', mags_NAR['COST () charged to Wellcome (inc VAT when charged)'].mean())\n",
    "print('The median for PLoS Pathogens is: ', mags_NAR['COST () charged to Wellcome (inc VAT when charged)'].median())\n",
    "print('The standard deviation for PLoS Pathogens is: ', mags_NAR['COST () charged to Wellcome (inc VAT when charged)'].std(),'\\n')\n",
    "\n",
    "\n",
    "\n",
    "\n"
   ]
  },
  {
   "cell_type": "code",
   "execution_count": null,
   "metadata": {},
   "outputs": [],
   "source": []
  }
 ],
 "metadata": {
  "kernelspec": {
   "display_name": "Python 3",
   "language": "python",
   "name": "python3"
  },
  "language_info": {
   "codemirror_mode": {
    "name": "ipython",
    "version": 3
   },
   "file_extension": ".py",
   "mimetype": "text/x-python",
   "name": "python",
   "nbconvert_exporter": "python",
   "pygments_lexer": "ipython3",
   "version": "3.7.2"
  }
 },
 "nbformat": 4,
 "nbformat_minor": 2
}
