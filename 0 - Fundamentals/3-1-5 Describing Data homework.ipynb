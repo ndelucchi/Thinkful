{
 "cells": [
  {
   "cell_type": "code",
   "execution_count": 7,
   "metadata": {},
   "outputs": [],
   "source": [
    "import pandas as pd\n",
    "import numpy as np\n",
    "import statistics as st"
   ]
  },
  {
   "cell_type": "code",
   "execution_count": 11,
   "metadata": {},
   "outputs": [],
   "source": [
    "\"\"\"Creating base dictionary\"\"\"\n",
    "brady_kids = {\n",
    "\t'Greg': 14,\n",
    "\t'Marcia': 12,\n",
    "\t'Peter': 11,\n",
    "\t'Jan': 10,\n",
    "\t'Bobby': 8,\n",
    "\t'Cindy': 6,\n",
    "\t'Oliver': 8,\n",
    "}"
   ]
  },
  {
   "cell_type": "code",
   "execution_count": 12,
   "metadata": {},
   "outputs": [
    {
     "name": "stdout",
     "output_type": "stream",
     "text": [
      "The mean age is 9.857142857142858\n",
      "The median age is 10.0\n",
      "The mode age is 8\n",
      "The variance of their ages is 6.408163265306122\n",
      "The standard deviation of their ages is 2.531435020952764\n",
      "The standard error of thir ages is 0.9567925036515135\n"
     ]
    },
    {
     "data": {
      "text/plain": [
       "'I would choose the median to represent the data as it is resistant to outliers and allows for the audience to understand the general youth of the kids.'"
      ]
     },
     "execution_count": 12,
     "metadata": {},
     "output_type": "execute_result"
    }
   ],
   "source": [
    "ages_list=list(brady_kids.values())\n",
    "print(\"The mean age is\", np.mean(ages_list))\n",
    "print(\"The median age is\", np.median(ages_list))\n",
    "print(\"The mode age is\", st.mode(ages_list))\n",
    "print(\"The variance of their ages is\", np.var(ages_list))\n",
    "print(\"The standard deviation of their ages is\", np.std(ages_list))\n",
    "print(\"The standard error of thir ages is\", np.std(ages_list)/np.sqrt(len(ages_list)))\n",
    "\n",
    "\"\"\"I would choose the median to represent the data as it is resistant to outliers and allows for the audience to understand the general youth of the kids.\"\"\""
   ]
  },
  {
   "cell_type": "code",
   "execution_count": 13,
   "metadata": {},
   "outputs": [
    {
     "name": "stdout",
     "output_type": "stream",
     "text": [
      "The mean age is 10.0\n",
      "The median age is 10.0\n",
      "The mode age is 8\n",
      "The variance of their ages is 5.428571428571429\n",
      "The standard deviation of their ages is 2.32992949004287\n",
      "The standard error of thir ages is 0.8806305718527109\n"
     ]
    },
    {
     "data": {
      "text/plain": [
       "'The mean, variance, standard deviation, and standard error changed.'"
      ]
     },
     "execution_count": 13,
     "metadata": {},
     "output_type": "execute_result"
    }
   ],
   "source": [
    "brady_kids['Cindy'] = 7\n",
    "\n",
    "ages_list=list(brady_kids.values())\n",
    "print(\"The mean age is\", np.mean(ages_list))\n",
    "print(\"The median age is\", np.median(ages_list))\n",
    "print(\"The mode age is\", st.mode(ages_list))\n",
    "print(\"The variance of their ages is\", np.var(ages_list))\n",
    "print(\"The standard deviation of their ages is\", np.std(ages_list))\n",
    "print(\"The standard error of thir ages is\", np.std(ages_list)/np.sqrt(len(ages_list)))\n",
    "\n",
    "\"\"\"The mean, variance, standard deviation, and standard error changed.\"\"\""
   ]
  },
  {
   "cell_type": "code",
   "execution_count": 14,
   "metadata": {},
   "outputs": [
    {
     "name": "stdout",
     "output_type": "stream",
     "text": [
      "The mean age is 9.0\n",
      "The median age is 10.0\n",
      "The variance of their ages is 15.428571428571429\n",
      "The standard deviation of their ages is 3.927922024247863\n",
      "The standard error of thir ages is 1.4846149779161806\n"
     ]
    },
    {
     "data": {
      "text/plain": [
       "'There is no longer a mode with a value higher than 1. The mean has fallen; variance has increased significantly as have the standard deviation, and standard error.'"
      ]
     },
     "execution_count": 14,
     "metadata": {},
     "output_type": "execute_result"
    }
   ],
   "source": [
    "del brady_kids['Oliver']\n",
    "brady_kids[\"Jessica\"] = 1\n",
    "\n",
    "ages_list=list(brady_kids.values())\n",
    "print(\"The mean age is\", np.mean(ages_list))\n",
    "print(\"The median age is\", np.median(ages_list))\n",
    "#print(\"The mode age is\", st.mode(ages_list))\n",
    "print(\"The variance of their ages is\", np.var(ages_list))\n",
    "print(\"The standard deviation of their ages is\", np.std(ages_list))\n",
    "print(\"The standard error of thir ages is\", np.std(ages_list)/np.sqrt(len(ages_list)))\n",
    "\"\"\"There is no longer a mode with a value higher than 1. The mean has fallen; variance has increased significantly as have the standard deviation, and standard error.\"\"\""
   ]
  },
  {
   "cell_type": "code",
   "execution_count": 15,
   "metadata": {},
   "outputs": [
    {
     "name": "stdout",
     "output_type": "stream",
     "text": [
      "I would estimate that the population consisted of 21.5 percent adult American brady bunch fans during their 50th anniversary.\n"
     ]
    }
   ],
   "source": [
    "fans = [20,23,27,5]\n",
    "print(\"I would estimate that the population consisted of\",np.median(fans),\"percent adult American brady bunch fans during their 50th anniversary.\")"
   ]
  },
  {
   "cell_type": "code",
   "execution_count": null,
   "metadata": {},
   "outputs": [],
   "source": []
  }
 ],
 "metadata": {
  "kernelspec": {
   "display_name": "Python 3",
   "language": "python",
   "name": "python3"
  },
  "language_info": {
   "codemirror_mode": {
    "name": "ipython",
    "version": 3
   },
   "file_extension": ".py",
   "mimetype": "text/x-python",
   "name": "python",
   "nbconvert_exporter": "python",
   "pygments_lexer": "ipython3",
   "version": "3.7.0"
  }
 },
 "nbformat": 4,
 "nbformat_minor": 2
}
