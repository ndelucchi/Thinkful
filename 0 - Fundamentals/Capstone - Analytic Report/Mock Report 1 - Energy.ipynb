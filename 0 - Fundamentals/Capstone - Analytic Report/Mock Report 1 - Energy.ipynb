{
 "cells": [
  {
   "cell_type": "code",
   "execution_count": 10,
   "metadata": {},
   "outputs": [],
   "source": [
    "import numpy as np\n",
    "import matplotlib.pyplot as plt\n",
    "import pandas as pd\n",
    "import datetime\n",
    "%matplotlib notebook"
   ]
  },
  {
   "cell_type": "markdown",
   "metadata": {},
   "source": [
    "The question I sought to answer for this report is \"How have the different energy sources trended over the past 50 years in the United States?\"\n",
    "\n",
    "I was able to find utilities firm revenue statistics data from the 2002, 2007, and 2012 United States Economic Census located [here](https://www.census.gov/programs-surveys/economic-census/data/tables.All.html)"
   ]
  },
  {
   "cell_type": "code",
   "execution_count": 4,
   "metadata": {},
   "outputs": [],
   "source": [
    "ecen2002 = pd.read_csv(\"2002 Economic Census of the United states - Utilities- Subject Series - Estab and Firm Size- Revenue Size of Firms for the United States - 2002.csv\",header = [0,1])\n",
    "ecen2007 = pd.read_csv(\"2007 Economic Census of the United states - Utilities- Subject Series - Estab and Firm Size- Revenue Size of Firms for the United States - 2007.csv\",header = [0,1])\n",
    "ecen2012 = pd.read_csv(\"2012 Economic Census of the United states - Utilities- Subject Series - Estab and Firm Size- Revenue Size of Firms for the United States - 2012.csv\",header = [0,1])"
   ]
  },
  {
   "cell_type": "markdown",
   "metadata": {},
   "source": [
    "The data are imported and a header of \\[0,1\\] is noted to include a short description for the header from the data file."
   ]
  },
  {
   "cell_type": "code",
   "execution_count": 5,
   "metadata": {
    "scrolled": true
   },
   "outputs": [],
   "source": [
    "#print(ecen2012.head())\n",
    "#list(ecen2012)\n",
    "#print(ecen2007.dtypes)\n",
    "selection2012 = ecen2012[\"NAICS.id\"].isin([221111,221112,221113,221114,221115,221116,221117,221118])\n",
    "selection2007 = ecen2007[\"NAICS.id\"].isin([221111,221112,221113,221114,221115,221116,221117,221118])\n",
    "selection2002 = ecen2002[\"NAICS.id\"].isin([221111,221112,221113,221114,221115,221116,221117,221118])\n",
    "#print(selection2002[64:89])\n",
    "\n",
    "ecen2012_energies = ecen2012[selection2012[\"2012 NAICS code\"]]\n",
    "ecen2007_energies = ecen2007[selection2007[\"2007 NAICS code\"]]\n",
    "ecen2002_energies = ecen2002[selection2002[\"2002 NAICS code\"]]\n",
    "#print(ecen2002_energies)"
   ]
  },
  {
   "cell_type": "markdown",
   "metadata": {},
   "source": [
    "Here we selected the data where the NAICS ID code matches for electricity generating codes across 8 different sources and generated dataframes where these selections are true."
   ]
  },
  {
   "cell_type": "code",
   "execution_count": 19,
   "metadata": {},
   "outputs": [
    {
     "ename": "TypeError",
     "evalue": "arg must be a list, tuple, 1-d array, or Series",
     "output_type": "error",
     "traceback": [
      "\u001b[0;31m---------------------------------------------------------------------------\u001b[0m",
      "\u001b[0;31mTypeError\u001b[0m                                 Traceback (most recent call last)",
      "\u001b[0;32m<ipython-input-19-083ae115b8dc>\u001b[0m in \u001b[0;36m<module>\u001b[0;34m\u001b[0m\n\u001b[1;32m      3\u001b[0m \u001b[0mecen_energies\u001b[0m \u001b[0;34m=\u001b[0m \u001b[0mecen_energies\u001b[0m\u001b[0;34m.\u001b[0m\u001b[0mreset_index\u001b[0m\u001b[0;34m(\u001b[0m\u001b[0mdrop\u001b[0m\u001b[0;34m=\u001b[0m\u001b[0;32mTrue\u001b[0m\u001b[0;34m)\u001b[0m\u001b[0;34m\u001b[0m\u001b[0m\n\u001b[1;32m      4\u001b[0m \u001b[0mecen_energies\u001b[0m\u001b[0;34m.\u001b[0m\u001b[0mrename\u001b[0m\u001b[0;34m(\u001b[0m\u001b[0mcolumns\u001b[0m\u001b[0;34m=\u001b[0m\u001b[0;34m{\u001b[0m\u001b[0;34m\"NAICS.id\"\u001b[0m\u001b[0;34m:\u001b[0m\u001b[0;34m\"NAICS\"\u001b[0m\u001b[0;34m,\u001b[0m\u001b[0;34m\"NAICS.display-label\"\u001b[0m\u001b[0;34m:\u001b[0m \u001b[0;34m\"NAICS LABEL\"\u001b[0m\u001b[0;34m,\u001b[0m\u001b[0;34m\"YEAR.id\"\u001b[0m\u001b[0;34m:\u001b[0m\u001b[0;34m\"YEAR\"\u001b[0m\u001b[0;34m,\u001b[0m \u001b[0;34m\"RCPSZFF.display-label\"\u001b[0m\u001b[0;34m:\u001b[0m\u001b[0;34m\"GROUPING_LABEL\"\u001b[0m\u001b[0;34m,\u001b[0m \u001b[0;34m\"RCPTOT\"\u001b[0m\u001b[0;34m:\u001b[0m\u001b[0;34m\"REVENUE\"\u001b[0m\u001b[0;34m}\u001b[0m\u001b[0;34m,\u001b[0m\u001b[0minplace\u001b[0m\u001b[0;34m=\u001b[0m\u001b[0;32mTrue\u001b[0m\u001b[0;34m)\u001b[0m\u001b[0;34m\u001b[0m\u001b[0m\n\u001b[0;32m----> 5\u001b[0;31m \u001b[0mpd\u001b[0m\u001b[0;34m.\u001b[0m\u001b[0mto_numeric\u001b[0m\u001b[0;34m(\u001b[0m\u001b[0mecen_energies\u001b[0m\u001b[0;34m[\u001b[0m\u001b[0;34m\"REVENUE\"\u001b[0m\u001b[0;34m]\u001b[0m\u001b[0;34m,\u001b[0m\u001b[0merrors\u001b[0m\u001b[0;34m=\u001b[0m\u001b[0;34m\"coerce\"\u001b[0m\u001b[0;34m)\u001b[0m\u001b[0;34m\u001b[0m\u001b[0m\n\u001b[0m\u001b[1;32m      6\u001b[0m \u001b[0mprint\u001b[0m\u001b[0;34m(\u001b[0m\u001b[0mecen_energies\u001b[0m\u001b[0;34m.\u001b[0m\u001b[0mdtypes\u001b[0m\u001b[0;34m)\u001b[0m\u001b[0;34m\u001b[0m\u001b[0m\n",
      "\u001b[0;32m~/anaconda3/lib/python3.7/site-packages/pandas/core/tools/numeric.py\u001b[0m in \u001b[0;36mto_numeric\u001b[0;34m(arg, errors, downcast)\u001b[0m\n\u001b[1;32m    118\u001b[0m         \u001b[0mvalues\u001b[0m \u001b[0;34m=\u001b[0m \u001b[0mnp\u001b[0m\u001b[0;34m.\u001b[0m\u001b[0marray\u001b[0m\u001b[0;34m(\u001b[0m\u001b[0;34m[\u001b[0m\u001b[0marg\u001b[0m\u001b[0;34m]\u001b[0m\u001b[0;34m,\u001b[0m \u001b[0mdtype\u001b[0m\u001b[0;34m=\u001b[0m\u001b[0;34m'O'\u001b[0m\u001b[0;34m)\u001b[0m\u001b[0;34m\u001b[0m\u001b[0m\n\u001b[1;32m    119\u001b[0m     \u001b[0;32melif\u001b[0m \u001b[0mgetattr\u001b[0m\u001b[0;34m(\u001b[0m\u001b[0marg\u001b[0m\u001b[0;34m,\u001b[0m \u001b[0;34m'ndim'\u001b[0m\u001b[0;34m,\u001b[0m \u001b[0;36m1\u001b[0m\u001b[0;34m)\u001b[0m \u001b[0;34m>\u001b[0m \u001b[0;36m1\u001b[0m\u001b[0;34m:\u001b[0m\u001b[0;34m\u001b[0m\u001b[0m\n\u001b[0;32m--> 120\u001b[0;31m         \u001b[0;32mraise\u001b[0m \u001b[0mTypeError\u001b[0m\u001b[0;34m(\u001b[0m\u001b[0;34m'arg must be a list, tuple, 1-d array, or Series'\u001b[0m\u001b[0;34m)\u001b[0m\u001b[0;34m\u001b[0m\u001b[0m\n\u001b[0m\u001b[1;32m    121\u001b[0m     \u001b[0;32melse\u001b[0m\u001b[0;34m:\u001b[0m\u001b[0;34m\u001b[0m\u001b[0m\n\u001b[1;32m    122\u001b[0m         \u001b[0mvalues\u001b[0m \u001b[0;34m=\u001b[0m \u001b[0marg\u001b[0m\u001b[0;34m\u001b[0m\u001b[0m\n",
      "\u001b[0;31mTypeError\u001b[0m: arg must be a list, tuple, 1-d array, or Series"
     ]
    }
   ],
   "source": [
    "frames = [ecen2012_energies,ecen2007_energies,ecen2002_energies]\n",
    "ecen_energies = pd.concat(frames)\n",
    "ecen_energies = ecen_energies.reset_index(drop=True)\n",
    "ecen_energies.rename(columns={\"NAICS.id\":\"NAICS\",\"NAICS.display-label\": \"NAICS LABEL\",\"YEAR.id\":\"YEAR\", \"RCPSZFF.display-label\":\"GROUPING_LABEL\", \"RCPTOT\":\"REVENUE\"},inplace=True)\n",
    "pd.to_numeric(ecen_energies[\"REVENUE\"],errors=\"coerce\")\n",
    "print(ecen_energies.dtypes)\n"
   ]
  },
  {
   "cell_type": "markdown",
   "metadata": {},
   "source": [
    "The dataframes are concatenated."
   ]
  },
  {
   "cell_type": "code",
   "execution_count": 17,
   "metadata": {},
   "outputs": [
    {
     "name": "stdout",
     "output_type": "stream",
     "text": [
      "  Revenue ($1,000)\n",
      "0          2452297\n",
      "1                D\n",
      "2              884\n",
      "3             1446\n",
      "4             6918\n"
     ]
    }
   ],
   "source": [
    "hydr = ecen_energies[\"NAICS\"]==221111\n",
    "hydro = ecen_energies[(hydr[\"2002 NAICS code\"]) | (hydr[\"2007 NAICS code\"]) | (hydr[\"2012 NAICS code\"])]\n",
    "hydro = hydro.reset_index(drop=True)\n",
    "print(hydro[\"REVENUE\"].head())\n",
    "\n",
    "#plt.figure()\n",
    "#plt.pie(x=hydro[\"YEAR\"],y=hydro[\"REVENUE\"])\n",
    "#plt.show()"
   ]
  },
  {
   "cell_type": "code",
   "execution_count": null,
   "metadata": {},
   "outputs": [],
   "source": []
  },
  {
   "cell_type": "code",
   "execution_count": null,
   "metadata": {},
   "outputs": [],
   "source": []
  }
 ],
 "metadata": {
  "kernelspec": {
   "display_name": "Python 3",
   "language": "python",
   "name": "python3"
  },
  "language_info": {
   "codemirror_mode": {
    "name": "ipython",
    "version": 3
   },
   "file_extension": ".py",
   "mimetype": "text/x-python",
   "name": "python",
   "nbconvert_exporter": "python",
   "pygments_lexer": "ipython3",
   "version": "3.7.0"
  }
 },
 "nbformat": 4,
 "nbformat_minor": 2
}
