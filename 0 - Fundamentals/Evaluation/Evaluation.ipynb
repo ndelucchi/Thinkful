{
 "cells": [
  {
   "cell_type": "code",
   "execution_count": 12,
   "metadata": {},
   "outputs": [],
   "source": [
    "import pandas as pd\n",
    "import numpy as np\n",
    "import statistics as stat\n",
    "import matplotlib.pyplot as plt\n",
    "%matplotlib notebook"
   ]
  },
  {
   "cell_type": "code",
   "execution_count": 31,
   "metadata": {},
   "outputs": [
    {
     "name": "stdout",
     "output_type": "stream",
     "text": [
      "   month hour  year                         location  \\\n",
      "0      1   12  1950              Near Vacas, Bolivia   \n",
      "1      3   20  1950           Minneapolis, Minnesota   \n",
      "2      3   14  1950  Llandow Airport, Cardiff, Wales   \n",
      "3      4   23  1950               Near Atsugi, Japan   \n",
      "4      5   20  1950    Lagens Air Force Base, Azores   \n",
      "\n",
      "                        operator                          route  \\\n",
      "0  Military - Bolivian Air Force      Valle grande - Cochabamba   \n",
      "1      Northwest Orient Airlines  Rochester Minn. - Minneapolis   \n",
      "2                Fairflight Ltd.               Llandow - Dublin   \n",
      "3      Military - U.S. Air Force            Philippines - Japan   \n",
      "4      Military - U.S. Air Force              Bermuda - England   \n",
      "\n",
      "               type  aboard  fatalities  \\\n",
      "0      Douglas C-47      32          32   \n",
      "1        Martin 202      13          13   \n",
      "2  Avro 689 Tudor 5      83          80   \n",
      "3     Douglas C-54D      35          35   \n",
      "4       Boeing B-29      16          16   \n",
      "\n",
      "                                             summary  \n",
      "0  Crashed while en route in the Andes mountains ...  \n",
      "1  Crashed into a flag pole, well marked by red n...  \n",
      "2  During the approach to Runway 28 at Llandow Ai...  \n",
      "3  Flew off its prescribed course and crashed int...  \n",
      "4  Crashed while attempting to land after being d...  \n"
     ]
    }
   ],
   "source": [
    "crash = pd.read_csv(\"plane_crashes_data.csv\")\n",
    "print(crash.head())"
   ]
  },
  {
   "cell_type": "code",
   "execution_count": 30,
   "metadata": {},
   "outputs": [
    {
     "name": "stdout",
     "output_type": "stream",
     "text": [
      "25.816537467700257\n"
     ]
    }
   ],
   "source": [
    "timeframe = crash[(crash[\"year\"]>=1980) | (crash[\"year\"]<=2009)]\n",
    "print(timeframe[\"fatalities\"].mean())"
   ]
  },
  {
   "cell_type": "code",
   "execution_count": 38,
   "metadata": {},
   "outputs": [
    {
     "name": "stdout",
     "output_type": "stream",
     "text": [
      "255\n",
      "209\n",
      "251\n",
      "204\n",
      "181\n",
      "202\n",
      "234\n",
      "239\n",
      "228\n",
      "224\n",
      "230\n",
      "252\n"
     ]
    }
   ],
   "source": [
    "jan = len(crash[crash[\"month\"]==1])\n",
    "feb = len(crash[crash[\"month\"]==2])\n",
    "mar = len(crash[crash[\"month\"]==3])\n",
    "apr = len(crash[crash[\"month\"]==4])\n",
    "may = len(crash[crash[\"month\"]==5])\n",
    "jun = len(crash[crash[\"month\"]==6])\n",
    "jul = len(crash[crash[\"month\"]==7])\n",
    "aug = len(crash[crash[\"month\"]==8])\n",
    "sept = len(crash[crash[\"month\"]==9])\n",
    "oct = len(crash[crash[\"month\"]==10])\n",
    "nov = len(crash[crash[\"month\"]==11])\n",
    "dec = len(crash[crash[\"month\"]==12])\n",
    "\n",
    "print(jan)\n",
    "print(feb)\n",
    "print(mar)\n",
    "print(apr)\n",
    "print(may)\n",
    "print(jun)\n",
    "print(jul)\n",
    "print(aug)\n",
    "print(sept)\n",
    "print(oct)\n",
    "print(nov)\n",
    "print(dec)\n"
   ]
  },
  {
   "cell_type": "code",
   "execution_count": 40,
   "metadata": {},
   "outputs": [
    {
     "name": "stdout",
     "output_type": "stream",
     "text": [
      "583\n"
     ]
    }
   ],
   "source": [
    "print(crash[\"fatalities\"].max())"
   ]
  },
  {
   "cell_type": "code",
   "execution_count": 42,
   "metadata": {},
   "outputs": [
    {
     "name": "stdout",
     "output_type": "stream",
     "text": [
      "98.19121447028424\n"
     ]
    }
   ],
   "source": [
    "a = len(crash)\n",
    "b = len(crash[crash[\"fatalities\"]>=1])\n",
    "print((b/a)*100)"
   ]
  },
  {
   "cell_type": "code",
   "execution_count": 45,
   "metadata": {},
   "outputs": [
    {
     "name": "stdout",
     "output_type": "stream",
     "text": [
      "82.31319223510563\n"
     ]
    }
   ],
   "source": [
    "crash[\"percent_killed\"] = crash[\"fatalities\"]/crash[\"aboard\"]\n",
    "print(crash[\"percent_killed\"].mean()*100)"
   ]
  },
  {
   "cell_type": "code",
   "execution_count": 19,
   "metadata": {},
   "outputs": [
    {
     "name": "stdout",
     "output_type": "stream",
     "text": [
      "46656\n"
     ]
    }
   ],
   "source": [
    "it = (6*6*6*6*6*6)\n",
    "print(it)"
   ]
  },
  {
   "cell_type": "code",
   "execution_count": 21,
   "metadata": {},
   "outputs": [
    {
     "name": "stdout",
     "output_type": "stream",
     "text": [
      "138180000\n"
     ]
    }
   ],
   "source": [
    "it2 = (50)*(49)*(48)*(47)*(25)\n",
    "print(it2)"
   ]
  },
  {
   "cell_type": "code",
   "execution_count": null,
   "metadata": {},
   "outputs": [],
   "source": []
  }
 ],
 "metadata": {
  "kernelspec": {
   "display_name": "Python 3",
   "language": "python",
   "name": "python3"
  },
  "language_info": {
   "codemirror_mode": {
    "name": "ipython",
    "version": 3
   },
   "file_extension": ".py",
   "mimetype": "text/x-python",
   "name": "python",
   "nbconvert_exporter": "python",
   "pygments_lexer": "ipython3",
   "version": "3.7.2"
  }
 },
 "nbformat": 4,
 "nbformat_minor": 2
}
