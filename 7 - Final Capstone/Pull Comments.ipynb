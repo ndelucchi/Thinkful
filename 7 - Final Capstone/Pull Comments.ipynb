{
 "cells": [
  {
   "cell_type": "code",
   "execution_count": 15,
   "metadata": {
    "ExecuteTime": {
     "end_time": "2019-07-16T03:33:47.155089Z",
     "start_time": "2019-07-16T03:33:47.122942Z"
    }
   },
   "outputs": [],
   "source": [
    "import requests\n",
    "import time\n",
    "from selenium import webdriver\n",
    "from selenium.webdriver import Chrome\n",
    "from contextlib import closing\n",
    "from selenium.webdriver.chrome.options import Options\n",
    "from selenium.webdriver.support.ui import WebDriverWait\n",
    "from selenium.webdriver.common.by import By\n",
    "from selenium.webdriver.support import expected_conditions as EC\n",
    "from selenium.webdriver.common.keys import Keys"
   ]
  },
  {
   "cell_type": "code",
   "execution_count": 6,
   "metadata": {
    "ExecuteTime": {
     "end_time": "2019-07-16T03:25:25.587191Z",
     "start_time": "2019-07-16T03:25:25.576127Z"
    }
   },
   "outputs": [],
   "source": [
    "video_id_values = ['5gVMpnisw1s',\n",
    "                     'XL-UAJcjr-s',\n",
    "                     'EcMkqnB7EjU',\n",
    "                     '69u2HlQe80Q',\n",
    "                     'VXvmucR7580',\n",
    "                     '9Foc8JgRdEc',\n",
    "                     'CTfggqW8_Ak',\n",
    "                     'os2AyD_4RjM',\n",
    "                     'OObnylTO8wQ',\n",
    "                     'fQQIOx8yzgM',\n",
    "                     'CQWlCRVNJ3E',\n",
    "                     'C0SLsjNI2eI',\n",
    "                     'NXCFjJ5aaPM',\n",
    "                     'flKO72R7RPw',\n",
    "                     'cN1hO-akbuw',\n",
    "                     'OUAT-Ij6Ep4',\n",
    "                     'GKgpAfUcW90',\n",
    "                     'kNtIrtx1_0Q',\n",
    "                     'aWRVqPN68Ls',\n",
    "                     'GUc-Gc2lCig',\n",
    "                     '9-OB3MuqZLI',\n",
    "                     'JzH-dGWrlcA',\n",
    "                     'j4urGG85Smk',\n",
    "                     '7Hb1T0AdKMY',\n",
    "                     'fLyS7jEaFVU',\n",
    "                     'itKG3LeSzT8',\n",
    "                     '5NIE1R91RHM',\n",
    "                     'SzDaSEb5L4E',\n",
    "                     'IDuSs3D6smE',\n",
    "                     'bQzlYFncjJQ',\n",
    "                     'Udl--rRnDcs',\n",
    "                     'SvQ2XMMfc-8',\n",
    "                     'wH3Skalhepw',\n",
    "                     't0UDi943tA4',\n",
    "                     '3g58hkCsDYw',\n",
    "                     'G0ryfpqk62M',\n",
    "                     'MhY7gZARdLE',\n",
    "                     '5h-mboxpK6s',\n",
    "                     'YZhdUwXWpNc',\n",
    "                     'FeeHgYebfiM',\n",
    "                     'XqJpWCEpyJo',\n",
    "                     'k71PFqmApBA',\n",
    "                     'jXYZyr6VgzM',\n",
    "                     'bF_fqozMbvM',\n",
    "                     'Xvxi-JTy1Sw',\n",
    "                     '7CsjzEmf0Is',\n",
    "                     'zpbTHkqMwb8',\n",
    "                     'NdXdgICrNCc',\n",
    "                     'FSVK3DLkrX0',\n",
    "                     'BJfgcZqy0xY']"
   ]
  },
  {
   "cell_type": "code",
   "execution_count": null,
   "metadata": {},
   "outputs": [],
   "source": [
    "start_time = time.time()\n",
    "\n",
    "newest_comments = []\n",
    "\n",
    "for v in video_id_values:\n",
    "    opts = Options()\n",
    "    opts.headless = True\n",
    "    with closing(Chrome(chrome_options=opts)) as driver:\n",
    "        options = Options()\n",
    "        #options.headless = True\n",
    "        driver = webdriver.Chrome(options=options) #driver = webdriver.Chrome()\n",
    "        driver.maximize_window()\n",
    "        driver.get(f'https://www.youtube.com/watch?v={v}')\n",
    "        wait = WebDriverWait(driver,20)\n",
    "        driver.find_element_by_tag_name('body').send_keys('m')\n",
    "        #down arrows to move down page\n",
    "        wait.until(EC.visibility_of_element_located((By.TAG_NAME, \"body\"))).send_keys(Keys.DOWN)\n",
    "        for i in range(10):\n",
    "            driver.find_element_by_tag_name('body').send_keys(Keys.DOWN)    \n",
    "        #select and click 'sort by' drop down menu\n",
    "        wait.until(EC.visibility_of_element_located((By.XPATH, '//*[@id=\"trigger\"]'))).click()\n",
    "        time.sleep(2)\n",
    "        #select 'Newest Comments' from drop down menu\n",
    "        wait.until(EC.visibility_of_element_located((By.XPATH, '//*[@id=\"menu\"]/a[2]/paper-item/paper-item-body/div[1]'))).click()\n",
    "\n",
    "        for item in range(15): #by increasing the highest range you can get more content \n",
    "                #scroll down the page further\n",
    "                driver.find_element_by_tag_name('body').send_keys(Keys.END)                            \n",
    "                time.sleep(2) #higher means more time to load the page as we scroll\n",
    "\n",
    "        for comment in wait.until(EC.presence_of_all_elements_located((By.CSS_SELECTOR, \"#comment #content-text\"))):\n",
    "                newest_comments.append(comment.text)\n",
    "                #print(comment.text)\n",
    "\n",
    "driver.close()\n",
    "print (\"done!\")\n",
    "print(start_time-time.time(), 'secs')"
   ]
  },
  {
   "cell_type": "code",
   "execution_count": 18,
   "metadata": {
    "ExecuteTime": {
     "end_time": "2019-07-16T03:36:16.344227Z",
     "start_time": "2019-07-16T03:36:16.325926Z"
    }
   },
   "outputs": [
    {
     "data": {
      "text/plain": [
       "278"
      ]
     },
     "execution_count": 18,
     "metadata": {},
     "output_type": "execute_result"
    }
   ],
   "source": [
    "len(newest_comments)"
   ]
  },
  {
   "cell_type": "code",
   "execution_count": null,
   "metadata": {},
   "outputs": [],
   "source": []
  }
 ],
 "metadata": {
  "kernelspec": {
   "display_name": "Python 3",
   "language": "python",
   "name": "python3"
  },
  "language_info": {
   "codemirror_mode": {
    "name": "ipython",
    "version": 3
   },
   "file_extension": ".py",
   "mimetype": "text/x-python",
   "name": "python",
   "nbconvert_exporter": "python",
   "pygments_lexer": "ipython3",
   "version": "3.7.2"
  }
 },
 "nbformat": 4,
 "nbformat_minor": 2
}
