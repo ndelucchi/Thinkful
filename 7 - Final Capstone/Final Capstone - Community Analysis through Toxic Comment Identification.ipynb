{
  "nbformat": 4,
  "nbformat_minor": 0,
  "metadata": {
    "colab": {
      "name": "Final Capstone - Community Analysis through Toxic Comment Identification.ipynb",
      "version": "0.3.2",
      "provenance": [],
      "collapsed_sections": []
    },
    "kernelspec": {
      "name": "python3",
      "display_name": "Python 3"
    },
    "accelerator": "GPU"
  },
  "cells": [
    {
      "cell_type": "markdown",
      "metadata": {
        "id": "DsJeNVJp_9fJ",
        "colab_type": "text"
      },
      "source": [
        "# Community Analysis through Toxic Comment Identification\n",
        "\n",
        "In this project we aim to:\n",
        "* Identify toxic comments with high accuracy\n",
        "* Explore ensemble and tensorflow models\n",
        "* Prepare the final model for production use  \n",
        "* Have fun!\n",
        "\n",
        "The data that we'll be training with was provided by YouTube from [a Kaggle competition they ran in 2018](https://www.kaggle.com/c/jigsaw-toxic-comment-classification-challenge/data).\n",
        "\n",
        "We'll be performing Term Frequency-Inverse Document Frequency analysis on the comments to train our models with. This will represent the comments in a numerical fashion that can be easily and meaningfully understood by the models."
      ]
    },
    {
      "cell_type": "code",
      "metadata": {
        "id": "1tW_ZFKtqRSM",
        "colab_type": "code",
        "colab": {}
      },
      "source": [
        "import pandas as pd\n",
        "import numpy as np\n",
        "import time\n",
        "import pickle\n",
        "import matplotlib.pyplot as plt\n",
        "\n",
        "from imblearn.combine import SMOTETomek\n",
        "from keras.utils import to_categorical\n",
        "from sklearn.preprocessing import normalize\n",
        "from sklearn import neighbors, ensemble, tree,preprocessing\n",
        "from sklearn.pipeline import make_pipeline\n",
        "from sklearn.feature_extraction.text import TfidfVectorizer\n",
        "from sklearn.model_selection import train_test_split, cross_val_score, StratifiedShuffleSplit, RandomizedSearchCV\n",
        "\n",
        "import warnings \n",
        "warnings.simplefilter('ignore')\n",
        "\n",
        "%matplotlib inline"
      ],
      "execution_count": 0,
      "outputs": []
    },
    {
      "cell_type": "code",
      "metadata": {
        "id": "iPKXyYDDrY1p",
        "colab_type": "code",
        "outputId": "a0d23ad1-3801-42c2-e0b3-a8566e48105d",
        "colab": {
          "base_uri": "https://localhost:8080/",
          "height": 122
        }
      },
      "source": [
        "from google.colab import drive\n",
        "drive.mount('/content/drive')"
      ],
      "execution_count": 2,
      "outputs": [
        {
          "output_type": "stream",
          "text": [
            "Go to this URL in a browser: https://accounts.google.com/o/oauth2/auth?client_id=947318989803-6bn6qk8qdgf4n4g3pfee6491hc0brc4i.apps.googleusercontent.com&redirect_uri=urn%3Aietf%3Awg%3Aoauth%3A2.0%3Aoob&scope=email%20https%3A%2F%2Fwww.googleapis.com%2Fauth%2Fdocs.test%20https%3A%2F%2Fwww.googleapis.com%2Fauth%2Fdrive%20https%3A%2F%2Fwww.googleapis.com%2Fauth%2Fdrive.photos.readonly%20https%3A%2F%2Fwww.googleapis.com%2Fauth%2Fpeopleapi.readonly&response_type=code\n",
            "\n",
            "Enter your authorization code:\n",
            "··········\n",
            "Mounted at /content/drive\n"
          ],
          "name": "stdout"
        }
      ]
    },
    {
      "cell_type": "code",
      "metadata": {
        "id": "HzcC62P7rhVQ",
        "colab_type": "code",
        "colab": {}
      },
      "source": [
        "import os\n",
        "os.chdir('/content/drive/My Drive/Colab Notebooks')"
      ],
      "execution_count": 0,
      "outputs": []
    },
    {
      "cell_type": "code",
      "metadata": {
        "id": "_IWa6ocl8fHB",
        "colab_type": "code",
        "outputId": "3b1c5ac7-a3ae-46d1-c578-fbd073d28ef3",
        "colab": {
          "base_uri": "https://localhost:8080/",
          "height": 204
        }
      },
      "source": [
        "#import test.csv\n",
        "toxic = pd.read_csv('train.csv')\n",
        "\n",
        "toxic.head()"
      ],
      "execution_count": 4,
      "outputs": [
        {
          "output_type": "execute_result",
          "data": {
            "text/html": [
              "<div>\n",
              "<style scoped>\n",
              "    .dataframe tbody tr th:only-of-type {\n",
              "        vertical-align: middle;\n",
              "    }\n",
              "\n",
              "    .dataframe tbody tr th {\n",
              "        vertical-align: top;\n",
              "    }\n",
              "\n",
              "    .dataframe thead th {\n",
              "        text-align: right;\n",
              "    }\n",
              "</style>\n",
              "<table border=\"1\" class=\"dataframe\">\n",
              "  <thead>\n",
              "    <tr style=\"text-align: right;\">\n",
              "      <th></th>\n",
              "      <th>id</th>\n",
              "      <th>comment_text</th>\n",
              "      <th>toxic</th>\n",
              "      <th>severe_toxic</th>\n",
              "      <th>obscene</th>\n",
              "      <th>threat</th>\n",
              "      <th>insult</th>\n",
              "      <th>identity_hate</th>\n",
              "    </tr>\n",
              "  </thead>\n",
              "  <tbody>\n",
              "    <tr>\n",
              "      <th>0</th>\n",
              "      <td>0000997932d777bf</td>\n",
              "      <td>Explanation\\nWhy the edits made under my usern...</td>\n",
              "      <td>0</td>\n",
              "      <td>0</td>\n",
              "      <td>0</td>\n",
              "      <td>0</td>\n",
              "      <td>0</td>\n",
              "      <td>0</td>\n",
              "    </tr>\n",
              "    <tr>\n",
              "      <th>1</th>\n",
              "      <td>000103f0d9cfb60f</td>\n",
              "      <td>D'aww! He matches this background colour I'm s...</td>\n",
              "      <td>0</td>\n",
              "      <td>0</td>\n",
              "      <td>0</td>\n",
              "      <td>0</td>\n",
              "      <td>0</td>\n",
              "      <td>0</td>\n",
              "    </tr>\n",
              "    <tr>\n",
              "      <th>2</th>\n",
              "      <td>000113f07ec002fd</td>\n",
              "      <td>Hey man, I'm really not trying to edit war. It...</td>\n",
              "      <td>0</td>\n",
              "      <td>0</td>\n",
              "      <td>0</td>\n",
              "      <td>0</td>\n",
              "      <td>0</td>\n",
              "      <td>0</td>\n",
              "    </tr>\n",
              "    <tr>\n",
              "      <th>3</th>\n",
              "      <td>0001b41b1c6bb37e</td>\n",
              "      <td>\"\\nMore\\nI can't make any real suggestions on ...</td>\n",
              "      <td>0</td>\n",
              "      <td>0</td>\n",
              "      <td>0</td>\n",
              "      <td>0</td>\n",
              "      <td>0</td>\n",
              "      <td>0</td>\n",
              "    </tr>\n",
              "    <tr>\n",
              "      <th>4</th>\n",
              "      <td>0001d958c54c6e35</td>\n",
              "      <td>You, sir, are my hero. Any chance you remember...</td>\n",
              "      <td>0</td>\n",
              "      <td>0</td>\n",
              "      <td>0</td>\n",
              "      <td>0</td>\n",
              "      <td>0</td>\n",
              "      <td>0</td>\n",
              "    </tr>\n",
              "  </tbody>\n",
              "</table>\n",
              "</div>"
            ],
            "text/plain": [
              "                 id  ... identity_hate\n",
              "0  0000997932d777bf  ...             0\n",
              "1  000103f0d9cfb60f  ...             0\n",
              "2  000113f07ec002fd  ...             0\n",
              "3  0001b41b1c6bb37e  ...             0\n",
              "4  0001d958c54c6e35  ...             0\n",
              "\n",
              "[5 rows x 8 columns]"
            ]
          },
          "metadata": {
            "tags": []
          },
          "execution_count": 4
        }
      ]
    },
    {
      "cell_type": "markdown",
      "metadata": {
        "id": "3DcLWFvqy1iJ",
        "colab_type": "text"
      },
      "source": [
        "Looks like there's a few different varieties of toxicity for these comments, where 1 indicates toxic. Let's focus on a boolean of toxic or not, disreguarding subtype. For this we'll need to create a few features:"
      ]
    },
    {
      "cell_type": "code",
      "metadata": {
        "id": "S7IVj6bjyv3Y",
        "colab_type": "code",
        "outputId": "3cc78b18-ff79-4bdb-b44c-33f2dcb41b4f",
        "colab": {
          "base_uri": "https://localhost:8080/",
          "height": 204
        }
      },
      "source": [
        "#feature engineering\n",
        "#total_toxic which is the sum of all toxic subtypes\n",
        "#a comment can have a max value of 6 if it were all tyoes of toxic\n",
        "toxic['toxic_total'] = (toxic['toxic'] + toxic['severe_toxic'] +\n",
        "                        toxic['obscene'] + toxic['threat'] + \n",
        "                        toxic['insult'] + toxic['identity_hate'])\n",
        "\n",
        "#we're interested in a boolean measure of toxicity so any value over 0 becomes 1\n",
        "toxic['toxic_bool'] = np.where(toxic['toxic_total']>0,1,0)\n",
        "\n",
        "toxic.head()"
      ],
      "execution_count": 5,
      "outputs": [
        {
          "output_type": "execute_result",
          "data": {
            "text/html": [
              "<div>\n",
              "<style scoped>\n",
              "    .dataframe tbody tr th:only-of-type {\n",
              "        vertical-align: middle;\n",
              "    }\n",
              "\n",
              "    .dataframe tbody tr th {\n",
              "        vertical-align: top;\n",
              "    }\n",
              "\n",
              "    .dataframe thead th {\n",
              "        text-align: right;\n",
              "    }\n",
              "</style>\n",
              "<table border=\"1\" class=\"dataframe\">\n",
              "  <thead>\n",
              "    <tr style=\"text-align: right;\">\n",
              "      <th></th>\n",
              "      <th>id</th>\n",
              "      <th>comment_text</th>\n",
              "      <th>toxic</th>\n",
              "      <th>severe_toxic</th>\n",
              "      <th>obscene</th>\n",
              "      <th>threat</th>\n",
              "      <th>insult</th>\n",
              "      <th>identity_hate</th>\n",
              "      <th>toxic_total</th>\n",
              "      <th>toxic_bool</th>\n",
              "    </tr>\n",
              "  </thead>\n",
              "  <tbody>\n",
              "    <tr>\n",
              "      <th>0</th>\n",
              "      <td>0000997932d777bf</td>\n",
              "      <td>Explanation\\nWhy the edits made under my usern...</td>\n",
              "      <td>0</td>\n",
              "      <td>0</td>\n",
              "      <td>0</td>\n",
              "      <td>0</td>\n",
              "      <td>0</td>\n",
              "      <td>0</td>\n",
              "      <td>0</td>\n",
              "      <td>0</td>\n",
              "    </tr>\n",
              "    <tr>\n",
              "      <th>1</th>\n",
              "      <td>000103f0d9cfb60f</td>\n",
              "      <td>D'aww! He matches this background colour I'm s...</td>\n",
              "      <td>0</td>\n",
              "      <td>0</td>\n",
              "      <td>0</td>\n",
              "      <td>0</td>\n",
              "      <td>0</td>\n",
              "      <td>0</td>\n",
              "      <td>0</td>\n",
              "      <td>0</td>\n",
              "    </tr>\n",
              "    <tr>\n",
              "      <th>2</th>\n",
              "      <td>000113f07ec002fd</td>\n",
              "      <td>Hey man, I'm really not trying to edit war. It...</td>\n",
              "      <td>0</td>\n",
              "      <td>0</td>\n",
              "      <td>0</td>\n",
              "      <td>0</td>\n",
              "      <td>0</td>\n",
              "      <td>0</td>\n",
              "      <td>0</td>\n",
              "      <td>0</td>\n",
              "    </tr>\n",
              "    <tr>\n",
              "      <th>3</th>\n",
              "      <td>0001b41b1c6bb37e</td>\n",
              "      <td>\"\\nMore\\nI can't make any real suggestions on ...</td>\n",
              "      <td>0</td>\n",
              "      <td>0</td>\n",
              "      <td>0</td>\n",
              "      <td>0</td>\n",
              "      <td>0</td>\n",
              "      <td>0</td>\n",
              "      <td>0</td>\n",
              "      <td>0</td>\n",
              "    </tr>\n",
              "    <tr>\n",
              "      <th>4</th>\n",
              "      <td>0001d958c54c6e35</td>\n",
              "      <td>You, sir, are my hero. Any chance you remember...</td>\n",
              "      <td>0</td>\n",
              "      <td>0</td>\n",
              "      <td>0</td>\n",
              "      <td>0</td>\n",
              "      <td>0</td>\n",
              "      <td>0</td>\n",
              "      <td>0</td>\n",
              "      <td>0</td>\n",
              "    </tr>\n",
              "  </tbody>\n",
              "</table>\n",
              "</div>"
            ],
            "text/plain": [
              "                 id  ... toxic_bool\n",
              "0  0000997932d777bf  ...          0\n",
              "1  000103f0d9cfb60f  ...          0\n",
              "2  000113f07ec002fd  ...          0\n",
              "3  0001b41b1c6bb37e  ...          0\n",
              "4  0001d958c54c6e35  ...          0\n",
              "\n",
              "[5 rows x 10 columns]"
            ]
          },
          "metadata": {
            "tags": []
          },
          "execution_count": 5
        }
      ]
    },
    {
      "cell_type": "code",
      "metadata": {
        "id": "kO7M-qamyqZQ",
        "colab_type": "code",
        "outputId": "b5705b6c-04fb-4506-e898-541523914b5c",
        "colab": {
          "base_uri": "https://localhost:8080/",
          "height": 68
        }
      },
      "source": [
        "toxic['toxic_bool'].value_counts()"
      ],
      "execution_count": 6,
      "outputs": [
        {
          "output_type": "execute_result",
          "data": {
            "text/plain": [
              "0    143346\n",
              "1     16225\n",
              "Name: toxic_bool, dtype: int64"
            ]
          },
          "metadata": {
            "tags": []
          },
          "execution_count": 6
        }
      ]
    },
    {
      "cell_type": "markdown",
      "metadata": {
        "id": "s5DJkOVr5jqU",
        "colab_type": "text"
      },
      "source": [
        "So we see ~10% representation of toxic comments, that's a pretty harsh disparity and we'll address that inequality later to better feed our model. If we left it as is then the model could just predict \"non-toxic\" for all comments and be correct about 90% of the time.\n",
        "\n",
        "\n",
        "Let's take a look at some statistics for comments that we'll be training with!"
      ]
    },
    {
      "cell_type": "code",
      "metadata": {
        "id": "kFGxeOCJHJRO",
        "colab_type": "code",
        "outputId": "aeaa49f7-199a-42b9-c45f-823275b6294c",
        "colab": {
          "base_uri": "https://localhost:8080/",
          "height": 68
        }
      },
      "source": [
        "lens = toxic.comment_text.str.len()\n",
        "print(f'Average Comment Length: {round(lens.mean())}\\nStandard Deviation: {round(lens.std())}\\nMax Comment Length: {round(lens.max())}')"
      ],
      "execution_count": 7,
      "outputs": [
        {
          "output_type": "stream",
          "text": [
            "Average Comment Length: 394\n",
            "Standard Deviation: 591\n",
            "Max Comment Length: 5000\n"
          ],
          "name": "stdout"
        }
      ]
    },
    {
      "cell_type": "markdown",
      "metadata": {
        "id": "-AH0n6cO67Ri",
        "colab_type": "text"
      },
      "source": [
        "Great! Now let's take a look at the distribution of word count:"
      ]
    },
    {
      "cell_type": "code",
      "metadata": {
        "id": "XgXChHoYHOsz",
        "colab_type": "code",
        "outputId": "e1ed8f83-2a9e-4abd-9c36-8547b800587d",
        "colab": {
          "base_uri": "https://localhost:8080/",
          "height": 295
        }
      },
      "source": [
        "lens.hist()\n",
        "plt.title('comment length histogram')\n",
        "plt.xlabel('comment length')\n",
        "plt.ylabel('count')\n",
        "plt.savefig('comment_hist.png')"
      ],
      "execution_count": 23,
      "outputs": [
        {
          "output_type": "display_data",
          "data": {
            "image/png": "[encoded data removed]",
            "text/plain": [
              "<Figure size 432x288 with 1 Axes>"
            ]
          },
          "metadata": {
            "tags": []
          }
        }
      ]
    },
    {
      "cell_type": "markdown",
      "metadata": {
        "id": "qX3kHMLm7fv3",
        "colab_type": "text"
      },
      "source": [
        "Alright, we see a strong right skewed distribution, as we might expect, but at least one person wrote a wopping 5000 word comment!\n",
        "\n",
        "Let's being to prepare out model for TF-IDF analysis! We'll start with a train/test split:"
      ]
    },
    {
      "cell_type": "code",
      "metadata": {
        "id": "ADJLp14G2V8n",
        "colab_type": "code",
        "colab": {}
      },
      "source": [
        "# Define the features and the outcome.\n",
        "X = toxic['comment_text']\n",
        "y = toxic['toxic_bool']\n",
        "\n",
        "X_train, X_test, y_train, y_test = train_test_split(X,\n",
        "                                                    y, \n",
        "                                                    test_size=0.25, \n",
        "                                                    random_state=42,\n",
        "                                                    stratify=y)"
      ],
      "execution_count": 0,
      "outputs": []
    },
    {
      "cell_type": "markdown",
      "metadata": {
        "id": "PrqUFhQK8C4P",
        "colab_type": "text"
      },
      "source": [
        "Next we'll vectorize, reshape, perform TF-IDF,  and normalize  X"
      ]
    },
    {
      "cell_type": "code",
      "metadata": {
        "id": "IRa6k7npq5iS",
        "colab_type": "code",
        "outputId": "416aa72c-0b2b-46f2-c3ec-e1c3bbb81339",
        "colab": {
          "base_uri": "https://localhost:8080/",
          "height": 119
        }
      },
      "source": [
        "start_time = time.time()\n",
        "\n",
        "\n",
        "vectorizer = TfidfVectorizer(max_df=0.5, # drop words that occur in more than half the paragraphs\n",
        "                             min_df=3, # only use words that appear at least three times\n",
        "                             stop_words='english', \n",
        "                             lowercase=True, #convert everything to lower case\n",
        "                             use_idf=True,#we want to use inverse document frequencies in our weighting\n",
        "                             norm=u'l2', #Applies a correction factor so that longer paragraphs and shorter paragraphs get treated equally\n",
        "                             smooth_idf=True #Adds 1 to all document frequencies, as if an extra document existed that used every word once.  Prevents divide-by-zero errors\n",
        "                            )\n",
        "\n",
        "#Applying the vectorizer\n",
        "toxic_tfidf_train = vectorizer.fit_transform(X_train)\n",
        "toxic_tfidf_test = vectorizer.transform(X_test)\n",
        "print(\"vectorizer complete\")\n",
        "\n",
        "#Reshapes the vectorizer output into something people can read\n",
        "X_train_tfidf_csr = toxic_tfidf_train.tocsr()\n",
        "X_test_tfidf_csr = toxic_tfidf_test.tocsr()\n",
        "print('tocsr complete')\n",
        "\n",
        "#number of sentences\n",
        "n = X_train_tfidf_csr.shape[0]\n",
        "#A list of dictionaries, one per sentence\n",
        "tfidf_bysent = [{} for _ in range(0,n)]\n",
        "#List of features\n",
        "terms = vectorizer.get_feature_names()\n",
        "#for each sentence, lists the feature words and their tf-idf scores\n",
        "for i, j in zip(*X_train_tfidf_csr.nonzero()):\n",
        "    tfidf_bysent[i][terms[j]] = X_train_tfidf_csr[i, j]\n",
        "print('tf-idf complete')\n",
        "    \n",
        "# Normalize the data.\n",
        "X_train_norm = normalize(X_train_tfidf_csr)\n",
        "X_test_norm = normalize(X_test_tfidf_csr)\n",
        "print('normalization complete')\n",
        "\n",
        "t= round((time.time() - start_time),4)\n",
        "print(\"\\n -- %s seconds for results--\" % t)"
      ],
      "execution_count": 10,
      "outputs": [
        {
          "output_type": "stream",
          "text": [
            "vectorizer complete\n",
            "tocsr complete\n",
            "tf-idf complete\n",
            "normalization complete\n",
            "\n",
            " -- 49.1252 seconds for results--\n"
          ],
          "name": "stdout"
        }
      ]
    },
    {
      "cell_type": "code",
      "metadata": {
        "id": "nFPCe-0yTx5J",
        "colab_type": "code",
        "outputId": "9613750f-215d-4632-b80a-d759fb048aa2",
        "colab": {
          "base_uri": "https://localhost:8080/",
          "height": 34
        }
      },
      "source": [
        "y_train.shape"
      ],
      "execution_count": 0,
      "outputs": [
        {
          "output_type": "execute_result",
          "data": {
            "text/plain": [
              "(119678,)"
            ]
          },
          "metadata": {
            "tags": []
          },
          "execution_count": 11
        }
      ]
    },
    {
      "cell_type": "code",
      "metadata": {
        "id": "G5xkiD5QBeUR",
        "colab_type": "code",
        "colab": {}
      },
      "source": [
        "#pickle.dump(vectorizer,open('tf_idf_vectorize.sav','wb'))\n",
        "#vectorizer = pickle.load(open('tf_idf_vectorize.sav','rb'))"
      ],
      "execution_count": 0,
      "outputs": []
    },
    {
      "cell_type": "code",
      "metadata": {
        "id": "NsjWqs094WLS",
        "colab_type": "code",
        "colab": {}
      },
      "source": [
        "#X_train_vec = vectorizer.transform(X_train)\n",
        "#X_test_vec = vectorizer.transform(X_test)"
      ],
      "execution_count": 0,
      "outputs": []
    },
    {
      "cell_type": "markdown",
      "metadata": {
        "id": "VnlLHvkz8atB",
        "colab_type": "text"
      },
      "source": [
        "Next we'll address the class imbalance that we noticed earlier. by the end of it, we'll have equal counts non-toxic and toxic to train on. This will provide a better base for training and reduce bias."
      ]
    },
    {
      "cell_type": "code",
      "metadata": {
        "id": "_rI3NV5e9MZJ",
        "colab_type": "code",
        "outputId": "aec86791-e510-41ec-aba1-4a0ec58baaaa",
        "colab": {
          "base_uri": "https://localhost:8080/",
          "height": 51
        }
      },
      "source": [
        "start_time = time.time()\n",
        "\n",
        "smt = SMOTETomek(random_state=42)\n",
        "#class balancing\n",
        "#only perform on the training set, this reduces bias in fitting the model.\n",
        "X_res, y_res = smt.fit_resample(X_train_norm, y_train)\n",
        "\n",
        "t= round((time.time() - start_time),4)\n",
        "print(\"\\n -- %s seconds for results--\" % t)"
      ],
      "execution_count": 0,
      "outputs": [
        {
          "output_type": "stream",
          "text": [
            "\n",
            " -- 1100.5114 seconds for results--\n"
          ],
          "name": "stdout"
        }
      ]
    },
    {
      "cell_type": "code",
      "metadata": {
        "id": "6KZfsSZ5HVyR",
        "colab_type": "code",
        "colab": {}
      },
      "source": [
        "#save transformed and class-balanced training set\n",
        "# file1 = open('X_train_final.pickle','wb')\n",
        "# pickle.dump(X_res,file1)\n",
        "# file1.close()\n",
        "# file2 = open('y_train_pre.pickle','wb')\n",
        "# pickle.dump(y_res,file2)\n",
        "# file2.close()"
      ],
      "execution_count": 0,
      "outputs": []
    },
    {
      "cell_type": "code",
      "metadata": {
        "id": "8XjX4N4dsFXa",
        "colab_type": "code",
        "colab": {}
      },
      "source": [
        "#open saved inputs to save time\n",
        "file3 = open('X_train_final.pickle','rb')\n",
        "X_train_final = pickle.load(file3)\n",
        "file3.close()\n",
        "\n",
        "file4 = open('y_train_pre.pickle','rb')\n",
        "y_train_pre = pickle.load(file4)\n",
        "file4.close()\n"
      ],
      "execution_count": 0,
      "outputs": []
    },
    {
      "cell_type": "code",
      "metadata": {
        "id": "S3_FSSwL84U7",
        "colab_type": "code",
        "outputId": "9ce0c76c-2232-4e52-ffa2-462815fd8f0d",
        "colab": {
          "base_uri": "https://localhost:8080/",
          "height": 51
        }
      },
      "source": [
        "#confirm equal distribution\n",
        "print(f'Length of y_train_pre: {len(y_train_pre)}')\n",
        "print(f'Measure of distribution of y_train_pre: {y_train_pre.mean()}')"
      ],
      "execution_count": 13,
      "outputs": [
        {
          "output_type": "stream",
          "text": [
            "Length of y_train_pre: 214990\n",
            "Measure of distribution of y_train_pre: 0.5\n"
          ],
          "name": "stdout"
        }
      ]
    },
    {
      "cell_type": "code",
      "metadata": {
        "id": "7mW_NSfK9hI5",
        "colab_type": "code",
        "outputId": "643bf801-b375-4850-8505-22905d5414b0",
        "colab": {
          "base_uri": "https://localhost:8080/",
          "height": 34
        }
      },
      "source": [
        "X_train_final.shape"
      ],
      "execution_count": 0,
      "outputs": [
        {
          "output_type": "execute_result",
          "data": {
            "text/plain": [
              "(214990, 44454)"
            ]
          },
          "metadata": {
            "tags": []
          },
          "execution_count": 17
        }
      ]
    },
    {
      "cell_type": "code",
      "metadata": {
        "id": "_4FvRXEOXOBf",
        "colab_type": "code",
        "colab": {}
      },
      "source": [
        "split = StratifiedShuffleSplit(n_splits=3, random_state=1337)"
      ],
      "execution_count": 0,
      "outputs": []
    },
    {
      "cell_type": "code",
      "metadata": {
        "id": "WR-TRUkoqx7E",
        "colab_type": "code",
        "outputId": "e4d5e19e-6202-4cea-a038-72bfc4524d2b",
        "colab": {
          "base_uri": "https://localhost:8080/",
          "height": 153
        }
      },
      "source": [
        "# Spot Check Algorithms\n",
        "start_time = time.time()\n",
        "models = []\n",
        "models.append(('RFC', ensemble.RandomForestClassifier()))\n",
        "models.append(('KNN', neighbors.KNeighborsClassifier()))\n",
        "models.append(('DTC', tree.DecisionTreeClassifier()))\n",
        "models.append(('GBC', ensemble.GradientBoostingClassifier()))\n",
        "models.append(('ABC', ensemble.AdaBoostClassifier()))\n",
        "models.append(('ETC', ensemble.ExtraTreesClassifier()))\n",
        "\n",
        "# evaluate each model in turn\n",
        "results = []\n",
        "names = []\n",
        "for name, model in models:\n",
        "    split = StratifiedShuffleSplit(n_splits=3, random_state=1337)\n",
        "    model = model.fit(X_train_final,y_train_pre)\n",
        "    cv_results = cross_val_score(model, X_test_norm, y_test, cv=split, scoring='accuracy')\n",
        "    results.append(cv_results)\n",
        "    names.append(name)\n",
        "    msg = \"%s: %f (%f)\" % (name, cv_results.mean(), cv_results.std())\n",
        "    print(msg)\n",
        "    \n",
        "t= round((time.time() - start_time),4)\n",
        "print(\"\\n -- %s seconds for results--\" % t) #22min"
      ],
      "execution_count": 0,
      "outputs": [
        {
          "output_type": "stream",
          "text": [
            "RFC: 0.951211 (0.002019)\n",
            "KNN: 0.905597 (0.002282)\n",
            "DTC: 0.941353 (0.003790)\n",
            "GBC: 0.939683 (0.001764)\n",
            "ABC: 0.947368 (0.002865)\n",
            "ETC: 0.952381 (0.002813)\n",
            "\n",
            " -- 1319.1425 seconds for results--\n"
          ],
          "name": "stdout"
        }
      ]
    },
    {
      "cell_type": "markdown",
      "metadata": {
        "id": "w5DCr2dvhbb0",
        "colab_type": "text"
      },
      "source": [
        "Wow, great! each of the models performed quite well but ExtraTreesClassifier just barely edges out RandomForestClassifier as the top performer without any hyper praramter tuning."
      ]
    },
    {
      "cell_type": "code",
      "metadata": {
        "id": "pUQNB1WMYQ1S",
        "colab_type": "code",
        "outputId": "13aa0c11-a831-43a4-f5a2-726ce922f42f",
        "colab": {
          "base_uri": "https://localhost:8080/",
          "height": 68
        }
      },
      "source": [
        "start_time = time.time()\n",
        "\n",
        "ETC = ensemble.ExtraTreesClassifier()\n",
        "ETC.fit(X_train_final,y_train_pre)\n",
        "cv_results = cross_val_score(ETC, \n",
        "                             X_test_norm, \n",
        "                             y_test, \n",
        "                             cv=split,\n",
        "                             scoring='accuracy')\n",
        "\n",
        "\n",
        "print(f'ETC test score: {cv_results.mean()}, STD: {cv_results.std()}')\n",
        "\n",
        "t= round((time.time() - start_time),4)\n",
        "print(\"\\n -- %s seconds for results--\" % t)"
      ],
      "execution_count": 0,
      "outputs": [
        {
          "output_type": "stream",
          "text": [
            "ETC test score: 0.9543024227234754, STD: 0.00031258624785076005\n",
            "\n",
            " -- 255.4806 seconds for results--\n"
          ],
          "name": "stdout"
        }
      ]
    },
    {
      "cell_type": "code",
      "metadata": {
        "id": "X3krj0BW8nyp",
        "colab_type": "code",
        "colab": {}
      },
      "source": [
        "#pickle the ExtraTreesClassifier to get it production ready\n",
        "file = open('toxic_ETC.sav','wb')\n",
        "pickle.dump(ETC,file)\n",
        "file.close()"
      ],
      "execution_count": 0,
      "outputs": []
    },
    {
      "cell_type": "markdown",
      "metadata": {
        "id": "VL8BreFn74IB",
        "colab_type": "text"
      },
      "source": [
        "Great, we have a well-performing model and we've saved it for production use. Let's compare it's performance to a Tensorflow/Keras model!"
      ]
    },
    {
      "cell_type": "code",
      "metadata": {
        "id": "rBr06qCrUtek",
        "colab_type": "code",
        "outputId": "67376455-9c77-491c-9e1c-a8ea737dfd78",
        "colab": {
          "base_uri": "https://localhost:8080/",
          "height": 34
        }
      },
      "source": [
        "# Convert y to categorical to make compatible with keras model\n",
        "y_train_final = to_categorical(y_train_pre)\n",
        "y_test_final = to_categorical(y_test)\n",
        "print('to_categorical complete')"
      ],
      "execution_count": 14,
      "outputs": [
        {
          "output_type": "stream",
          "text": [
            "to_categorical complete\n"
          ],
          "name": "stdout"
        }
      ]
    },
    {
      "cell_type": "code",
      "metadata": {
        "id": "Y-v8xS36S1VW",
        "colab_type": "code",
        "colab": {}
      },
      "source": [
        "import tensorflow as tf\n",
        "import keras\n",
        "\n",
        "# Import various componenets for model building\n",
        "from keras.models import Sequential\n",
        "from keras.layers import Dense\n",
        "from keras.models import Model"
      ],
      "execution_count": 0,
      "outputs": []
    },
    {
      "cell_type": "code",
      "metadata": {
        "id": "FOnQLOJpOo2Y",
        "colab_type": "code",
        "outputId": "c8f5cc3b-b5d1-45b7-a217-89b7fa5dd2e8",
        "colab": {
          "base_uri": "https://localhost:8080/",
          "height": 411
        }
      },
      "source": [
        "# Initialize the constructor\n",
        "model = Sequential()\n",
        "\n",
        "# Add an input layer \n",
        "model.add(Dense(100, activation='relu', input_dim= X_train_final.shape[1] ))\n",
        "\n",
        "# Add a hidden layer \n",
        "model.add(Dense(100, activation='relu'))\n",
        "\n",
        "# Add a hidden layer \n",
        "model.add(Dense(100, activation='relu'))\n",
        "\n",
        "# Add an output layer \n",
        "model.add(Dense(2, activation='softmax'))\n",
        "\n",
        "model.summary()"
      ],
      "execution_count": 16,
      "outputs": [
        {
          "output_type": "stream",
          "text": [
            "WARNING: Logging before flag parsing goes to stderr.\n",
            "W0725 03:10:49.708691 139674263910272 deprecation_wrapper.py:119] From /usr/local/lib/python3.6/dist-packages/keras/backend/tensorflow_backend.py:74: The name tf.get_default_graph is deprecated. Please use tf.compat.v1.get_default_graph instead.\n",
            "\n",
            "W0725 03:10:49.748089 139674263910272 deprecation_wrapper.py:119] From /usr/local/lib/python3.6/dist-packages/keras/backend/tensorflow_backend.py:517: The name tf.placeholder is deprecated. Please use tf.compat.v1.placeholder instead.\n",
            "\n",
            "W0725 03:10:49.756081 139674263910272 deprecation_wrapper.py:119] From /usr/local/lib/python3.6/dist-packages/keras/backend/tensorflow_backend.py:4138: The name tf.random_uniform is deprecated. Please use tf.random.uniform instead.\n",
            "\n"
          ],
          "name": "stderr"
        },
        {
          "output_type": "stream",
          "text": [
            "_________________________________________________________________\n",
            "Layer (type)                 Output Shape              Param #   \n",
            "=================================================================\n",
            "dense_1 (Dense)              (None, 100)               4445500   \n",
            "_________________________________________________________________\n",
            "dense_2 (Dense)              (None, 100)               10100     \n",
            "_________________________________________________________________\n",
            "dense_3 (Dense)              (None, 100)               10100     \n",
            "_________________________________________________________________\n",
            "dense_4 (Dense)              (None, 2)                 202       \n",
            "=================================================================\n",
            "Total params: 4,465,902\n",
            "Trainable params: 4,465,902\n",
            "Non-trainable params: 0\n",
            "_________________________________________________________________\n"
          ],
          "name": "stdout"
        }
      ]
    },
    {
      "cell_type": "code",
      "metadata": {
        "id": "qw9Hqq7sTAuW",
        "colab_type": "code",
        "outputId": "cc79ea34-faf8-4e1f-db2c-987a05a6c9af",
        "colab": {
          "base_uri": "https://localhost:8080/",
          "height": 343
        }
      },
      "source": [
        "model.compile(loss='categorical_crossentropy',\n",
        "              optimizer='adam',\n",
        "              metrics=['accuracy'])\n",
        "                   \n",
        "model.fit(X_train_final, y_train_final, epochs=3, batch_size=512, verbose=1, validation_data=(X_test_norm, y_test_final))\n",
        "score = model.evaluate(X_test_norm, y_test_final, verbose=0)\n",
        "print('Test loss:', score[0])\n",
        "print('Test accuracy:', score[1])"
      ],
      "execution_count": 17,
      "outputs": [
        {
          "output_type": "stream",
          "text": [
            "W0725 03:11:10.542508 139674263910272 deprecation_wrapper.py:119] From /usr/local/lib/python3.6/dist-packages/keras/optimizers.py:790: The name tf.train.Optimizer is deprecated. Please use tf.compat.v1.train.Optimizer instead.\n",
            "\n",
            "W0725 03:11:10.579689 139674263910272 deprecation_wrapper.py:119] From /usr/local/lib/python3.6/dist-packages/keras/backend/tensorflow_backend.py:3295: The name tf.log is deprecated. Please use tf.math.log instead.\n",
            "\n",
            "W0725 03:11:10.695898 139674263910272 deprecation.py:323] From /usr/local/lib/python3.6/dist-packages/tensorflow/python/ops/math_grad.py:1250: add_dispatch_support.<locals>.wrapper (from tensorflow.python.ops.array_ops) is deprecated and will be removed in a future version.\n",
            "Instructions for updating:\n",
            "Use tf.where in 2.0, which has the same broadcast rule as np.where\n",
            "W0725 03:11:10.751858 139674263910272 deprecation_wrapper.py:119] From /usr/local/lib/python3.6/dist-packages/keras/backend/tensorflow_backend.py:986: The name tf.assign_add is deprecated. Please use tf.compat.v1.assign_add instead.\n",
            "\n"
          ],
          "name": "stderr"
        },
        {
          "output_type": "stream",
          "text": [
            "Train on 214990 samples, validate on 39893 samples\n",
            "Epoch 1/3\n",
            "214990/214990 [==============================] - 59s 274us/step - loss: 0.1523 - acc: 0.9474 - val_loss: 0.2111 - val_acc: 0.9491\n",
            "Epoch 2/3\n",
            "214990/214990 [==============================] - 54s 253us/step - loss: 0.0194 - acc: 0.9946 - val_loss: 0.2536 - val_acc: 0.9500\n",
            "Epoch 3/3\n",
            "214990/214990 [==============================] - 54s 253us/step - loss: 0.0071 - acc: 0.9982 - val_loss: 0.2810 - val_acc: 0.9514\n",
            "Test loss: 0.2809800424388192\n",
            "Test accuracy: 0.9514200486360619\n"
          ],
          "name": "stdout"
        }
      ]
    },
    {
      "cell_type": "markdown",
      "metadata": {
        "id": "GbRH7wDyjkrP",
        "colab_type": "text"
      },
      "source": [
        "Great, using 'relu' activation yielded some pretty great results. I tested out numerous combinations of other activation functions but none yielded better results, measuring 0.93 and lower."
      ]
    },
    {
      "cell_type": "code",
      "metadata": {
        "id": "xOkgVk8HTAi3",
        "colab_type": "code",
        "colab": {}
      },
      "source": [
        "file = open('tensorflow.sav','wb')\n",
        "pickle.dump(model,file)\n",
        "file.close()"
      ],
      "execution_count": 0,
      "outputs": []
    },
    {
      "cell_type": "markdown",
      "metadata": {
        "id": "eCVn0xuy8U5d",
        "colab_type": "text"
      },
      "source": [
        "Now we pickle the trained model to use to predict whether or not a comment is toxic. Then we'll average the result for each comment across the videos of a channel to get an overall representation of the toxicity of the community."
      ]
    },
    {
      "cell_type": "markdown",
      "metadata": {
        "id": "0Mfip8WmJf7U",
        "colab_type": "text"
      },
      "source": [
        "# Conclusion\n",
        "\n",
        "The ensemble method ExtraTreesClassifier and a Mean-Squared Error Tensorflow/Keras model performed quite well but ultimately the ensemble model ExtraTreesClassifier just barely performed the better so we'll go ahead and use a pickled version of that model going forward to analyze the youtube comments that we'll collect. \n",
        "\n",
        "## Obstacles\n",
        "I thought that my biggest problem in this project would be the size of the data but it actually was determining the appropriate order of each step to get it to. I'm sure it seems obvious now in hindsight.\n",
        "\n",
        "Another obstacle we encountered was significantly poorer performance of the model before class balancing was performed on the toxic boolean feature, where the minority represented only about 10% of the total inputs.\n",
        "\n",
        "## The Future\n",
        "One of the drawbacks with working with something that has such varied user input is that eventually the corpus will be a little out of date, missing relevant terms (i.e. slang, etc) that will come into use. Of course, a large amount of the provided corpus will remain relevant so overall model performance shouldn't dip too significantly. But when the day comes to re-fit the model, it could be quite taxing to label a brand new set of a few hundred thousand comments as various kinds of toxic.\n",
        "\n",
        "## Applying the model to a non-training dataset\n",
        "Please select the file titled \"Application of Toxic-Community Model\" to see the applicaiton of the model generated in this project"
      ]
    },
    {
      "cell_type": "code",
      "metadata": {
        "id": "tU1ibQEAR1b6",
        "colab_type": "code",
        "colab": {}
      },
      "source": [
        ""
      ],
      "execution_count": 0,
      "outputs": []
    }
  ]
}