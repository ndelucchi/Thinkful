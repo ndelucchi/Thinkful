{
 "cells": [
  {
   "cell_type": "markdown",
   "metadata": {},
   "source": [
    "Pick one of the company data files and build your own classifier. When you're satisfied with its performance (at this point just using the accuracy measure shown in the example), test it on one of the other datasets to see how well these kinds of classifiers translate from one context to another.\n",
    "\n",
    "Include your model and a brief writeup of your feature engineering and selection process to submit and review with your mentor."
   ]
  },
  {
   "cell_type": "code",
   "execution_count": 143,
   "metadata": {},
   "outputs": [],
   "source": [
    "%matplotlib inline\n",
    "import numpy as np\n",
    "import pandas as pd\n",
    "import scipy\n",
    "import sklearn\n",
    "import matplotlib.pyplot as plt\n",
    "import seaborn as sns"
   ]
  },
  {
   "cell_type": "code",
   "execution_count": 148,
   "metadata": {},
   "outputs": [
    {
     "name": "stdout",
     "output_type": "stream",
     "text": [
      "                                               message  sentiment\n",
      "0                             Wow... Loved this place.          1\n",
      "1                                   Crust is not good.          0\n",
      "2            Not tasty and the texture was just nasty.          0\n",
      "3    Stopped by during the late May bank holiday of...          1\n",
      "4    The selection on the menu was great and so wer...          1\n",
      "5       Now I am getting angry and I want my damn pho.          0\n",
      "6                Honeslty it didn't taste THAT fresh.)          0\n",
      "7    The potatoes were like rubber and you could te...          0\n",
      "8                            The fries were great too.          1\n",
      "9                                       A great touch.          1\n",
      "10                            Service was very prompt.          1\n",
      "11                                  Would not go back.          0\n",
      "12   The cashier had no care what so ever on what I...          0\n",
      "13   I tried the Cape Cod ravoli, chicken,with cran...          1\n",
      "14   I was disgusted because I was pretty sure that...          0\n",
      "15   I was shocked because no signs indicate cash o...          0\n",
      "16                                 Highly recommended.          1\n",
      "17              Waitress was a little slow in service.          0\n",
      "18   This place is not worth your time, let alone V...          0\n",
      "19                                did not like at all.          0\n",
      "20                                 The Burrittos Blah!          0\n",
      "21                                  The food, amazing.          1\n",
      "22                               Service is also cute.          1\n",
      "23   I could care less... The interior is just beau...          1\n",
      "24                                  So they performed.          1\n",
      "25   That's right....the red velvet cake.....ohhh t...          1\n",
      "26          - They never brought a salad we asked for.          0\n",
      "27   This hole in the wall has great Mexican street...          1\n",
      "28   Took an hour to get our food only 4 tables in ...          0\n",
      "29                   The worst was the salmon sashimi.          0\n",
      "..                                                 ...        ...\n",
      "970  I immediately said I wanted to talk to the man...          0\n",
      "971                    The ambiance isn't much better.          0\n",
      "972  Unfortunately, it only set us up for disapppoi...          0\n",
      "973                              The food wasn't good.          0\n",
      "974  Your servers suck, wait, correction, our serve...          0\n",
      "975      What happened next was pretty....off putting.          0\n",
      "976  too bad cause I know it's family owned, I real...          0\n",
      "977               Overpriced for what you are getting.          0\n",
      "978               I vomited in the bathroom mid lunch.          0\n",
      "979  I kept looking at the time and it had soon bec...          0\n",
      "980  I have been to very few places to eat that und...          0\n",
      "981  We started with the tuna sashimi which was bro...          0\n",
      "982                            Food was below average.          0\n",
      "983  It sure does beat the nachos at the movies but...          0\n",
      "984       All in all, Ha Long Bay was a bit of a flop.          0\n",
      "985  The problem I have is that they charge $11.99 ...          0\n",
      "986  Shrimp- When I unwrapped it (I live only 1/2 a...          0\n",
      "987     It lacked flavor, seemed undercooked, and dry.          0\n",
      "988  It really is impressive that the place hasn't ...          0\n",
      "989  I would avoid this place if you are staying in...          0\n",
      "990  The refried beans that came with my meal were ...          0\n",
      "991         Spend your money and time some place else.          0\n",
      "992  A lady at the table next to us found a live gr...          0\n",
      "993            the presentation of the food was awful.          0\n",
      "994           I can't tell you how disappointed I was.          0\n",
      "995  I think food should have flavor and texture an...          0\n",
      "996                           Appetite instantly gone.          0\n",
      "997  Overall I was not impressed and would not go b...          0\n",
      "998  The whole experience was underwhelming, and I ...          0\n",
      "999  Then, as if I hadn't wasted enough of my life ...          0\n",
      "\n",
      "[1000 rows x 2 columns]\n"
     ]
    }
   ],
   "source": [
    "#data import\n",
    "yelp = pd.read_csv('yelp_labelled.txt', sep=\"\\t\", header=None)\n",
    "\n",
    "yelp.columns = ['message','sentiment']\n",
    "print(yelp)"
   ]
  },
  {
   "cell_type": "code",
   "execution_count": 149,
   "metadata": {},
   "outputs": [],
   "source": [
    "pos_keywords = ['loved', 'great', 'delicious', \n",
    "                'beautiful', 'fresh', 'perfect',\n",
    "                'good', 'visit', 'quick',\n",
    "                 'affordable', 'wonderful', 'very']\n",
    "\n",
    "neg_keywords = ['bad', 'terrible', 'ignored', \n",
    "                'wrong', 'cold', \n",
    "                'dry', 'slow', 'pricey']\n",
    "\n",
    "for key in pos_keywords:\n",
    "    # Note that we add spaces around the key so that we're getting the word,\n",
    "    # not just pattern matching.\n",
    "    yelp[str(key)] = yelp.message.str.contains(\n",
    "        ' ' + str(key) + ' ',\n",
    "        case=False\n",
    "    )\n",
    "#yelp['allcaps'] = yelp.message.str.isupper()"
   ]
  },
  {
   "cell_type": "code",
   "execution_count": 150,
   "metadata": {},
   "outputs": [],
   "source": [
    "yelp_pos = yelp[yelp['sentiment'] == 1]\n",
    "yelp_neg = yelp[yelp['sentiment'] == 0]"
   ]
  },
  {
   "cell_type": "code",
   "execution_count": 151,
   "metadata": {
    "scrolled": false
   },
   "outputs": [
    {
     "data": {
      "text/plain": [
       "<matplotlib.axes._subplots.AxesSubplot at 0x1a2ec01cc0>"
      ]
     },
     "execution_count": 151,
     "metadata": {},
     "output_type": "execute_result"
    },
    {
     "data": {
      "image/png": "[encoded data removed]",
      "text/plain": [
       "<Figure size 1008x720 with 2 Axes>"
      ]
     },
     "metadata": {
      "needs_background": "light"
     },
     "output_type": "display_data"
    }
   ],
   "source": [
    "plt.figure(figsize=(14,10))\n",
    "sns.heatmap(yelp.corr())\n",
    "#print(yelp.head())"
   ]
  },
  {
   "cell_type": "code",
   "execution_count": 153,
   "metadata": {},
   "outputs": [],
   "source": [
    "data = yelp[pos_keywords]\n",
    "target = yelp['sentiment']"
   ]
  },
  {
   "cell_type": "code",
   "execution_count": 155,
   "metadata": {},
   "outputs": [
    {
     "name": "stdout",
     "output_type": "stream",
     "text": [
      "Number of mislabeled points out of a total 1000 points : 387\n",
      "Accuracy of this model: 77.4%\n"
     ]
    }
   ],
   "source": [
    "# Our data is binary / boolean, so we're importing the Bernoulli classifier.\n",
    "from sklearn.naive_bayes import BernoulliNB\n",
    "\n",
    "# Instantiate our model and store it in a new variable.\n",
    "bnb = BernoulliNB()\n",
    "\n",
    "# Fit our model to the data.\n",
    "bnb.fit(data, target)\n",
    "\n",
    "# Classify, storing the result in a new variable.\n",
    "y_pred = bnb.predict(data)\n",
    "\n",
    "# Display our results.\n",
    "print(\"Number of mislabeled points out of a total {} points : {}\".format(\n",
    "    data.shape[0],\n",
    "    (target != y_pred).sum()\n",
    "))\n",
    "accuracy = (target != y_pred).sum()/(data.shape[0]/2)*100\n",
    "print(\"Accuracy of this model: {}%\".format(round(accuracy,1)))"
   ]
  },
  {
   "cell_type": "code",
   "execution_count": null,
   "metadata": {},
   "outputs": [],
   "source": []
  }
 ],
 "metadata": {
  "kernelspec": {
   "display_name": "Python 3",
   "language": "python",
   "name": "python3"
  },
  "language_info": {
   "codemirror_mode": {
    "name": "ipython",
    "version": 3
   },
   "file_extension": ".py",
   "mimetype": "text/x-python",
   "name": "python",
   "nbconvert_exporter": "python",
   "pygments_lexer": "ipython3",
   "version": "3.7.2"
  }
 },
 "nbformat": 4,
 "nbformat_minor": 2
}
