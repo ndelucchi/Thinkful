{
 "cells": [
  {
   "cell_type": "markdown",
   "metadata": {},
   "source": [
    "# An Analysis of Poets through an exploration of supervised and unsupervised techniques\n",
    "\n",
    "## Project Objectives\n",
    "* Utilize clustering with NLP\n",
    "* Create a satifactory model for poet identification from their work\n",
    "* Practice NLP techniques\n",
    "* Have fun!"
   ]
  },
  {
   "cell_type": "code",
   "execution_count": 2,
   "metadata": {},
   "outputs": [],
   "source": [
    "import time\n",
    "import pandas as pd\n",
    "import numpy as np\n",
    "import spacy\n",
    "import nltk\n",
    "from nltk.corpus import gutenberg\n",
    "import re\n",
    "import matplotlib.pyplot as plt\n",
    "from collections import Counter\n",
    "from sklearn.cluster import KMeans, MiniBatchKMeans, MeanShift, estimate_bandwidth, SpectralClustering\n",
    "from sklearn.metrics import silhouette_score\n",
    "from sklearn.decomposition import PCA\n",
    "from sklearn.preprocessing import normalize\n",
    "from sklearn.mixture import GaussianMixture\n",
    "from sklearn import neighbors, ensemble,tree\n",
    "from sklearn.svm import SVC\n",
    "from sklearn.linear_model import LogisticRegression\n",
    "from nltk.corpus.reader.plaintext import PlaintextCorpusReader\n",
    "from sklearn.discriminant_analysis import QuadraticDiscriminantAnalysis\n",
    "from sklearn.naive_bayes import BernoulliNB, GaussianNB\n",
    "from sklearn.feature_extraction.text import TfidfVectorizer\n",
    "from sklearn.model_selection import train_test_split, cross_val_score, StratifiedShuffleSplit\n",
    "\n",
    "import warnings \n",
    "warnings.simplefilter('ignore')"
   ]
  },
  {
   "cell_type": "markdown",
   "metadata": {},
   "source": [
    "# Bag of Words - Data Preparation"
   ]
  },
  {
   "cell_type": "code",
   "execution_count": 51,
   "metadata": {},
   "outputs": [],
   "source": [
    "# Utility function for standard text cleaning.\n",
    "def text_cleaner(text):\n",
    "    # Visual inspection identifies a form of punctuation spaCy does not\n",
    "    # recognize: the double dash '--'.  Better get rid of it now!\n",
    "    text = re.sub(r'--',' ',text)\n",
    "    text = re.sub(\"[\\[].*?[\\]]\", \"\", text)\n",
    "    text = ' '.join(text.split())\n",
    "    return text\n",
    "    \n",
    "# Load and clean the data.\n",
    "leaves = gutenberg.raw('whitman-leaves.txt')\n",
    "paradise = gutenberg.raw('milton-paradise.txt')\n",
    "blake = gutenberg.raw('blake-poems.txt')\n",
    "hiawatha = open(\"The Song Of Hiawatha, by Henry W. Longfellow.txt\")\n",
    "hiawatha = hiawatha.read()\n",
    "endymion = open(\"Endymion, by John Keats.txt\")\n",
    "endymion = endymion.read()\n",
    "odyssey = open(\"The Odyssey by Homer.txt\")\n",
    "odyssey = odyssey.read()\n",
    "burns = open(\"The Complete Works of Robert Burns.txt\")\n",
    "burns = burns.read()\n",
    "sea = open(\"Sea Garden by Hilda Doolittle.txt\")\n",
    "sea = sea.read()\n",
    "beowulf = open(\"Beowulf by Leslie Hall.txt\")\n",
    "beowulf = beowulf.read()\n",
    "sappho = open(\"Sappho- One Hundred Lyrics by Bliss Carman.txt\")\n",
    "sappho = sappho.read()\n",
    "\n",
    "\n",
    "# unique cleaning\n",
    "paradise = re.sub(r'Book \\D{1,3}', '', paradise)\n",
    "endymion = re.sub(r'BOOK \\D{1,3}', '', endymion)\n",
    "odyssey = re.sub(r'BOOK \\D{1,3}', '', odyssey)\n",
    "odyssey = re.sub(r'ARGUMENT', '', odyssey)\n",
    "blake = re.sub(r\"[A-Z]+\\b\",\"\",blake)\n",
    "blake = re.sub(r\"and   of\",\"\",blake)\n",
    "beowulf = re.sub(r\"^[A-Z]+\\b.\",\"\",beowulf)\n",
    "beowulf = re.sub(r\"(\\s*[A-Z])*\\s*[A-Z]\\.\",\"\",beowulf)\n",
    "sea = re.sub(r\"(\\s*[A-Z])*\\s*[A-Z]\\b\",\"\",sea)\n",
    "burns = re.sub(r\"(\\s*[A-Z])*\\s*[A-Z]\\.\", \"\",burns)\n",
    "sappho = re.sub(r\"I\", \"\",sappho)\n",
    "\n",
    "\n",
    "paradise = text_cleaner(paradise[:int(len(paradise)/100)])\n",
    "blake = text_cleaner(blake[:int(len(blake)/7)])\n",
    "leaves = text_cleaner(leaves[:int(len(leaves)/150)])\n",
    "hiawatha = text_cleaner(hiawatha[:int(len(hiawatha)/22)])\n",
    "endymion = text_cleaner(endymion[:int(len(endymion)/18)])\n",
    "odyssey = text_cleaner(odyssey[:int(len(odyssey)/150)])\n",
    "burns = text_cleaner(burns[:int(len(burns)/350)])\n",
    "sea = text_cleaner(sea[:int(len(sea)/6)])\n",
    "beowulf = text_cleaner(beowulf[:int(len(beowulf)/50)])\n",
    "sappho = text_cleaner(sappho[:int(len(sappho)/10)])"
   ]
  },
  {
   "cell_type": "markdown",
   "metadata": {},
   "source": [
    "Imported and cleaned text to make it suitable for Bag of Words analysis"
   ]
  },
  {
   "cell_type": "code",
   "execution_count": 52,
   "metadata": {},
   "outputs": [],
   "source": [
    "# Parse the cleaned novels.\n",
    "nlp = spacy.load('en')\n",
    "paradise_doc = nlp(paradise)\n",
    "blake_doc = nlp(blake)\n",
    "leaves_doc = nlp(leaves)\n",
    "hiawatha_doc = nlp(hiawatha)\n",
    "endymion_doc = nlp(endymion)\n",
    "odyssey_doc = nlp(odyssey)\n",
    "burns_doc = nlp(burns)\n",
    "sea_doc = nlp(sea)\n",
    "beowulf_doc = nlp(beowulf)\n",
    "sappho_doc = nlp(sappho)\n"
   ]
  },
  {
   "cell_type": "markdown",
   "metadata": {},
   "source": [
    "Parsed the texts using Spacy to allow token manipulation and analysis"
   ]
  },
  {
   "cell_type": "code",
   "execution_count": 53,
   "metadata": {},
   "outputs": [
    {
     "data": {
      "text/html": [
       "<div>\n",
       "<style scoped>\n",
       "    .dataframe tbody tr th:only-of-type {\n",
       "        vertical-align: middle;\n",
       "    }\n",
       "\n",
       "    .dataframe tbody tr th {\n",
       "        vertical-align: top;\n",
       "    }\n",
       "\n",
       "    .dataframe thead th {\n",
       "        text-align: right;\n",
       "    }\n",
       "</style>\n",
       "<table border=\"1\" class=\"dataframe\">\n",
       "  <thead>\n",
       "    <tr style=\"text-align: right;\">\n",
       "      <th></th>\n",
       "      <th>0</th>\n",
       "      <th>1</th>\n",
       "    </tr>\n",
       "  </thead>\n",
       "  <tbody>\n",
       "    <tr>\n",
       "      <th>0</th>\n",
       "      <td>(Of, Man, 's, first, disobedience, ,, and, the...</td>\n",
       "      <td>Milton</td>\n",
       "    </tr>\n",
       "    <tr>\n",
       "      <th>1</th>\n",
       "      <td>(And, chiefly, thou, ,, O, Spirit, ,, that, do...</td>\n",
       "      <td>Milton</td>\n",
       "    </tr>\n",
       "    <tr>\n",
       "      <th>2</th>\n",
       "      <td>(Say, first, for, Heaven, hides, nothing, from...</td>\n",
       "      <td>Milton</td>\n",
       "    </tr>\n",
       "    <tr>\n",
       "      <th>3</th>\n",
       "      <td>(Who, first, seduced, them, to, that, foul, re...</td>\n",
       "      <td>Milton</td>\n",
       "    </tr>\n",
       "    <tr>\n",
       "      <th>4</th>\n",
       "      <td>(Th, ', infernal, Serpent, ;, he, it, was, who...</td>\n",
       "      <td>Milton</td>\n",
       "    </tr>\n",
       "  </tbody>\n",
       "</table>\n",
       "</div>"
      ],
      "text/plain": [
       "                                                   0       1\n",
       "0  (Of, Man, 's, first, disobedience, ,, and, the...  Milton\n",
       "1  (And, chiefly, thou, ,, O, Spirit, ,, that, do...  Milton\n",
       "2  (Say, first, for, Heaven, hides, nothing, from...  Milton\n",
       "3  (Who, first, seduced, them, to, that, foul, re...  Milton\n",
       "4  (Th, ', infernal, Serpent, ;, he, it, was, who...  Milton"
      ]
     },
     "execution_count": 53,
     "metadata": {},
     "output_type": "execute_result"
    }
   ],
   "source": [
    "# Group into sentences.\n",
    "paradise_sents = [[sent, \"Milton\"] for sent in paradise_doc.sents]\n",
    "blake_sents = [[sent, \"Blake\"] for sent in blake_doc.sents]\n",
    "leaves_sents = [[sent, \"Whitman\"] for sent in leaves_doc.sents]\n",
    "hiawatha_sents = [[sent, \"Longfellow\"] for sent in hiawatha_doc.sents]\n",
    "endymion_sents = [[sent, \"Keats\"] for sent in endymion_doc.sents]\n",
    "odyssey_sents = [[sent, \"Homer\"] for sent in odyssey_doc.sents]\n",
    "burns_sents = [[sent, \"Burns\"] for sent in burns_doc.sents]\n",
    "sea_sents = [[sent, \"Doolittle\"] for sent in sea_doc.sents]\n",
    "beowulf_sents = [[sent, \"Beowulf\"] for sent in beowulf_doc.sents]\n",
    "sappho_sents = [[sent, \"Sappho\"] for sent in sappho_doc.sents]\n",
    "\n",
    "# Combine the sentences from the two novels into one data frame.\n",
    "sentences = pd.DataFrame(paradise_sents + blake_sents + \n",
    "                         leaves_sents + hiawatha_sents + \n",
    "                         endymion_sents + odyssey_sents +\n",
    "                         burns_sents[:350] + sea_sents +\n",
    "                         beowulf_sents + sappho_sents)\n",
    "sentences.head()"
   ]
  },
  {
   "cell_type": "markdown",
   "metadata": {},
   "source": [
    "Created a dataframe with the sentences and label them with their author."
   ]
  },
  {
   "cell_type": "code",
   "execution_count": 54,
   "metadata": {},
   "outputs": [],
   "source": [
    "# Utility function to create a list of the 3000 most common words.\n",
    "def bag_of_words(text):\n",
    "    \n",
    "    # Filter out punctuation and stop words.\n",
    "    allwords = [token.lemma_\n",
    "                for token in text\n",
    "                if not token.is_punct\n",
    "                and not token.is_stop]\n",
    "    \n",
    "    # Return the most common words.\n",
    "    return [item[0] for item in Counter(allwords).most_common(4000)]\n",
    "\n",
    "# Creates a data frame with features for each word in our common word set.\n",
    "# Each value is the count of the times the word appears in each sentence.\n",
    "def bow_features(sentences, common_words):\n",
    "    \n",
    "    # Scaffold the data frame and initialize counts to zero.\n",
    "    df = pd.DataFrame(columns=common_words)\n",
    "    df['text_sentence'] = sentences[0]\n",
    "    df['text_source'] = sentences[1]\n",
    "    df.loc[:, common_words] = 0\n",
    "    \n",
    "    # Process each row, counting the occurrence of words in each sentence.\n",
    "    for i, sentence in enumerate(df['text_sentence']):\n",
    "        \n",
    "        # Convert the sentence to lemmas, then filter out punctuation,\n",
    "        # stop words, and uncommon words.\n",
    "        words = [token.lemma_\n",
    "                 for token in sentence\n",
    "                 if (\n",
    "                     not token.is_punct\n",
    "                     and not token.is_stop\n",
    "                     and token.lemma_ in common_words\n",
    "                 )]\n",
    "        \n",
    "        # Populate the row with word counts.\n",
    "        for word in words:\n",
    "            df.loc[i, word] += 1\n",
    "        \n",
    "        # This counter is just to make sure the kernel didn't hang.\n",
    "        if i % 50 == 0:\n",
    "            print(\"Processing row {}\".format(i))\n",
    "            \n",
    "    return df\n",
    "\n",
    "# Set up the bags.\n",
    "blakewords = bag_of_words(blake_doc)\n",
    "paradisewords = bag_of_words(paradise_doc)\n",
    "leaveswords = bag_of_words(leaves_doc)\n",
    "hiawathawords = bag_of_words(hiawatha_doc)\n",
    "endymionwords = bag_of_words(endymion_doc)\n",
    "odysseywords = bag_of_words(odyssey_doc)\n",
    "burnswords = bag_of_words(burns_doc)\n",
    "seawords = bag_of_words(sea_doc)\n",
    "beowulfwords = bag_of_words(beowulf_doc)\n",
    "sapphowords = bag_of_words(sappho_doc)\n",
    "\n",
    "# Combine bags to create a set of unique words.\n",
    "common_words = set(blakewords + paradisewords + \n",
    "                   leaveswords + hiawathawords + \n",
    "                   endymionwords + odysseywords +\n",
    "                   burnswords + seawords +\n",
    "                   beowulfwords +sapphowords)"
   ]
  },
  {
   "cell_type": "markdown",
   "metadata": {},
   "source": [
    "Defined bag of words and bag of words features to create a set of unique words."
   ]
  },
  {
   "cell_type": "code",
   "execution_count": 55,
   "metadata": {},
   "outputs": [
    {
     "name": "stdout",
     "output_type": "stream",
     "text": [
      "Processing...\n",
      "Processing row 0\n",
      "Processing row 50\n",
      "Processing row 100\n",
      "Processing row 150\n",
      "Processing row 200\n",
      "Processing row 250\n",
      "Processing row 300\n",
      "Processing row 350\n",
      "Processing row 400\n",
      "Processing row 450\n",
      "Processing row 500\n",
      "\n",
      " -- 231.1509 seconds --\n",
      "\n"
     ]
    },
    {
     "data": {
      "text/html": [
       "<div>\n",
       "<style scoped>\n",
       "    .dataframe tbody tr th:only-of-type {\n",
       "        vertical-align: middle;\n",
       "    }\n",
       "\n",
       "    .dataframe tbody tr th {\n",
       "        vertical-align: top;\n",
       "    }\n",
       "\n",
       "    .dataframe thead th {\n",
       "        text-align: right;\n",
       "    }\n",
       "</style>\n",
       "<table border=\"1\" class=\"dataframe\">\n",
       "  <thead>\n",
       "    <tr style=\"text-align: right;\">\n",
       "      <th></th>\n",
       "      <th>verse</th>\n",
       "      <th>person</th>\n",
       "      <th>silly</th>\n",
       "      <th>lange</th>\n",
       "      <th>erstwhile</th>\n",
       "      <th>tamely</th>\n",
       "      <th>cloot</th>\n",
       "      <th>wild</th>\n",
       "      <th>adopt</th>\n",
       "      <th>wat</th>\n",
       "      <th>...</th>\n",
       "      <th>omahas</th>\n",
       "      <th>darkening</th>\n",
       "      <th>silvery</th>\n",
       "      <th>ivy</th>\n",
       "      <th>hitch</th>\n",
       "      <th>cam</th>\n",
       "      <th>dank</th>\n",
       "      <th>trumpet</th>\n",
       "      <th>text_sentence</th>\n",
       "      <th>text_source</th>\n",
       "    </tr>\n",
       "  </thead>\n",
       "  <tbody>\n",
       "    <tr>\n",
       "      <th>0</th>\n",
       "      <td>0</td>\n",
       "      <td>0</td>\n",
       "      <td>0</td>\n",
       "      <td>0</td>\n",
       "      <td>0</td>\n",
       "      <td>0</td>\n",
       "      <td>0</td>\n",
       "      <td>0</td>\n",
       "      <td>0</td>\n",
       "      <td>0</td>\n",
       "      <td>...</td>\n",
       "      <td>0</td>\n",
       "      <td>0</td>\n",
       "      <td>0</td>\n",
       "      <td>0</td>\n",
       "      <td>0</td>\n",
       "      <td>0</td>\n",
       "      <td>0</td>\n",
       "      <td>0</td>\n",
       "      <td>(Of, Man, 's, first, disobedience, ,, and, the...</td>\n",
       "      <td>Milton</td>\n",
       "    </tr>\n",
       "    <tr>\n",
       "      <th>1</th>\n",
       "      <td>0</td>\n",
       "      <td>0</td>\n",
       "      <td>0</td>\n",
       "      <td>0</td>\n",
       "      <td>0</td>\n",
       "      <td>0</td>\n",
       "      <td>0</td>\n",
       "      <td>0</td>\n",
       "      <td>0</td>\n",
       "      <td>0</td>\n",
       "      <td>...</td>\n",
       "      <td>0</td>\n",
       "      <td>0</td>\n",
       "      <td>0</td>\n",
       "      <td>0</td>\n",
       "      <td>0</td>\n",
       "      <td>0</td>\n",
       "      <td>0</td>\n",
       "      <td>0</td>\n",
       "      <td>(And, chiefly, thou, ,, O, Spirit, ,, that, do...</td>\n",
       "      <td>Milton</td>\n",
       "    </tr>\n",
       "    <tr>\n",
       "      <th>2</th>\n",
       "      <td>0</td>\n",
       "      <td>0</td>\n",
       "      <td>0</td>\n",
       "      <td>0</td>\n",
       "      <td>0</td>\n",
       "      <td>0</td>\n",
       "      <td>0</td>\n",
       "      <td>0</td>\n",
       "      <td>0</td>\n",
       "      <td>0</td>\n",
       "      <td>...</td>\n",
       "      <td>0</td>\n",
       "      <td>0</td>\n",
       "      <td>0</td>\n",
       "      <td>0</td>\n",
       "      <td>0</td>\n",
       "      <td>0</td>\n",
       "      <td>0</td>\n",
       "      <td>0</td>\n",
       "      <td>(Say, first, for, Heaven, hides, nothing, from...</td>\n",
       "      <td>Milton</td>\n",
       "    </tr>\n",
       "    <tr>\n",
       "      <th>3</th>\n",
       "      <td>0</td>\n",
       "      <td>0</td>\n",
       "      <td>0</td>\n",
       "      <td>0</td>\n",
       "      <td>0</td>\n",
       "      <td>0</td>\n",
       "      <td>0</td>\n",
       "      <td>0</td>\n",
       "      <td>0</td>\n",
       "      <td>0</td>\n",
       "      <td>...</td>\n",
       "      <td>0</td>\n",
       "      <td>0</td>\n",
       "      <td>0</td>\n",
       "      <td>0</td>\n",
       "      <td>0</td>\n",
       "      <td>0</td>\n",
       "      <td>0</td>\n",
       "      <td>0</td>\n",
       "      <td>(Who, first, seduced, them, to, that, foul, re...</td>\n",
       "      <td>Milton</td>\n",
       "    </tr>\n",
       "    <tr>\n",
       "      <th>4</th>\n",
       "      <td>0</td>\n",
       "      <td>0</td>\n",
       "      <td>0</td>\n",
       "      <td>0</td>\n",
       "      <td>0</td>\n",
       "      <td>0</td>\n",
       "      <td>0</td>\n",
       "      <td>0</td>\n",
       "      <td>0</td>\n",
       "      <td>0</td>\n",
       "      <td>...</td>\n",
       "      <td>0</td>\n",
       "      <td>0</td>\n",
       "      <td>0</td>\n",
       "      <td>0</td>\n",
       "      <td>0</td>\n",
       "      <td>0</td>\n",
       "      <td>0</td>\n",
       "      <td>0</td>\n",
       "      <td>(Th, ', infernal, Serpent, ;, he, it, was, who...</td>\n",
       "      <td>Milton</td>\n",
       "    </tr>\n",
       "  </tbody>\n",
       "</table>\n",
       "<p>5 rows × 2375 columns</p>\n",
       "</div>"
      ],
      "text/plain": [
       "  verse person silly lange erstwhile tamely cloot wild adopt wat     ...      \\\n",
       "0     0      0     0     0         0      0     0    0     0   0     ...       \n",
       "1     0      0     0     0         0      0     0    0     0   0     ...       \n",
       "2     0      0     0     0         0      0     0    0     0   0     ...       \n",
       "3     0      0     0     0         0      0     0    0     0   0     ...       \n",
       "4     0      0     0     0         0      0     0    0     0   0     ...       \n",
       "\n",
       "  omahas darkening silvery ivy hitch cam dank trumpet  \\\n",
       "0      0         0       0   0     0   0    0       0   \n",
       "1      0         0       0   0     0   0    0       0   \n",
       "2      0         0       0   0     0   0    0       0   \n",
       "3      0         0       0   0     0   0    0       0   \n",
       "4      0         0       0   0     0   0    0       0   \n",
       "\n",
       "                                       text_sentence text_source  \n",
       "0  (Of, Man, 's, first, disobedience, ,, and, the...      Milton  \n",
       "1  (And, chiefly, thou, ,, O, Spirit, ,, that, do...      Milton  \n",
       "2  (Say, first, for, Heaven, hides, nothing, from...      Milton  \n",
       "3  (Who, first, seduced, them, to, that, foul, re...      Milton  \n",
       "4  (Th, ', infernal, Serpent, ;, he, it, was, who...      Milton  \n",
       "\n",
       "[5 rows x 2375 columns]"
      ]
     },
     "execution_count": 55,
     "metadata": {},
     "output_type": "execute_result"
    }
   ],
   "source": [
    "# Create our data frame with features. This can take a while to run.\n",
    "start_time = time.time()\n",
    "print('Processing...')\n",
    "\n",
    "word_counts = bow_features(sentences, common_words)\n",
    "\n",
    "t= round((time.time() - start_time),4)\n",
    "print(\"\\n -- %s seconds --\\n\" % t)\n",
    "\n",
    "word_counts.head()"
   ]
  },
  {
   "cell_type": "markdown",
   "metadata": {},
   "source": [
    "Applied the bag of words features to create a dataframe of count of each word."
   ]
  },
  {
   "cell_type": "code",
   "execution_count": 56,
   "metadata": {},
   "outputs": [],
   "source": [
    "# Define the features and the outcome.\n",
    "bow_y = word_counts['text_source']\n",
    "bow_X = np.array(word_counts.drop(['text_sentence','text_source'],axis= 1))\n",
    "\n",
    "# Normalize the data.\n",
    "bow_X_norm = normalize(bow_X)\n",
    "\n",
    "# Reduce it to two components.\n",
    "bow_X_pca = PCA(2).fit_transform(bow_X_norm)\n"
   ]
  },
  {
   "cell_type": "markdown",
   "metadata": {},
   "source": [
    "Set X and y variables, then normalized and performed PCA on X so that clustering would actually be achievable with computational limitations.  Using the first two components of PCA provides us with a vast majority of the data of the 2000+ features we have, to make modelling more computationally reasonable."
   ]
  },
  {
   "cell_type": "markdown",
   "metadata": {},
   "source": [
    "# Bag Of Words - Clustering"
   ]
  },
  {
   "cell_type": "code",
   "execution_count": 57,
   "metadata": {
    "scrolled": false
   },
   "outputs": [
    {
     "data": {
      "image/png": "[encoded data removed]",
      "text/plain": [
       "<Figure size 432x288 with 1 Axes>"
      ]
     },
     "metadata": {
      "needs_background": "light"
     },
     "output_type": "display_data"
    },
    {
     "name": "stdout",
     "output_type": "stream",
     "text": [
      "Comparing k-means clusters against the data:\n",
      "text_source  Beowulf  Blake  Burns  Doolittle  Homer  Keats  Longfellow  \\\n",
      "row_0                                                                     \n",
      "0                 37     22     31         20     27     26          19   \n",
      "1                  3      2      4          7      4      6           1   \n",
      "2                  2      9      1          1      3      9           6   \n",
      "3                  0      3      0          0      0      3           0   \n",
      "4                  1      1      5          1      3      2           4   \n",
      "5                  0      6      3          0      1      0           3   \n",
      "6                  2      0      8          4      4      5           3   \n",
      "7                  1      2      2          0      1      0           1   \n",
      "8                  1      4      0          0      1      2           3   \n",
      "9                 11     10      5          4     10     15          10   \n",
      "\n",
      "text_source  Milton  Sappho  Whitman  \n",
      "row_0                                 \n",
      "0                11      39       16  \n",
      "1                 0       1        6  \n",
      "2                 4       9        2  \n",
      "3                 0       1        1  \n",
      "4                 0       0        6  \n",
      "5                 0       2        0  \n",
      "6                 4       0        5  \n",
      "7                 0       0        0  \n",
      "8                 2       1        1  \n",
      "9                 3       9        5  \n",
      "--- 244.01831078529358 seconds for model fit ---\n",
      "\n",
      "Silhoette Score: 0.5061787118436026\n"
     ]
    }
   ],
   "source": [
    "#KMeans Clustering\n",
    "kmeans = KMeans(n_clusters=10, random_state=42)\n",
    "kmeans = kmeans.fit(bow_X_pca)\n",
    "y_pred = kmeans.predict(bow_X_pca)\n",
    "\n",
    "# Plot the solution.\n",
    "plt.scatter(bow_X_pca[:, 0], bow_X_pca[:, 1], c=y_pred, alpha = 0.5)\n",
    "plt.show()\n",
    "\n",
    "# Check the solution against the data.\n",
    "print('Comparing k-means clusters against the data:')\n",
    "print(pd.crosstab(y_pred, bow_y))\n",
    "\n",
    "print(\"--- %s seconds for model fit ---\" % (time.time() - start_time))\n",
    "\n",
    "print('\\nSilhoette Score:', silhouette_score(bow_X_pca, y_pred))"
   ]
  },
  {
   "cell_type": "markdown",
   "metadata": {},
   "source": [
    "KMeans clustering achieved a decent silhoette score, let's see how other clustering agorithms perform."
   ]
  },
  {
   "cell_type": "code",
   "execution_count": 59,
   "metadata": {
    "scrolled": false
   },
   "outputs": [
    {
     "name": "stdout",
     "output_type": "stream",
     "text": [
      "Comparing k-means and mini batch k-means solutions:\n",
      "col_0    0   1   2  3   4   5   6  7  8   9\n",
      "row_0                                      \n",
      "0        0   0   0  0   0   0   0  0  0  62\n",
      "1        0   0   0  0   0  15   0  0  0   0\n",
      "2        1   0   0  0   0   0  10  0  6   0\n",
      "3        0   0   0  1  23   0   0  7  0   0\n",
      "4        0   0   0  7   0   0   0  0  8   0\n",
      "5        0  34   0  0   0   0  25  0  1   0\n",
      "6      135   0   0  0   0   0   0  0  0   0\n",
      "7       32   0   0  0   0   0   0  0  0   0\n",
      "8       80   0   0  0   0   0   0  0  0  20\n",
      "9        0   0  46  0   0   0   0  0  0   0\n",
      "\n",
      "Silhoette Score: 0.40341300812743813\n"
     ]
    }
   ],
   "source": [
    "#MiniBatch KMeans Clustering\n",
    "# Each batch will be made up of 200 data points.\n",
    "minibatchkmeans = MiniBatchKMeans(\n",
    "    init='random',\n",
    "    n_clusters=10,\n",
    "    batch_size=200)\n",
    "minibatchkmeans.fit(bow_X_pca)\n",
    "\n",
    "# Add the new predicted cluster memberships to the data frame.\n",
    "predict_mini = minibatchkmeans.predict(bow_X_pca)\n",
    "\n",
    "# Check the MiniBatch model against our earlier one.\n",
    "print('Comparing k-means and mini batch k-means solutions:')\n",
    "print(pd.crosstab(predict_mini, y_pred))\n",
    "\n",
    "print('\\nSilhoette Score:',silhouette_score(bow_X_pca, predict_mini))"
   ]
  },
  {
   "cell_type": "markdown",
   "metadata": {},
   "source": [
    "MiniBatchKMeans performs a little worse, which is to be expected since it's running off less data than KMeans"
   ]
  },
  {
   "cell_type": "code",
   "execution_count": 60,
   "metadata": {
    "scrolled": false
   },
   "outputs": [
    {
     "name": "stdout",
     "output_type": "stream",
     "text": [
      "Number of estimated clusters: 10\n"
     ]
    },
    {
     "data": {
      "image/png": "[encoded data removed]",
      "text/plain": [
       "<Figure size 432x288 with 1 Axes>"
      ]
     },
     "metadata": {
      "needs_background": "light"
     },
     "output_type": "display_data"
    },
    {
     "name": "stdout",
     "output_type": "stream",
     "text": [
      "Comparing the assigned categories to the ones in the data:\n",
      "text_source   0   1   2   3   4   5   6   7   8   9\n",
      "row_0                                              \n",
      "0            11  22  16  19  26  27  31  20  37  39\n",
      "1             0   2   6   1   6   4   4   7   3   1\n",
      "2             4   9   2   6   9   3   1   1   2   9\n",
      "3             0   3   1   0   3   0   0   0   0   1\n",
      "4             0   1   6   4   2   3   5   1   1   0\n",
      "5             0   6   0   3   0   1   3   0   0   2\n",
      "6             4   0   5   3   5   4   8   4   2   0\n",
      "7             0   2   0   1   0   1   2   0   1   0\n",
      "8             2   4   1   3   2   1   0   0   1   1\n",
      "9             3  10   5  10  15  10   5   4  11   9\n"
     ]
    }
   ],
   "source": [
    "#MeanShift Clustering\n",
    "# Here we set the bandwidth. This function automatically derives a bandwidth\n",
    "# number based on an inspection of the distances among points in the data.\n",
    "bandwidth = estimate_bandwidth(bow_X_pca, quantile=0.2, n_samples=500)\n",
    "\n",
    "# Declare and fit the model.\n",
    "MS = MeanShift(bandwidth=bandwidth, bin_seeding=True)\n",
    "MS.fit(bow_X_pca)\n",
    "\n",
    "predict_means = MS.predict(bow_X_pca)\n",
    "\n",
    "# Coordinates of the cluster centers.\n",
    "cluster_centers = MS.cluster_centers_\n",
    "\n",
    "# Count our clusters.\n",
    "n_clusters_ = len(np.unique(labels))\n",
    "\n",
    "print(\"Number of estimated clusters: {}\".format(n_clusters_))\n",
    "\n",
    "plt.scatter(bow_X_pca[:, 0], bow_X_pca[:, 1], c=labels, alpha=0.5)\n",
    "plt.show()\n",
    "\n",
    "print('Comparing the assigned categories to the ones in the data:')\n",
    "print(pd.crosstab(y_pred,labels))\n",
    "\n",
    "#silhouette_score(X_pca, predict_means)"
   ]
  },
  {
   "cell_type": "markdown",
   "metadata": {},
   "source": [
    "The MeanShift model predicted all of the same class and therefore could not generate a silhoette score with a class size of 1."
   ]
  },
  {
   "cell_type": "code",
   "execution_count": 61,
   "metadata": {},
   "outputs": [
    {
     "data": {
      "image/png": "[encoded data removed]",
      "text/plain": [
       "<Figure size 432x288 with 1 Axes>"
      ]
     },
     "metadata": {
      "needs_background": "light"
     },
     "output_type": "display_data"
    },
    {
     "name": "stdout",
     "output_type": "stream",
     "text": [
      "Comparing the assigned categories to the ones in the data:\n",
      "col_0    0   1   2  3  4  5   6  7  8  9\n",
      "row_0                                   \n",
      "0      247   0   0  0  0  0   0  1  0  0\n",
      "1        0  34   0  0  0  0   0  0  0  0\n",
      "2        0   0  46  0  0  0   0  0  0  0\n",
      "3        0   0   0  0  8  0   0  0  0  0\n",
      "4        0  23   0  0  0  0   0  0  0  0\n",
      "5        0   0   1  0  0  0  14  0  0  0\n",
      "6        0  34   0  0  0  0   0  0  0  1\n",
      "7        0   0   0  7  0  0   0  0  0  0\n",
      "8        0   2   5  0  8  0   0  0  0  0\n",
      "9       78   0   2  0  0  1   0  0  1  0\n",
      "\n",
      "Silhoette Score: 0.29321325437046153\n"
     ]
    }
   ],
   "source": [
    "#Spectral Clustering\n",
    "# We know we're looking for 10 clusters.\n",
    "n_clusters = len(np.unique(labels))\n",
    "\n",
    "# Declare and fit the model.\n",
    "sc = SpectralClustering(n_clusters=n_clusters)\n",
    "sc.fit(bow_X_pca)\n",
    "\n",
    "#Predicted clusters.\n",
    "predict_sc=sc.fit_predict(bow_X_pca)\n",
    "\n",
    "#Graph results.\n",
    "plt.scatter(bow_X_pca[:, 0], bow_X_pca[:, 1], c=labels, alpha=0.5)\n",
    "plt.show()\n",
    "\n",
    "print('Comparing the assigned categories to the ones in the data:')\n",
    "print(pd.crosstab(y_pred,predict_sc))\n",
    "\n",
    "print('\\nSilhoette Score:',silhouette_score(bow_X_pca, predict_sc))"
   ]
  },
  {
   "cell_type": "markdown",
   "metadata": {},
   "source": [
    "Spectral Clustering performs worse than KMeans."
   ]
  },
  {
   "cell_type": "markdown",
   "metadata": {},
   "source": [
    "# Bag Of Words - Modelling"
   ]
  },
  {
   "cell_type": "code",
   "execution_count": 63,
   "metadata": {},
   "outputs": [],
   "source": [
    "from sklearn import ensemble\n",
    "from sklearn.model_selection import train_test_split\n",
    "\n",
    "y = word_counts['text_source']\n",
    "X = np.array(word_counts.drop(['text_sentence','text_source'], 1))\n",
    "\n",
    "X_train, X_test, y_train, y_test = train_test_split(X, \n",
    "                                                    y,\n",
    "                                                    test_size=0.25,\n",
    "                                                    stratify = y,\n",
    "                                                    random_state=0)\n",
    "\n",
    "split = StratifiedShuffleSplit(n_splits=5, random_state=1337)"
   ]
  },
  {
   "cell_type": "code",
   "execution_count": 64,
   "metadata": {},
   "outputs": [
    {
     "name": "stdout",
     "output_type": "stream",
     "text": [
      "NBB: 0.192308 (0.070920)\n",
      "RFC: 0.253846 (0.097604)\n",
      "KNN: 0.146154 (0.053846)\n",
      "DTC: 0.176923 (0.060079)\n",
      "GNB: 0.392308 (0.087368)\n",
      "SVC: 0.153846 (0.000000)\n",
      "GBC: 0.269231 (0.062017)\n",
      "ABC: 0.153846 (0.034401)\n",
      "ETC: 0.307692 (0.137604)\n",
      "QDA: 0.069231 (0.053846)\n"
     ]
    }
   ],
   "source": [
    "# Spot Check Algorithms\n",
    "models = []\n",
    "models.append(('NBB', BernoulliNB()))\n",
    "models.append(('RFC', ensemble.RandomForestClassifier()))\n",
    "models.append(('KNN', neighbors.KNeighborsClassifier()))\n",
    "models.append(('DTC', tree.DecisionTreeClassifier()))\n",
    "models.append(('GNB', GaussianNB()))\n",
    "models.append(('SVC', SVC()))\n",
    "models.append(('GBC', ensemble.GradientBoostingClassifier()))\n",
    "models.append(('ABC', ensemble.AdaBoostClassifier()))\n",
    "models.append(('ETC', ensemble.ExtraTreesClassifier()))\n",
    "models.append(('QDA', QuadraticDiscriminantAnalysis()))\n",
    "#models.append(('GMM', GaussianMixture()))\n",
    "\n",
    "# evaluate each model in turn\n",
    "results = []\n",
    "names = []\n",
    "for name, model in models:\n",
    "    split = StratifiedShuffleSplit(n_splits=10, random_state=1337)\n",
    "    model = model.fit(X_train,y_train)\n",
    "    cv_results = cross_val_score(model, X_test, y_test, cv=split, scoring='accuracy')\n",
    "    results.append(cv_results)\n",
    "    names.append(name)\n",
    "    msg = \"%s: %f (%f)\" % (name, cv_results.mean(), cv_results.std())\n",
    "    print(msg)"
   ]
  },
  {
   "cell_type": "markdown",
   "metadata": {},
   "source": [
    "We see somewhat poor performance with no model performing better than KMeans clustering for poet identification."
   ]
  },
  {
   "cell_type": "code",
   "execution_count": 65,
   "metadata": {},
   "outputs": [
    {
     "name": "stdout",
     "output_type": "stream",
     "text": [
      "\n",
      "Cross Validation:\n",
      "    0.28 (+/- 0.06)\n",
      "[0.30769231 0.30769231 0.30769231 0.30769231 0.15384615]\n"
     ]
    }
   ],
   "source": [
    "rfc = ensemble.RandomForestClassifier()\n",
    "rfc.fit(X_train, y_train)\n",
    "\n",
    "#print('Training set score:', rfc.score(X_train, y_train))\n",
    "#print('\\nTest set score:', rfc.score(X_test, y_test))\n",
    "\n",
    "split = StratifiedShuffleSplit(n_splits=5, random_state=1337)\n",
    "\n",
    "score = cross_val_score(rfc, X_test, y_test, cv=split, scoring='accuracy')\n",
    "print(\"\\nCross Validation:\\n    %0.2f (+/- %0.2f)\" % (score.mean(), score.std()))\n",
    "print(score)"
   ]
  },
  {
   "cell_type": "code",
   "execution_count": 66,
   "metadata": {},
   "outputs": [
    {
     "name": "stdout",
     "output_type": "stream",
     "text": [
      "\n",
      "Cross Validation:\n",
      "    0.43 (+/- 0.10)\n",
      "[0.30769231 0.46153846 0.38461538 0.61538462 0.38461538]\n"
     ]
    }
   ],
   "source": [
    "lr = LogisticRegression(penalty='l2') # No need to specify l2 as it's the default. But we put it for demonstration.\n",
    "lr.fit(X_train, y_train)\n",
    "\n",
    "#print('Training set score:', lr.score(X_train, y_train))\n",
    "#print('\\nTest set score:', lr.score(X_test, y_test))\n",
    "\n",
    "split = StratifiedShuffleSplit(n_splits=5, random_state=1337)\n",
    "\n",
    "score = cross_val_score(lr, X_test, y_test, cv=split, scoring='accuracy')\n",
    "print(\"\\nCross Validation:\\n    %0.2f (+/- %0.2f)\" % (score.mean(), score.std()))\n",
    "print(score)"
   ]
  },
  {
   "cell_type": "code",
   "execution_count": 67,
   "metadata": {},
   "outputs": [
    {
     "name": "stdout",
     "output_type": "stream",
     "text": [
      "\n",
      "Cross Validation:\n",
      "    0.25 (+/- 0.06)\n",
      "[0.15384615 0.30769231 0.30769231 0.23076923 0.23076923]\n"
     ]
    }
   ],
   "source": [
    "clf = ensemble.GradientBoostingClassifier()\n",
    "clf.fit(X_train, y_train)\n",
    "\n",
    "#print('Training set score:', clf.score(X_train, y_train))\n",
    "#print('\\nTest set score:', clf.score(X_test, y_test))\n",
    "\n",
    "\n",
    "split = StratifiedShuffleSplit(n_splits=5, random_state=1337)\n",
    "\n",
    "score = cross_val_score(clf, X_test, y_test, cv=split, scoring='accuracy')\n",
    "print(\"\\nCross Validation:\\n    %0.2f (+/- %0.2f)\" % (score.mean(), score.std()))\n",
    "print(score)"
   ]
  },
  {
   "cell_type": "markdown",
   "metadata": {},
   "source": [
    "It seems for Bag Of Words, clustering performed the best. \n",
    "\n",
    "Before we draw any conclusions, let's see how TF-IDF analysis performs."
   ]
  },
  {
   "cell_type": "markdown",
   "metadata": {},
   "source": [
    "# TF-IDF  - Data Preparation"
   ]
  },
  {
   "cell_type": "code",
   "execution_count": 3,
   "metadata": {},
   "outputs": [],
   "source": [
    "# Load and clean the data.\n",
    "leaves = gutenberg.paras('whitman-leaves.txt')\n",
    "leaves_paras=[]\n",
    "for paragraph in leaves:\n",
    "    para=paragraph[0]\n",
    "    #removing the double-dash from all words\n",
    "    para=[re.sub(r'--','',word) for word in para]\n",
    "    #Forming each paragraph into a string and adding it to the list of strings.\n",
    "    leaves_paras.append(' '.join(para))\n",
    "\n",
    "paradise = gutenberg.paras('milton-paradise.txt')\n",
    "paradise_paras=[]\n",
    "for paragraph in paradise:\n",
    "    para=paragraph[0]\n",
    "    #removing the double-dash from all words\n",
    "    para=[re.sub(r'--','',word) for word in para]\n",
    "    #Forming each paragraph into a string and adding it to the list of strings.\n",
    "    paradise_paras.append(' '.join(para))\n",
    "    \n",
    "    \n",
    "blake = gutenberg.paras('blake-poems.txt')\n",
    "blake_paras=[]\n",
    "for paragraph in blake:\n",
    "    para=paragraph[0]\n",
    "    #removing the double-dash from all words\n",
    "    para=[re.sub(r'--','',word) for word in para]\n",
    "    #Forming each paragraph into a string and adding it to the list of strings.\n",
    "    blake_paras.append(' '.join(para))\n",
    "\n",
    "    \n",
    "new_corpus = PlaintextCorpusReader(\"\",'.txt')    \n",
    "    \n",
    "hiawatha = new_corpus.paras(\"The Song Of Hiawatha, by Henry W. Longfellow.txt\")\n",
    "hiawatha_paras=[]\n",
    "for paragraph in hiawatha:\n",
    "    para=paragraph[0]\n",
    "    #removing the double-dash from all words\n",
    "    para=[re.sub(r'--','',word) for word in para]\n",
    "    #Forming each paragraph into a string and adding it to the list of strings.\n",
    "    hiawatha_paras.append(' '.join(para))\n",
    "\n",
    "\n",
    "endymion = new_corpus.paras(\"Endymion, by John Keats.txt\")\n",
    "endymion_paras=[]\n",
    "for paragraph in endymion:\n",
    "    para=paragraph[0]\n",
    "    #removing the double-dash from all words\n",
    "    para=[re.sub(r'--','',word) for word in para]\n",
    "    #Forming each paragraph into a string and adding it to the list of strings.\n",
    "    endymion_paras.append(' '.join(para))\n",
    "\n",
    "\n",
    "odyssey = new_corpus.paras(\"The Odyssey by Homer.txt\")\n",
    "odyssey_paras=[]\n",
    "for paragraph in odyssey:\n",
    "    para=paragraph[0]\n",
    "    #removing the double-dash from all words\n",
    "    para=[re.sub(r'--','',word) for word in para]\n",
    "    #Forming each paragraph into a string and adding it to the list of strings.\n",
    "    odyssey_paras.append(' '.join(para))\n",
    "\n",
    "\n",
    "burns = new_corpus.paras(\"The Complete Works of Robert Burns.txt\")\n",
    "burns_paras=[]\n",
    "for paragraph in burns:\n",
    "    para=paragraph[0]\n",
    "    #removing the double-dash from all words\n",
    "    para=[re.sub(r'--','',word) for word in para]\n",
    "    #Forming each paragraph into a string and adding it to the list of strings.\n",
    "    burns_paras.append(' '.join(para))\n",
    "\n",
    "\n",
    "sea = new_corpus.paras(\"Sea Garden by Hilda Doolittle.txt\")\n",
    "sea_paras=[]\n",
    "for paragraph in sea:\n",
    "    para=paragraph[0]\n",
    "    #removing the double-dash from all words\n",
    "    para=[re.sub(r'--','',word) for word in para]\n",
    "    #Forming each paragraph into a string and adding it to the list of strings.\n",
    "    sea_paras.append(' '.join(para))\n",
    "    \n",
    "\n",
    "beowulf = new_corpus.paras(\"Beowulf by Leslie Hall.txt\")\n",
    "beowulf_paras=[]\n",
    "for paragraph in beowulf:\n",
    "    para=paragraph[0]\n",
    "    #removing the double-dash from all words\n",
    "    para=[re.sub(r'--','',word) for word in para]\n",
    "    #Forming each paragraph into a string and adding it to the list of strings.\n",
    "    beowulf_paras.append(' '.join(para))\n",
    "\n",
    "\n",
    "sappho = new_corpus.paras(\"Sappho- One Hundred Lyrics by Bliss Carman.txt\")\n",
    "sappho_paras=[]\n",
    "for paragraph in sappho:\n",
    "    para=paragraph[0]\n",
    "    #removing the double-dash from all words\n",
    "    para=[re.sub(r'--','',word) for word in para]\n",
    "    #Forming each paragraph into a string and adding it to the list of strings.\n",
    "    sappho_paras.append(' '.join(para))\n"
   ]
  },
  {
   "cell_type": "markdown",
   "metadata": {},
   "source": [
    "Great, now we've import each of the texts as paragraphs with some cleaning"
   ]
  },
  {
   "cell_type": "code",
   "execution_count": 4,
   "metadata": {},
   "outputs": [
    {
     "data": {
      "text/html": [
       "<div>\n",
       "<style scoped>\n",
       "    .dataframe tbody tr th:only-of-type {\n",
       "        vertical-align: middle;\n",
       "    }\n",
       "\n",
       "    .dataframe tbody tr th {\n",
       "        vertical-align: top;\n",
       "    }\n",
       "\n",
       "    .dataframe thead th {\n",
       "        text-align: right;\n",
       "    }\n",
       "</style>\n",
       "<table border=\"1\" class=\"dataframe\">\n",
       "  <thead>\n",
       "    <tr style=\"text-align: right;\">\n",
       "      <th></th>\n",
       "      <th>0</th>\n",
       "      <th>1</th>\n",
       "    </tr>\n",
       "  </thead>\n",
       "  <tbody>\n",
       "    <tr>\n",
       "      <th>0</th>\n",
       "      <td>[ Paradise Lost by John Milton 1667 ]</td>\n",
       "      <td>Milton</td>\n",
       "    </tr>\n",
       "    <tr>\n",
       "      <th>1</th>\n",
       "      <td>Book I</td>\n",
       "      <td>Milton</td>\n",
       "    </tr>\n",
       "    <tr>\n",
       "      <th>2</th>\n",
       "      <td>Of Man ' s first disobedience , and the fruit ...</td>\n",
       "      <td>Milton</td>\n",
       "    </tr>\n",
       "    <tr>\n",
       "      <th>3</th>\n",
       "      <td>Book II</td>\n",
       "      <td>Milton</td>\n",
       "    </tr>\n",
       "    <tr>\n",
       "      <th>4</th>\n",
       "      <td>High on a throne of royal state , which far Ou...</td>\n",
       "      <td>Milton</td>\n",
       "    </tr>\n",
       "  </tbody>\n",
       "</table>\n",
       "</div>"
      ],
      "text/plain": [
       "                                                   0       1\n",
       "0              [ Paradise Lost by John Milton 1667 ]  Milton\n",
       "1                                             Book I  Milton\n",
       "2  Of Man ' s first disobedience , and the fruit ...  Milton\n",
       "3                                            Book II  Milton\n",
       "4  High on a throne of royal state , which far Ou...  Milton"
      ]
     },
     "execution_count": 4,
     "metadata": {},
     "output_type": "execute_result"
    }
   ],
   "source": [
    "# Group into paragraphs.\n",
    "paradise_paras = [[para, \"Milton\"] for para in paradise_paras]\n",
    "blake_paras = [[para, \"Blake\"] for para in blake_paras]\n",
    "leaves_paras = [[para, \"Whitman\"] for para in leaves_paras]\n",
    "hiawatha_paras = [[para, \"Longfellow\"] for para in hiawatha_paras]\n",
    "endymion_paras = [[para, \"Keats\"] for para in endymion_paras]\n",
    "odyssey_paras = [[para, \"Homer\"] for para in odyssey_paras]\n",
    "burns_paras = [[para, \"Burns\"] for para in burns_paras]\n",
    "sea_paras = [[para, \"Doolittle\"] for para in sea_paras]\n",
    "beowulf_paras = [[para, \"Beowulf\"] for para in beowulf_paras]\n",
    "sappho_paras = [[para, \"Sappho\"] for para in sappho_paras]\n",
    "\n",
    "# Combine the sentences from the two novels into one data frame.\n",
    "paragraphs = pd.DataFrame(paradise_paras + blake_paras + \n",
    "                         leaves_paras + hiawatha_paras + \n",
    "                         endymion_paras + odyssey_paras +\n",
    "                         burns_paras + sea_paras +\n",
    "                         beowulf_paras + sappho_paras)\n",
    "#paragraphs.columns = ['paragraph','label']\n",
    "paragraphs.head()"
   ]
  },
  {
   "cell_type": "markdown",
   "metadata": {},
   "source": [
    "Now we have each paragraph labeled in a dataframe and ready for analysis!"
   ]
  },
  {
   "cell_type": "code",
   "execution_count": 5,
   "metadata": {},
   "outputs": [],
   "source": [
    "# Define the features and the outcome.\n",
    "X = paragraphs.drop(1,axis = 1)\n",
    "y = paragraphs[1]\n",
    "\n",
    "X_train, X_test, y_train, y_test = train_test_split(X,\n",
    "                                                    y, \n",
    "                                                    test_size=0.25, random_state=0)\n",
    "\n",
    "vectorizer = TfidfVectorizer(max_df=0.5, # drop words that occur in more than half the paragraphs\n",
    "                             min_df=3, # only use words that appear at least three times\n",
    "                             stop_words='english', \n",
    "                             lowercase=True, #convert everything to lower case (since Alice in Wonderland has the HABIT of CAPITALIZING WORDS for EMPHASIS)\n",
    "                             use_idf=True,#we definitely want to use inverse document frequencies in our weighting\n",
    "                             norm=u'l2', #Applies a correction factor so that longer paragraphs and shorter paragraphs get treated equally\n",
    "                             smooth_idf=True #Adds 1 to all document frequencies, as if an extra document existed that used every word once.  Prevents divide-by-zero errors\n",
    "                            )\n",
    "\n",
    "#Applying the vectorizer\n",
    "paras_tfidf=vectorizer.fit_transform(paragraphs.drop(1,axis=1)[0].tolist())\n",
    "#print(\"Number of features: %d\" % paras_tfidf.get_shape()[1])\n",
    "\n",
    "#splitting into training and test sets\n",
    "X_train_tfidf, X_test_tfidf= train_test_split(paras_tfidf, test_size=0.25, random_state=0)\n",
    "\n",
    "#Reshapes the vectorizer output into something people can read\n",
    "X_train_tfidf_csr = X_train_tfidf.tocsr()\n",
    "X_test_tfidf_csr = X_test_tfidf.tocsr()\n",
    "\n",
    "#number of sentences\n",
    "n = X_train_tfidf_csr.shape[0]\n",
    "#A list of dictionaries, one per sentence\n",
    "tfidf_bysent = [{} for _ in range(0,n)]\n",
    "#List of features\n",
    "terms = vectorizer.get_feature_names()\n",
    "#for each sentence, lists the feature words and their tf-idf scores\n",
    "for i, j in zip(*X_train_tfidf_csr.nonzero()):\n",
    "    tfidf_bysent[i][terms[j]] = X_train_tfidf_csr[i, j]\n",
    "\n",
    "# Normalize the data.\n",
    "X_train_norm = normalize(X_train_tfidf_csr)\n",
    "X_test_norm = normalize(X_test_tfidf_csr)\n"
   ]
  },
  {
   "cell_type": "markdown",
   "metadata": {},
   "source": [
    "We've:\n",
    "* split our data\n",
    "* vecotrized the data for TF-IDF \n",
    "* converted to condensed sparse row form\n",
    "* normalized the data for anaylsis"
   ]
  },
  {
   "cell_type": "markdown",
   "metadata": {},
   "source": [
    "# TF-IDF - Clustering"
   ]
  },
  {
   "cell_type": "code",
   "execution_count": 6,
   "metadata": {},
   "outputs": [
    {
     "name": "stdout",
     "output_type": "stream",
     "text": [
      "Silhoette Score: 0.08457321695207078\n"
     ]
    }
   ],
   "source": [
    "# Calculate predicted clusters for KMeans.\n",
    "KMN = KMeans(n_clusters=10, random_state=42)\n",
    "KMN = KMN.fit(X_train_norm)\n",
    "y_pred = KMN.predict(X_train_norm)\n",
    "print('Silhoette Score:',silhouette_score(X_train_norm, y_pred))"
   ]
  },
  {
   "cell_type": "markdown",
   "metadata": {},
   "source": [
    "KMeans custering with a poor silhoette score, let's see if other cluster models will perform any better"
   ]
  },
  {
   "cell_type": "code",
   "execution_count": 24,
   "metadata": {},
   "outputs": [
    {
     "name": "stdout",
     "output_type": "stream",
     "text": [
      "Silhoette Score: 0.07737890383543905\n"
     ]
    }
   ],
   "source": [
    "#MiniBatch KMeans Clustering\n",
    "# Each batch will be made up of 200 data points.\n",
    "minibatchkmeans = MiniBatchKMeans(\n",
    "    init='random',\n",
    "    n_clusters=10,\n",
    "    batch_size=200)\n",
    "minibatchkmeans.fit(X_train_norm)\n",
    "\n",
    "# Add the new predicted cluster memberships to the data frame.\n",
    "predict_mini = minibatchkmeans.predict(X_train_norm)\n",
    "\n",
    "print('Silhoette Score:',silhouette_score(X_train_norm, predict_mini))"
   ]
  },
  {
   "cell_type": "markdown",
   "metadata": {},
   "source": [
    "Unfortunately the mini batch kmeans performed slightly worse than regular kmeans"
   ]
  },
  {
   "cell_type": "code",
   "execution_count": 40,
   "metadata": {},
   "outputs": [
    {
     "name": "stdout",
     "output_type": "stream",
     "text": [
      "Number of estimated clusters: 10\n",
      "\n",
      "Silhoette Score: 0.020374525008515325\n",
      "\n",
      " -- 76.9427 seconds for results--\n"
     ]
    }
   ],
   "source": [
    "#MeanShift Clustering\n",
    "start_time = time.time()\n",
    "# Here we set the bandwidth. This function automatically derives a bandwidth\n",
    "# number based on an inspection of the distances among points in the data.\n",
    "bandwidth = estimate_bandwidth(X_train_norm.toarray(), quantile=0.3, n_samples=2)\n",
    "\n",
    "# Declare and fit the model.\n",
    "MS = MeanShift(bandwidth=bandwidth, bin_seeding=True)\n",
    "MS = MS.fit(X_train_norm.toarray())\n",
    "predict_means = MS.predict(X_train_norm.toarray())\n",
    "\n",
    "# Coordinates of the cluster centers.\n",
    "cluster_centers = MS.cluster_centers_\n",
    "\n",
    "# Count our clusters.\n",
    "n_clusters_ = 10\n",
    "print(\"Number of estimated clusters: {}\".format(n_clusters_))\n",
    "\n",
    "#print('Comparing the assigned categories to the ones in the data:')\n",
    "#print(pd.crosstab(y_pred,labels))\n",
    "\n",
    "print('\\nSilhoette Score:', silhouette_score(X_train_norm, predict_means))\n",
    "\n",
    "t= round((time.time() - start_time),4)\n",
    "print(\"\\n -- %s seconds for results--\" % t)"
   ]
  },
  {
   "cell_type": "markdown",
   "metadata": {},
   "source": [
    "Performance is quite poor for MeanShift clustering, but admittedly there were some limitations of compuational power. regardless, it's safe to assume the model wouldn't perform much better with less limitations."
   ]
  },
  {
   "cell_type": "code",
   "execution_count": 10,
   "metadata": {},
   "outputs": [
    {
     "name": "stdout",
     "output_type": "stream",
     "text": [
      "\n",
      "Silhoette Score: 0.1070578322604148\n"
     ]
    }
   ],
   "source": [
    "#Spectral Clustering\n",
    "# We know we're looking for 10 clusters.\n",
    "n_clusters = 10\n",
    "\n",
    "# Declare and fit the model.\n",
    "sc = SpectralClustering(n_clusters=n_clusters)\n",
    "sc = sc.fit(X_train_norm)\n",
    "#Predicted clusters.\n",
    "predict_sc=sc.fit_predict(X_test_norm)\n",
    "\n",
    "print('\\nSilhoette Score:',silhouette_score(X_test_norm, predict_sc))"
   ]
  },
  {
   "cell_type": "markdown",
   "metadata": {},
   "source": [
    "Spectral Clustering seemed to perform the best, but its hardly a feat given the poor performance of all the clustering models.\n",
    "\n",
    "Let's see how supervised modeling fairs for TF-IDF"
   ]
  },
  {
   "cell_type": "markdown",
   "metadata": {},
   "source": [
    "# TF-IDF - Modelling"
   ]
  },
  {
   "cell_type": "code",
   "execution_count": 42,
   "metadata": {},
   "outputs": [
    {
     "name": "stdout",
     "output_type": "stream",
     "text": [
      "NBB: 0.724885 (0.009622)\n",
      "RFC: 0.756221 (0.015722)\n",
      "KNN: 0.688018 (0.002112)\n",
      "DTC: 0.727189 (0.020997)\n",
      "SVC: 0.686636 (0.000000)\n",
      "GBC: 0.747005 (0.006741)\n",
      "ABC: 0.693318 (0.002406)\n",
      "ETC: 0.771198 (0.009993)\n",
      "\n",
      " -- 395.3001 seconds for results--\n"
     ]
    }
   ],
   "source": [
    "# Spot Check Algorithms\n",
    "start_time = time.time()\n",
    "models = []\n",
    "models.append(('NBB', BernoulliNB()))\n",
    "models.append(('RFC', ensemble.RandomForestClassifier()))\n",
    "models.append(('KNN', neighbors.KNeighborsClassifier()))\n",
    "models.append(('DTC', tree.DecisionTreeClassifier()))\n",
    "models.append(('SVC', SVC()))\n",
    "models.append(('GBC', ensemble.GradientBoostingClassifier()))\n",
    "models.append(('ABC', ensemble.AdaBoostClassifier()))\n",
    "models.append(('ETC', ensemble.ExtraTreesClassifier()))\n",
    "\n",
    "# evaluate each model in turn\n",
    "results = []\n",
    "names = []\n",
    "for name, model in models:\n",
    "    split = StratifiedShuffleSplit(n_splits=10, random_state=1337)\n",
    "    model = model.fit(X_train_tfidf_csr,y_train)\n",
    "    cv_results = cross_val_score(model, X_test_tfidf_csr, y_test, cv=split, scoring='accuracy')\n",
    "    results.append(cv_results)\n",
    "    names.append(name)\n",
    "    msg = \"%s: %f (%f)\" % (name, cv_results.mean(), cv_results.std())\n",
    "    print(msg)\n",
    "    \n",
    "t= round((time.time() - start_time),4)\n",
    "print(\"\\n -- %s seconds for results--\" % t)"
   ]
  },
  {
   "cell_type": "markdown",
   "metadata": {},
   "source": [
    "Took some time but we're seeing some pretty good results, much better than Bag Of Words!"
   ]
  },
  {
   "cell_type": "code",
   "execution_count": 7,
   "metadata": {},
   "outputs": [],
   "source": [
    "#setting the split\n",
    "split = StratifiedShuffleSplit(n_splits=10, random_state=1337)"
   ]
  },
  {
   "cell_type": "code",
   "execution_count": 43,
   "metadata": {},
   "outputs": [
    {
     "name": "stdout",
     "output_type": "stream",
     "text": [
      "\n",
      "Cross Validation:\n",
      "    0.76 (+/- 0.02)\n",
      "[0.73963134 0.75115207 0.76267281 0.79032258 0.75115207 0.77419355\n",
      " 0.76497696 0.74193548 0.7764977  0.73732719]\n"
     ]
    }
   ],
   "source": [
    "rfc = ensemble.RandomForestClassifier()\n",
    "rfc.fit(X_train_tfidf_csr, y_train)\n",
    "\n",
    "score = cross_val_score(rfc, X_test_tfidf_csr, y_test, cv=split, scoring='accuracy')\n",
    "print(\"\\nCross Validation:\\n    %0.2f (+/- %0.2f)\" % (score.mean(), score.std()))\n",
    "print(score)"
   ]
  },
  {
   "cell_type": "code",
   "execution_count": 44,
   "metadata": {},
   "outputs": [
    {
     "name": "stdout",
     "output_type": "stream",
     "text": [
      "\n",
      "Cross Validation:\n",
      "    0.71 (+/- 0.01)\n",
      "[0.71889401 0.70967742 0.70967742 0.70506912 0.71198157 0.7235023\n",
      " 0.70967742 0.70506912 0.71658986 0.71889401]\n"
     ]
    }
   ],
   "source": [
    "lr = LogisticRegression(penalty='l2') # No need to specify l2 as it's the default. But we put it to be explicit.\n",
    "lr.fit(X_train_tfidf_csr, y_train)\n",
    "\n",
    "score = cross_val_score(lr, X_test_tfidf_csr, y_test, cv=split, scoring='accuracy')\n",
    "print(\"\\nCross Validation:\\n    %0.2f (+/- %0.2f)\" % (score.mean(), score.std()))\n",
    "print(score)"
   ]
  },
  {
   "cell_type": "code",
   "execution_count": 45,
   "metadata": {},
   "outputs": [
    {
     "name": "stdout",
     "output_type": "stream",
     "text": [
      "\n",
      "Cross Validation:\n",
      "    0.71 (+/- 0.01)\n",
      "[0.71889401 0.70967742 0.70967742 0.70506912 0.71198157 0.7235023\n",
      " 0.70967742 0.70506912 0.71658986 0.71889401]\n"
     ]
    }
   ],
   "source": [
    "clf = ensemble.GradientBoostingClassifier()\n",
    "train = clf.fit(X_train_tfidf_csr, y_train)\n",
    "\n",
    "score = cross_val_score(lr, X_test_tfidf_csr, y_test, cv=split, scoring='accuracy')\n",
    "print(\"\\nCross Validation:\\n    %0.2f (+/- %0.2f)\" % (score.mean(), score.std()))\n",
    "print(score)"
   ]
  },
  {
   "cell_type": "markdown",
   "metadata": {},
   "source": [
    "# Summary\n",
    "Looks like the clustering performed a bit better on the Bag Of Words preparation of these texts but the supervised models performedd significantly better with the TF-IDF preparation.\n",
    "\n",
    "## Obstacles\n",
    "\n",
    "I believe part of the reason it has been difficult to model is due to the nature of the texts. Some of them are collections of different poems by a poet while others are one long poem by a poet. The potential multiple topics in the collections likely make it more difficult to identify a central characteristics of the poet. Or maybe it's the fact that it is mixed; if they were all collections or all one long poem, perhaps the models would perform better!"
   ]
  },
  {
   "cell_type": "code",
   "execution_count": null,
   "metadata": {},
   "outputs": [],
   "source": []
  }
 ],
 "metadata": {
  "kernelspec": {
   "display_name": "Python 3",
   "language": "python",
   "name": "python3"
  },
  "language_info": {
   "codemirror_mode": {
    "name": "ipython",
    "version": 3
   },
   "file_extension": ".py",
   "mimetype": "text/x-python",
   "name": "python",
   "nbconvert_exporter": "python",
   "pygments_lexer": "ipython3",
   "version": "3.7.2"
  }
 },
 "nbformat": 4,
 "nbformat_minor": 2
}
