{
 "cells": [
  {
   "cell_type": "markdown",
   "metadata": {},
   "source": [
    "For this project you'll dig into a large amount of text and apply most of what you've covered in this unit and in the course so far.\n",
    "\n",
    "First, pick a set of texts. This can be either a series of novels, chapters, or articles. Anything you'd like. It just has to have multiple entries of varying characteristics. At least 100 should be good. There should also be at least 10 different authors, but try to keep the texts related (either all on the same topic or from the same branch of literature - something to make classification a bit more difficult than obviously different subjects).\n",
    "\n",
    "This capstone can be an extension of your NLP challenge if you wish to use the same corpus. If you found problems with that data set that limited your analysis, however, it may be worth using what you learned to choose a new corpus. Reserve 25% of your corpus as a test set.\n",
    "\n",
    "1. The first technique is to create a series of clusters. Try several techniques and pick the one you think best represents your data. Make sure there is a narrative and reasoning around why you have chosen the given clusters. Are authors consistently grouped into the same cluster?\n",
    "\n",
    "2. Next, perform some unsupervised feature generation and selection using the techniques covered in this unit and elsewhere in the course. \n",
    "\n",
    "3. Using those features then build models to attempt to classify your texts by author. Try different permutations of unsupervised and supervised techniques to see which combinations have the best performance.\n",
    "\n",
    "4. Lastly return to your holdout group. Does your clustering on those members perform as you'd expect? Have your clusters remained stable or changed dramatically? What about your model? Is it's performance consistent? If there is a divergence in the relative stability of your model and your clusters, delve into why.\n",
    "\n",
    "Your end result should be a write up of how clustering and modeling compare for classifying your texts. What are the advantages of each? Why would you want to use one over the other? Approximately 3-5 pages is a good length for your write up, and remember to include visuals to help tell your story!"
   ]
  },
  {
   "cell_type": "code",
   "execution_count": 102,
   "metadata": {},
   "outputs": [],
   "source": [
    "import time\n",
    "import pandas as pd\n",
    "import numpy as np\n",
    "import spacy\n",
    "import nltk\n",
    "from nltk.corpus import gutenberg\n",
    "import re\n",
    "import matplotlib.pyplot as plt\n",
    "from collections import Counter\n",
    "from sklearn.cluster import KMeans, MiniBatchKMeans\n",
    "from sklearn.decomposition import PCA\n",
    "from sklearn.preprocessing import normalize\n",
    "from sklearn.mixture import GaussianMixture\n",
    "from sklearn import neighbors\n",
    "from sklearn.svm import SVC\n",
    "from sklearn import tree\n",
    "from sklearn.discriminant_analysis import QuadraticDiscriminantAnalysis\n",
    "from sklearn.naive_bayes import BernoulliNB, GaussianNB\n",
    "from sklearn.model_selection import train_test_split, cross_val_score, StratifiedShuffleSplit\n",
    "\n",
    "import warnings \n",
    "warnings.simplefilter('ignore')"
   ]
  },
  {
   "cell_type": "code",
   "execution_count": 81,
   "metadata": {},
   "outputs": [
    {
     "name": "stdout",
     "output_type": "stream",
     "text": [
      "['austen-emma.txt', 'austen-persuasion.txt', 'austen-sense.txt', 'bible-kjv.txt', 'blake-poems.txt', 'bryant-stories.txt', 'burgess-busterbrown.txt', 'carroll-alice.txt', 'chesterton-ball.txt', 'chesterton-brown.txt', 'chesterton-thursday.txt', 'edgeworth-parents.txt', 'melville-moby_dick.txt', 'milton-paradise.txt', 'shakespeare-caesar.txt', 'shakespeare-hamlet.txt', 'shakespeare-macbeth.txt', 'whitman-leaves.txt']\n"
     ]
    }
   ],
   "source": [
    "print(gutenberg.fileids())"
   ]
  },
  {
   "cell_type": "code",
   "execution_count": 130,
   "metadata": {},
   "outputs": [
    {
     "name": "stdout",
     "output_type": "stream",
     "text": [
      "Of Man's first disobedience, and the fruit Of that forbidden tree whose mortal taste Brought death i\n",
      "Piping down the valleys wild, Piping songs of pleasant glee, On a cloud saw a child, And he laughing\n",
      "Come, said my soul, Such verses for my Body let us write, (for we are one,) That should I after retu\n",
      "Should you ask me, whence these stories? Whence these legends and traditions, With the odors of the \n",
      "A thing of beauty is a joy for ever: Its loveliness increases; it will never Pass into nothingness; \n",
      "In a council of the Gods, Minerva calls their attention to Ulysses, still a wanderer. They resolve t\n",
      ". WINTER. A DIRGE. The wintry west extends his blast, And hail and rain does blaw; Or the stormy nor\n",
      "ROSE Rose, harsh rose, marred and with stint of petals, meagre flower, thin, sparse of leaf, more pr\n",
      "THE LIFE AND DEATH OF SCYLD. {The famous race of Spear-Danes.} Lo! the Spear-Danes' glory through sp\n",
      "I Cyprus, Paphos, or Panormus May detain thee with their splendour Of oblations on thine altars, O i\n"
     ]
    }
   ],
   "source": [
    "# Utility function for standard text cleaning.\n",
    "def text_cleaner(text):\n",
    "    # Visual inspection identifies a form of punctuation spaCy does not\n",
    "    # recognize: the double dash '--'.  Better get rid of it now!\n",
    "    text = re.sub(r'--',' ',text)\n",
    "    text = re.sub(\"[\\[].*?[\\]]\", \"\", text)\n",
    "    text = ' '.join(text.split())\n",
    "    return text\n",
    "    \n",
    "# Load and clean the data.\n",
    "leaves = gutenberg.raw('whitman-leaves.txt')\n",
    "paradise = gutenberg.raw('milton-paradise.txt')\n",
    "blake = gutenberg.raw('blake-poems.txt')\n",
    "hiawatha = open(\"The Song Of Hiawatha, by Henry W. Longfellow.txt\")\n",
    "hiawatha = hiawatha.read()\n",
    "endymion = open(\"Endymion, by John Keats.txt\")\n",
    "endymion = endymion.read()\n",
    "odyssey = open(\"The Odyssey by Homer.txt\")\n",
    "odyssey = odyssey.read()\n",
    "burns = open(\"The Complete Works of Robert Burns.txt\")\n",
    "burns = burns.read()\n",
    "sea = open(\"Sea Garden by Hilda Doolittle.txt\")\n",
    "sea = sea.read()\n",
    "beowulf = open(\"Beowulf by Leslie Hall.txt\")\n",
    "beowulf = beowulf.read()\n",
    "sappho = open(\"Sappho- One Hundred Lyrics by Bliss Carman.txt\")\n",
    "sappho = sappho.read()\n",
    "\n",
    "\n",
    "# unique cleaning\n",
    "paradise = re.sub(r'Book \\D{1,3}', '', paradise)\n",
    "endymion = re.sub(r'BOOK \\D{1,3}', '', endymion)\n",
    "odyssey = re.sub(r'BOOK \\D{1,3}', '', odyssey)\n",
    "odyssey = re.sub(r'ARGUMENT', '', odyssey)\n",
    "blake = re.sub(r\"[A-Z]+\\b\",\"\",blake)\n",
    "blake = re.sub(r\"and   of\",\"\",blake)\n",
    "beowulf = re.sub(r\"^[A-Z]+\\.\",\"\",beowulf)\n",
    "sea = re.sub(r\"^[A-Z]+\",\"\",sea)\n",
    "burns = re.sub(r\"^[A-Z]+\", \"\",burns)\n",
    "burns = re.sub(r\"^[A-Z]+\\.\", \"\",burns)\n",
    "\n",
    "#books = [paradise, blake, leaves, hiawatha, endymion]\n",
    "#for b in books:\n",
    "    #books = text_cleaner(b[:int(len(b)/30)])\n",
    "s = 20\n",
    "paradise = text_cleaner(paradise[:int(len(paradise)/s)])\n",
    "blake = text_cleaner(blake[:int(len(blake)/s)])\n",
    "leaves = text_cleaner(leaves[:int(len(leaves)/s)])\n",
    "hiawatha = text_cleaner(hiawatha[:int(len(hiawatha)/s)])\n",
    "endymion = text_cleaner(endymion[:int(len(endymion)/s)])\n",
    "odyssey = text_cleaner(odyssey[:int(len(odyssey)/s)])\n",
    "burns = text_cleaner(burns[:int(len(burns)/s)])\n",
    "sea = text_cleaner(sea[:int(len(sea)/s)])\n",
    "beowulf = text_cleaner(beowulf[:int(len(beowulf)/s)])\n",
    "sappho = text_cleaner(sappho[:int(len(sappho)/s)])\n",
    "\n",
    "print(paradise[:100])\n",
    "print(blake[:100])\n",
    "print(leaves[:100])\n",
    "print(hiawatha[:100])\n",
    "print(endymion[:100])\n",
    "print(odyssey[:100])\n",
    "print(burns[:100])\n",
    "print(sea[:100])\n",
    "print(beowulf[:100])\n",
    "print(sappho[:100])"
   ]
  },
  {
   "cell_type": "code",
   "execution_count": 131,
   "metadata": {},
   "outputs": [
    {
     "name": "stdout",
     "output_type": "stream",
     "text": [
      "done!\n"
     ]
    }
   ],
   "source": [
    "# Parse the cleaned novels. This can take a bit.\n",
    "nlp = spacy.load('en')\n",
    "paradise_doc = nlp(paradise)\n",
    "blake_doc = nlp(blake)\n",
    "leaves_doc = nlp(leaves)\n",
    "hiawatha_doc = nlp(hiawatha)\n",
    "endymion_doc = nlp(endymion)\n",
    "odyssey_doc = nlp(odyssey)\n",
    "burns_doc = nlp(burns)\n",
    "sea_doc = nlp(sea)\n",
    "beowulf_doc = nlp(beowulf)\n",
    "sappho_doc = nlp(sappho)\n",
    "\n",
    "print('done!')"
   ]
  },
  {
   "cell_type": "code",
   "execution_count": 139,
   "metadata": {},
   "outputs": [
    {
     "data": {
      "text/html": [
       "<div>\n",
       "<style scoped>\n",
       "    .dataframe tbody tr th:only-of-type {\n",
       "        vertical-align: middle;\n",
       "    }\n",
       "\n",
       "    .dataframe tbody tr th {\n",
       "        vertical-align: top;\n",
       "    }\n",
       "\n",
       "    .dataframe thead th {\n",
       "        text-align: right;\n",
       "    }\n",
       "</style>\n",
       "<table border=\"1\" class=\"dataframe\">\n",
       "  <thead>\n",
       "    <tr style=\"text-align: right;\">\n",
       "      <th></th>\n",
       "      <th>0</th>\n",
       "      <th>1</th>\n",
       "    </tr>\n",
       "  </thead>\n",
       "  <tbody>\n",
       "    <tr>\n",
       "      <th>0</th>\n",
       "      <td>(Of, Man, 's, first, disobedience, ,, and, the...</td>\n",
       "      <td>Milton</td>\n",
       "    </tr>\n",
       "    <tr>\n",
       "      <th>1</th>\n",
       "      <td>(And, chiefly, thou, ,, O, Spirit, ,, that, do...</td>\n",
       "      <td>Milton</td>\n",
       "    </tr>\n",
       "    <tr>\n",
       "      <th>2</th>\n",
       "      <td>(Say, first, for, Heaven, hides, nothing, from...</td>\n",
       "      <td>Milton</td>\n",
       "    </tr>\n",
       "    <tr>\n",
       "      <th>3</th>\n",
       "      <td>(Who, first, seduced, them, to, that, foul, re...</td>\n",
       "      <td>Milton</td>\n",
       "    </tr>\n",
       "    <tr>\n",
       "      <th>4</th>\n",
       "      <td>(Th, ', infernal, Serpent, ;, he, it, was, who...</td>\n",
       "      <td>Milton</td>\n",
       "    </tr>\n",
       "  </tbody>\n",
       "</table>\n",
       "</div>"
      ],
      "text/plain": [
       "                                                   0       1\n",
       "0  (Of, Man, 's, first, disobedience, ,, and, the...  Milton\n",
       "1  (And, chiefly, thou, ,, O, Spirit, ,, that, do...  Milton\n",
       "2  (Say, first, for, Heaven, hides, nothing, from...  Milton\n",
       "3  (Who, first, seduced, them, to, that, foul, re...  Milton\n",
       "4  (Th, ', infernal, Serpent, ;, he, it, was, who...  Milton"
      ]
     },
     "execution_count": 139,
     "metadata": {},
     "output_type": "execute_result"
    }
   ],
   "source": [
    "# Group into sentences.\n",
    "paradise_sents = [[sent, \"Milton\"] for sent in paradise_doc.sents]\n",
    "blake_sents = [[sent, \"Blake\"] for sent in blake_doc.sents]\n",
    "leaves_sents = [[sent, \"Whitman\"] for sent in leaves_doc.sents]\n",
    "hiawatha_sents = [[sent, \"Longfellow\"] for sent in hiawatha_doc.sents]\n",
    "endymion_sents = [[sent, \"Keats\"] for sent in endymion_doc.sents]\n",
    "odyssey_sents = [[sent, \"Homer\"] for sent in odyssey_doc.sents]\n",
    "burns_sents = [[sent, \"Burns\"] for sent in burns_doc.sents]\n",
    "sea_sents = [[sent, \"Doolittle\"] for sent in sea_doc.sents]\n",
    "beowulf_sents = [[sent, \"Beowulf\"] for sent in beowulf_doc.sents]\n",
    "sappho_sents = [[sent, \"Sappho\"] for sent in sappho_doc.sents]\n",
    "\n",
    "# Combine the sentences from the two novels into one data frame.\n",
    "sentences = pd.DataFrame(paradise_sents + blake_sents + \n",
    "                         leaves_sents + hiawatha_sents + \n",
    "                         endymion_sents + odyssey_sents +\n",
    "                         burns_sents + sea_sents +\n",
    "                         beowulf_sents + sappho_sents)\n",
    "sentences.head()"
   ]
  },
  {
   "cell_type": "code",
   "execution_count": 142,
   "metadata": {},
   "outputs": [],
   "source": [
    "# Utility function to create a list of the 2000 most common words.\n",
    "def bag_of_words(text):\n",
    "    \n",
    "    # Filter out punctuation and stop words.\n",
    "    allwords = [token.lemma_\n",
    "                for token in text\n",
    "                if not token.is_punct\n",
    "                and not token.is_stop]\n",
    "    \n",
    "    # Return the most common words.\n",
    "    return [item[0] for item in Counter(allwords).most_common(3000)]\n",
    "\n",
    "# Creates a data frame with features for each word in our common word set.\n",
    "# Each value is the count of the times the word appears in each sentence.\n",
    "def bow_features(sentences, common_words):\n",
    "    \n",
    "    # Scaffold the data frame and initialize counts to zero.\n",
    "    df = pd.DataFrame(columns=common_words)\n",
    "    df['text_sentence'] = sentences[0]\n",
    "    df['text_source'] = sentences[1]\n",
    "    df.loc[:, common_words] = 0\n",
    "    \n",
    "    # Process each row, counting the occurrence of words in each sentence.\n",
    "    for i, sentence in enumerate(df['text_sentence']):\n",
    "        \n",
    "        # Convert the sentence to lemmas, then filter out punctuation,\n",
    "        # stop words, and uncommon words.\n",
    "        words = [token.lemma_\n",
    "                 for token in sentence\n",
    "                 if (\n",
    "                     not token.is_punct\n",
    "                     and not token.is_stop\n",
    "                     and token.lemma_ in common_words\n",
    "                 )]\n",
    "        \n",
    "        # Populate the row with word counts.\n",
    "        for word in words:\n",
    "            df.loc[i, word] += 1\n",
    "        \n",
    "        # This counter is just to make sure the kernel didn't hang.\n",
    "        if i % 50 == 0:\n",
    "            print(\"Processing row {}\".format(i))\n",
    "            \n",
    "    return df\n",
    "\n",
    "# Set up the bags.\n",
    "blakewords = bag_of_words(blake_doc)\n",
    "paradisewords = bag_of_words(paradise_doc)\n",
    "leaveswords = bag_of_words(leaves_doc)\n",
    "hiawathawords = bag_of_words(hiawatha_doc)\n",
    "endymionwords = bag_of_words(endymion_doc)\n",
    "odysseywords = bag_of_words(odyssey_doc)\n",
    "burnswords = bag_of_words(burns_doc)\n",
    "seawords = bag_of_words(sea_doc)\n",
    "beowulfwords = bag_of_words(beowulf_doc)\n",
    "sapphowords = bag_of_words(sappho_doc)\n",
    "\n",
    "# Combine bags to create a set of unique words.\n",
    "common_words = set(blakewords + paradisewords + \n",
    "                   leaveswords + hiawathawords + \n",
    "                   endymionwords + odysseywords +\n",
    "                   burnswords + seawords +\n",
    "                   beowulfwords +sapphowords)"
   ]
  },
  {
   "cell_type": "code",
   "execution_count": 143,
   "metadata": {},
   "outputs": [
    {
     "name": "stdout",
     "output_type": "stream",
     "text": [
      "Processing...\n",
      "Processing row 0\n",
      "Processing row 50\n",
      "Processing row 100\n",
      "Processing row 150\n",
      "Processing row 200\n",
      "Processing row 250\n",
      "Processing row 300\n",
      "Processing row 350\n",
      "Processing row 400\n",
      "Processing row 450\n",
      "Processing row 500\n",
      "Processing row 550\n",
      "Processing row 600\n",
      "Processing row 650\n",
      "Processing row 700\n",
      "Processing row 750\n",
      "Processing row 800\n",
      "Processing row 850\n",
      "Processing row 900\n",
      "Processing row 950\n",
      "Processing row 1000\n",
      "Processing row 1050\n",
      "Processing row 1100\n",
      "Processing row 1150\n",
      "Processing row 1200\n",
      "Processing row 1250\n",
      "Processing row 1300\n",
      "Processing row 1350\n",
      "Processing row 1400\n",
      "Processing row 1450\n",
      "Processing row 1500\n",
      "Processing row 1550\n",
      "Processing row 1600\n",
      "Processing row 1650\n",
      "Processing row 1700\n",
      "Processing row 1750\n",
      "Processing row 1800\n",
      "Processing row 1850\n",
      "Processing row 1900\n",
      "Processing row 1950\n",
      "Processing row 2000\n",
      "Processing row 2050\n",
      "Processing row 2100\n",
      "Processing row 2150\n",
      "\n",
      " -- 44320.9745 seconds --\n",
      "\n"
     ]
    },
    {
     "data": {
      "text/html": [
       "<div>\n",
       "<style scoped>\n",
       "    .dataframe tbody tr th:only-of-type {\n",
       "        vertical-align: middle;\n",
       "    }\n",
       "\n",
       "    .dataframe tbody tr th {\n",
       "        vertical-align: top;\n",
       "    }\n",
       "\n",
       "    .dataframe thead th {\n",
       "        text-align: right;\n",
       "    }\n",
       "</style>\n",
       "<table border=\"1\" class=\"dataframe\">\n",
       "  <thead>\n",
       "    <tr style=\"text-align: right;\">\n",
       "      <th></th>\n",
       "      <th>diet</th>\n",
       "      <th>cease</th>\n",
       "      <th>unrestricted</th>\n",
       "      <th>afflict</th>\n",
       "      <th>knapsack</th>\n",
       "      <th>sh</th>\n",
       "      <th>woefu</th>\n",
       "      <th>swim</th>\n",
       "      <th>real</th>\n",
       "      <th>bubble</th>\n",
       "      <th>...</th>\n",
       "      <th>v.</th>\n",
       "      <th>sanctuary</th>\n",
       "      <th>substance</th>\n",
       "      <th>may</th>\n",
       "      <th>theme</th>\n",
       "      <th>offering</th>\n",
       "      <th>ammiral</th>\n",
       "      <th>clover</th>\n",
       "      <th>text_sentence</th>\n",
       "      <th>text_source</th>\n",
       "    </tr>\n",
       "  </thead>\n",
       "  <tbody>\n",
       "    <tr>\n",
       "      <th>0</th>\n",
       "      <td>0</td>\n",
       "      <td>0</td>\n",
       "      <td>0</td>\n",
       "      <td>0</td>\n",
       "      <td>0</td>\n",
       "      <td>0</td>\n",
       "      <td>0</td>\n",
       "      <td>0</td>\n",
       "      <td>0</td>\n",
       "      <td>0</td>\n",
       "      <td>...</td>\n",
       "      <td>0</td>\n",
       "      <td>0</td>\n",
       "      <td>0</td>\n",
       "      <td>0</td>\n",
       "      <td>0</td>\n",
       "      <td>0</td>\n",
       "      <td>0</td>\n",
       "      <td>0</td>\n",
       "      <td>(Of, Man, 's, first, disobedience, ,, and, the...</td>\n",
       "      <td>Milton</td>\n",
       "    </tr>\n",
       "    <tr>\n",
       "      <th>1</th>\n",
       "      <td>0</td>\n",
       "      <td>0</td>\n",
       "      <td>0</td>\n",
       "      <td>0</td>\n",
       "      <td>0</td>\n",
       "      <td>0</td>\n",
       "      <td>0</td>\n",
       "      <td>0</td>\n",
       "      <td>0</td>\n",
       "      <td>0</td>\n",
       "      <td>...</td>\n",
       "      <td>0</td>\n",
       "      <td>0</td>\n",
       "      <td>0</td>\n",
       "      <td>0</td>\n",
       "      <td>0</td>\n",
       "      <td>0</td>\n",
       "      <td>0</td>\n",
       "      <td>0</td>\n",
       "      <td>(And, chiefly, thou, ,, O, Spirit, ,, that, do...</td>\n",
       "      <td>Milton</td>\n",
       "    </tr>\n",
       "    <tr>\n",
       "      <th>2</th>\n",
       "      <td>0</td>\n",
       "      <td>0</td>\n",
       "      <td>0</td>\n",
       "      <td>0</td>\n",
       "      <td>0</td>\n",
       "      <td>0</td>\n",
       "      <td>0</td>\n",
       "      <td>0</td>\n",
       "      <td>0</td>\n",
       "      <td>0</td>\n",
       "      <td>...</td>\n",
       "      <td>0</td>\n",
       "      <td>0</td>\n",
       "      <td>0</td>\n",
       "      <td>0</td>\n",
       "      <td>0</td>\n",
       "      <td>0</td>\n",
       "      <td>0</td>\n",
       "      <td>0</td>\n",
       "      <td>(Say, first, for, Heaven, hides, nothing, from...</td>\n",
       "      <td>Milton</td>\n",
       "    </tr>\n",
       "    <tr>\n",
       "      <th>3</th>\n",
       "      <td>0</td>\n",
       "      <td>0</td>\n",
       "      <td>0</td>\n",
       "      <td>0</td>\n",
       "      <td>0</td>\n",
       "      <td>0</td>\n",
       "      <td>0</td>\n",
       "      <td>0</td>\n",
       "      <td>0</td>\n",
       "      <td>0</td>\n",
       "      <td>...</td>\n",
       "      <td>0</td>\n",
       "      <td>0</td>\n",
       "      <td>0</td>\n",
       "      <td>0</td>\n",
       "      <td>0</td>\n",
       "      <td>0</td>\n",
       "      <td>0</td>\n",
       "      <td>0</td>\n",
       "      <td>(Who, first, seduced, them, to, that, foul, re...</td>\n",
       "      <td>Milton</td>\n",
       "    </tr>\n",
       "    <tr>\n",
       "      <th>4</th>\n",
       "      <td>0</td>\n",
       "      <td>0</td>\n",
       "      <td>0</td>\n",
       "      <td>0</td>\n",
       "      <td>0</td>\n",
       "      <td>0</td>\n",
       "      <td>0</td>\n",
       "      <td>0</td>\n",
       "      <td>0</td>\n",
       "      <td>0</td>\n",
       "      <td>...</td>\n",
       "      <td>0</td>\n",
       "      <td>0</td>\n",
       "      <td>0</td>\n",
       "      <td>0</td>\n",
       "      <td>0</td>\n",
       "      <td>0</td>\n",
       "      <td>0</td>\n",
       "      <td>0</td>\n",
       "      <td>(Th, ', infernal, Serpent, ;, he, it, was, who...</td>\n",
       "      <td>Milton</td>\n",
       "    </tr>\n",
       "  </tbody>\n",
       "</table>\n",
       "<p>5 rows × 6093 columns</p>\n",
       "</div>"
      ],
      "text/plain": [
       "  diet cease unrestricted afflict knapsack sh woefu swim real bubble  \\\n",
       "0    0     0            0       0        0  0     0    0    0      0   \n",
       "1    0     0            0       0        0  0     0    0    0      0   \n",
       "2    0     0            0       0        0  0     0    0    0      0   \n",
       "3    0     0            0       0        0  0     0    0    0      0   \n",
       "4    0     0            0       0        0  0     0    0    0      0   \n",
       "\n",
       "      ...     v. sanctuary substance may theme offering ammiral clover  \\\n",
       "0     ...      0         0         0   0     0        0       0      0   \n",
       "1     ...      0         0         0   0     0        0       0      0   \n",
       "2     ...      0         0         0   0     0        0       0      0   \n",
       "3     ...      0         0         0   0     0        0       0      0   \n",
       "4     ...      0         0         0   0     0        0       0      0   \n",
       "\n",
       "                                       text_sentence text_source  \n",
       "0  (Of, Man, 's, first, disobedience, ,, and, the...      Milton  \n",
       "1  (And, chiefly, thou, ,, O, Spirit, ,, that, do...      Milton  \n",
       "2  (Say, first, for, Heaven, hides, nothing, from...      Milton  \n",
       "3  (Who, first, seduced, them, to, that, foul, re...      Milton  \n",
       "4  (Th, ', infernal, Serpent, ;, he, it, was, who...      Milton  \n",
       "\n",
       "[5 rows x 6093 columns]"
      ]
     },
     "execution_count": 143,
     "metadata": {},
     "output_type": "execute_result"
    }
   ],
   "source": [
    "# Create our data frame with features. This can take a while to run.\n",
    "start_time = time.time()\n",
    "print('Processing...')\n",
    "\n",
    "word_counts = bow_features(sentences, common_words)\n",
    "\n",
    "t= round((time.time() - start_time),4)\n",
    "print(\"\\n -- %s seconds --\\n\" % t)\n",
    "\n",
    "word_counts.head()"
   ]
  },
  {
   "cell_type": "code",
   "execution_count": null,
   "metadata": {},
   "outputs": [],
   "source": [
    "#increase common words\n",
    "#explore td=idf"
   ]
  },
  {
   "cell_type": "code",
   "execution_count": null,
   "metadata": {},
   "outputs": [],
   "source": [
    "\n"
   ]
  },
  {
   "cell_type": "code",
   "execution_count": 144,
   "metadata": {},
   "outputs": [],
   "source": [
    "# Define the features and the outcome.\n",
    "y = word_counts['text_source']\n",
    "X = np.array(word_counts.drop(['text_sentence','text_source'], 1))\n",
    "\n"
   ]
  },
  {
   "cell_type": "code",
   "execution_count": 145,
   "metadata": {
    "scrolled": false
   },
   "outputs": [
    {
     "data": {
      "image/png": "[encoded data removed]",
      "text/plain": [
       "<Figure size 432x288 with 1 Axes>"
      ]
     },
     "metadata": {
      "needs_background": "light"
     },
     "output_type": "display_data"
    },
    {
     "name": "stdout",
     "output_type": "stream",
     "text": [
      "Comparing k-means clusters against the data:\n",
      "text_source  Beowulf  Blake  Burns  Doolittle  Homer  Keats  Longfellow  \\\n",
      "row_0                                                                     \n",
      "0                  0      0      3          0      0      0           0   \n",
      "1                  3      6     79          0     26      8          11   \n",
      "2                  1      0     90          0      1      1           0   \n",
      "3                 68      7    428          6    152     23          26   \n",
      "4                  2      3      2          0     29      1           0   \n",
      "5                  0      1     76          0     19      2           1   \n",
      "6                  6      0     60          0     24      6           4   \n",
      "7                 25      3     73          1     32      3           5   \n",
      "8                  0      0     52          0      7      0           2   \n",
      "9                 13      0    209          4     82     11           7   \n",
      "\n",
      "text_source  Milton  Sappho  Whitman  \n",
      "row_0                                 \n",
      "0                 0       0        0  \n",
      "1                20       2       14  \n",
      "2                 3       1        3  \n",
      "3                61      24      148  \n",
      "4                 3       0        0  \n",
      "5                 1       5       20  \n",
      "6                16       1        7  \n",
      "7                 9       0       33  \n",
      "8                 2       2        0  \n",
      "9                13       4       90  \n",
      "--- 8.13824200630188 seconds for model fit ---\n"
     ]
    }
   ],
   "source": [
    "start_time = time.time()\n",
    "\n",
    "# Normalize the data.\n",
    "X_norm = normalize(X)\n",
    "\n",
    "# Reduce it to two components.\n",
    "X_pca = PCA(int(X_norm.shape[0]/2)).fit_transform(X_norm)\n",
    "\n",
    "# Calculate predicted values.\n",
    "y_pred = KMeans(n_clusters=10, random_state=42).fit_predict(X_pca)\n",
    "\n",
    "# Plot the solution.\n",
    "plt.scatter(X_pca[:, 0], X_pca[:, 1], c=y_pred, alpha = 0.5)\n",
    "plt.show()\n",
    "\n",
    "# Check the solution against the data.\n",
    "print('Comparing k-means clusters against the data:')\n",
    "print(pd.crosstab(y_pred, y))\n",
    "\n",
    "print(\"--- %s seconds for model fit ---\" % (time.time() - start_time))"
   ]
  },
  {
   "cell_type": "code",
   "execution_count": 89,
   "metadata": {},
   "outputs": [
    {
     "data": {
      "text/plain": [
       "(463, 3040)"
      ]
     },
     "execution_count": 89,
     "metadata": {},
     "output_type": "execute_result"
    }
   ],
   "source": [
    "X_norm.shape"
   ]
  },
  {
   "cell_type": "code",
   "execution_count": 147,
   "metadata": {
    "scrolled": false
   },
   "outputs": [
    {
     "data": {
      "image/png": "[encoded data removed]",
      "text/plain": [
       "<Figure size 432x288 with 1 Axes>"
      ]
     },
     "metadata": {
      "needs_background": "light"
     },
     "output_type": "display_data"
    },
    {
     "name": "stdout",
     "output_type": "stream",
     "text": [
      "Comparing k-means clusters against the data:\n",
      "text_source  Beowulf  Blake  Burns  Doolittle  Homer  Keats  Longfellow  \\\n",
      "row_0                                                                     \n",
      "0                  3      0     16          0      9      1           2   \n",
      "1                  3      0      3          0      9      0           1   \n",
      "2                  1      0    125          0      6      0           1   \n",
      "3                 60      8    413          6    173     22          24   \n",
      "4                 13      0    220          4     81     12           7   \n",
      "5                 24      3     63          1     29      3           4   \n",
      "6                  1      2     24          0     20      4           5   \n",
      "7                  0      0     57          0      0      2           1   \n",
      "8                 11      1     73          0     19      2           1   \n",
      "9                  2      6     78          0     26      9          10   \n",
      "\n",
      "text_source  Milton  Sappho  Whitman  \n",
      "row_0                                 \n",
      "0                 3       1        6  \n",
      "1                11       1        0  \n",
      "2                 2       1        0  \n",
      "3                48      28      143  \n",
      "4                12       4       89  \n",
      "5                 7       0       28  \n",
      "6                19       2        8  \n",
      "7                 0       0       13  \n",
      "8                 9       0       14  \n",
      "9                17       2       14  \n",
      "--- 9.336785078048706 seconds to model ---\n"
     ]
    }
   ],
   "source": [
    "#plot true values\n",
    "start_time = time.time()\n",
    "\n",
    "# Normalize the data.\n",
    "X_norm = normalize(X)\n",
    "\n",
    "#pca = PCA(2).fit(X_norm)\n",
    "# Reduce it to two components.\n",
    "X_pca = PCA(int(X_norm.shape[0]/2)).fit_transform(X_norm)\n",
    "\n",
    "# Calculate predicted values.\n",
    "y_pred = KMeans(n_clusters=10, random_state=42).fit_predict(X_pca)\n",
    "\n",
    "labels = y.map(lambda x: 0 if x == \"Milton\" else (1 if x == \"Blake\" else 2))\n",
    "# Plot the solution.\n",
    "plt.scatter(X_pca[:, 0], X_pca[:, 1], c=labels, alpha = 0.5)\n",
    "plt.show()\n",
    "\n",
    "# Check the solution against the data.\n",
    "print('Comparing k-means clusters against the data:')\n",
    "print(pd.crosstab(y_pred, y))\n",
    "\n",
    "print(\"--- %s seconds to model ---\" % (time.time() - start_time))"
   ]
  },
  {
   "cell_type": "code",
   "execution_count": 148,
   "metadata": {},
   "outputs": [
    {
     "name": "stdout",
     "output_type": "stream",
     "text": [
      "Comparing k-means and mini batch k-means solutions:\n",
      "col_0   0  1   2    3    4    5   6   7    8    9\n",
      "row_0                                            \n",
      "0       0  3  10   47   12    1   2   2    2    0\n",
      "1       1  1   5    0    0  131   1   0    3    0\n",
      "2      13  0  30   35    5    1   1   4    0    1\n",
      "3       1  0   0    0    1    2  34   0    0    0\n",
      "4       0  7  13    3  402    7   1   3    0    0\n",
      "5       3  4   3    1    0    8   0   0    4  154\n",
      "6      20  9  62  778    1    4  43  57    3    1\n",
      "7       0  2   1    0    0    0   0   1  113    0\n",
      "8       0  1  10   39   17    7   3   6    0    2\n",
      "9       3  1   2   22    4    1   0   0    5    6\n",
      "--- 0.258256196975708 seconds to model ---\n"
     ]
    }
   ],
   "source": [
    "start_time = time.time()\n",
    "\n",
    "# Each batch will be made up of 200 data points.\n",
    "minibatchkmeans = MiniBatchKMeans(\n",
    "    init='random',\n",
    "    n_clusters=10,\n",
    "    batch_size=200)\n",
    "minibatchkmeans.fit(X_pca)\n",
    "\n",
    "# Add the new predicted cluster memberships to the data frame.\n",
    "predict_mini = minibatchkmeans.predict(X_pca)\n",
    "\n",
    "# Check the MiniBatch model against our earlier one.\n",
    "print('Comparing k-means and mini batch k-means solutions:')\n",
    "print(pd.crosstab(predict_mini, y_pred))\n",
    "\n",
    "print(\"--- %s seconds to model ---\" % (time.time() - start_time))"
   ]
  },
  {
   "cell_type": "code",
   "execution_count": null,
   "metadata": {},
   "outputs": [],
   "source": []
  },
  {
   "cell_type": "code",
   "execution_count": null,
   "metadata": {},
   "outputs": [],
   "source": [
    "#pca(reduce by half then only plot first 2) or lsa"
   ]
  },
  {
   "cell_type": "code",
   "execution_count": null,
   "metadata": {},
   "outputs": [],
   "source": []
  },
  {
   "cell_type": "code",
   "execution_count": 155,
   "metadata": {},
   "outputs": [],
   "source": [
    "from sklearn import ensemble\n",
    "from sklearn.model_selection import train_test_split\n",
    "\n",
    "y = word_counts['text_source']\n",
    "X = np.array(word_counts.drop(['text_sentence','text_source'], 1))\n",
    "\n",
    "X_train, X_test, y_train, y_test = train_test_split(X, \n",
    "                                                    y,\n",
    "                                                    test_size=0.25,\n",
    "                                                    stratify = y,\n",
    "                                                    random_state=0)\n",
    "\n",
    "split = StratifiedShuffleSplit(n_splits=5, random_state=1337)"
   ]
  },
  {
   "cell_type": "code",
   "execution_count": 156,
   "metadata": {},
   "outputs": [
    {
     "data": {
      "text/plain": [
       "Burns         268\n",
       "Homer          93\n",
       "Whitman        79\n",
       "Milton         32\n",
       "Beowulf        29\n",
       "Keats          14\n",
       "Longfellow     14\n",
       "Sappho         10\n",
       "Blake           5\n",
       "Doolittle       3\n",
       "Name: text_source, dtype: int64"
      ]
     },
     "execution_count": 156,
     "metadata": {},
     "output_type": "execute_result"
    }
   ],
   "source": [
    "y_test.value_counts()"
   ]
  },
  {
   "cell_type": "code",
   "execution_count": 157,
   "metadata": {},
   "outputs": [
    {
     "name": "stdout",
     "output_type": "stream",
     "text": [
      "NBB: 0.492727 (0.005455)\n",
      "RFC: 0.576364 (0.039038)\n",
      "KNN: 0.496364 (0.020000)\n",
      "DTC: 0.585455 (0.042872)\n",
      "GNB: 0.572727 (0.049627)\n",
      "SVC: 0.490909 (0.000000)\n",
      "GBC: 0.607273 (0.033722)\n",
      "ABC: 0.489091 (0.005455)\n",
      "ETC: 0.609091 (0.042446)\n",
      "QDA: 0.096364 (0.032575)\n"
     ]
    }
   ],
   "source": [
    "# Spot Check Algorithms\n",
    "models = []\n",
    "models.append(('NBB', BernoulliNB()))\n",
    "models.append(('RFC', ensemble.RandomForestClassifier()))\n",
    "models.append(('KNN', neighbors.KNeighborsClassifier()))\n",
    "models.append(('DTC', tree.DecisionTreeClassifier()))\n",
    "models.append(('GNB', GaussianNB()))\n",
    "models.append(('SVC', SVC()))\n",
    "models.append(('GBC', ensemble.GradientBoostingClassifier()))\n",
    "models.append(('ABC', ensemble.AdaBoostClassifier()))\n",
    "models.append(('ETC', ensemble.ExtraTreesClassifier()))\n",
    "models.append(('QDA', QuadraticDiscriminantAnalysis()))\n",
    "#models.append(('GMM', GaussianMixture()))\n",
    "\n",
    "# evaluate each model in turn\n",
    "results = []\n",
    "names = []\n",
    "for name, model in models:\n",
    "    split = StratifiedShuffleSplit(n_splits=10, random_state=1337)\n",
    "    model = model.fit(X_train,y_train)\n",
    "    cv_results = cross_val_score(model, X_test, y_test, cv=split, scoring='accuracy')\n",
    "    results.append(cv_results)\n",
    "    names.append(name)\n",
    "    msg = \"%s: %f (%f)\" % (name, cv_results.mean(), cv_results.std())\n",
    "    print(msg)"
   ]
  },
  {
   "cell_type": "code",
   "execution_count": 93,
   "metadata": {},
   "outputs": [
    {
     "name": "stdout",
     "output_type": "stream",
     "text": [
      "Training set score: 0.9942363112391931\n",
      "\n",
      "Test set score: 0.7672413793103449\n",
      "\n",
      "Cross Validation:\n",
      "    0.65 (+/- 0.11)\n",
      "[0.66666667 0.66666667 0.58333333 0.5        0.83333333]\n"
     ]
    }
   ],
   "source": [
    "rfc = ensemble.RandomForestClassifier()\n",
    "rfc.fit(X_train, y_train)\n",
    "\n",
    "print('Training set score:', rfc.score(X_train, y_train))\n",
    "print('\\nTest set score:', rfc.score(X_test, y_test))\n",
    "\n",
    "split = StratifiedShuffleSplit(n_splits=5, random_state=1337)\n",
    "\n",
    "score = cross_val_score(rfc, X_test, y_test, cv=split, scoring='accuracy')\n",
    "print(\"\\nCross Validation:\\n    %0.2f (+/- %0.2f)\" % (score.mean(), score.std()))\n",
    "print(score)"
   ]
  },
  {
   "cell_type": "code",
   "execution_count": 94,
   "metadata": {},
   "outputs": [
    {
     "name": "stdout",
     "output_type": "stream",
     "text": [
      "Training set score: 0.9798270893371758\n",
      "\n",
      "Test set score: 0.8103448275862069\n",
      "\n",
      "Cross Validation:\n",
      "    0.72 (+/- 0.08)\n",
      "[0.75       0.75       0.66666667 0.58333333 0.83333333]\n"
     ]
    }
   ],
   "source": [
    "from sklearn.linear_model import LogisticRegression\n",
    "\n",
    "lr = LogisticRegression(penalty='l2') # No need to specify l2 as it's the default. But we put it for demonstration.\n",
    "lr.fit(X_train, y_train)\n",
    "\n",
    "print('Training set score:', lr.score(X_train, y_train))\n",
    "print('\\nTest set score:', lr.score(X_test, y_test))\n",
    "\n",
    "split = StratifiedShuffleSplit(n_splits=5, random_state=1337)\n",
    "\n",
    "score = cross_val_score(lr, X_test, y_test, cv=split, scoring='accuracy')\n",
    "print(\"\\nCross Validation:\\n    %0.2f (+/- %0.2f)\" % (score.mean(), score.std()))\n",
    "print(score)"
   ]
  },
  {
   "cell_type": "code",
   "execution_count": 95,
   "metadata": {},
   "outputs": [
    {
     "name": "stdout",
     "output_type": "stream",
     "text": [
      "Training set score: 0.9971181556195965\n",
      "\n",
      "Test set score: 0.7586206896551724\n",
      "\n",
      "Cross Validation:\n",
      "    0.70 (+/- 0.11)\n",
      "[0.66666667 0.66666667 0.66666667 0.58333333 0.91666667]\n"
     ]
    }
   ],
   "source": [
    "clf = ensemble.GradientBoostingClassifier()\n",
    "clf.fit(X_train, y_train)\n",
    "\n",
    "print('Training set score:', clf.score(X_train, y_train))\n",
    "print('\\nTest set score:', clf.score(X_test, y_test))\n",
    "\n",
    "\n",
    "split = StratifiedShuffleSplit(n_splits=5, random_state=1337)\n",
    "\n",
    "score = cross_val_score(clf, X_test, y_test, cv=split, scoring='accuracy')\n",
    "print(\"\\nCross Validation:\\n    %0.2f (+/- %0.2f)\" % (score.mean(), score.std()))\n",
    "print(score)"
   ]
  },
  {
   "cell_type": "code",
   "execution_count": null,
   "metadata": {},
   "outputs": [],
   "source": []
  },
  {
   "cell_type": "code",
   "execution_count": null,
   "metadata": {},
   "outputs": [],
   "source": []
  }
 ],
 "metadata": {
  "kernelspec": {
   "display_name": "Python 3",
   "language": "python",
   "name": "python3"
  },
  "language_info": {
   "codemirror_mode": {
    "name": "ipython",
    "version": 3
   },
   "file_extension": ".py",
   "mimetype": "text/x-python",
   "name": "python",
   "nbconvert_exporter": "python",
   "pygments_lexer": "ipython3",
   "version": "3.7.2"
  }
 },
 "nbformat": 4,
 "nbformat_minor": 2
}
