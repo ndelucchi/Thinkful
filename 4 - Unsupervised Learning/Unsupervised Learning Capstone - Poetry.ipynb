{
 "cells": [
  {
   "cell_type": "markdown",
   "metadata": {},
   "source": [
    "For this project you'll dig into a large amount of text and apply most of what you've covered in this unit and in the course so far.\n",
    "\n",
    "First, pick a set of texts. This can be either a series of novels, chapters, or articles. Anything you'd like. It just has to have multiple entries of varying characteristics. At least 100 should be good. There should also be at least 10 different authors, but try to keep the texts related (either all on the same topic or from the same branch of literature - something to make classification a bit more difficult than obviously different subjects).\n",
    "\n",
    "This capstone can be an extension of your NLP challenge if you wish to use the same corpus. If you found problems with that data set that limited your analysis, however, it may be worth using what you learned to choose a new corpus. Reserve 25% of your corpus as a test set.\n",
    "\n",
    "1. The first technique is to create a series of clusters. Try several techniques and pick the one you think best represents your data. Make sure there is a narrative and reasoning around why you have chosen the given clusters. Are authors consistently grouped into the same cluster?\n",
    "\n",
    "2. Next, perform some unsupervised feature generation and selection using the techniques covered in this unit and elsewhere in the course. \n",
    "\n",
    "3. Using those features then build models to attempt to classify your texts by author. Try different permutations of unsupervised and supervised techniques to see which combinations have the best performance.\n",
    "\n",
    "4. Lastly return to your holdout group. Does your clustering on those members perform as you'd expect? Have your clusters remained stable or changed dramatically? What about your model? Is it's performance consistent? If there is a divergence in the relative stability of your model and your clusters, delve into why.\n",
    "\n",
    "Your end result should be a write up of how clustering and modeling compare for classifying your texts. What are the advantages of each? Why would you want to use one over the other? Approximately 3-5 pages is a good length for your write up, and remember to include visuals to help tell your story!"
   ]
  },
  {
   "cell_type": "code",
   "execution_count": 59,
   "metadata": {},
   "outputs": [],
   "source": [
    "import time\n",
    "import pandas as pd\n",
    "import numpy as np\n",
    "import spacy\n",
    "import nltk\n",
    "from nltk.corpus import gutenberg\n",
    "import re\n",
    "import matplotlib.pyplot as plt\n",
    "from collections import Counter\n",
    "from sklearn.cluster import KMeans, MiniBatchKMeans\n",
    "from sklearn.decomposition import PCA\n",
    "from sklearn.preprocessing import normalize\n",
    "from sklearn.mixture import GaussianMixture\n",
    "from sklearn import neighbors\n",
    "from sklearn.svm import SVC\n",
    "from sklearn import tree\n",
    "from sklearn.discriminant_analysis import QuadraticDiscriminantAnalysis\n",
    "from sklearn.naive_bayes import BernoulliNB, GaussianNB\n",
    "from sklearn.model_selection import train_test_split, cross_val_score, StratifiedShuffleSplit\n",
    "\n",
    "import warnings \n",
    "warnings.simplefilter('ignore')"
   ]
  },
  {
   "cell_type": "code",
   "execution_count": 60,
   "metadata": {},
   "outputs": [
    {
     "name": "stdout",
     "output_type": "stream",
     "text": [
      "['austen-emma.txt', 'austen-persuasion.txt', 'austen-sense.txt', 'bible-kjv.txt', 'blake-poems.txt', 'bryant-stories.txt', 'burgess-busterbrown.txt', 'carroll-alice.txt', 'chesterton-ball.txt', 'chesterton-brown.txt', 'chesterton-thursday.txt', 'edgeworth-parents.txt', 'melville-moby_dick.txt', 'milton-paradise.txt', 'shakespeare-caesar.txt', 'shakespeare-hamlet.txt', 'shakespeare-macbeth.txt', 'whitman-leaves.txt']\n"
     ]
    }
   ],
   "source": [
    "print(gutenberg.fileids())"
   ]
  },
  {
   "cell_type": "code",
   "execution_count": 175,
   "metadata": {},
   "outputs": [
    {
     "name": "stdout",
     "output_type": "stream",
     "text": [
      "Of Man's first disobedience, and the fruit Of that forbidden tree whose mortal taste Brought death i\n",
      "Piping down the valleys wild, Piping songs of pleasant glee, On a cloud saw a child, And he laughing\n",
      "Come, said my soul, Such verses for my Body let us write, (for we are one,) That should I after retu\n",
      "Should you ask me, whence these stories? Whence these legends and traditions, With the odors of the \n",
      "A thing of beauty is a joy for ever: Its loveliness increases; it will never Pass into nothingness; \n",
      "In a council of the Gods, Minerva calls their attention to Ulysses, still a wanderer. They resolve t\n",
      ". WINTER. A DIRGE. The wintry west extends his blast, And hail and rain does blaw; Or the stormy nor\n",
      "ROSE Rose, harsh rose, marred and with stint of petals, meagre flower, thin, sparse of leaf, more pr\n",
      "THE LIFE AND DEATH OF SCYLD. {The famous race of Spear-Danes.} Lo! the Spear-Danes' glory through sp\n",
      "I Cyprus, Paphos, or Panormus May detain thee with their splendour Of oblations on thine altars, O i\n"
     ]
    }
   ],
   "source": [
    "# Utility function for standard text cleaning.\n",
    "def text_cleaner(text):\n",
    "    # Visual inspection identifies a form of punctuation spaCy does not\n",
    "    # recognize: the double dash '--'.  Better get rid of it now!\n",
    "    text = re.sub(r'--',' ',text)\n",
    "    text = re.sub(\"[\\[].*?[\\]]\", \"\", text)\n",
    "    text = ' '.join(text.split())\n",
    "    return text\n",
    "    \n",
    "# Load and clean the data.\n",
    "leaves = gutenberg.raw('whitman-leaves.txt')\n",
    "paradise = gutenberg.raw('milton-paradise.txt')\n",
    "blake = gutenberg.raw('blake-poems.txt')\n",
    "hiawatha = open(\"The Song Of Hiawatha, by Henry W. Longfellow.txt\")\n",
    "hiawatha = hiawatha.read()\n",
    "endymion = open(\"Endymion, by John Keats.txt\")\n",
    "endymion = endymion.read()\n",
    "odyssey = open(\"The Odyssey by Homer.txt\")\n",
    "odyssey = odyssey.read()\n",
    "burns = open(\"The Complete Works of Robert Burns.txt\")\n",
    "burns = burns.read()\n",
    "sea = open(\"Sea Garden by Hilda Doolittle.txt\")\n",
    "sea = sea.read()\n",
    "beowulf = open(\"Beowulf by Leslie Hall.txt\")\n",
    "beowulf = beowulf.read()\n",
    "sappho = open(\"Sappho- One Hundred Lyrics by Bliss Carman.txt\")\n",
    "sappho = sappho.read()\n",
    "\n",
    "\n",
    "# unique cleaning\n",
    "paradise = re.sub(r'Book \\D{1,3}', '', paradise)\n",
    "endymion = re.sub(r'BOOK \\D{1,3}', '', endymion)\n",
    "odyssey = re.sub(r'BOOK \\D{1,3}', '', odyssey)\n",
    "odyssey = re.sub(r'ARGUMENT', '', odyssey)\n",
    "blake = re.sub(r\"[A-Z]+\\b\",\"\",blake)\n",
    "blake = re.sub(r\"and   of\",\"\",blake)\n",
    "beowulf = re.sub(r\"^[A-Z]+\\.\",\"\",beowulf)\n",
    "sea = re.sub(r\"^[A-Z]+\",\"\",sea)\n",
    "burns = re.sub(r\"^[A-Z]+\", \"\",burns)\n",
    "burns = re.sub(r\"^[A-Z]+\\.\", \"\",burns)\n",
    "\n",
    "#books = [paradise, blake, leaves, hiawatha, endymion]\n",
    "#for b in books:\n",
    "    #books = text_cleaner(b[:int(len(b)/30)])\n",
    "s = 40\n",
    "paradise = text_cleaner(paradise[:int(len(paradise)/100)])\n",
    "blake = text_cleaner(blake[:int(len(blake)/7)])\n",
    "leaves = text_cleaner(leaves[:int(len(leaves)/150)])\n",
    "hiawatha = text_cleaner(hiawatha[:int(len(hiawatha)/22)])\n",
    "endymion = text_cleaner(endymion[:int(len(endymion)/18)])\n",
    "odyssey = text_cleaner(odyssey[:int(len(odyssey)/150)])\n",
    "burns = text_cleaner(burns[:int(len(burns)/350)])\n",
    "sea = text_cleaner(sea[:int(len(sea)/6)])\n",
    "beowulf = text_cleaner(beowulf[:int(len(beowulf)/50)])\n",
    "sappho = text_cleaner(sappho[:int(len(sappho)/10)])\n",
    "\n",
    "print(paradise[:100])\n",
    "print(blake[:100])\n",
    "print(leaves[:100])\n",
    "print(hiawatha[:100])\n",
    "print(endymion[:100])\n",
    "print(odyssey[:100])\n",
    "print(burns[:100])\n",
    "print(sea[:100])\n",
    "print(beowulf[:100])\n",
    "print(sappho[:100])"
   ]
  },
  {
   "cell_type": "code",
   "execution_count": 176,
   "metadata": {},
   "outputs": [
    {
     "name": "stdout",
     "output_type": "stream",
     "text": [
      "4518\n",
      "4926\n",
      "4584\n",
      "8177\n",
      "9605\n",
      "4399\n",
      "4324\n",
      "4667\n",
      "4155\n",
      "4354\n"
     ]
    }
   ],
   "source": [
    "print(len(paradise))\n",
    "print(len(blake))\n",
    "print(len(leaves))\n",
    "print(len(hiawatha))\n",
    "print(len(endymion))\n",
    "print(len(odyssey))\n",
    "print(len(burns))\n",
    "print(len(sea))\n",
    "print(len(beowulf))\n",
    "print(len(sappho))"
   ]
  },
  {
   "cell_type": "code",
   "execution_count": 177,
   "metadata": {},
   "outputs": [
    {
     "name": "stdout",
     "output_type": "stream",
     "text": [
      "done!\n"
     ]
    }
   ],
   "source": [
    "# Parse the cleaned novels. This can take a bit.\n",
    "nlp = spacy.load('en')\n",
    "paradise_doc = nlp(paradise)\n",
    "blake_doc = nlp(blake)\n",
    "leaves_doc = nlp(leaves)\n",
    "hiawatha_doc = nlp(hiawatha)\n",
    "endymion_doc = nlp(endymion)\n",
    "odyssey_doc = nlp(odyssey)\n",
    "burns_doc = nlp(burns)\n",
    "sea_doc = nlp(sea)\n",
    "beowulf_doc = nlp(beowulf)\n",
    "sappho_doc = nlp(sappho)\n",
    "\n",
    "print('done!')"
   ]
  },
  {
   "cell_type": "code",
   "execution_count": 178,
   "metadata": {},
   "outputs": [
    {
     "data": {
      "text/html": [
       "<div>\n",
       "<style scoped>\n",
       "    .dataframe tbody tr th:only-of-type {\n",
       "        vertical-align: middle;\n",
       "    }\n",
       "\n",
       "    .dataframe tbody tr th {\n",
       "        vertical-align: top;\n",
       "    }\n",
       "\n",
       "    .dataframe thead th {\n",
       "        text-align: right;\n",
       "    }\n",
       "</style>\n",
       "<table border=\"1\" class=\"dataframe\">\n",
       "  <thead>\n",
       "    <tr style=\"text-align: right;\">\n",
       "      <th></th>\n",
       "      <th>0</th>\n",
       "      <th>1</th>\n",
       "    </tr>\n",
       "  </thead>\n",
       "  <tbody>\n",
       "    <tr>\n",
       "      <th>0</th>\n",
       "      <td>(Of, Man, 's, first, disobedience, ,, and, the...</td>\n",
       "      <td>Milton</td>\n",
       "    </tr>\n",
       "    <tr>\n",
       "      <th>1</th>\n",
       "      <td>(And, chiefly, thou, ,, O, Spirit, ,, that, do...</td>\n",
       "      <td>Milton</td>\n",
       "    </tr>\n",
       "    <tr>\n",
       "      <th>2</th>\n",
       "      <td>(Say, first, for, Heaven, hides, nothing, from...</td>\n",
       "      <td>Milton</td>\n",
       "    </tr>\n",
       "    <tr>\n",
       "      <th>3</th>\n",
       "      <td>(Who, first, seduced, them, to, that, foul, re...</td>\n",
       "      <td>Milton</td>\n",
       "    </tr>\n",
       "    <tr>\n",
       "      <th>4</th>\n",
       "      <td>(Th, ', infernal, Serpent, ;, he, it, was, who...</td>\n",
       "      <td>Milton</td>\n",
       "    </tr>\n",
       "  </tbody>\n",
       "</table>\n",
       "</div>"
      ],
      "text/plain": [
       "                                                   0       1\n",
       "0  (Of, Man, 's, first, disobedience, ,, and, the...  Milton\n",
       "1  (And, chiefly, thou, ,, O, Spirit, ,, that, do...  Milton\n",
       "2  (Say, first, for, Heaven, hides, nothing, from...  Milton\n",
       "3  (Who, first, seduced, them, to, that, foul, re...  Milton\n",
       "4  (Th, ', infernal, Serpent, ;, he, it, was, who...  Milton"
      ]
     },
     "execution_count": 178,
     "metadata": {},
     "output_type": "execute_result"
    }
   ],
   "source": [
    "# Group into sentences.\n",
    "paradise_sents = [[sent, \"Milton\"] for sent in paradise_doc.sents]\n",
    "blake_sents = [[sent, \"Blake\"] for sent in blake_doc.sents]\n",
    "leaves_sents = [[sent, \"Whitman\"] for sent in leaves_doc.sents]\n",
    "hiawatha_sents = [[sent, \"Longfellow\"] for sent in hiawatha_doc.sents]\n",
    "endymion_sents = [[sent, \"Keats\"] for sent in endymion_doc.sents]\n",
    "odyssey_sents = [[sent, \"Homer\"] for sent in odyssey_doc.sents]\n",
    "burns_sents = [[sent, \"Burns\"] for sent in burns_doc.sents]\n",
    "sea_sents = [[sent, \"Doolittle\"] for sent in sea_doc.sents]\n",
    "beowulf_sents = [[sent, \"Beowulf\"] for sent in beowulf_doc.sents]\n",
    "sappho_sents = [[sent, \"Sappho\"] for sent in sappho_doc.sents]\n",
    "\n",
    "# Combine the sentences from the two novels into one data frame.\n",
    "sentences = pd.DataFrame(paradise_sents + blake_sents + \n",
    "                         leaves_sents + hiawatha_sents + \n",
    "                         endymion_sents + odyssey_sents +\n",
    "                         burns_sents[:350] + sea_sents +\n",
    "                         beowulf_sents + sappho_sents)\n",
    "sentences.head()"
   ]
  },
  {
   "cell_type": "code",
   "execution_count": 179,
   "metadata": {},
   "outputs": [
    {
     "name": "stdout",
     "output_type": "stream",
     "text": [
      "24\n",
      "59\n",
      "42\n",
      "50\n",
      "68\n",
      "54\n",
      "65\n",
      "45\n",
      "61\n",
      "63\n",
      "531\n"
     ]
    }
   ],
   "source": [
    "print(len(paradise_sents))\n",
    "print(len(blake_sents))\n",
    "print(len(leaves_sents))\n",
    "print(len(hiawatha_sents))\n",
    "print(len(endymion_sents))\n",
    "print(len(odyssey_sents))\n",
    "print(len(burns_sents[:350]))\n",
    "print(len(sea_sents))\n",
    "print(len(beowulf_sents))\n",
    "print(len(sappho_sents))\n",
    "print(len(sentences))"
   ]
  },
  {
   "cell_type": "code",
   "execution_count": 180,
   "metadata": {},
   "outputs": [],
   "source": [
    "# Utility function to create a list of the 3000 most common words.\n",
    "def bag_of_words(text):\n",
    "    \n",
    "    # Filter out punctuation and stop words.\n",
    "    allwords = [token.lemma_\n",
    "                for token in text\n",
    "                if not token.is_punct\n",
    "                and not token.is_stop]\n",
    "    \n",
    "    # Return the most common words.\n",
    "    return [item[0] for item in Counter(allwords).most_common(4000)]\n",
    "\n",
    "# Creates a data frame with features for each word in our common word set.\n",
    "# Each value is the count of the times the word appears in each sentence.\n",
    "def bow_features(sentences, common_words):\n",
    "    \n",
    "    # Scaffold the data frame and initialize counts to zero.\n",
    "    df = pd.DataFrame(columns=common_words)\n",
    "    df['text_sentence'] = sentences[0]\n",
    "    df['text_source'] = sentences[1]\n",
    "    df.loc[:, common_words] = 0\n",
    "    \n",
    "    # Process each row, counting the occurrence of words in each sentence.\n",
    "    for i, sentence in enumerate(df['text_sentence']):\n",
    "        \n",
    "        # Convert the sentence to lemmas, then filter out punctuation,\n",
    "        # stop words, and uncommon words.\n",
    "        words = [token.lemma_\n",
    "                 for token in sentence\n",
    "                 if (\n",
    "                     not token.is_punct\n",
    "                     and not token.is_stop\n",
    "                     and token.lemma_ in common_words\n",
    "                 )]\n",
    "        \n",
    "        # Populate the row with word counts.\n",
    "        for word in words:\n",
    "            df.loc[i, word] += 1\n",
    "        \n",
    "        # This counter is just to make sure the kernel didn't hang.\n",
    "        if i % 50 == 0:\n",
    "            print(\"Processing row {}\".format(i))\n",
    "            \n",
    "    return df\n",
    "\n",
    "# Set up the bags.\n",
    "blakewords = bag_of_words(blake_doc)\n",
    "paradisewords = bag_of_words(paradise_doc)\n",
    "leaveswords = bag_of_words(leaves_doc)\n",
    "hiawathawords = bag_of_words(hiawatha_doc)\n",
    "endymionwords = bag_of_words(endymion_doc)\n",
    "odysseywords = bag_of_words(odyssey_doc)\n",
    "burnswords = bag_of_words(burns_doc)\n",
    "seawords = bag_of_words(sea_doc)\n",
    "beowulfwords = bag_of_words(beowulf_doc)\n",
    "sapphowords = bag_of_words(sappho_doc)\n",
    "\n",
    "# Combine bags to create a set of unique words.\n",
    "common_words = set(blakewords + paradisewords + \n",
    "                   leaveswords + hiawathawords + \n",
    "                   endymionwords + odysseywords +\n",
    "                   burnswords + seawords +\n",
    "                   beowulfwords +sapphowords)"
   ]
  },
  {
   "cell_type": "code",
   "execution_count": 181,
   "metadata": {},
   "outputs": [
    {
     "name": "stdout",
     "output_type": "stream",
     "text": [
      "{'only', 'chilly', 'greed', 'difficult', 'telemachus', 'display', 'ægisthus', 'lift', 'seduce', 'durst', 'giver', 'doleful', 'reason', 'light', 'phantasy', 'thick', 'equal', 'coffin', 'pease', \"one's\", 'comfort', 'gap', 'freshness', 'lændagas', 'earn', 'arm', 'veneration', 'union', 'whisper', 'village', 'woefu', 'hast', \"ponder'd\", 'letter', 'ditch', 'herd', 'child', 'siloa', 'ground', 'eye', 'serpent', 'guile', 'daisy', 'h', 'breaker', 'ken', 'hideous', 'cyprian', 'chase', 'band', 'step', 'sae', 'abyss', 'rift', 'pit', 'perish', 'haughty', 'eyry', 'walk', 'mentes', 'earthward', 'grave', 'curl', 'battle', 'speckle', 'reading', 'boss', 'malice', 'author', 'mak', 'fretted', 'unfooted', 'person', 'through', 'ithaca', 'plainer', 'working', 'boundless', 'do', 'glimmer', 'pleasure', 'instruct', 'joyless', 'spend', 'into', 'rushing', 'breast', 'quiet', \"sep'rate\", 'stir', 'fair', 'delight', 'hide', 'honest', 'beaver', 'uncertain', 'watchful', \"ev'n\", 'rill', 'burden', 'rædenne', 'lordless', 'lesbian', 'sing', 'lamentable', 'herding', 'grape', 'assault', 'gain', 'thine', 'mar', 'ae', 'scylding', 'revolt', 'geweald', 'pall', 'constrain', 'sand', 'scene', 'brooding', 'welter', 'bathe', \"edg'd\", 'waft', 'push', 'action', 'nest', 'pebble', 'could', 'bill', 'rhythm', \"return'd\", 'horrid', 'agamemnon', 'book', 'grandeur', 'pile', \"green'd\", 'terrible', 'fenny', 'attend', 'confound', 'unto', 'omahas', \"rang'd\", 'almighty', 'both', 'yes', 'bank', 'woman', 'hail', 'requitingly', 'heartless', 'lead', 'night', 'mountain', 'form', 'merit', 'mean', 'arcadian', 'hold', 'monie', 'group', 'moulder', 'early', 'sailing', 'behold', 'huge', 'horrible', 'eglantine', 'sphere', 'faithfu', 'heavenly', 'utter', 'aloud', 'brush', 'sweat', 'body', 'standard', 'ethereal', 'than', 'well', 'ambitious', '60', 'thunder', 'now', 'swollen', 'ulyss', 'roe', 'mighty', 'marble', 'arrive', 'glow', 'freshly', 'tract', '25', 'able', 'transitory', 'stand', 'strong', 'hush', 'precious', 'dear', 'joy', 'adonis', \"ne'er\", 'beautiful', 'sight', 'perdition', 'remote', 'bee', 'slant', 'terror', 'fen', 'sad', 'the', 'ii', 'doctrine', 'startle', 'alley', 'crisp', 'beloved', 'wintry', 'moist', 'unseen', 'coast', 'quarry', 'flute', 'bless', 'sightless', 'orion', 'tooth', 'triton', 'string', 'northern', 'mend', 'play', 'withal', 'greatly', 'laugh', 'thrice', 'thysel', \"thou'se\", 'silly', 'tal', 'wind', 'anguish', 'centre', \"o'ercast\", 'keen', \"destroy'd\", 'anchor', 'male', 'what', 'fam', 'men', 'bardie', 'scatter', 'b.', 'protector', 'sweeper', 'crevice', 'track', 'believe', 'chimney', 'wonder', 'scap', 'spark', 'pip', 'lynx', 'wretch', 'poor', 'wife', 'welcome', 'dubious', '35', 'salt', 'yea', 'inquiry', 'iii', 'perfume', 'fasten', 'tawasentha', 'gulf', 'harm', 'pleasantness', 'striving', 'left', 'blight', 'sound', 'raise', 'gift', 'credit', 'sparkle', 'craft', 'flower', 'roller', 'bade', 'jove', 'clang', 'rebel', 'maze', 'number', 'wheat', 'celebrate', 'boat', 'field', 'unfold', 'place', 'neighbor', 'transgress', 'contrive', 'haunt', 'upo', 'hero', 'ceaseless', 'lamb', 'bush', 'jack', 'proceed', 'mell', 'viii', 'endymion', 'leaf', 'strait', 'make', 'helpless', 'purpose', 'imperial', 'budder', 'ear', 'fat', 'must', 'assumption', 'right', 'attentive', 'why', 'loveliness', 'warrior', 'baleful', 'mould', 'shower', 'headland', 'shew', 'i.e.', 'pomp', 'brown', 'envy', 'dwell', 'shadow', 'lament', 'up', 'remorseless', 'southern', 'but', 'calypso', 'yearning', 'scrip', 'meadow', 'pen', 'steer', 'wilderness', 'state', '100', 'golden', 'haven', 'stack', 'west', 'honor', 'cause', 'na', 'glad', 'strike', 'aid', 'hunting', 'ane', 'dawn', 'favour', 'befall', 'tenfold', 'past', 'tell', 'plain', 'naeth', 'edge', 'birth', 'round', 'ishkoodah', 'vi', 'score', \"fall'n\", 'pal', 'heat', 'dying', 'befit', 'reign', \"chang'd\", 'fade', 'gr', 'equally', 'airy', 'leader', 'beheld', 'polypheme', '110', 'bag', 'espy', 'sleeping', 'whirlwind', 'sang', 'fewer', 'leafless', 'over', 'situate', 'hunt', 'frae', 'begin', 'vista', 'transcendent', 'follow', 'undiscovered', 'land', 'thread', 'blessin', 'chiding', 'disobedience', 'invoke', 'gold', 'grass', 'havin', 'sunlight', \"brimm'd\", 'sit', 'echo', 'will', 'theme', 'compassion', \"cross'd\", 'within', 'hung', 'vapor', 'power', 'crescent', 'seaward', 'infant', 'solemnity', 'weep', 'holiday', 'knowe', 'scholar', 'pour', 'music', 'aonian', 'manner', 'spence', 'danes', 'feel', 'trumpet', 'cry', 'promote', 'hut', 'noonday', 'key', \"say't\", 'splendour', 'flutter', 'love', 'venerable', 'threshold', 'singer', 'render', '121', 'helper', 'afar', 'maiden', 'deep', 'habitan', 'hereditary', 'temperate', 'torture', 'clothing', 'girl', 'troy', 'honey', 'fame', 'arise', 'dire', 'pukwana', 'finish', 'delicate', 'ned', 'versatile', 'slap', 'fix', 'throughout', 'stubborn', 'sport', 'immense', 'beckon', 'profligacy', 'would', 'sacred', 'peerless', 'niest', 'threefold', 'ledge', 'a', 'vassal', 'upright', 'shrewdness', 'favor', 'howl', 'pea', 'tranquil', 'stormy', 'embossing', 'ruler', 'dreadful', 'bramble', 'lurk', 'cow', 'flowery', 'eastward', 'dog', 'resign', 'rich', 'melt', 'camanches', 'faulter', 'knot', 'star', 'bend', 'descry', 'perfect', 'needment', 'tale', 'unhealthy', \"o'er\", 'een', 'name', 'nightfall', 'brain', 'vestment', 'shapely', 'club', 'merely', 'aspect', 'paternal', 'sits', 'daisies', 'beelzebub', 'newly', 'slope', 'request', 'aggregate', 'sorrow', 'neebor', 'tumble', 'abundance', 'woo', \"wand'rer\", 'torn', 'reed', 'native', 'travel', 'ready', 'seek', 'harden', 'bell', 'aforetime', 'trust', 'unworri', 'victim', \"rear'd\", 'glare', 'amber', 'mountains', 'gloomy', 'expand', 'earl', 'pause', 'fierce', 'bower', 'gray', 'race', 'odor', 'mat', 'þá', 'hemp', 'enchant', 'joe', 'silvery', 'feelingly', '45', 'outspread', 'fight', 'join', 'justify', 'resume', 'harvest', 'bereave', '40', 'godlike', 'underneath', 'bloodsh', 'wave', 'poll', 'tide', 'middle', 'hame', 'stedfast', 'th', 'midst', 'mushkodasa', 'ministring', 'phrase', 'faint', 'infernal', 'nothingness', 'wretched', '200', 'waes', 'know', 'adamantine', 'assemble', 'holm', 'footprint', 'share', 'yowie', 'syllable', 'blissful', 'fear', 'lost', 'aldor', 'lone', 'tallying', 'cheek', 'musk', 'south', 'with', 'mahng', 'an', 'prone', 'masse', \"sat'st\", 'insidious', 'lend', 'knee', 'atheling', 'space', 'still', 'prosper', 'swing', 'scorn', 'wander', 'fern', 'devious', 'upon', 'outline', 'future', 'prowess', 'she', 'tear', 'dense', 'tie', 'divinity', 'morn', 'soft', 'ever', 'infinite', 'scefing', 'leda', 'longing', 'boon', 'league', 'dacre', 'search', 'horn', 'breed', 'stain', 'lock', 'ankle', 'fleesh', 'by', 'roar', \"lea'e\", 'speed', 'northland', 'mightiest', 'politic', 'appear', 'bird', 'defy', 'advice', 'dream', 'ulysses', \"call'd\", 'creaking', 'toiling', 'daring', 'bit', 'looker', 'red', 'content', 'contention', 'lure', \"unwarn'd\", 'hand', 'trouble', 'obdurate', '50', 'bonnier', 'rise', 'hazard', 'warlike', 'hie', 'penal', 'amang', 'fulfil', 'sleep', 'aphrodite', 'vanquish', 'slay', 'fold', 'depart', 'chetowaik', 'reave', \"deferr'd\", 'think', 'sleet', 'vessel', 'hitch', 'fruit', 'mordant', 'tuscaloosa', 'palisade', 'rædende', 'man', 'falter', 'wilful', 'methink', 'consort', 'yoke', '90', 'rein', 'catch', \"o'erarch\", 'translation', 'pard', 'deceive', 'discern', 'for', 'this', 'burst', 'sea', 'separate', 'shave', 'deliverer', 'saut', 'marine', 'grouse', 'tress', 'scrub', 'heir', 'sheer', 'flow', 'covet', 'downward', 'compel', 'dwelt', 'splendid', 'forlorn', 'follower', 'happiness', 'fine', 'leap', 'physiognomy', 'satisfactory', 'free', 'majestic', '15', 'warm', 'fill', 'dairy', 'banquet', 'shaker', 'tether', 'sievers', 'wait', 'dress', 'witness', 'blacken', 'straightway', 'perceive', 'beneath', 'fleet', 'cool', 'brightness', 'peace', 'strength', 'sudden', 'impregnate', 'paler', \"pow'rs\", 'youth', 'touch', 'favoured', 'slowly', 'rock', 'learn', 'dead', 'unco', 'fore', 'wide', 'marge', 'contend', 'excel', 'urge', 'achaia', 'spite', 'dread', 'graveyard', 'acorn', 'companion', 'wreath', 'far', \"bird's\", \"beckon'd\", 'iv', 'legend', 'mushroom', 'myriads', 'loon', 'vow', 'shady', 'base', 'kl', 'god', 'after', 'bosom', 'grove', 'rest', 'dost', 'themsel', 'chief', 'when', 'athletic', 'orb', 'unattempt', 'yonder', 'alway', 'teem', 'stalk', 'wanderer', 'enterprise', 'peer', 'sense', 'unconsum', 'moon', 'path', 'whip', 'bone', \"heap'd\", 'sappho', 'dwelling', 'pursuit', 'such', 'wawa', 'earth', \"suff'ring\", 'spake', 'main', 'winter', 'foul', 'spirit', 'slate', 'waver', 'charge', 'fancy', \"address'd\", 'assembly', 'beach', 'suddenly', 'at', 'scarcely', 'head', 'repent', 'tree', 'paint', 'suggestion', 'situation', 'shore', 'keep', 'to', 'goose', 'slacken', 'alas', 'useless', \"puls'd\", 'cradle', 'mere', 'dearth', 'dacotahs', 'brother', 'furze', 'enkindle', 'swelling', 'didst', 'last', 'length', 'directly', 'milk', 'feed', 'subdue', 'shuh', 'never', 'guide', 'sprout', 'barberry', 'efface', 'anon', 'ring', \"form'd\", 'avail', 'till', 'poesy', 'multiply', 'change', 'wash', 'bairn', 'vile', 'or', 'afflict', 'heifer', 'help', 'guid', 'single', 'hay', 'advance', 'poem', 'stream', 'þæt', 'prophets', 'pardon', 'toil', 'essence', 'duly', 'death', 'one', 'resemble', 'air', 'pity', 'galley', 'sleeker', 'complete', 'portion', 'sele', 'friendless', 'countenance', 'set', 'surround', 'ganymede', 'arrow', 'bury', 'strengthen', \"sacrific'd\", 'mourn', 'exhibit', 'vii', 'cliff', 'restraint', 'apollo', 'personality', 'pretty', 'highly', 'isle', 'queen', 'poet', 'face', 'lustre', 'order', 'ilium', 'gear', 'spak', 'breathing', 'bread', 'rapport', 'imagine', 'whose', 'thy', 'spice', 'sate', 'people', 'adventuresome', 'bark', 'venture', 'denser', 'cam', 'thirst', 'autumn', 'mate', 'plunder', 'affliction', 'history', 'nibble', 'apart', 'delawares', 'stone', 'all', 'event', 'lesbos', 'hum', 'from', 'trail', 'mair', 'project', 'secret', 'snow', 'soar', 'pathway', 'mingled', 'suggest', 'soul', 'stray', 'drive', 'old', '140', 'aged', 'léase', 'english', 'hot', \"toss'd\", 'hesitate', 'baith', 'lawn', 'presence', 'mandans', 'crew', 'creature', 'tillage', 'forest', 'song', 'many', 'neath', 'discord', 'sickens', 'fully', 'passionate', 'assert', 'most', 'utterance', 'unfrequented', 'alder', 'pulse', 'ascend', 'country', 'tent', 'car', 'palestine', 'corn', 'tumultuous', 'argument', 'year', 'here', 'muckle', 'release', 'have', 'blue', 'briny', \"mad'st\", 'busy', 'sky', 'staggering', 'inflict', \"seem'd\", 'stern', 'bold', 'weed', \"e'er\", 'herb', 'hiawatha', 'period', 'cloot', 'cloud', 'common', 'whether', 'darkening', 'thrust', 'under', 'shoal', 'learning', 'north', '210', 'restore', 'brink', 'minerva', 'oracle', 'crave', 'mellow', 'life', 'forbear', 'countless', 'intend', 'allay', 'palmy', 'hoar', 'flounder', 'and', 'plunge', 'wrath', 'eve', 'hurons', 'cærulean', 'unmew', 'whom', 'tom', 'summer', \"warsl'd\", 'vanish', 'upbear', 'nation', \"pour'd\", 'ebb', 'herald', 'some', 'chanter', 'elapse', 'even', 'wigwam', 'reverberation', 'gainst', 'begirt', 'palla', 'wielder', 'vary', 'whiter', 'lot', 'branch', 'slew', 'danger', 'crackled', 'certain', \"punish'd\", 'image', 'youngling', 'live', 'shrilly', 'measure', 'inscription', 'ebon', 'march', \"clos'd\", 'define', 'hear', 'smoke', 'stan', 'comet', 'taste', 'grade', 'reside', 'fulfilment', 'loth', \"pleas'd\", 'john', 'line', 'generous', 'in', \"num'rous\", 'choice', 'each', 'giant', 'dank', 'bench', 'lovely', 'story', 'justice', 'throne', 'sigh', 'shaped', 'frequent', 'hour', 'wand', \"answer'd\", 'innumerable', 'lover', 'lark', \"know'st\", 'regions', 'deeper', 'tempestuous', 'woodland', 'dip', 'conduct', 'split', 'fee', 'gentle', 'spongy', 'before', 'cheer', 'mortal', 'fleece', 'lily', 'reserve', 'owre', 'hairy', 'want', 'sinai', '170', 'pasture', 'meagre', 'unlike', 'desire', 'health', 'disdain', 'mild', 'prove', 'shrivelled', 'counsel', 'understanding', 'female', 'pulsation', 'stood', 'verse', 'mature', 'stroke', 'retrace', 'seaweed', 'regain', 'new', 'hither', 'wreck', 'nymph', 'olympian', 'calumet', 'deepen', 'motion', 'stint', 'breathe', 'damsel', 'arch', 'root', 'fog', 'wine', 'side', 'physiology', 'thrush', 'boulder', 'away', 'grind', 'alleghanies', 'empress', 'prairie', 'thus', 'may', 'famous', 'fall', 'mankind', 'dismay', 'grief', 'sin', 'poplar', 'die', 'kail', 'tempt', 'ither', 'hare', 'eden', 'tuft', 'tribute', 'sunshine', 'voice', 'inmost', 'enchantment', 'endure', 'pry', 'king', 'soon', 'liquid', 'speak', 'sheep', 'large', 'warning', 'drip', 'æthiopians', 'stammer', 'rule', 'truth', 'lose', 'fearful', 'around', \"o'erseeing\", 'berry', 'precipice', 'endured_.', 'extend', 'germ', 'troop', 'tawt', 'toun', 'lo', 'lived)_.', 'ripp', 'haply', 'remead', 'get', 'own', 'etc', 'dislike', \"touch'd\", '(=', 'fashioned', 'ere', 'bard', 'folk', 'shine', 'fate', 'though', 'rin', 'gaet', 'throat', 'valley', 'deity', 'darkness', 'ony', \"appear'd\", 'every', 'against', 'democracy', 'shudder', 'ragged', \"turn'd\", 'rose', 'stane', 'mystery', 'lean', 'wild', 'melancholy', 'upward', 'east', 'welkin', 'dim', 'beast', 'liegeman', 'brute', 'drift', 'these', 'gloom', 'fast', 'weary', 'mariner', 'alike', 'graceless', 'wondrous', 'udderless', 'sire', 'noble', 'awed', 'central', 'superbly', 'goddess', 'direct', 'boar', 'endless', 'shoot', 'hollow', 'mid', '30', 'cull', 'butcher', 'veri', 'slender', 'wan', 'grand', 'mark', 'visible', 'daffodil', 'hoary', 'mournfu', 'roll', 'knowledge', 'din', 'dowie', 'need', 'sway', 'madness', 'fragment', 'flame', 'leave', 'gently', 'latmos', 'juicy', 'chain', 'dapple', 'sink', 'rage', 'cytherea', 'yellow', 'crown', 'danemen', 'father', 'near', 'blast', 'since', 'solace', 'priest', 'white', \"o'ertak\", 'cleave', 'hatred', 'narrow', 'sward', 'sever', 'pet', 'closely', 'spear', 'foam', 'treat', 'hip', 'glory', 'proud', 'meantime', 'sapient', 'scented', 'bring', 'breath', 'company', 'bottomless', 'defeat', '190', 'fervour', 'athel', 'saturnian', 'sulphur', 'safe', 'seethe', 'prayer', 'lord', 'beechen', 'anxious', 'huddles', 'panormus', 'discover', 'hurl', 'pleasantly', 'inspire', 'mood', 'landsman', 'distrustful', 'eager', 'cheerful', \"o'erwhelm\", 'renown', 'omnipotent', 'dismal', 'cyprus', 'smile', 'thro', 'wrangling', 'fond', 'mint', 'ah', 'scather', 'blossom', 'sentence', 'hill', 'flee', 'silence', 'mense', 'lonely', 'whirl', 'wrangle', 'adverse', 'incur', \"purpos'd\", 'overtop', 'smoothly', 'clover', 'finger', 'distant', 'wolf', 'stunt', 'marsh', 'tamely', 'sod', 'winna', 'outward', 'ship', 'human', 'resolve', 'twa', 'hermes', 'smooth', 'waste', 'ordain', 'friend', 'garment', 'supreme', 'furnish', 'prominent', 'ponder', 'icy', 'short', 'robin', 'yowe', \"rimm'd\", 'answer', 'bare', 'oreb', 'retreat', 'although', 'attention', 'wanrestfu', 'soldier', 'divine', 'assume', 'warfare', 'gathering', 'bull', 'united', 'toe', 'realm', 'context', 'goodly', 'lake', 'send', 'full', 'worship', 'wreathe', 'shelf', 'beowulf', 'appoint', 'then', 'margin', 'cress', 'han', 'pine', 'foster', 'illumine', 'accept', 'canst', 'arrear', 'rural', 'making', 'bough', 'vague', 'nervy', 'no', 'naked', 'spill', 'read', 'swell', 'april', 'reply', 'encourage', 'henceforward', 'abode', 'fragrance', 'drop', 'trace', 'fend', 'fiery', 'bloom', 'snaw', 'incensed', 'spot', 'passion', 'mournful', 'hereafter', 'seed', 'combustion', 'deluge', 'reindeer', 'tis', 'pray', 'temple', 'case', \"stain'd\", 'tender', '70', 'wet', 'season', \"pluck'd\", 'waxed', 'kind', 'sparse', \"trimm'd\", 'meek', 'adore', 'cup', 'son', 'shaft', 'storm', '130', 'flesh', 'potent', 'joyful', 'thessaly', 'nose', 'lane', 'slip', 'forget', 'bluer', 'v', 'attempt', 'log', 'relent', 'as', 'cavern', 'mass', 'bear', 'deck', 'utmost', 'press', 'hang', 'atlas', 'spire', 'write', 'oil', 'modern', 'vallie', 'brook', \"dream'd\", 'yon', 'chiefly', 'point', 'crowd', 'weak', 'sweep', 'bugle', 'elysian', 'current', \"discover'd\", 'hoofprint', 'hrothgar', 'tip', 'ceare', 'nigh', 'warl', 'river', 'vale', 'celebrated', 'present', 'pure', 'foreign', 'menacing', 'war', 'forbid', 'firm', \"'s\", 'course', 'misery', 'swirl', 'hyssop', 'clear', 'simple', 'creator', 'prison', 'dance', 'seldom', 'elegy', 'brak', 'bore', 'circle', 'scan', 'sel', 'blather', 'fly', 'kiss', \"recall'd\", 'forgather', 'remove', 'ripe', 'musician', 'serene', 'gods', 'kin', 'mutual', 'lightly', 'tradition', 'covert', 'rush', 'word', 'drench', 'pale', 'cyclops', 'bubble', 'pyre', 'innocent', 'like', 'doom', 'fault', 'latent', 'clip', 'increase', 'ether', 'kindle', 'ditty', 'slight', 'bygone', 'eastern', 'dungeon', 'pregnant', 'garlanded', 'soot', 'throw', 'bounty', 'impel', 'belovèd', 'give', 'fit', 'throng', 'silently', 'pawnees', \"pass'd\", 'little', 'cold', 'multitude', 'spy', 'trembling', 'manito', 'so', 'forward', 'stretch', 'beginning', 'home', 'rude', 'shrine', 'low', 'oh', 'eyed', 'fleecy', 'torment', 'open', 'virgin', 'bright', 'pleasant', 'statue', 'dark', 'vain', 'there', 'flood', 'oppose', 'long', 'teutonic', 'thegither', 'principle', 'america', 'grandfather', 'top', 'avenge', 'fabulous', 'dissension', 'thou', 'immortal', 'carle', 'chieftain', 'save', \"fill'd\", 'ballad', 'warn', 'thee', 'end', 'explore', 'cast', 'pack', 'tongue', 'nether', 'wag', 'drink', 'where', 'mile', 'hanging', 'receive', 'copse', 'morning', 'phantom', 'bind', 'first', 'tangled', 'excellent', 'argicide', 'thin', 'wall', 'flap', 'move', 'guard', 'say', 'island', 'teat', 'imperious', 'quickly', 'port', 'splitting', 'black', 'breezy', 'daughter', 'wi', 'work', 'surface', 'defiance', 'adventurous', 'moop', 'shewing', 'crackle', 'sion', 'malleable', 'self', 'worthy', 'unceasing', 'pod', 'doytin', 'knife', 'brae', 'brave', 'wouldst', 'passage', 'heron', 'telling', 'inland', 'resourceful', 'headlong', 'orestes', 'poise', 'angels', 'him', 'happy', 'buy', 'moment', 'horizon', '220', 'áhte', 'gull', 'gude', 'height', 'pole', 'ask', 'down', 'bleat', 'outshine', 'h.', 'burnie', 'monarchy', 'pipe', 'be', 'bitter', 'resin', 'atrides', 'plenteously', 'wrought', 'blame', 'thoösa', 'whither', 'ships', 'shell', 'view', 'fresh', 'plover', 'descend', 'kindly', 'strange', 'owlet', 'silver', 'regard', 'morrow', 'vineyard', 'lie', 'sagacious', 'nine', 'hook', 'trees', 'draw', 'blastit', 'mother', 'prophet', 'manhood', 'sequester', 'shrill', 'wat', 'dumb', 'ill', 'faith', 'scyldings', 'distinguish', 'puzzle', 'silent', 'evergreen', 'if', 'evil', 'harmless', 'herbage', 'cleft', 'oxen', 'daneland', 'listen', 'not', 'basket', 'sign', 'prickly', 'tang', 'pain', \"reach'd\", 'glorious', 'deathless', 'rowe', 'of', 'hate', 'menseless', 'awake', 'enjoy', 'lay', 'nay', 'gleamed', 'pass', 'oft', 'unheed', 'mixed', 'tore', 'strung', 'tweed', 'tempest', 'yont', 'shape', 'dust', 'sister', 'hair', 'soothe', 'universal', 'chant', 'onward', 'metal', 'vengeance', '5', 'fortune', 'calm', 'ojibways', 'lap', 'darken', 'bid', 'beat', 'oblivion', 'garland', 'dislocation', 'soberly', 'extravagance', 'sprinkling', 'nature', 'hearten', 'honour', 'sob', 'devour', 'day', 'strew', 'stemmèd', 'implacable', 'figure', 'consign', \"cabin'd\", 'preserve', 'hue', 'climb', 'hall', 'suffer', 'chaos', \"buoy'd\", 'mither', 'law', 'hope', 'feud', 'hath', 'look', 'stock', 'stem', 'wed', 'mourning', 'blindly', 'fire', 'wicked', 'historian', 'tod', 'prince', 'infatuate', 'rejoice', 'while_.', 'thorough', 'kindness', 'supply', 'nameless', 'fisher', 'foot', 'pipes', 'idea', 'softest', 'break', 'cursed', 'adopt', 'merry', 'bison', 'flush', '150', 'dare', 'spread', 'heart', 'democratic', 'jewel', 'bud', 'oblation', 'about', 'idleness', 'globe', 'pearl', 'parent', 'piper', 'scheme', 'sweet', \"perish'd\", 'wend', 'ewe', 'pan', 'helmsman', 'hell', 'take', 'deny', 'stoop', 'ay', 'boy', 'wildly', 'spoil', 'angel', 'victory', 'winding', 'ramble', 'overthrow', 'thyme', 'childlike', 'detain', 'paphos', 'muse', 'sober', \"heav'n\", 'good', 'rhyme', 'heroes', 'requital', 'nor', 'lands', 'frail', '160', 'way', 'coost', 'lip', 'wean', 'revolve', 'prepare', 'portal', 'shelter', 'tribe', 'deprive', 'acrid', 'freesia', 'gitche', 'scyld', 'comrade', 'support', 'undulate', 'deed', 'linger', 'shall', 'sailor', 'soil', 'whistle', 'wing', 'crag', 'erect', 'glows', 'fairy', 'water', 'lavish', 'beneficent', 'presently', 'se', 'whitman', 'council', 'howe', 'mohawks', 'bidding', 'lays', 'praise', 'inhuman', 'blackfeet', 'come', 'speech', 'sunburnt', '80', 'worker', 'return', 'half', 'rocky', 'athwart', 'distress', 'murmur', 'pathos', 'solemnly', 'shade', 'thousand', 'dirge', 'steed', 'weight', 'green', 'despondence', 'harsh', 'comprehend', 'louder', 'séle', '20', 'earnestly', 'flight', 'neptune', 'dew', 'swift', 'on', 'coarse', 'spring', 'suitor', 'paved', 'behave', 'choctaws', 'tone', 'win', 'wish', 'greet', 'soothly', 'anither', 'crawl', 'easily', 'willow', 'piety', 'lodge', 'who', 'weapon', 'flock', 'among', 'enemy', 'call', 'watch', 'aim', 'see', 'assist', 'feeble', 'furnace', 'whence', 'ancestral', 'shepherd', 'prefer', '180', 'joyous', 'hersel', \"vanish'd\", 'thing', 'float', 'clothe', 'hapless', 'fence', 'blaw', 'groan', 'shake', 'vernal', 'wear', 'thicket', 'crimson', 'homely', 'ruin', 'burn', 'unslakable', 'desirous', 'grot', 'bow', 'erstwhile', 'colour', 'host', '10', 'above', 'forth', 'nawadaha', 'fowl', 'age', 'ivy', 'record', 'hecatomb', 'house', 'wisdom', 'accomplish', 'brant', 'eminent', 'cordage', 'eyrie', 'brake', 'petal', 'consider', 'tinge', 'mong', 'mind', 'fish', 'fever', 'young', 'ket', 'blood', 'pursue', 'subtle', 'thought', 'voyager', 'lovèd', 'naught', 'oftentimes', 'mead', 'ideal', \"pow'r\", 'stay', 'repeat', 'approacheth', 'skill', 'unsheltered', 'loss', 'wrong', 'indian', 'angry', 'serve', 'turf', 'gie', 'blind', 'surgy', 'idly', 'dove', 'trading', 'fountain', 'steal', 'duty', 'dick', 'wood', 'purples', 'wayward', 'achievement', 'small', 'moss', 'phorcys', 'fashion', 'command', 'moor', 'rain', 'glen', 'unknot', 'trickle', 'wolly', 'floor', 'toop', 'decree', 'moorland', 'wit', 'impious', 'pail', 'wyoming', 'revenge', 'mad', '-PRON-', 'yet', 'quarrel', 'mainmast', 'skylark', 'teach', 'sail', 'beauty', 'amid', 'satan', \"learn'd\", 'damp', 'text', 'grant', 'therefore', 'unsullied', 'ocean', 'rent', 'sparrow', 'grope', 'sun', 'sweeping', 'fail', 'vase', 'glee', 'sake', 'gah', 'steadfast', 'oak', 'providence', 'reminiscence', 'park', 'occasionally', 'care', 'freedom', 'eternal', 'pride', 'lush', 'wise', '31', 'beam', 'en', 'repetition', 'altar', 'o', 'grow', 'signal', 'cut', 'eagle', 'cape', 'blow', 'until', 'lange', 'time', 'vast', 'gratify', 'force', 'laughter', 'victor', 'because', 'go', 'wast', 'wayfaring', 'that', 'let', 'curling', 'offend', 'should', 'prose', 'chafe', 'glowing', 'how', 'dinna', 'part', 'assembler', 'seat', 'neglect', 'can', 'close', 'gem', 'flung', 'scarce', 'mount', 'crime', 'wicker', 'hearken', 'trot', 'rebellious', 'sell', 'shoshonies', 'hughoc', 'genius', 'chariot', 'pillar', 'ye', 'mailie', 'undarkened', 'aspire', 'injured', 'dangerous', 'while', 'choose', 'savage', \"ask'd\", \"belov'd\", 'vermeil', 'destiny', 'evening', 'tangle', 'run', 'high', 'thievish', 'great', 'find', 'world', 'object', 'woe', 'chaucer', 'wield', 'walt', 'nurse', 'nae', 'city', 'heaven', 'master', \"e'en\"}\n"
     ]
    }
   ],
   "source": [
    "print(common_words)"
   ]
  },
  {
   "cell_type": "code",
   "execution_count": 182,
   "metadata": {},
   "outputs": [
    {
     "name": "stdout",
     "output_type": "stream",
     "text": [
      "Processing...\n",
      "Processing row 0\n",
      "Processing row 50\n",
      "Processing row 100\n",
      "Processing row 150\n",
      "Processing row 200\n",
      "Processing row 250\n",
      "Processing row 300\n",
      "Processing row 350\n",
      "Processing row 400\n",
      "Processing row 450\n",
      "Processing row 500\n",
      "\n",
      " -- 218.8828 seconds --\n",
      "\n"
     ]
    },
    {
     "data": {
      "text/html": [
       "<div>\n",
       "<style scoped>\n",
       "    .dataframe tbody tr th:only-of-type {\n",
       "        vertical-align: middle;\n",
       "    }\n",
       "\n",
       "    .dataframe tbody tr th {\n",
       "        vertical-align: top;\n",
       "    }\n",
       "\n",
       "    .dataframe thead th {\n",
       "        text-align: right;\n",
       "    }\n",
       "</style>\n",
       "<table border=\"1\" class=\"dataframe\">\n",
       "  <thead>\n",
       "    <tr style=\"text-align: right;\">\n",
       "      <th></th>\n",
       "      <th>only</th>\n",
       "      <th>chilly</th>\n",
       "      <th>greed</th>\n",
       "      <th>difficult</th>\n",
       "      <th>telemachus</th>\n",
       "      <th>display</th>\n",
       "      <th>ægisthus</th>\n",
       "      <th>lift</th>\n",
       "      <th>seduce</th>\n",
       "      <th>durst</th>\n",
       "      <th>...</th>\n",
       "      <th>wield</th>\n",
       "      <th>walt</th>\n",
       "      <th>nurse</th>\n",
       "      <th>nae</th>\n",
       "      <th>city</th>\n",
       "      <th>heaven</th>\n",
       "      <th>master</th>\n",
       "      <th>e'en</th>\n",
       "      <th>text_sentence</th>\n",
       "      <th>text_source</th>\n",
       "    </tr>\n",
       "  </thead>\n",
       "  <tbody>\n",
       "    <tr>\n",
       "      <th>0</th>\n",
       "      <td>0</td>\n",
       "      <td>0</td>\n",
       "      <td>0</td>\n",
       "      <td>0</td>\n",
       "      <td>0</td>\n",
       "      <td>0</td>\n",
       "      <td>0</td>\n",
       "      <td>0</td>\n",
       "      <td>0</td>\n",
       "      <td>0</td>\n",
       "      <td>...</td>\n",
       "      <td>0</td>\n",
       "      <td>0</td>\n",
       "      <td>0</td>\n",
       "      <td>0</td>\n",
       "      <td>0</td>\n",
       "      <td>1</td>\n",
       "      <td>0</td>\n",
       "      <td>0</td>\n",
       "      <td>(Of, Man, 's, first, disobedience, ,, and, the...</td>\n",
       "      <td>Milton</td>\n",
       "    </tr>\n",
       "    <tr>\n",
       "      <th>1</th>\n",
       "      <td>0</td>\n",
       "      <td>0</td>\n",
       "      <td>0</td>\n",
       "      <td>0</td>\n",
       "      <td>0</td>\n",
       "      <td>0</td>\n",
       "      <td>0</td>\n",
       "      <td>0</td>\n",
       "      <td>0</td>\n",
       "      <td>0</td>\n",
       "      <td>...</td>\n",
       "      <td>0</td>\n",
       "      <td>0</td>\n",
       "      <td>0</td>\n",
       "      <td>0</td>\n",
       "      <td>0</td>\n",
       "      <td>0</td>\n",
       "      <td>0</td>\n",
       "      <td>0</td>\n",
       "      <td>(And, chiefly, thou, ,, O, Spirit, ,, that, do...</td>\n",
       "      <td>Milton</td>\n",
       "    </tr>\n",
       "    <tr>\n",
       "      <th>2</th>\n",
       "      <td>0</td>\n",
       "      <td>0</td>\n",
       "      <td>0</td>\n",
       "      <td>0</td>\n",
       "      <td>0</td>\n",
       "      <td>0</td>\n",
       "      <td>0</td>\n",
       "      <td>0</td>\n",
       "      <td>0</td>\n",
       "      <td>0</td>\n",
       "      <td>...</td>\n",
       "      <td>0</td>\n",
       "      <td>0</td>\n",
       "      <td>0</td>\n",
       "      <td>0</td>\n",
       "      <td>0</td>\n",
       "      <td>2</td>\n",
       "      <td>0</td>\n",
       "      <td>0</td>\n",
       "      <td>(Say, first, for, Heaven, hides, nothing, from...</td>\n",
       "      <td>Milton</td>\n",
       "    </tr>\n",
       "    <tr>\n",
       "      <th>3</th>\n",
       "      <td>0</td>\n",
       "      <td>0</td>\n",
       "      <td>0</td>\n",
       "      <td>0</td>\n",
       "      <td>0</td>\n",
       "      <td>0</td>\n",
       "      <td>0</td>\n",
       "      <td>0</td>\n",
       "      <td>1</td>\n",
       "      <td>0</td>\n",
       "      <td>...</td>\n",
       "      <td>0</td>\n",
       "      <td>0</td>\n",
       "      <td>0</td>\n",
       "      <td>0</td>\n",
       "      <td>0</td>\n",
       "      <td>0</td>\n",
       "      <td>0</td>\n",
       "      <td>0</td>\n",
       "      <td>(Who, first, seduced, them, to, that, foul, re...</td>\n",
       "      <td>Milton</td>\n",
       "    </tr>\n",
       "    <tr>\n",
       "      <th>4</th>\n",
       "      <td>0</td>\n",
       "      <td>0</td>\n",
       "      <td>0</td>\n",
       "      <td>0</td>\n",
       "      <td>0</td>\n",
       "      <td>0</td>\n",
       "      <td>0</td>\n",
       "      <td>0</td>\n",
       "      <td>0</td>\n",
       "      <td>0</td>\n",
       "      <td>...</td>\n",
       "      <td>0</td>\n",
       "      <td>0</td>\n",
       "      <td>0</td>\n",
       "      <td>0</td>\n",
       "      <td>0</td>\n",
       "      <td>2</td>\n",
       "      <td>0</td>\n",
       "      <td>0</td>\n",
       "      <td>(Th, ', infernal, Serpent, ;, he, it, was, who...</td>\n",
       "      <td>Milton</td>\n",
       "    </tr>\n",
       "  </tbody>\n",
       "</table>\n",
       "<p>5 rows × 2390 columns</p>\n",
       "</div>"
      ],
      "text/plain": [
       "  only chilly greed difficult telemachus display ægisthus lift seduce durst  \\\n",
       "0    0      0     0         0          0       0        0    0      0     0   \n",
       "1    0      0     0         0          0       0        0    0      0     0   \n",
       "2    0      0     0         0          0       0        0    0      0     0   \n",
       "3    0      0     0         0          0       0        0    0      1     0   \n",
       "4    0      0     0         0          0       0        0    0      0     0   \n",
       "\n",
       "      ...     wield walt nurse nae city heaven master e'en  \\\n",
       "0     ...         0    0     0   0    0      1      0    0   \n",
       "1     ...         0    0     0   0    0      0      0    0   \n",
       "2     ...         0    0     0   0    0      2      0    0   \n",
       "3     ...         0    0     0   0    0      0      0    0   \n",
       "4     ...         0    0     0   0    0      2      0    0   \n",
       "\n",
       "                                       text_sentence text_source  \n",
       "0  (Of, Man, 's, first, disobedience, ,, and, the...      Milton  \n",
       "1  (And, chiefly, thou, ,, O, Spirit, ,, that, do...      Milton  \n",
       "2  (Say, first, for, Heaven, hides, nothing, from...      Milton  \n",
       "3  (Who, first, seduced, them, to, that, foul, re...      Milton  \n",
       "4  (Th, ', infernal, Serpent, ;, he, it, was, who...      Milton  \n",
       "\n",
       "[5 rows x 2390 columns]"
      ]
     },
     "execution_count": 182,
     "metadata": {},
     "output_type": "execute_result"
    }
   ],
   "source": [
    "# Create our data frame with features. This can take a while to run.\n",
    "start_time = time.time()\n",
    "print('Processing...')\n",
    "\n",
    "word_counts = bow_features(sentences, common_words)\n",
    "\n",
    "t= round((time.time() - start_time),4)\n",
    "print(\"\\n -- %s seconds --\\n\" % t)\n",
    "\n",
    "word_counts.head()"
   ]
  },
  {
   "cell_type": "code",
   "execution_count": 165,
   "metadata": {},
   "outputs": [],
   "source": [
    "#increase common words\n",
    "#explore td=idf"
   ]
  },
  {
   "cell_type": "code",
   "execution_count": 183,
   "metadata": {},
   "outputs": [],
   "source": [
    "# Define the features and the outcome.\n",
    "y = word_counts['text_source']\n",
    "X = np.array(word_counts.drop(['text_sentence','text_source'], 1))\n",
    "\n"
   ]
  },
  {
   "cell_type": "code",
   "execution_count": 184,
   "metadata": {
    "scrolled": false
   },
   "outputs": [
    {
     "data": {
      "image/png": "[encoded data removed]",
      "text/plain": [
       "<Figure size 432x288 with 1 Axes>"
      ]
     },
     "metadata": {
      "needs_background": "light"
     },
     "output_type": "display_data"
    },
    {
     "name": "stdout",
     "output_type": "stream",
     "text": [
      "Comparing k-means clusters against the data:\n",
      "text_source  Beowulf  Blake  Burns  Doolittle  Homer  Keats  Longfellow  \\\n",
      "row_0                                                                     \n",
      "0                  0      0      5          1      0      0           2   \n",
      "1                 10      3      3          4      6      5           3   \n",
      "2                  2     11      3          1      3      6           7   \n",
      "3                  3      4      6          5      5      6           5   \n",
      "4                 36     17     31         19     22     24          10   \n",
      "5                  0      6      3          0      4      0           0   \n",
      "6                  0      7      0          0      0      0          10   \n",
      "7                  4      3      2          1      5     15           8   \n",
      "8                  1      0      0          0      1      0           0   \n",
      "9                  5      8     12         14      8     12           5   \n",
      "\n",
      "text_source  Milton  Sappho  Whitman  \n",
      "row_0                                 \n",
      "0                 0       1        2  \n",
      "1                 1       0        4  \n",
      "2                 3       8        0  \n",
      "3                 0       3        7  \n",
      "4                10      34        7  \n",
      "5                 0       3       10  \n",
      "6                 0       0        1  \n",
      "7                 4       3        1  \n",
      "8                 0       4        0  \n",
      "9                 6       7       10  \n",
      "--- 0.5183510780334473 seconds for model fit ---\n"
     ]
    }
   ],
   "source": [
    "start_time = time.time()\n",
    "\n",
    "# Normalize the data.\n",
    "X_norm = normalize(X)\n",
    "\n",
    "# Reduce it to two components.\n",
    "X_pca = PCA(int(X_norm.shape[0]/2)).fit_transform(X_norm)\n",
    "\n",
    "# Calculate predicted values.\n",
    "y_pred = KMeans(n_clusters=10, random_state=42).fit_predict(X_pca)\n",
    "\n",
    "# Plot the solution.\n",
    "plt.scatter(X_pca[:, 0], X_pca[:, 1], c=y_pred, alpha = 0.5)\n",
    "plt.show()\n",
    "\n",
    "# Check the solution against the data.\n",
    "print('Comparing k-means clusters against the data:')\n",
    "print(pd.crosstab(y_pred, y))\n",
    "\n",
    "print(\"--- %s seconds for model fit ---\" % (time.time() - start_time))"
   ]
  },
  {
   "cell_type": "code",
   "execution_count": 185,
   "metadata": {},
   "outputs": [
    {
     "data": {
      "text/plain": [
       "(531, 2388)"
      ]
     },
     "execution_count": 185,
     "metadata": {},
     "output_type": "execute_result"
    }
   ],
   "source": [
    "X_norm.shape"
   ]
  },
  {
   "cell_type": "code",
   "execution_count": 186,
   "metadata": {
    "scrolled": false
   },
   "outputs": [
    {
     "data": {
      "image/png": "[encoded data removed]",
      "text/plain": [
       "<Figure size 432x288 with 1 Axes>"
      ]
     },
     "metadata": {
      "needs_background": "light"
     },
     "output_type": "display_data"
    },
    {
     "name": "stdout",
     "output_type": "stream",
     "text": [
      "Comparing k-means clusters against the data:\n",
      "text_source  Beowulf  Blake  Burns  Doolittle  Homer  Keats  Longfellow  \\\n",
      "row_0                                                                     \n",
      "0                  2      1      0          7      1      1           2   \n",
      "1                  3      3      3          1      0      6           3   \n",
      "2                  3      3      0          1      2      6           7   \n",
      "3                 33     14     32         13     18     25          10   \n",
      "4                  1      1      2          0      7      1           7   \n",
      "5                  0      7      1          0      3      0           0   \n",
      "6                  4     19      3          1      5      9          11   \n",
      "7                  9      2      6          4      7      5           4   \n",
      "8                  5      4     16         18      9     14           6   \n",
      "9                  1      5      2          0      2      1           0   \n",
      "\n",
      "text_source  Milton  Sappho  Whitman  \n",
      "row_0                                 \n",
      "0                 1       1        0  \n",
      "1                 1       2        2  \n",
      "2                 3       0        3  \n",
      "3                 7      34        8  \n",
      "4                 3       2        6  \n",
      "5                 0       2        4  \n",
      "6                 5      12        2  \n",
      "7                 2       0        5  \n",
      "8                 2       9       12  \n",
      "9                 0       1        0  \n",
      "--- 0.4746689796447754 seconds to model ---\n"
     ]
    }
   ],
   "source": [
    "#plot true values\n",
    "start_time = time.time()\n",
    "\n",
    "# Normalize the data.\n",
    "X_norm = normalize(X)\n",
    "\n",
    "#pca = PCA(2).fit(X_norm)\n",
    "# Reduce it to two components.\n",
    "X_pca = PCA(int(X_norm.shape[0]/2)).fit_transform(X_norm)\n",
    "\n",
    "# Calculate predicted values.\n",
    "y_pred = KMeans(n_clusters=10, random_state=42).fit_predict(X_pca)\n",
    "\n",
    "labels = y.map(lambda x: 0 if x == \"Milton\" else (1 if x == \"Blake\" else 2))\n",
    "# Plot the solution.\n",
    "plt.scatter(X_pca[:, 0], X_pca[:, 1], c=labels, alpha = 0.5)\n",
    "plt.show()\n",
    "\n",
    "# Check the solution against the data.\n",
    "print('Comparing k-means clusters against the data:')\n",
    "print(pd.crosstab(y_pred, y))\n",
    "\n",
    "print(\"--- %s seconds to model ---\" % (time.time() - start_time))"
   ]
  },
  {
   "cell_type": "code",
   "execution_count": 187,
   "metadata": {},
   "outputs": [
    {
     "name": "stdout",
     "output_type": "stream",
     "text": [
      "Comparing k-means and mini batch k-means solutions:\n",
      "col_0   0   1  2    3   4   5   6   7   8   9\n",
      "row_0                                        \n",
      "0       0   0  0    5   1   0   0   1   0   1\n",
      "1       0   6  4    0   1   2   6   7  92   0\n",
      "2       0   0  0    0   0   0   0   0   1   0\n",
      "3       1   1  8    5   0   0   0   0   0   0\n",
      "4       0   0  0    0   0   0  48   2   0   0\n",
      "5       0   0  4    7   0   1   7   2   2   0\n",
      "6       0   0  0    5   0   0   0   0   0   0\n",
      "7      14  16  9  167  22  13   0  31   0  10\n",
      "8       1   1  2    2   6   0  10   1   0   1\n",
      "9       0   0  1    3   0   1   0   0   0   0\n",
      "--- 0.09071993827819824 seconds to model ---\n"
     ]
    }
   ],
   "source": [
    "start_time = time.time()\n",
    "\n",
    "# Each batch will be made up of 200 data points.\n",
    "minibatchkmeans = MiniBatchKMeans(\n",
    "    init='random',\n",
    "    n_clusters=10,\n",
    "    batch_size=200)\n",
    "minibatchkmeans.fit(X_pca)\n",
    "\n",
    "# Add the new predicted cluster memberships to the data frame.\n",
    "predict_mini = minibatchkmeans.predict(X_pca)\n",
    "\n",
    "# Check the MiniBatch model against our earlier one.\n",
    "print('Comparing k-means and mini batch k-means solutions:')\n",
    "print(pd.crosstab(predict_mini, y_pred))\n",
    "\n",
    "print(\"--- %s seconds to model ---\" % (time.time() - start_time))"
   ]
  },
  {
   "cell_type": "code",
   "execution_count": 188,
   "metadata": {},
   "outputs": [],
   "source": [
    "#pca(reduce by half then only plot first 2) or lsa , ica, Gaussian Mixture Model"
   ]
  },
  {
   "cell_type": "code",
   "execution_count": 189,
   "metadata": {},
   "outputs": [],
   "source": [
    "from sklearn import ensemble\n",
    "from sklearn.model_selection import train_test_split\n",
    "\n",
    "y = word_counts['text_source']\n",
    "X = np.array(word_counts.drop(['text_sentence','text_source'], 1))\n",
    "\n",
    "X_train, X_test, y_train, y_test = train_test_split(X, \n",
    "                                                    y,\n",
    "                                                    test_size=0.25,\n",
    "                                                    stratify = y,\n",
    "                                                    random_state=0)\n",
    "\n",
    "split = StratifiedShuffleSplit(n_splits=5, random_state=1337)"
   ]
  },
  {
   "cell_type": "code",
   "execution_count": 190,
   "metadata": {},
   "outputs": [
    {
     "data": {
      "text/plain": [
       "Keats         17\n",
       "Burns         16\n",
       "Sappho        16\n",
       "Blake         15\n",
       "Beowulf       15\n",
       "Homer         14\n",
       "Longfellow    13\n",
       "Doolittle     11\n",
       "Whitman       10\n",
       "Milton         6\n",
       "Name: text_source, dtype: int64"
      ]
     },
     "execution_count": 190,
     "metadata": {},
     "output_type": "execute_result"
    }
   ],
   "source": [
    "y_test.value_counts()"
   ]
  },
  {
   "cell_type": "code",
   "execution_count": 191,
   "metadata": {},
   "outputs": [
    {
     "name": "stdout",
     "output_type": "stream",
     "text": [
      "NBB: 0.171429 (0.065465)\n",
      "RFC: 0.164286 (0.045737)\n",
      "KNN: 0.142857 (0.031944)\n",
      "DTC: 0.157143 (0.104978)\n",
      "GNB: 0.400000 (0.096890)\n",
      "SVC: 0.142857 (0.000000)\n",
      "GBC: 0.228571 (0.069985)\n",
      "ABC: 0.150000 (0.038465)\n",
      "ETC: 0.264286 (0.101267)\n",
      "QDA: 0.150000 (0.081127)\n"
     ]
    }
   ],
   "source": [
    "# Spot Check Algorithms\n",
    "models = []\n",
    "models.append(('NBB', BernoulliNB()))\n",
    "models.append(('RFC', ensemble.RandomForestClassifier()))\n",
    "models.append(('KNN', neighbors.KNeighborsClassifier()))\n",
    "models.append(('DTC', tree.DecisionTreeClassifier()))\n",
    "models.append(('GNB', GaussianNB()))\n",
    "models.append(('SVC', SVC()))\n",
    "models.append(('GBC', ensemble.GradientBoostingClassifier()))\n",
    "models.append(('ABC', ensemble.AdaBoostClassifier()))\n",
    "models.append(('ETC', ensemble.ExtraTreesClassifier()))\n",
    "models.append(('QDA', QuadraticDiscriminantAnalysis()))\n",
    "#models.append(('GMM', GaussianMixture()))\n",
    "\n",
    "# evaluate each model in turn\n",
    "results = []\n",
    "names = []\n",
    "for name, model in models:\n",
    "    split = StratifiedShuffleSplit(n_splits=10, random_state=1337)\n",
    "    model = model.fit(X_train,y_train)\n",
    "    cv_results = cross_val_score(model, X_test, y_test, cv=split, scoring='accuracy')\n",
    "    results.append(cv_results)\n",
    "    names.append(name)\n",
    "    msg = \"%s: %f (%f)\" % (name, cv_results.mean(), cv_results.std())\n",
    "    print(msg)"
   ]
  },
  {
   "cell_type": "code",
   "execution_count": 192,
   "metadata": {},
   "outputs": [
    {
     "name": "stdout",
     "output_type": "stream",
     "text": [
      "Training set score: 0.9748743718592965\n",
      "\n",
      "Test set score: 0.3383458646616541\n",
      "\n",
      "Cross Validation:\n",
      "    0.19 (+/- 0.10)\n",
      "[0.14285714 0.21428571 0.07142857 0.14285714 0.35714286]\n"
     ]
    }
   ],
   "source": [
    "rfc = ensemble.RandomForestClassifier()\n",
    "rfc.fit(X_train, y_train)\n",
    "\n",
    "print('Training set score:', rfc.score(X_train, y_train))\n",
    "print('\\nTest set score:', rfc.score(X_test, y_test))\n",
    "\n",
    "split = StratifiedShuffleSplit(n_splits=5, random_state=1337)\n",
    "\n",
    "score = cross_val_score(rfc, X_test, y_test, cv=split, scoring='accuracy')\n",
    "print(\"\\nCross Validation:\\n    %0.2f (+/- %0.2f)\" % (score.mean(), score.std()))\n",
    "print(score)"
   ]
  },
  {
   "cell_type": "code",
   "execution_count": 193,
   "metadata": {},
   "outputs": [
    {
     "name": "stdout",
     "output_type": "stream",
     "text": [
      "Training set score: 0.9673366834170855\n",
      "\n",
      "Test set score: 0.5037593984962406\n",
      "\n",
      "Cross Validation:\n",
      "    0.34 (+/- 0.10)\n",
      "[0.21428571 0.42857143 0.5        0.28571429 0.28571429]\n"
     ]
    }
   ],
   "source": [
    "from sklearn.linear_model import LogisticRegression\n",
    "\n",
    "lr = LogisticRegression(penalty='l2') # No need to specify l2 as it's the default. But we put it for demonstration.\n",
    "lr.fit(X_train, y_train)\n",
    "\n",
    "print('Training set score:', lr.score(X_train, y_train))\n",
    "print('\\nTest set score:', lr.score(X_test, y_test))\n",
    "\n",
    "split = StratifiedShuffleSplit(n_splits=5, random_state=1337)\n",
    "\n",
    "score = cross_val_score(lr, X_test, y_test, cv=split, scoring='accuracy')\n",
    "print(\"\\nCross Validation:\\n    %0.2f (+/- %0.2f)\" % (score.mean(), score.std()))\n",
    "print(score)"
   ]
  },
  {
   "cell_type": "code",
   "execution_count": 194,
   "metadata": {},
   "outputs": [
    {
     "name": "stdout",
     "output_type": "stream",
     "text": [
      "Training set score: 0.9723618090452262\n",
      "\n",
      "Test set score: 0.45112781954887216\n",
      "\n",
      "Cross Validation:\n",
      "    0.27 (+/- 0.08)\n",
      "[0.21428571 0.35714286 0.14285714 0.35714286 0.28571429]\n"
     ]
    }
   ],
   "source": [
    "clf = ensemble.GradientBoostingClassifier()\n",
    "clf.fit(X_train, y_train)\n",
    "\n",
    "print('Training set score:', clf.score(X_train, y_train))\n",
    "print('\\nTest set score:', clf.score(X_test, y_test))\n",
    "\n",
    "\n",
    "split = StratifiedShuffleSplit(n_splits=5, random_state=1337)\n",
    "\n",
    "score = cross_val_score(clf, X_test, y_test, cv=split, scoring='accuracy')\n",
    "print(\"\\nCross Validation:\\n    %0.2f (+/- %0.2f)\" % (score.mean(), score.std()))\n",
    "print(score)"
   ]
  },
  {
   "cell_type": "code",
   "execution_count": null,
   "metadata": {},
   "outputs": [],
   "source": []
  },
  {
   "cell_type": "code",
   "execution_count": null,
   "metadata": {},
   "outputs": [],
   "source": []
  },
  {
   "cell_type": "code",
   "execution_count": null,
   "metadata": {},
   "outputs": [],
   "source": []
  },
  {
   "cell_type": "code",
   "execution_count": 195,
   "metadata": {},
   "outputs": [],
   "source": [
    "from nltk.corpus.reader.plaintext import PlaintextCorpusReader"
   ]
  },
  {
   "cell_type": "code",
   "execution_count": 196,
   "metadata": {},
   "outputs": [],
   "source": [
    "# Load and clean the data.\n",
    "leaves = gutenberg.paras('whitman-leaves.txt')\n",
    "leaves_paras=[]\n",
    "for paragraph in leaves:\n",
    "    para=paragraph[0]\n",
    "    #removing the double-dash from all words\n",
    "    para=[re.sub(r'--','',word) for word in para]\n",
    "    #Forming each paragraph into a string and adding it to the list of strings.\n",
    "    leaves_paras.append(' '.join(para))\n",
    "\n",
    "paradise = gutenberg.paras('milton-paradise.txt')\n",
    "paradise_paras=[]\n",
    "for paragraph in paradise:\n",
    "    para=paragraph[0]\n",
    "    #removing the double-dash from all words\n",
    "    para=[re.sub(r'--','',word) for word in para]\n",
    "    #Forming each paragraph into a string and adding it to the list of strings.\n",
    "    paradise_paras.append(' '.join(para))\n",
    "    \n",
    "    \n",
    "blake = gutenberg.paras('blake-poems.txt')\n",
    "blake_paras=[]\n",
    "for paragraph in blake:\n",
    "    para=paragraph[0]\n",
    "    #removing the double-dash from all words\n",
    "    para=[re.sub(r'--','',word) for word in para]\n",
    "    #Forming each paragraph into a string and adding it to the list of strings.\n",
    "    blake_paras.append(' '.join(para))\n",
    "\n",
    "    \n",
    "new_corpus = PlaintextCorpusReader(\"\",'.txt')    \n",
    "    \n",
    "hiawatha = new_corpus.paras(\"The Song Of Hiawatha, by Henry W. Longfellow.txt\")\n",
    "hiawatha_paras=[]\n",
    "for paragraph in hiawatha:\n",
    "    para=paragraph[0]\n",
    "    #removing the double-dash from all words\n",
    "    para=[re.sub(r'--','',word) for word in para]\n",
    "    #Forming each paragraph into a string and adding it to the list of strings.\n",
    "    hiawatha_paras.append(' '.join(para))\n",
    "\n",
    "\n",
    "endymion = new_corpus.paras(\"Endymion, by John Keats.txt\")\n",
    "endymion_paras=[]\n",
    "for paragraph in endymion:\n",
    "    para=paragraph[0]\n",
    "    #removing the double-dash from all words\n",
    "    para=[re.sub(r'--','',word) for word in para]\n",
    "    #Forming each paragraph into a string and adding it to the list of strings.\n",
    "    endymion_paras.append(' '.join(para))\n",
    "\n",
    "\n",
    "odyssey = new_corpus.paras(\"The Odyssey by Homer.txt\")\n",
    "odyssey_paras=[]\n",
    "for paragraph in odyssey:\n",
    "    para=paragraph[0]\n",
    "    #removing the double-dash from all words\n",
    "    para=[re.sub(r'--','',word) for word in para]\n",
    "    #Forming each paragraph into a string and adding it to the list of strings.\n",
    "    odyssey_paras.append(' '.join(para))\n",
    "\n",
    "\n",
    "burns = new_corpus.paras(\"The Complete Works of Robert Burns.txt\")\n",
    "burns_paras=[]\n",
    "for paragraph in burns:\n",
    "    para=paragraph[0]\n",
    "    #removing the double-dash from all words\n",
    "    para=[re.sub(r'--','',word) for word in para]\n",
    "    #Forming each paragraph into a string and adding it to the list of strings.\n",
    "    burns_paras.append(' '.join(para))\n",
    "\n",
    "\n",
    "sea = new_corpus.paras(\"Sea Garden by Hilda Doolittle.txt\")\n",
    "sea_paras=[]\n",
    "for paragraph in sea:\n",
    "    para=paragraph[0]\n",
    "    #removing the double-dash from all words\n",
    "    para=[re.sub(r'--','',word) for word in para]\n",
    "    #Forming each paragraph into a string and adding it to the list of strings.\n",
    "    sea_paras.append(' '.join(para))\n",
    "    \n",
    "\n",
    "beowulf = new_corpus.paras(\"Beowulf by Leslie Hall.txt\")\n",
    "beowulf_paras=[]\n",
    "for paragraph in beowulf:\n",
    "    para=paragraph[0]\n",
    "    #removing the double-dash from all words\n",
    "    para=[re.sub(r'--','',word) for word in para]\n",
    "    #Forming each paragraph into a string and adding it to the list of strings.\n",
    "    beowulf_paras.append(' '.join(para))\n",
    "\n",
    "\n",
    "sappho = new_corpus.paras(\"Sappho- One Hundred Lyrics by Bliss Carman.txt\")\n",
    "sappho_paras=[]\n",
    "for paragraph in sappho:\n",
    "    para=paragraph[0]\n",
    "    #removing the double-dash from all words\n",
    "    para=[re.sub(r'--','',word) for word in para]\n",
    "    #Forming each paragraph into a string and adding it to the list of strings.\n",
    "    sappho_paras.append(' '.join(para))\n"
   ]
  },
  {
   "cell_type": "code",
   "execution_count": 197,
   "metadata": {},
   "outputs": [
    {
     "data": {
      "text/html": [
       "<div>\n",
       "<style scoped>\n",
       "    .dataframe tbody tr th:only-of-type {\n",
       "        vertical-align: middle;\n",
       "    }\n",
       "\n",
       "    .dataframe tbody tr th {\n",
       "        vertical-align: top;\n",
       "    }\n",
       "\n",
       "    .dataframe thead th {\n",
       "        text-align: right;\n",
       "    }\n",
       "</style>\n",
       "<table border=\"1\" class=\"dataframe\">\n",
       "  <thead>\n",
       "    <tr style=\"text-align: right;\">\n",
       "      <th></th>\n",
       "      <th>0</th>\n",
       "      <th>1</th>\n",
       "    </tr>\n",
       "  </thead>\n",
       "  <tbody>\n",
       "    <tr>\n",
       "      <th>0</th>\n",
       "      <td>[ Paradise Lost by John Milton 1667 ]</td>\n",
       "      <td>Milton</td>\n",
       "    </tr>\n",
       "    <tr>\n",
       "      <th>1</th>\n",
       "      <td>Book I</td>\n",
       "      <td>Milton</td>\n",
       "    </tr>\n",
       "    <tr>\n",
       "      <th>2</th>\n",
       "      <td>Of Man ' s first disobedience , and the fruit ...</td>\n",
       "      <td>Milton</td>\n",
       "    </tr>\n",
       "    <tr>\n",
       "      <th>3</th>\n",
       "      <td>Book II</td>\n",
       "      <td>Milton</td>\n",
       "    </tr>\n",
       "    <tr>\n",
       "      <th>4</th>\n",
       "      <td>High on a throne of royal state , which far Ou...</td>\n",
       "      <td>Milton</td>\n",
       "    </tr>\n",
       "  </tbody>\n",
       "</table>\n",
       "</div>"
      ],
      "text/plain": [
       "                                                   0       1\n",
       "0              [ Paradise Lost by John Milton 1667 ]  Milton\n",
       "1                                             Book I  Milton\n",
       "2  Of Man ' s first disobedience , and the fruit ...  Milton\n",
       "3                                            Book II  Milton\n",
       "4  High on a throne of royal state , which far Ou...  Milton"
      ]
     },
     "execution_count": 197,
     "metadata": {},
     "output_type": "execute_result"
    }
   ],
   "source": [
    "# Group into paragraphs.\n",
    "paradise_paras = [[para, \"Milton\"] for para in paradise_paras]\n",
    "blake_paras = [[para, \"Blake\"] for para in blake_paras]\n",
    "leaves_paras = [[para, \"Whitman\"] for para in leaves_paras]\n",
    "hiawatha_paras = [[para, \"Longfellow\"] for para in hiawatha_paras]\n",
    "endymion_paras = [[para, \"Keats\"] for para in endymion_paras]\n",
    "odyssey_paras = [[para, \"Homer\"] for para in odyssey_paras]\n",
    "burns_paras = [[para, \"Burns\"] for para in burns_paras]\n",
    "sea_paras = [[para, \"Doolittle\"] for para in sea_paras]\n",
    "beowulf_paras = [[para, \"Beowulf\"] for para in beowulf_paras]\n",
    "sappho_paras = [[para, \"Sappho\"] for para in sappho_paras]\n",
    "\n",
    "# Combine the sentences from the two novels into one data frame.\n",
    "paragraphs = pd.DataFrame(paradise_paras + blake_paras + \n",
    "                         leaves_paras + hiawatha_paras + \n",
    "                         endymion_paras + odyssey_paras +\n",
    "                         burns_paras + sea_paras +\n",
    "                         beowulf_paras + sappho_paras)\n",
    "paragraphs.head()"
   ]
  },
  {
   "cell_type": "code",
   "execution_count": 198,
   "metadata": {},
   "outputs": [
    {
     "name": "stdout",
     "output_type": "stream",
     "text": [
      "29\n",
      "284\n",
      "2478\n",
      "681\n",
      "140\n",
      "216\n",
      "11621\n",
      "252\n",
      "1164\n",
      "461\n",
      "17326\n"
     ]
    }
   ],
   "source": [
    "print(len(paradise_paras))\n",
    "print(len(blake_paras))\n",
    "print(len(leaves_paras))\n",
    "print(len(hiawatha_paras))\n",
    "print(len(endymion_paras))\n",
    "print(len(odyssey_paras))\n",
    "print(len(burns_paras))\n",
    "print(len(sea_paras))\n",
    "print(len(beowulf_paras))\n",
    "print(len(sappho_paras))\n",
    "print(len(paragraphs))"
   ]
  },
  {
   "cell_type": "code",
   "execution_count": 199,
   "metadata": {},
   "outputs": [],
   "source": [
    "from sklearn.feature_extraction.text import TfidfVectorizer\n",
    "\n",
    "X_train, X_test, y_train, y_test = train_test_split(paragraphs.drop(1,axis=1),paragraphs[1], \n",
    "                                                    test_size=0.25, random_state=0)\n",
    "\n",
    "vectorizer = TfidfVectorizer(max_df=0.5, # drop words that occur in more than half the paragraphs\n",
    "                             min_df=3, # only use words that appear at least twice\n",
    "                             stop_words='english', \n",
    "                             lowercase=True, #convert everything to lower case (since Alice in Wonderland has the HABIT of CAPITALIZING WORDS for EMPHASIS)\n",
    "                             use_idf=True,#we definitely want to use inverse document frequencies in our weighting\n",
    "                             norm=u'l2', #Applies a correction factor so that longer paragraphs and shorter paragraphs get treated equally\n",
    "                             smooth_idf=True #Adds 1 to all document frequencies, as if an extra document existed that used every word once.  Prevents divide-by-zero errors\n",
    "                            )"
   ]
  },
  {
   "cell_type": "code",
   "execution_count": 200,
   "metadata": {},
   "outputs": [
    {
     "name": "stdout",
     "output_type": "stream",
     "text": [
      "Number of features: 9301\n"
     ]
    }
   ],
   "source": [
    "#Applying the vectorizer\n",
    "paras_tfidf=vectorizer.fit_transform(paragraphs.drop(1,axis=1)[0].tolist())\n",
    "print(\"Number of features: %d\" % paras_tfidf.get_shape()[1])\n",
    "\n",
    "#splitting into training and test sets\n",
    "X_train_tfidf, X_test_tfidf= train_test_split(paras_tfidf, test_size=0.25, random_state=0)\n",
    "\n",
    "#Reshapes the vectorizer output into something people can read\n",
    "X_train_tfidf_csr = X_train_tfidf.tocsr()\n",
    "X_test_tfidf_csr = X_test_tfidf.tocsr()\n",
    "\n",
    "#number of sentences\n",
    "n = X_train_tfidf_csr.shape[0]\n",
    "#A list of dictionaries, one per sentence\n",
    "tfidf_bysent = [{} for _ in range(0,n)]\n",
    "#List of features\n",
    "terms = vectorizer.get_feature_names()\n",
    "#for each sentence, lists the feature words and their tf-idf scores\n",
    "for i, j in zip(*X_train_tfidf_csr.nonzero()):\n",
    "    tfidf_bysent[i][terms[j]] = X_train_tfidf_csr[i, j]\n"
   ]
  },
  {
   "cell_type": "code",
   "execution_count": 201,
   "metadata": {},
   "outputs": [
    {
     "data": {
      "text/plain": [
       "0                    [ Paradise Lost by John Milton 1667 ]\n",
       "1                                                   Book I\n",
       "2        Of Man ' s first disobedience , and the fruit ...\n",
       "3                                                  Book II\n",
       "4        High on a throne of royal state , which far Ou...\n",
       "5                                                 Book III\n",
       "6        Hail , holy Light , offspring of Heaven firstb...\n",
       "7        00021053 Thou , therefore , whom thou only can...\n",
       "8                                                  Book IV\n",
       "9        O , for that warning voice , which he , who sa...\n",
       "10       00081429 Which to our general sire gave prospe...\n",
       "11                                                  Book V\n",
       "12       Now Morn , her rosy steps in the eastern clime...\n",
       "13                                                 Book VI\n",
       "14       All night the dreadless Angel , unpursued , Th...\n",
       "15                                                Book VII\n",
       "16       Descend from Heaven , Urania , by that name If...\n",
       "17                                               Book VIII\n",
       "18       The Angel ended , and in Adam ' s ear So charm...\n",
       "19                                                 Book IX\n",
       "20       No more of talk where God or Angel guest With ...\n",
       "21       00482129 If answerable style I can obtain Of m...\n",
       "22                                                  Book X\n",
       "23       Mean while the heinous and despiteful act Of S...\n",
       "24                                                 Book XI\n",
       "25       Undoubtedly he will relent , and turn From his...\n",
       "26                                                Book XII\n",
       "27       As one who in his journey bates at noon , Thou...\n",
       "28                                           [ The End ]\u001a\u001a\n",
       "29                         [ Poems by William Blake 1789 ]\n",
       "                               ...                        \n",
       "17296    Before thy least lost murmur I must sigh , 5 O...\n",
       "17297                                                 XCIX\n",
       "17298    Over the wheat - field , Over the hill - crest...\n",
       "17299    What premonition , O purple swallow , 10 Told ...\n",
       "17300    Soon will a shepherd In rugged Dacia , Folding...\n",
       "17301    This very hour 25 In Mitylene , Will not a you...\n",
       "17302                                                    C\n",
       "17303    Once more the rain on the mountain , Once more...\n",
       "17304                        Warm is the sun in the city .\n",
       "17305    Gentlier now falls the twilight , With the sli...\n",
       "17306    Gladlier now crimson morning Flushes fair - bu...\n",
       "17307    Ah , but what burden of sorrow Tinges their sl...\n",
       "17308    Shall they then never behold thee , Nevermore ...\n",
       "17309    Nevermore answer thy glowing Youth with their ...\n",
       "17310    Heedless , assuaged , art thou sleeping Where ...\n",
       "17311    Hast thou no passion nor pity For thy deserted...\n",
       "17312     Nay , but in vain their clear voices Call thee .\n",
       "17313    In the faint fragrance of flowers , On the swe...\n",
       "17314                                             EPILOGUE\n",
       "17315    Now the hundred songs are made , And the pause...\n",
       "17316    On a day the frost will come , 5 Walking throu...\n",
       "17317                      On a day ( Oh , far from now !)\n",
       "17318    All the happy songs he wrought From remembranc...\n",
       "17319    Frail as dew upon the grass Or the spindrift o...\n",
       "17320    Nay , but something of thy love , Passion , te...\n",
       "17321    Must imperishably cling 25 To the cadence of t...\n",
       "17322    Wild and fleeting as the notes Blown upon a wo...\n",
       "17323    For the transport in their rhythm Was the thro...\n",
       "17324    When the golden days arrive , With the swallow...\n",
       "17325    Long hereafter shall thy name Be recalled thro...\n",
       "Name: 0, Length: 17326, dtype: object"
      ]
     },
     "execution_count": 201,
     "metadata": {},
     "output_type": "execute_result"
    }
   ],
   "source": [
    "paragraphs.drop(1,axis=1)[0]"
   ]
  },
  {
   "cell_type": "code",
   "execution_count": 205,
   "metadata": {},
   "outputs": [
    {
     "name": "stdout",
     "output_type": "stream",
     "text": [
      "NBB: 0.724885 (0.009622)\n",
      "RFC: 0.756221 (0.018195)\n",
      "KNN: 0.688479 (0.002258)\n",
      "DTC: 0.728571 (0.013427)\n"
     ]
    },
    {
     "ename": "TypeError",
     "evalue": "A sparse matrix was passed, but dense data is required. Use X.toarray() to convert to a dense numpy array.",
     "output_type": "error",
     "traceback": [
      "\u001b[0;31m---------------------------------------------------------------------------\u001b[0m",
      "\u001b[0;31mTypeError\u001b[0m                                 Traceback (most recent call last)",
      "\u001b[0;32m<ipython-input-205-e83fce7f6cfb>\u001b[0m in \u001b[0;36m<module>\u001b[0;34m\u001b[0m\n\u001b[1;32m     18\u001b[0m \u001b[0;32mfor\u001b[0m \u001b[0mname\u001b[0m\u001b[0;34m,\u001b[0m \u001b[0mmodel\u001b[0m \u001b[0;32min\u001b[0m \u001b[0mmodels\u001b[0m\u001b[0;34m:\u001b[0m\u001b[0;34m\u001b[0m\u001b[0;34m\u001b[0m\u001b[0m\n\u001b[1;32m     19\u001b[0m     \u001b[0msplit\u001b[0m \u001b[0;34m=\u001b[0m \u001b[0mStratifiedShuffleSplit\u001b[0m\u001b[0;34m(\u001b[0m\u001b[0mn_splits\u001b[0m\u001b[0;34m=\u001b[0m\u001b[0;36m10\u001b[0m\u001b[0;34m,\u001b[0m \u001b[0mrandom_state\u001b[0m\u001b[0;34m=\u001b[0m\u001b[0;36m1337\u001b[0m\u001b[0;34m)\u001b[0m\u001b[0;34m\u001b[0m\u001b[0;34m\u001b[0m\u001b[0m\n\u001b[0;32m---> 20\u001b[0;31m     \u001b[0mmodel\u001b[0m \u001b[0;34m=\u001b[0m \u001b[0mmodel\u001b[0m\u001b[0;34m.\u001b[0m\u001b[0mfit\u001b[0m\u001b[0;34m(\u001b[0m\u001b[0mX_train_tfidf_csr\u001b[0m\u001b[0;34m,\u001b[0m\u001b[0my_train\u001b[0m\u001b[0;34m)\u001b[0m\u001b[0;34m\u001b[0m\u001b[0;34m\u001b[0m\u001b[0m\n\u001b[0m\u001b[1;32m     21\u001b[0m     \u001b[0mcv_results\u001b[0m \u001b[0;34m=\u001b[0m \u001b[0mcross_val_score\u001b[0m\u001b[0;34m(\u001b[0m\u001b[0mmodel\u001b[0m\u001b[0;34m,\u001b[0m \u001b[0mX_test_tfidf_csr\u001b[0m\u001b[0;34m,\u001b[0m \u001b[0my_test\u001b[0m\u001b[0;34m,\u001b[0m \u001b[0mcv\u001b[0m\u001b[0;34m=\u001b[0m\u001b[0msplit\u001b[0m\u001b[0;34m,\u001b[0m \u001b[0mscoring\u001b[0m\u001b[0;34m=\u001b[0m\u001b[0;34m'accuracy'\u001b[0m\u001b[0;34m)\u001b[0m\u001b[0;34m\u001b[0m\u001b[0;34m\u001b[0m\u001b[0m\n\u001b[1;32m     22\u001b[0m     \u001b[0mresults\u001b[0m\u001b[0;34m.\u001b[0m\u001b[0mappend\u001b[0m\u001b[0;34m(\u001b[0m\u001b[0mcv_results\u001b[0m\u001b[0;34m)\u001b[0m\u001b[0;34m\u001b[0m\u001b[0;34m\u001b[0m\u001b[0m\n",
      "\u001b[0;32m~/anaconda3/lib/python3.7/site-packages/sklearn/naive_bayes.py\u001b[0m in \u001b[0;36mfit\u001b[0;34m(self, X, y, sample_weight)\u001b[0m\n\u001b[1;32m    188\u001b[0m         \u001b[0mself\u001b[0m \u001b[0;34m:\u001b[0m \u001b[0mobject\u001b[0m\u001b[0;34m\u001b[0m\u001b[0;34m\u001b[0m\u001b[0m\n\u001b[1;32m    189\u001b[0m         \"\"\"\n\u001b[0;32m--> 190\u001b[0;31m         \u001b[0mX\u001b[0m\u001b[0;34m,\u001b[0m \u001b[0my\u001b[0m \u001b[0;34m=\u001b[0m \u001b[0mcheck_X_y\u001b[0m\u001b[0;34m(\u001b[0m\u001b[0mX\u001b[0m\u001b[0;34m,\u001b[0m \u001b[0my\u001b[0m\u001b[0;34m)\u001b[0m\u001b[0;34m\u001b[0m\u001b[0;34m\u001b[0m\u001b[0m\n\u001b[0m\u001b[1;32m    191\u001b[0m         return self._partial_fit(X, y, np.unique(y), _refit=True,\n\u001b[1;32m    192\u001b[0m                                  sample_weight=sample_weight)\n",
      "\u001b[0;32m~/anaconda3/lib/python3.7/site-packages/sklearn/utils/validation.py\u001b[0m in \u001b[0;36mcheck_X_y\u001b[0;34m(X, y, accept_sparse, accept_large_sparse, dtype, order, copy, force_all_finite, ensure_2d, allow_nd, multi_output, ensure_min_samples, ensure_min_features, y_numeric, warn_on_dtype, estimator)\u001b[0m\n\u001b[1;32m    754\u001b[0m                     \u001b[0mensure_min_features\u001b[0m\u001b[0;34m=\u001b[0m\u001b[0mensure_min_features\u001b[0m\u001b[0;34m,\u001b[0m\u001b[0;34m\u001b[0m\u001b[0;34m\u001b[0m\u001b[0m\n\u001b[1;32m    755\u001b[0m                     \u001b[0mwarn_on_dtype\u001b[0m\u001b[0;34m=\u001b[0m\u001b[0mwarn_on_dtype\u001b[0m\u001b[0;34m,\u001b[0m\u001b[0;34m\u001b[0m\u001b[0;34m\u001b[0m\u001b[0m\n\u001b[0;32m--> 756\u001b[0;31m                     estimator=estimator)\n\u001b[0m\u001b[1;32m    757\u001b[0m     \u001b[0;32mif\u001b[0m \u001b[0mmulti_output\u001b[0m\u001b[0;34m:\u001b[0m\u001b[0;34m\u001b[0m\u001b[0;34m\u001b[0m\u001b[0m\n\u001b[1;32m    758\u001b[0m         y = check_array(y, 'csr', force_all_finite=True, ensure_2d=False,\n",
      "\u001b[0;32m~/anaconda3/lib/python3.7/site-packages/sklearn/utils/validation.py\u001b[0m in \u001b[0;36mcheck_array\u001b[0;34m(array, accept_sparse, accept_large_sparse, dtype, order, copy, force_all_finite, ensure_2d, allow_nd, ensure_min_samples, ensure_min_features, warn_on_dtype, estimator)\u001b[0m\n\u001b[1;32m    515\u001b[0m                                       \u001b[0mdtype\u001b[0m\u001b[0;34m=\u001b[0m\u001b[0mdtype\u001b[0m\u001b[0;34m,\u001b[0m \u001b[0mcopy\u001b[0m\u001b[0;34m=\u001b[0m\u001b[0mcopy\u001b[0m\u001b[0;34m,\u001b[0m\u001b[0;34m\u001b[0m\u001b[0;34m\u001b[0m\u001b[0m\n\u001b[1;32m    516\u001b[0m                                       \u001b[0mforce_all_finite\u001b[0m\u001b[0;34m=\u001b[0m\u001b[0mforce_all_finite\u001b[0m\u001b[0;34m,\u001b[0m\u001b[0;34m\u001b[0m\u001b[0;34m\u001b[0m\u001b[0m\n\u001b[0;32m--> 517\u001b[0;31m                                       accept_large_sparse=accept_large_sparse)\n\u001b[0m\u001b[1;32m    518\u001b[0m     \u001b[0;32melse\u001b[0m\u001b[0;34m:\u001b[0m\u001b[0;34m\u001b[0m\u001b[0;34m\u001b[0m\u001b[0m\n\u001b[1;32m    519\u001b[0m         \u001b[0;31m# If np.array(..) gives ComplexWarning, then we convert the warning\u001b[0m\u001b[0;34m\u001b[0m\u001b[0;34m\u001b[0m\u001b[0;34m\u001b[0m\u001b[0m\n",
      "\u001b[0;32m~/anaconda3/lib/python3.7/site-packages/sklearn/utils/validation.py\u001b[0m in \u001b[0;36m_ensure_sparse_format\u001b[0;34m(spmatrix, accept_sparse, dtype, copy, force_all_finite, accept_large_sparse)\u001b[0m\n\u001b[1;32m    316\u001b[0m \u001b[0;34m\u001b[0m\u001b[0m\n\u001b[1;32m    317\u001b[0m     \u001b[0;32mif\u001b[0m \u001b[0maccept_sparse\u001b[0m \u001b[0;32mis\u001b[0m \u001b[0;32mFalse\u001b[0m\u001b[0;34m:\u001b[0m\u001b[0;34m\u001b[0m\u001b[0;34m\u001b[0m\u001b[0m\n\u001b[0;32m--> 318\u001b[0;31m         raise TypeError('A sparse matrix was passed, but dense '\n\u001b[0m\u001b[1;32m    319\u001b[0m                         \u001b[0;34m'data is required. Use X.toarray() to '\u001b[0m\u001b[0;34m\u001b[0m\u001b[0;34m\u001b[0m\u001b[0m\n\u001b[1;32m    320\u001b[0m                         'convert to a dense numpy array.')\n",
      "\u001b[0;31mTypeError\u001b[0m: A sparse matrix was passed, but dense data is required. Use X.toarray() to convert to a dense numpy array."
     ]
    }
   ],
   "source": [
    "# Spot Check Algorithms\n",
    "models = []\n",
    "models.append(('NBB', BernoulliNB()))\n",
    "models.append(('RFC', ensemble.RandomForestClassifier()))\n",
    "models.append(('KNN', neighbors.KNeighborsClassifier()))\n",
    "models.append(('DTC', tree.DecisionTreeClassifier()))\n",
    "models.append(('GNB', GaussianNB()))\n",
    "models.append(('SVC', SVC()))\n",
    "models.append(('GBC', ensemble.GradientBoostingClassifier()))\n",
    "models.append(('ABC', ensemble.AdaBoostClassifier()))\n",
    "models.append(('ETC', ensemble.ExtraTreesClassifier()))\n",
    "models.append(('QDA', QuadraticDiscriminantAnalysis()))\n",
    "#models.append(('GMM', GaussianMixture()))\n",
    "\n",
    "# evaluate each model in turn\n",
    "results = []\n",
    "names = []\n",
    "for name, model in models:\n",
    "    split = StratifiedShuffleSplit(n_splits=10, random_state=1337)\n",
    "    model = model.fit(X_train_tfidf_csr,y_train)\n",
    "    cv_results = cross_val_score(model, X_test_tfidf_csr, y_test, cv=split, scoring='accuracy')\n",
    "    results.append(cv_results)\n",
    "    names.append(name)\n",
    "    msg = \"%s: %f (%f)\" % (name, cv_results.mean(), cv_results.std())\n",
    "    print(msg)"
   ]
  },
  {
   "cell_type": "code",
   "execution_count": 202,
   "metadata": {},
   "outputs": [
    {
     "name": "stdout",
     "output_type": "stream",
     "text": [
      "Training set score: 0.9676773895644143\n",
      "\n",
      "Test set score: 0.804247460757156\n",
      "\n",
      "Cross Validation:\n",
      "    0.76 (+/- 0.01)\n",
      "[0.75115207 0.74423963 0.75806452 0.77419355 0.76728111 0.77419355\n",
      " 0.76267281 0.74884793 0.76036866 0.75806452]\n"
     ]
    }
   ],
   "source": [
    "rfc = ensemble.RandomForestClassifier()\n",
    "\n",
    "rfc.fit(X_train_tfidf_csr, y_train)\n",
    "\n",
    "print('Training set score:', rfc.score(X_train_tfidf_csr, y_train))\n",
    "print('\\nTest set score:', rfc.score(X_test_tfidf_csr, y_test))\n",
    "\n",
    "split = StratifiedShuffleSplit(n_splits=10, random_state=1337)\n",
    "\n",
    "score = cross_val_score(rfc, X_test_tfidf_csr, y_test, cv=split, scoring='accuracy')\n",
    "print(\"\\nCross Validation:\\n    %0.2f (+/- %0.2f)\" % (score.mean(), score.std()))\n",
    "print(score)"
   ]
  },
  {
   "cell_type": "code",
   "execution_count": 203,
   "metadata": {},
   "outputs": [
    {
     "name": "stdout",
     "output_type": "stream",
     "text": [
      "Training set score: 0.8355394797598892\n",
      "\n",
      "Test set score: 0.801477377654663\n",
      "\n",
      "Cross Validation:\n",
      "    0.71 (+/- 0.01)\n",
      "[0.71889401 0.70967742 0.70967742 0.70506912 0.71198157 0.7235023\n",
      " 0.70967742 0.70506912 0.71658986 0.71889401]\n"
     ]
    }
   ],
   "source": [
    "lr = LogisticRegression(penalty='l2') # No need to specify l2 as it's the default. But we put it for demonstration.\n",
    "lr.fit(X_train_tfidf_csr, y_train)\n",
    "\n",
    "print('Training set score:', lr.score(X_train_tfidf_csr, y_train))\n",
    "print('\\nTest set score:', lr.score(X_test_tfidf_csr, y_test))\n",
    "\n",
    "split = StratifiedShuffleSplit(n_splits=10, random_state=1337)\n",
    "\n",
    "score = cross_val_score(lr, X_test_tfidf_csr, y_test, cv=split, scoring='accuracy')\n",
    "print(\"\\nCross Validation:\\n    %0.2f (+/- %0.2f)\" % (score.mean(), score.std()))\n",
    "print(score)"
   ]
  },
  {
   "cell_type": "code",
   "execution_count": 204,
   "metadata": {},
   "outputs": [
    {
     "name": "stdout",
     "output_type": "stream",
     "text": [
      "Training set score: 0.8360012313375405\n",
      "\n",
      "Test set score: 0.7698522622345337\n",
      "\n",
      "Cross Validation:\n",
      "    0.71 (+/- 0.01)\n",
      "[0.71889401 0.70967742 0.70967742 0.70506912 0.71198157 0.7235023\n",
      " 0.70967742 0.70506912 0.71658986 0.71889401]\n"
     ]
    }
   ],
   "source": [
    "clf = ensemble.GradientBoostingClassifier()\n",
    "train = clf.fit(X_train_tfidf_csr, y_train)\n",
    "\n",
    "print('Training set score:', clf.score(X_train_tfidf_csr, y_train))\n",
    "print('\\nTest set score:', clf.score(X_test_tfidf_csr, y_test))\n",
    "\n",
    "split = StratifiedShuffleSplit(n_splits=10, random_state=1337)\n",
    "\n",
    "score = cross_val_score(lr, X_test_tfidf_csr, y_test, cv=split, scoring='accuracy')\n",
    "print(\"\\nCross Validation:\\n    %0.2f (+/- %0.2f)\" % (score.mean(), score.std()))\n",
    "print(score)"
   ]
  },
  {
   "cell_type": "code",
   "execution_count": null,
   "metadata": {},
   "outputs": [],
   "source": []
  }
 ],
 "metadata": {
  "kernelspec": {
   "display_name": "Python 3",
   "language": "python",
   "name": "python3"
  },
  "language_info": {
   "codemirror_mode": {
    "name": "ipython",
    "version": 3
   },
   "file_extension": ".py",
   "mimetype": "text/x-python",
   "name": "python",
   "nbconvert_exporter": "python",
   "pygments_lexer": "ipython3",
   "version": "3.7.2"
  }
 },
 "nbformat": 4,
 "nbformat_minor": 2
}
