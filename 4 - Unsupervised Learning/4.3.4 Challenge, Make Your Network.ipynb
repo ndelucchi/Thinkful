{
 "cells": [
  {
   "cell_type": "markdown",
   "metadata": {},
   "source": [
    "For this challenge you have two options for how to use neural networks . Choose one of the following:\n",
    "\n",
    "* Use RBM to perform feature extraction on an image-based dataset that you find or create. If you go this route, present the features you extract and explain why this is a useful feature extraction method in the context you’re operating in. DO NOT USE either the MNIST digit recognition database or the iris data set. They’ve been worked on in very public ways very very many times and the code is easily available. (However, that code could be a useful resource to refer to). \n",
    "\n",
    "OR\n",
    "\n",
    "* Create a multi-layer perceptron neural network model to predict on a labeled dataset of your choosing. Compare this model to either a boosted tree or a random forest model and describe the relative tradeoffs between complexity and accuracy. Be sure to vary the hyperparameters of your MLP!\n",
    "\n",
    "Once you've chosen which option you prefer, get to modeling and submit your work below.\n",
    "\n"
   ]
  },
  {
   "cell_type": "code",
   "execution_count": 1,
   "metadata": {},
   "outputs": [],
   "source": [
    "import numpy as np\n",
    "import matplotlib.pyplot as plt\n",
    "import pandas as pd\n",
    "from scipy.ndimage import convolve\n",
    "from sklearn import linear_model, datasets, metrics\n",
    "from sklearn.model_selection import train_test_split\n",
    "from sklearn.neural_network import BernoulliRBM\n",
    "from sklearn.pipeline import Pipeline\n",
    "from sklearn.base import clone"
   ]
  },
  {
   "cell_type": "code",
   "execution_count": 2,
   "metadata": {},
   "outputs": [
    {
     "name": "stdout",
     "output_type": "stream",
     "text": [
      "   id  Age  Contrast ContrastTag  \\\n",
      "0   0   60      True        NONE   \n",
      "1   1   69      True        NONE   \n",
      "2   2   74      True     APPLIED   \n",
      "3   3   75      True        NONE   \n",
      "4   4   56      True        NONE   \n",
      "\n",
      "                                      raw_input_path  \\\n",
      "0   ../data/50_50_dicom_cases\\Contrast\\00001 (1).dcm   \n",
      "1  ../data/50_50_dicom_cases\\Contrast\\00001 (10).dcm   \n",
      "2  ../data/50_50_dicom_cases\\Contrast\\00001 (11).dcm   \n",
      "3  ../data/50_50_dicom_cases\\Contrast\\00001 (12).dcm   \n",
      "4  ../data/50_50_dicom_cases\\Contrast\\00001 (13).dcm   \n",
      "\n",
      "                            tiff_name                          dicom_name  \n",
      "0  ID_0000_AGE_0060_CONTRAST_1_CT.tif  ID_0000_AGE_0060_CONTRAST_1_CT.dcm  \n",
      "1  ID_0001_AGE_0069_CONTRAST_1_CT.tif  ID_0001_AGE_0069_CONTRAST_1_CT.dcm  \n",
      "2  ID_0002_AGE_0074_CONTRAST_1_CT.tif  ID_0002_AGE_0074_CONTRAST_1_CT.dcm  \n",
      "3  ID_0003_AGE_0075_CONTRAST_1_CT.tif  ID_0003_AGE_0075_CONTRAST_1_CT.dcm  \n",
      "4  ID_0004_AGE_0056_CONTRAST_1_CT.tif  ID_0004_AGE_0056_CONTRAST_1_CT.dcm  \n",
      "<class 'pandas.core.frame.DataFrame'>\n",
      "RangeIndex: 100 entries, 0 to 99\n",
      "Data columns (total 7 columns):\n",
      "id                100 non-null int64\n",
      "Age               100 non-null int64\n",
      "Contrast          100 non-null bool\n",
      "ContrastTag       98 non-null object\n",
      "raw_input_path    100 non-null object\n",
      "tiff_name         100 non-null object\n",
      "dicom_name        100 non-null object\n",
      "dtypes: bool(1), int64(2), object(4)\n",
      "memory usage: 4.9+ KB\n",
      "None\n"
     ]
    }
   ],
   "source": [
    "cct = pd.read_csv('Cancer CT overview.csv')\n",
    "cct = cct.drop(['Unnamed: 0'], axis=1)\n",
    "cct = cct[['id','Age','Contrast','ContrastTag','raw_input_path','tiff_name','dicom_name']]\n",
    "print(cct.head())\n",
    "print(cct.info())"
   ]
  },
  {
   "cell_type": "code",
   "execution_count": 4,
   "metadata": {
    "scrolled": false
   },
   "outputs": [
    {
     "name": "stdout",
     "output_type": "stream",
     "text": [
      "['tiff_images', 'dicom_dir', 'Cancer CT overview.csv', 'full_archive.npz']\n",
      "Number of TIFF images: 100\n",
      "                                                path  \\\n",
      "0  Cancer CT scans/tiff_images/ID_0084_AGE_0067_C...   \n",
      "1  Cancer CT scans/tiff_images/ID_0088_AGE_0067_C...   \n",
      "2  Cancer CT scans/tiff_images/ID_0020_AGE_0066_C...   \n",
      "3  Cancer CT scans/tiff_images/ID_0039_AGE_0074_C...   \n",
      "4  Cancer CT scans/tiff_images/ID_0004_AGE_0056_C...   \n",
      "\n",
      "                                 file    ID  Age  Contrast Modality  \\\n",
      "0  ID_0084_AGE_0067_CONTRAST_0_CT.tif  0084   67         0       CT   \n",
      "1  ID_0088_AGE_0067_CONTRAST_0_CT.tif  0088   67         0       CT   \n",
      "2  ID_0020_AGE_0066_CONTRAST_1_CT.tif  0020   66         1       CT   \n",
      "3  ID_0039_AGE_0074_CONTRAST_1_CT.tif  0039   74         1       CT   \n",
      "4  ID_0004_AGE_0056_CONTRAST_1_CT.tif  0004   56         1       CT   \n",
      "\n",
      "                                            img_data  \n",
      "0  [[-1024.0, -1024.0, -1024.0, -1024.0, -1024.0,...  \n",
      "1  [[-2048.0, -2048.0, -2048.0, -2048.0, -2048.0,...  \n",
      "2  [[-1006.0, -1003.0, -998.0, -999.0, -1000.0, -...  \n",
      "3  [[-2048.0, -2048.0, -2048.0, -2048.0, -2048.0,...  \n",
      "4  [[-1024.0, -1024.0, -1024.0, -1024.0, -1024.0,...  \n",
      "<class 'pandas.core.frame.DataFrame'>\n",
      "RangeIndex: 100 entries, 0 to 99\n",
      "Data columns (total 7 columns):\n",
      "path        100 non-null object\n",
      "file        100 non-null object\n",
      "ID          100 non-null object\n",
      "Age         100 non-null int64\n",
      "Contrast    100 non-null int64\n",
      "Modality    100 non-null object\n",
      "img_data    100 non-null object\n",
      "dtypes: int64(2), object(5)\n",
      "memory usage: 5.5+ KB\n",
      "None\n"
     ]
    }
   ],
   "source": [
    "IS_LOCAL = False\n",
    "import numpy as np\n",
    "import pandas as pd\n",
    "from skimage.io import imread\n",
    "import seaborn as sns\n",
    "import matplotlib.pyplot as plt\n",
    "from glob import glob\n",
    "\n",
    "if(IS_LOCAL):\n",
    "    import pydicom as dicom\n",
    "#else:\n",
    "    #import dicom\n",
    "import os\n",
    "\n",
    "if(IS_LOCAL):\n",
    "    PATH=\"../input/siim-medical-image/\"\n",
    "else:\n",
    "    PATH=\"Cancer CT scans/\"\n",
    "print(os.listdir(PATH))\n",
    "\n",
    "print(\"Number of TIFF images:\", len(os.listdir(os.path.join(PATH,\"tiff_images\"))))\n",
    "\n",
    "tiff_data = pd.DataFrame([{'path': filepath} for filepath in glob(PATH+'tiff_images/*.tif')])\n",
    "\n",
    "def process_data(path):\n",
    "    data = pd.DataFrame([{'path': filepath} for filepath in glob(PATH+path)])\n",
    "    data['file'] = data['path'].map(os.path.basename)\n",
    "    data['ID'] = data['file'].map(lambda x: str(x.split('_')[1]))\n",
    "    data['Age'] = data['file'].map(lambda x: int(x.split('_')[3]))\n",
    "    data['Contrast'] = data['file'].map(lambda x: bool(int(x.split('_')[5])))\n",
    "    data['Modality'] = data['file'].map(lambda x: str(x.split('_')[6].split('.')[-2]))\n",
    "    return data\n",
    "\n",
    "tiff_data = process_data('tiff_images/*.tif')\n",
    "\n",
    "tiff_data['img_data'] = tiff_data['path'].apply(func=imread) \n",
    "tiff_data['Contrast'] = np.where(tiff_data['Contrast']==True,1,0)\n",
    "\n",
    "print(tiff_data.head())\n",
    "#tiff_data['img_data'] = tiff_data['img_data'].astype('int64')\n",
    "print(tiff_data.info())"
   ]
  },
  {
   "cell_type": "code",
   "execution_count": 52,
   "metadata": {},
   "outputs": [],
   "source": [
    "im_data = np.load('full_archive.npz')\n",
    "# make a dictionary of the data vs idx\n",
    "full_image_dict = dict(zip(im_data['idx'], im_data['image']))\n",
    "\n",
    "labels = dict(zip(cct.index.values,cct['Contrast']))\n",
    "\n",
    "X = np.asarray([full_image_dict[x].flatten() \n",
    "   for x in list(full_image_dict.keys())[:98] \n",
    "        if len(full_image_dict[x].flatten()) == 512*512])\n",
    "y = np.asarray([labels[x]\n",
    "    for x in list(full_image_dict.keys())[:98] \n",
    "       if len(full_image_dict[x].flatten()) ==512*512])"
   ]
  },
  {
   "cell_type": "code",
   "execution_count": 53,
   "metadata": {},
   "outputs": [
    {
     "name": "stdout",
     "output_type": "stream",
     "text": [
      "[BernoulliRBM] Iteration 1, pseudo-likelihood = -207507439053.95, time = 7.31s\n",
      "[BernoulliRBM] Iteration 2, pseudo-likelihood = -425925628639.18, time = 6.83s\n",
      "[BernoulliRBM] Iteration 3, pseudo-likelihood = -644345467989.33, time = 7.24s\n",
      "[BernoulliRBM] Iteration 4, pseudo-likelihood = -862781187600.41, time = 7.15s\n",
      "[BernoulliRBM] Iteration 5, pseudo-likelihood = -1081261446938.26, time = 7.03s\n",
      "[BernoulliRBM] Iteration 6, pseudo-likelihood = -1299741706266.26, time = 6.85s\n",
      "[BernoulliRBM] Iteration 7, pseudo-likelihood = -1518221965568.00, time = 6.81s\n",
      "[BernoulliRBM] Iteration 8, pseudo-likelihood = -1736702225020.72, time = 6.74s\n",
      "[BernoulliRBM] Iteration 9, pseudo-likelihood = -1955182484112.41, time = 7.69s\n",
      "[BernoulliRBM] Iteration 10, pseudo-likelihood = -2173662743722.67, time = 7.21s\n",
      "[BernoulliRBM] Iteration 11, pseudo-likelihood = -2392143002676.51, time = 8.06s\n",
      "[BernoulliRBM] Iteration 12, pseudo-likelihood = -2610623262260.51, time = 8.46s\n",
      "[BernoulliRBM] Iteration 13, pseudo-likelihood = -2829103521424.41, time = 8.02s\n",
      "[BernoulliRBM] Iteration 14, pseudo-likelihood = -3047583780758.97, time = 7.09s\n",
      "[BernoulliRBM] Iteration 15, pseudo-likelihood = -3266064040067.28, time = 7.08s\n",
      "[BernoulliRBM] Iteration 16, pseudo-likelihood = -3484544299703.79, time = 7.34s\n",
      "[BernoulliRBM] Iteration 17, pseudo-likelihood = -3703024558408.21, time = 7.59s\n",
      "[BernoulliRBM] Iteration 18, pseudo-likelihood = -3921504818425.44, time = 8.17s\n",
      "[BernoulliRBM] Iteration 19, pseudo-likelihood = -4139985077707.49, time = 9.11s\n",
      "[BernoulliRBM] Iteration 20, pseudo-likelihood = -4358465336753.23, time = 7.56s\n"
     ]
    },
    {
     "name": "stderr",
     "output_type": "stream",
     "text": [
      "/Users/nickdelucchi/anaconda3/lib/python3.7/site-packages/sklearn/metrics/classification.py:1143: UndefinedMetricWarning: Precision and F-score are ill-defined and being set to 0.0 in labels with no predicted samples.\n",
      "  'precision', 'predicted', average, warn_for)\n",
      "/Users/nickdelucchi/anaconda3/lib/python3.7/site-packages/sklearn/metrics/classification.py:1143: UndefinedMetricWarning: Precision and F-score are ill-defined and being set to 0.0 in labels with no predicted samples.\n",
      "  'precision', 'predicted', average, warn_for)\n",
      "/Users/nickdelucchi/anaconda3/lib/python3.7/site-packages/sklearn/metrics/classification.py:1143: UndefinedMetricWarning: Precision and F-score are ill-defined and being set to 0.0 in labels with no predicted samples.\n",
      "  'precision', 'predicted', average, warn_for)\n"
     ]
    },
    {
     "name": "stdout",
     "output_type": "stream",
     "text": [
      "Logistic regression using RBM features:\n",
      "              precision    recall  f1-score   support\n",
      "\n",
      "           0       0.50      1.00      0.67        10\n",
      "           1       0.00      0.00      0.00        10\n",
      "\n",
      "   micro avg       0.50      0.50      0.50        20\n",
      "   macro avg       0.25      0.50      0.33        20\n",
      "weighted avg       0.25      0.50      0.33        20\n",
      "\n",
      "\n",
      "Logistic regression using raw pixel features:\n",
      "              precision    recall  f1-score   support\n",
      "\n",
      "           0       0.82      0.90      0.86        10\n",
      "           1       0.89      0.80      0.84        10\n",
      "\n",
      "   micro avg       0.85      0.85      0.85        20\n",
      "   macro avg       0.85      0.85      0.85        20\n",
      "weighted avg       0.85      0.85      0.85        20\n",
      "\n",
      "\n"
     ]
    },
    {
     "data": {
      "image/png": "[encoded data removed]",
      "text/plain": [
       "<Figure size 302.4x288 with 100 Axes>"
      ]
     },
     "metadata": {},
     "output_type": "display_data"
    }
   ],
   "source": [
    "X_train, X_test, y_train, y_test = train_test_split(\n",
    "    X, y, test_size=0.2, random_state=1337)\n",
    "\n",
    "# Models we will use\n",
    "logistic = linear_model.LogisticRegression(solver='lbfgs', max_iter=10000,\n",
    "                                           multi_class='multinomial')\n",
    "\n",
    "\n",
    "rbm = BernoulliRBM(random_state=0, verbose=True)\n",
    "\n",
    "rbm_features_classifier = Pipeline(\n",
    "    steps=[('rbm', rbm), ('logistic', logistic)])\n",
    "\n",
    "# #############################################################################\n",
    "# Training\n",
    "\n",
    "# Hyper-parameters. These were set by cross-validation,\n",
    "# using a GridSearchCV. Here we are not performing cross-validation to\n",
    "# save time.\n",
    "rbm.learning_rate = 0.06\n",
    "rbm.n_iter = 20\n",
    "# More components tend to give better prediction performance, but larger\n",
    "# fitting time\n",
    "rbm.n_components = 100\n",
    "logistic.C = 6000\n",
    "\n",
    "# Training RBM-Logistic Pipeline\n",
    "rbm_features_classifier.fit(X_train, y_train)\n",
    "\n",
    "# Training the Logistic regression classifier directly on the pixel\n",
    "raw_pixel_classifier = clone(logistic)\n",
    "raw_pixel_classifier.C = 100.\n",
    "raw_pixel_classifier.fit(X_train, y_train)\n",
    "\n",
    "# #############################################################################\n",
    "# Evaluation\n",
    "\n",
    "y_pred = rbm_features_classifier.predict(X_test)\n",
    "print(\"Logistic regression using RBM features:\\n%s\\n\" % (\n",
    "    metrics.classification_report(y_test, y_pred)))\n",
    "\n",
    "y_pred = raw_pixel_classifier.predict(X_test)\n",
    "print(\"Logistic regression using raw pixel features:\\n%s\\n\" % (\n",
    "    metrics.classification_report(y_test, y_pred)))\n",
    "\n",
    "# #############################################################################\n",
    "# Plotting\n",
    "\n",
    "plt.figure(figsize=(4.2, 4))\n",
    "for i, comp in enumerate(rbm.components_):\n",
    "    plt.subplot(10, 10, i + 1)\n",
    "    plt.imshow(comp.reshape((512, 512)), cmap=plt.cm.gray_r,\n",
    "               interpolation='nearest')\n",
    "    plt.xticks(())\n",
    "    plt.yticks(())\n",
    "plt.suptitle('100 components extracted by RBM', fontsize=16)\n",
    "plt.subplots_adjust(0.08, 0.02, 0.92, 0.85, 0.08, 0.23)\n",
    "\n",
    "plt.show()"
   ]
  },
  {
   "cell_type": "code",
   "execution_count": 54,
   "metadata": {},
   "outputs": [
    {
     "data": {
      "text/plain": [
       "array([[-9213.29836258, -9248.14265496, -9247.84715957, ...,\n",
       "        -8401.37222499, -8454.53734041, -8504.59702131],\n",
       "       [-9183.19568566, -9217.91496621, -9217.36911265, ...,\n",
       "        -8372.86579188, -8425.89963286, -8475.82958268],\n",
       "       [-9219.70501859, -9254.57749152, -9254.10246101, ...,\n",
       "        -8400.98208223, -8454.26451008, -8504.98890383],\n",
       "       ...,\n",
       "       [-9231.55981088, -9266.56720588, -9266.21660592, ...,\n",
       "        -8412.23216172, -8465.67361827, -8516.64040939],\n",
       "       [-9213.92004667, -9248.63293925, -9248.08165971, ...,\n",
       "        -8400.0754021 , -8452.95831741, -8503.35868143],\n",
       "       [-9213.12803969, -9248.13869762, -9247.80468489, ...,\n",
       "        -8400.1105109 , -8453.27804774, -8503.8505862 ]])"
      ]
     },
     "execution_count": 54,
     "metadata": {},
     "output_type": "execute_result"
    }
   ],
   "source": [
    "rbm.components_"
   ]
  },
  {
   "cell_type": "code",
   "execution_count": null,
   "metadata": {},
   "outputs": [],
   "source": []
  }
 ],
 "metadata": {
  "kernelspec": {
   "display_name": "Python 3",
   "language": "python",
   "name": "python3"
  },
  "language_info": {
   "codemirror_mode": {
    "name": "ipython",
    "version": 3
   },
   "file_extension": ".py",
   "mimetype": "text/x-python",
   "name": "python",
   "nbconvert_exporter": "python",
   "pygments_lexer": "ipython3",
   "version": "3.7.2"
  }
 },
 "nbformat": 4,
 "nbformat_minor": 2
}
