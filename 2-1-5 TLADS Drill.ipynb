{
 "cells": [
  {
   "cell_type": "code",
   "execution_count": 1,
   "metadata": {},
   "outputs": [],
   "source": [
    "import pandas as pd"
   ]
  },
  {
   "cell_type": "markdown",
   "metadata": {},
   "source": [
    "Categorize each of the variables in the ESS dataset as\n",
    "\n",
    "categorical or continuous\n",
    "\n",
    "and if continuous as ordinal, interval, or ratio variables. \n",
    "\n",
    "Check your work with your mentor, and discuss what that information might imply for feature engineering with this data."
   ]
  },
  {
   "cell_type": "code",
   "execution_count": 4,
   "metadata": {},
   "outputs": [
    {
     "name": "stdout",
     "output_type": "stream",
     "text": [
      "  cntry  idno  year  tvtot  ppltrst  pplfair  pplhlp  happy  sclmeet  sclact  \\\n",
      "0    CH   5.0     6    3.0      3.0     10.0     5.0    8.0      5.0     4.0   \n",
      "1    CH  25.0     6    6.0      5.0      7.0     5.0    9.0      3.0     2.0   \n",
      "2    CH  26.0     6    1.0      8.0      8.0     8.0    7.0      6.0     3.0   \n",
      "3    CH  28.0     6    4.0      6.0      6.0     7.0   10.0      6.0     2.0   \n",
      "4    CH  29.0     6    5.0      6.0      7.0     5.0    8.0      7.0     2.0   \n",
      "\n",
      "   gndr  agea  partner  \n",
      "0   2.0  60.0      1.0  \n",
      "1   2.0  59.0      1.0  \n",
      "2   1.0  24.0      2.0  \n",
      "3   2.0  64.0      1.0  \n",
      "4   2.0  55.0      1.0  \n",
      "<class 'pandas.core.frame.DataFrame'>\n",
      "RangeIndex: 8594 entries, 0 to 8593\n",
      "Data columns (total 13 columns):\n",
      "cntry      8594 non-null object\n",
      "idno       8594 non-null float64\n",
      "year       8594 non-null int64\n",
      "tvtot      8586 non-null float64\n",
      "ppltrst    8580 non-null float64\n",
      "pplfair    8555 non-null float64\n",
      "pplhlp     8569 non-null float64\n",
      "happy      8563 non-null float64\n",
      "sclmeet    8579 non-null float64\n",
      "sclact     8500 non-null float64\n",
      "gndr       8584 non-null float64\n",
      "agea       8355 non-null float64\n",
      "partner    8577 non-null float64\n",
      "dtypes: float64(11), int64(1), object(1)\n",
      "memory usage: 872.9+ KB\n",
      "None\n"
     ]
    }
   ],
   "source": [
    "ess = pd.read_csv('ESSdata_Thinkful.csv')\n",
    "print(ess.head())\n",
    "print(ess.info())"
   ]
  },
  {
   "cell_type": "markdown",
   "metadata": {},
   "source": [
    "cntry - category\n",
    "idno(ID number) - category\n",
    "year - continuous ordinal\n",
    "tvtot - continuous ordinal\n",
    "ppltrst - continuous interval\n",
    "pplfair - continuous interval\n",
    "pplhlp - continuous interval\n",
    "happy - continuous interval\n",
    "sclmeet - category\n",
    "sclact - category\n",
    "gndr - category\n",
    "agea - continuous ordinal\n",
    "partner - category "
   ]
  }
 ],
 "metadata": {
  "kernelspec": {
   "display_name": "Python 3",
   "language": "python",
   "name": "python3"
  },
  "language_info": {
   "codemirror_mode": {
    "name": "ipython",
    "version": 3
   },
   "file_extension": ".py",
   "mimetype": "text/x-python",
   "name": "python",
   "nbconvert_exporter": "python",
   "pygments_lexer": "ipython3",
   "version": "3.7.2"
  }
 },
 "nbformat": 4,
 "nbformat_minor": 2
}
