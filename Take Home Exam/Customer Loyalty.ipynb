{
 "cells": [
  {
   "cell_type": "code",
   "execution_count": 64,
   "metadata": {
    "ExecuteTime": {
     "end_time": "2019-07-29T22:52:41.501507Z",
     "start_time": "2019-07-29T22:52:41.492851Z"
    }
   },
   "outputs": [],
   "source": [
    "import pandas as pd\n",
    "import numpy as np\n",
    "import matplotlib.pyplot as plt\n",
    "import seaborn as sns\n",
    "import matplotlib.pyplot as plt\n",
    "\n",
    "from imblearn.combine import SMOTETomek\n",
    "from sklearn.preprocessing import normalize\n",
    "from sklearn import neighbors, ensemble, tree, preprocessing\n",
    "from sklearn.pipeline import make_pipeline\n",
    "from sklearn.model_selection import train_test_split, cross_val_score, StratifiedShuffleSplit, RandomizedSearchCV\n",
    "\n",
    "import warnings \n",
    "warnings.simplefilter('ignore')"
   ]
  },
  {
   "cell_type": "markdown",
   "metadata": {},
   "source": [
    "# Import Data"
   ]
  },
  {
   "cell_type": "code",
   "execution_count": 52,
   "metadata": {
    "ExecuteTime": {
     "end_time": "2019-07-29T21:55:43.741720Z",
     "start_time": "2019-07-29T21:55:43.494983Z"
    }
   },
   "outputs": [
    {
     "name": "stdout",
     "output_type": "stream",
     "text": [
      "   purch_amt  gender  card_on_file   age  days_since_last_purch  loyalty\n",
      "0      19.58       1             0  31.0                   35.0        0\n",
      "1      65.16       1             1  23.0                   61.0        0\n",
      "2      40.60       0             0  36.0                   49.0        0\n",
      "3      38.01       1             1  47.0                   57.0        0\n",
      "4      22.32       0             1   5.0                   39.0        0\n",
      "<class 'pandas.core.frame.DataFrame'>\n",
      "Int64Index: 120000 entries, 0 to 119999\n",
      "Data columns (total 6 columns):\n",
      "purch_amt                120000 non-null float64\n",
      "gender                   120000 non-null int64\n",
      "card_on_file             120000 non-null int64\n",
      "age                      120000 non-null float64\n",
      "days_since_last_purch    120000 non-null float64\n",
      "loyalty                  120000 non-null int64\n",
      "dtypes: float64(3), int64(3)\n",
      "memory usage: 6.4 MB\n",
      "None\n"
     ]
    }
   ],
   "source": [
    "#import data\n",
    "customers = pd.read_csv('customers_data.csv',index_col=0)\n",
    "\n",
    "# re-engineer features\n",
    "customers['gender'] = np.where(customers['gender'] == 'male',1,0) #1 indicates male, 0 indicates female\n",
    "customers['card_on_file'] = np.where(customers['card_on_file'] == 'yes',1,0) #1 indicates yes, 0 indicates no\n",
    "customers['loyalty'] = np.where(customers['loyalty'] == False,0,1) #1 indicates loyal, 0 indicates not loyal\n",
    "\n",
    "#print head\n",
    "print(customers.head())\n",
    "#check for null values\n",
    "print(customers.info())"
   ]
  },
  {
   "cell_type": "code",
   "execution_count": 53,
   "metadata": {
    "ExecuteTime": {
     "end_time": "2019-07-29T21:55:45.125583Z",
     "start_time": "2019-07-29T21:55:45.109776Z"
    }
   },
   "outputs": [
    {
     "data": {
      "text/plain": [
       "0    100000\n",
       "1     20000\n",
       "Name: loyalty, dtype: int64"
      ]
     },
     "execution_count": 53,
     "metadata": {},
     "output_type": "execute_result"
    }
   ],
   "source": [
    "#check for uneven class, looks like 1/6 minority for loyal\n",
    "customers.loyalty.value_counts()"
   ]
  },
  {
   "cell_type": "code",
   "execution_count": 66,
   "metadata": {
    "ExecuteTime": {
     "end_time": "2019-07-29T22:53:31.124213Z",
     "start_time": "2019-07-29T22:53:30.225509Z"
    }
   },
   "outputs": [
    {
     "data": {
      "image/png": "[encoded data removed]",
      "text/plain": [
       "<Figure size 432x288 with 1 Axes>"
      ]
     },
     "metadata": {
      "needs_background": "light"
     },
     "output_type": "display_data"
    },
    {
     "data": {
      "image/png": "[encoded data removed]",
      "text/plain": [
       "<Figure size 432x288 with 1 Axes>"
      ]
     },
     "metadata": {
      "needs_background": "light"
     },
     "output_type": "display_data"
    }
   ],
   "source": [
    "#check customer age distribution\n",
    "sns.violinplot(y=customers['age'])\n",
    "plt.title('Age Distribution')\n",
    "plt.show()\n",
    "#check the distribution of purch_amt\n",
    "sns.violinplot(y=customers['purch_amt'])\n",
    "plt.show('Purchase Amount Distribution')\n",
    "plt.show()"
   ]
  },
  {
   "cell_type": "code",
   "execution_count": 67,
   "metadata": {
    "ExecuteTime": {
     "end_time": "2019-07-29T22:55:40.886477Z",
     "start_time": "2019-07-29T22:55:40.874988Z"
    }
   },
   "outputs": [
    {
     "name": "stdout",
     "output_type": "stream",
     "text": [
      "0    100000\n",
      "1     20000\n",
      "Name: loyalty, dtype: int64\n"
     ]
    }
   ],
   "source": [
    "#check class balance of output\n",
    "print(customers['loyalty'].value_counts())"
   ]
  },
  {
   "cell_type": "code",
   "execution_count": 55,
   "metadata": {
    "ExecuteTime": {
     "end_time": "2019-07-29T21:55:47.842591Z",
     "start_time": "2019-07-29T21:55:47.709060Z"
    }
   },
   "outputs": [],
   "source": [
    "# Define the features and the outcome.\n",
    "X = customers.drop(['loyalty'],axis=1)\n",
    "X = normalize(X)\n",
    "y = customers['loyalty']\n",
    "\n",
    "X_train, X_test, y_train, y_test = train_test_split(X,\n",
    "                                                    y, \n",
    "                                                    test_size=0.25, \n",
    "                                                    random_state=42,\n",
    "                                                    stratify=y)"
   ]
  },
  {
   "cell_type": "code",
   "execution_count": 56,
   "metadata": {
    "ExecuteTime": {
     "end_time": "2019-07-29T21:55:53.166744Z",
     "start_time": "2019-07-29T21:55:51.875187Z"
    }
   },
   "outputs": [],
   "source": [
    "#class balancing\n",
    "smt = SMOTETomek(random_state=42)\n",
    "#class balancing\n",
    "#only perform on the training set, this reduces bias in fitting the model.\n",
    "X_res, y_res = smt.fit_resample(X_train, y_train)\n"
   ]
  },
  {
   "cell_type": "code",
   "execution_count": 57,
   "metadata": {
    "ExecuteTime": {
     "end_time": "2019-07-29T21:55:54.889402Z",
     "start_time": "2019-07-29T21:55:54.876820Z"
    }
   },
   "outputs": [
    {
     "data": {
      "text/plain": [
       "1    71821\n",
       "0    71821\n",
       "dtype: int64"
      ]
     },
     "execution_count": 57,
     "metadata": {},
     "output_type": "execute_result"
    }
   ],
   "source": [
    "pd.Series(y_res).value_counts()\n"
   ]
  },
  {
   "cell_type": "markdown",
   "metadata": {},
   "source": [
    "# Modeling"
   ]
  },
  {
   "cell_type": "code",
   "execution_count": 58,
   "metadata": {
    "ExecuteTime": {
     "end_time": "2019-07-29T21:56:43.065170Z",
     "start_time": "2019-07-29T21:56:06.814694Z"
    }
   },
   "outputs": [
    {
     "name": "stdout",
     "output_type": "stream",
     "text": [
      "RFC: 0.848867 (0.006320)\n",
      "KNN: 0.852000 (0.005922)\n",
      "DTC: 0.808867 (0.009394)\n",
      "GBC: 0.868733 (0.006499)\n",
      "ABC: 0.865400 (0.006958)\n",
      "ETC: 0.842400 (0.008051)\n"
     ]
    }
   ],
   "source": [
    "#iterate through the models\n",
    "models = []\n",
    "models.append(('RFC', ensemble.RandomForestClassifier()))\n",
    "models.append(('KNN', neighbors.KNeighborsClassifier()))\n",
    "models.append(('DTC', tree.DecisionTreeClassifier()))\n",
    "models.append(('GBC', ensemble.GradientBoostingClassifier()))\n",
    "models.append(('ABC', ensemble.AdaBoostClassifier()))\n",
    "models.append(('ETC', ensemble.ExtraTreesClassifier()))\n",
    "\n",
    "split = StratifiedShuffleSplit(n_splits=5, random_state=1337)\n",
    "\n",
    "# evaluate each model in turn\n",
    "results = []\n",
    "names = []\n",
    "for name, model in models:\n",
    "    model = model.fit(X_res,y_res)\n",
    "    cv_results = cross_val_score(model, X_test, y_test, cv=split, scoring='accuracy')\n",
    "    results.append(cv_results)\n",
    "    names.append(name)\n",
    "    msg = \"%s: %f (%f)\" % (name, cv_results.mean(), cv_results.std())\n",
    "    print(msg)"
   ]
  },
  {
   "cell_type": "markdown",
   "metadata": {},
   "source": [
    "Looks like GradientBoostClassifier out performs the other models, let's see if we can tune it to get even better performance!"
   ]
  },
  {
   "cell_type": "code",
   "execution_count": 59,
   "metadata": {
    "ExecuteTime": {
     "end_time": "2019-07-29T22:21:26.321857Z",
     "start_time": "2019-07-29T21:57:04.480469Z"
    }
   },
   "outputs": [
    {
     "name": "stdout",
     "output_type": "stream",
     "text": [
      "Processing...\n",
      "Best Parameters:\n",
      "  {'gradientboostingclassifier__warm_start': True, 'gradientboostingclassifier__random_state': 1337, 'gradientboostingclassifier__n_iter_no_change': None, 'gradientboostingclassifier__n_estimators': 1000, 'gradientboostingclassifier__max_features': 3, 'gradientboostingclassifier__max_depth': 5, 'gradientboostingclassifier__loss': 'deviance'}\n"
     ]
    }
   ],
   "source": [
    "print('Processing...')\n",
    "\n",
    "# Declare data preprocessing steps\n",
    "pipeline = make_pipeline(preprocessing.StandardScaler(), \n",
    "                         ensemble.GradientBoostingClassifier())\n",
    "\n",
    "# Declare hyperparameters to tune\n",
    "hyperparameters = {'gradientboostingclassifier__n_estimators' : [100,500,1000],\n",
    "                  'gradientboostingclassifier__max_depth' : [2,3,4,5,6,7],\n",
    "                  'gradientboostingclassifier__max_features': [1,2,3,4,5],\n",
    "                  'gradientboostingclassifier__loss': ['deviance', 'exponential'],\n",
    "                  'gradientboostingclassifier__random_state': [1337],\n",
    "                  'gradientboostingclassifier__warm_start': [True],\n",
    "                  'gradientboostingclassifier__n_iter_no_change' : [None, 1]\n",
    "                  }\n",
    " \n",
    "# Tune model using cross-validation pipeline\n",
    "gbc = RandomizedSearchCV(estimator=pipeline,param_distributions=hyperparameters, cv=split)\n",
    "gbc.fit(X_res, y_res)\n",
    "                                               \n",
    "# Refit on the entire training set\n",
    "# No additional code needed if clf.refit == True (default is True)\n",
    "print('Best Parameters:\\n ', gbc.best_params_)\n"
   ]
  },
  {
   "cell_type": "code",
   "execution_count": 60,
   "metadata": {
    "ExecuteTime": {
     "end_time": "2019-07-29T22:38:05.090553Z",
     "start_time": "2019-07-29T22:22:15.641738Z"
    }
   },
   "outputs": [
    {
     "name": "stdout",
     "output_type": "stream",
     "text": [
      "\n",
      "Training Accuracy:\n",
      "    0.8715974436446164\n",
      "Testing Accuracy:\n",
      "    0.8019\n",
      "\n",
      "Cross Validation:\n",
      "    0.87 +/- 0.01\n"
     ]
    }
   ],
   "source": [
    "# Evaluate model pipeline on test data\n",
    "print('\\nTraining Accuracy:\\n   ', gbc.score(X_res, y_res))\n",
    "print('Testing Accuracy:\\n   ', gbc.score(X_test, y_test))\n",
    "\n",
    "score = cross_val_score(gbc, X_test, y_test, cv=split)\n",
    "print('\\nCross Validation:\\n    %0.2f +/- %0.2f' %(score.mean(),score.std()))"
   ]
  },
  {
   "cell_type": "code",
   "execution_count": 61,
   "metadata": {
    "ExecuteTime": {
     "end_time": "2019-07-29T22:51:40.138215Z",
     "start_time": "2019-07-29T22:48:31.439492Z"
    }
   },
   "outputs": [
    {
     "name": "stdout",
     "output_type": "stream",
     "text": [
      "GBC test score: 0.8547, STD: 0.0066\n"
     ]
    }
   ],
   "source": [
    "GBC = ensemble.GradientBoostingClassifier(n_estimators=1000,\n",
    "                                    max_features=3,\n",
    "                                    max_depth=5,\n",
    "                                    loss = 'deviance',\n",
    "                                    n_iter_no_change=None,\n",
    "                                    random_state=1337,\n",
    "                                    warm_start=True)\n",
    "GBC.fit(X_res,y_res)\n",
    "cv_results = cross_val_score(GBC, \n",
    "                             X_test, \n",
    "                             y_test, \n",
    "                             cv=split,\n",
    "                             scoring='accuracy')\n",
    "\n",
    "\n",
    "print(f'GBC test score: {round(cv_results.mean(),4)}, STD: {round(cv_results.std(),4)}')\n"
   ]
  },
  {
   "cell_type": "code",
   "execution_count": 89,
   "metadata": {
    "ExecuteTime": {
     "end_time": "2019-07-29T23:14:28.794802Z",
     "start_time": "2019-07-29T23:14:28.648776Z"
    }
   },
   "outputs": [
    {
     "data": {
      "image/png": "[encoded data removed]",
      "text/plain": [
       "<Figure size 432x288 with 1 Axes>"
      ]
     },
     "metadata": {
      "needs_background": "light"
     },
     "output_type": "display_data"
    }
   ],
   "source": [
    "feature_importance = GBC.feature_importances_\n",
    "\n",
    "# Make importances relative to max importance.\n",
    "feature_importance = 100.0 * (feature_importance/feature_importance.max())\n",
    "sorted_idx = np.argsort(feature_importance)\n",
    "pos = np.arange(sorted_idx.shape[0])\n",
    "plt.barh(pos, feature_importance[sorted_idx], align='center')\n",
    "plt.yticks(pos, customers.columns[sorted_idx])\n",
    "plt.xlabel('Relative Importance')\n",
    "plt.title('GBC Variable Importance')\n",
    "plt.show()"
   ]
  },
  {
   "cell_type": "code",
   "execution_count": null,
   "metadata": {},
   "outputs": [],
   "source": []
  }
 ],
 "metadata": {
  "kernelspec": {
   "display_name": "Python 3",
   "language": "python",
   "name": "python3"
  },
  "language_info": {
   "codemirror_mode": {
    "name": "ipython",
    "version": 3
   },
   "file_extension": ".py",
   "mimetype": "text/x-python",
   "name": "python",
   "nbconvert_exporter": "python",
   "pygments_lexer": "ipython3",
   "version": "3.7.2"
  },
  "notify_time": "10"
 },
 "nbformat": 4,
 "nbformat_minor": 2
}
