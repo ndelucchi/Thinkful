{
 "cells": [
  {
   "cell_type": "code",
   "execution_count": 1,
   "metadata": {},
   "outputs": [
    {
     "name": "stdout",
     "output_type": "stream",
     "text": [
      "mean:  9.85714285714\n",
      "median:  10.0\n",
      "variance:  6.40816326531\n",
      "std. deviation : 2.53143502095\n",
      "standard error : 1.03345401972\n",
      "Mode is 8\n"
     ]
    }
   ],
   "source": [
    "import numpy as np\n",
    "ages =[14,12,11,10,8,6,8]\n",
    "\n",
    "def summarystats(ages):\n",
    "    print(\"mean: \",np.mean(ages))\n",
    "    print(\"median: \",np.median(ages))\n",
    "    print(\"variance: \",np.var(ages))\n",
    "    print(\"std. deviation :\",np.std(ages))\n",
    "    print(\"standard error :\",np.std(ages)/np.sqrt(len(ages)-1))\n",
    "    \n",
    "summarystats(ages)\n",
    "print(\"Mode is 8\")"
   ]
  },
  {
   "cell_type": "code",
   "execution_count": 2,
   "metadata": {
    "collapsed": true
   },
   "outputs": [],
   "source": [
    "#mean and standard deviation are fine as mean and median are close"
   ]
  },
  {
   "cell_type": "code",
   "execution_count": 3,
   "metadata": {},
   "outputs": [
    {
     "name": "stdout",
     "output_type": "stream",
     "text": [
      "mean:  10.0\n",
      "median:  10.0\n",
      "variance:  5.42857142857\n",
      "std. deviation : 2.32992949004\n",
      "standard error : 0.951189731211\n",
      "Mode is 8\n"
     ]
    }
   ],
   "source": [
    "ages2 =[14,12,11,10,8,7,8]\n",
    "summarystats(ages2)\n",
    "print(\"Mode is 8\")"
   ]
  },
  {
   "cell_type": "code",
   "execution_count": 4,
   "metadata": {},
   "outputs": [
    {
     "name": "stdout",
     "output_type": "stream",
     "text": [
      "mean:  9.0\n",
      "median:  10.0\n",
      "variance:  15.4285714286\n",
      "std. deviation : 3.92792202425\n",
      "standard error : 1.60356745147\n",
      "There is no mode\n"
     ]
    }
   ],
   "source": [
    "ages3 =[14,12,11,10,8,7,1]\n",
    "summarystats(ages3)\n",
    "print(\"There is no mode\")"
   ]
  },
  {
   "cell_type": "code",
   "execution_count": 5,
   "metadata": {
    "collapsed": true
   },
   "outputs": [],
   "source": [
    "#mean and median diverge due to outlier- use median"
   ]
  },
  {
   "cell_type": "code",
   "execution_count": 6,
   "metadata": {
    "collapsed": true
   },
   "outputs": [],
   "source": [
    "# SciPhi Fanatic is a special interest magazine (scifi)\n",
    "# whereas the others are more general and represent\n",
    "# a better sample\n",
    "# so we average those three\n",
    "# answer: 20%, approximately"
   ]
  },
  {
   "cell_type": "code",
   "execution_count": null,
   "metadata": {
    "collapsed": true
   },
   "outputs": [],
   "source": []
  }
 ],
 "metadata": {
  "hide_input": false,
  "kernelspec": {
   "display_name": "Python 3",
   "language": "python",
   "name": "python3"
  },
  "language_info": {
   "codemirror_mode": {
    "name": "ipython",
    "version": 3
   },
   "file_extension": ".py",
   "mimetype": "text/x-python",
   "name": "python",
   "nbconvert_exporter": "python",
   "pygments_lexer": "ipython3",
   "version": "3.5.2"
  }
 },
 "nbformat": 4,
 "nbformat_minor": 2
}
