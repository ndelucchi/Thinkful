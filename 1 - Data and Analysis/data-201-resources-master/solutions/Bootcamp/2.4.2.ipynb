{
 "cells": [
  {
   "cell_type": "code",
   "execution_count": 6,
   "metadata": {},
   "outputs": [
    {
     "name": "stdout",
     "output_type": "stream",
     "text": [
      "                       City  Population  Propertycrime  Murder_raw  \\\n",
      "0             Adams Village      1861.0           12.0         0.0   \n",
      "1  Addison Town and Village      2577.0           24.0         0.0   \n",
      "2             Akron Village      2846.0           16.0         0.0   \n",
      "3                    Albany     97956.0         4090.0         8.0   \n",
      "4            Albion Village      6388.0          223.0         0.0   \n",
      "\n",
      "   Robbery_raw  \n",
      "0          0.0  \n",
      "1          0.0  \n",
      "2          0.0  \n",
      "3        227.0  \n",
      "4          4.0  \n",
      "City              object\n",
      "Population       float64\n",
      "Propertycrime    float64\n",
      "Murder_raw       float64\n",
      "Robbery_raw      float64\n",
      "dtype: object\n"
     ]
    },
    {
     "data": {
      "image/png": "[encoded data removed]",
      "text/plain": [
       "<matplotlib.figure.Figure at 0x27fc16c33c8>"
      ]
     },
     "metadata": {},
     "output_type": "display_data"
    }
   ],
   "source": [
    "# Solution:\n",
    "import pandas as pd\n",
    "import numpy as np\n",
    "import matplotlib.pyplot as plt\n",
    "\n",
    "crime=pd.read_csv('C:/Users/Bethany/Documents/Home/Thinkful/nyc_crime_2013.csv')\n",
    "# Keeping only relevant variables\n",
    "crime = crime[['City','Population','Property\\ncrime','Murder and\\nnonnegligent\\nmanslaughter','Robbery']]\n",
    "#Renaming variables\n",
    "crime.columns=['City','Population','Propertycrime','Murder_raw','Robbery_raw']\n",
    "print(crime.head())\n",
    "print(crime.dtypes)\n",
    "crime.hist()\n",
    "plt.show()"
   ]
  },
  {
   "cell_type": "code",
   "execution_count": 7,
   "metadata": {},
   "outputs": [
    {
     "name": "stdout",
     "output_type": "stream",
     "text": [
      "         City  Population  Propertycrime  Murder_raw  Robbery_raw\n",
      "216  New York   8396126.0       141971.0       335.0      19170.0\n"
     ]
    },
    {
     "data": {
      "image/png": "[encoded data removed]",
      "text/plain": [
       "<matplotlib.figure.Figure at 0x27fc1862f98>"
      ]
     },
     "metadata": {},
     "output_type": "display_data"
    },
    {
     "data": {
      "image/png": "[encoded data removed]",
      "text/plain": [
       "<matplotlib.figure.Figure at 0x27fc17c0be0>"
      ]
     },
     "metadata": {},
     "output_type": "display_data"
    }
   ],
   "source": [
    "# Looking for identity of the anomalous case\n",
    "\n",
    "print(crime.loc[crime['Population']==max(crime['Population']),:])\n",
    "# Oh look, it's NYC.  Let's see if the relationship between population and crime is different for NYC:\n",
    "\n",
    "plt.scatter(crime['Population'],crime['Propertycrime'])\n",
    "plt.show()\n",
    "\n",
    "# Looks like the values are just super-high because NYC is super-large, not because crime and population\n",
    "# are related differently for NYC.\n",
    "# We could take the log of the scores to pull in the outlier, but that makes interpretation annoying.\n",
    "# Let's just drop NYC for now and see what happens\n",
    "crime_noNYC=crime.loc[crime['City']!=\"New York\",:]\n",
    "\n",
    "plt.scatter(crime_noNYC['Population'],crime_noNYC['Propertycrime'])\n",
    "plt.show()\n"
   ]
  },
  {
   "cell_type": "code",
   "execution_count": 8,
   "metadata": {},
   "outputs": [
    {
     "name": "stdout",
     "output_type": "stream",
     "text": [
      "                       City  Population  Propertycrime  Murder_raw  \\\n",
      "0             Adams Village      1861.0           12.0         0.0   \n",
      "1  Addison Town and Village      2577.0           24.0         0.0   \n",
      "2             Akron Village      2846.0           16.0         0.0   \n",
      "3                    Albany     97956.0         4090.0         8.0   \n",
      "4            Albion Village      6388.0          223.0         0.0   \n",
      "\n",
      "   Robbery_raw  Robbery  Murder        Pop_sq  \n",
      "0          0.0        0       0  3.463321e+06  \n",
      "1          0.0        0       0  6.640929e+06  \n",
      "2          0.0        0       0  8.099716e+06  \n",
      "3        227.0        1       1  9.595378e+09  \n",
      "4          4.0        1       0  4.080654e+07  \n"
     ]
    }
   ],
   "source": [
    "# Alright, that's better.  Now the binary variables\n",
    "crime['Robbery']=np.where(crime['Robbery_raw']>0,1,0)\n",
    "crime['Murder']=np.where(crime['Murder_raw']>0,1,0)\n",
    "\n",
    "# Finally, the squared pop variable.  \n",
    "crime['Pop_sq']=crime['Population']*crime['Population']\n",
    "\n",
    "print(crime.head())"
   ]
  },
  {
   "cell_type": "code",
   "execution_count": null,
   "metadata": {
    "collapsed": true
   },
   "outputs": [],
   "source": []
  }
 ],
 "metadata": {
  "hide_input": false,
  "kernelspec": {
   "display_name": "Python [default]",
   "language": "python",
   "name": "python3"
  },
  "language_info": {
   "codemirror_mode": {
    "name": "ipython",
    "version": 3
   },
   "file_extension": ".py",
   "mimetype": "text/x-python",
   "name": "python",
   "nbconvert_exporter": "python",
   "pygments_lexer": "ipython3",
   "version": "3.5.3"
  }
 },
 "nbformat": 4,
 "nbformat_minor": 2
}
