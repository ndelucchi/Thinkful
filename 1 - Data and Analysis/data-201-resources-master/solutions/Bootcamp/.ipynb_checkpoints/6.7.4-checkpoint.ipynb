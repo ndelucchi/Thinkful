{
 "cells": [
  {
   "cell_type": "code",
   "execution_count": null,
   "metadata": {
    "collapsed": true
   },
   "outputs": [],
   "source": [
    "# This drill assumes you've loaded and cleaned the data from 6.7.4\n",
    "\n",
    "# Creating a binary variable where 1 = never married  and 0 =  married at some point\n",
    "data2[\"nevermarried\"] = (data2[\"MARSTAT\"] == 50).astype(int)\n",
    "\n",
    "\n",
    "\n",
    "groups = data2.groupby(\"nevermarried\")\n",
    "ax = plt.axes()\n",
    "married = [\"never married\",\"married\"]\n",
    "# Fitting a survival function for each group\n",
    "for group in groups:\n",
    "    sf = sm.SurvfuncRight(group[1][\"Longevity\"], group[1][\"dead\"])\n",
    "    sf.plot(ax)\n",
    "li = ax.get_lines()\n",
    "plt.figlegend((li[0], li[2]), married, \"center right\")\n",
    "ax.set_ylabel(\"Proportion alive\")\n",
    "ax.set_xlabel(\"Age\")\n",
    "ax.set_autoscaley_on(False)\n",
    "ax.set_ylim([.85,1])\n",
    "\n",
    "yearmod = smf.phreg(\"Longevity ~  female + nevermarried\", # The model\n",
    "                data2, # The data\n",
    "                status=data2['dead'].values # Whether values are right-censored\n",
    "                ) \n",
    "yrrslt = yearmod.fit()\n",
    "print(yrrslt.summary())"
   ]
  },
  {
   "cell_type": "markdown",
   "metadata": {},
   "source": [
    "It looks like marriage matters.  People who never married are nearly 2 times more likely to die at any given timepoint.  In the raw data, it looks like the effect of marriage gets bigger as people get older."
   ]
  },
  {
   "cell_type": "code",
   "execution_count": null,
   "metadata": {
    "collapsed": true
   },
   "outputs": [],
   "source": []
  }
 ],
 "metadata": {
  "hide_input": false,
  "kernelspec": {
   "display_name": "Python [default]",
   "language": "python",
   "name": "python3"
  },
  "language_info": {
   "codemirror_mode": {
    "name": "ipython",
    "version": 3
   },
   "file_extension": ".py",
   "mimetype": "text/x-python",
   "name": "python",
   "nbconvert_exporter": "python",
   "pygments_lexer": "ipython3",
   "version": "3.5.3"
  }
 },
 "nbformat": 4,
 "nbformat_minor": 2
}
