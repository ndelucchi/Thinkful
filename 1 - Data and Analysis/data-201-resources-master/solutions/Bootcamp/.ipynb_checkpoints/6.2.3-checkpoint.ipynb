{
 "cells": [
  {
   "cell_type": "code",
   "execution_count": null,
   "metadata": {
    "collapsed": true
   },
   "outputs": [],
   "source": [
    "# A function to pull the n largest entries in a dictionary\n",
    "\n",
    "def max_dict(dictionary,max_n):\n",
    "    maxkeys=[]\n",
    "    maxvals=[]\n",
    "    keys=list(dictionary.keys())\n",
    "    values=list(dictionary.values())\n",
    "    df=pd.DataFrame({'keys':keys,'values':values})\n",
    "    for n in range(max_n):\n",
    "        maxval=max(df['values'])\n",
    "        maxkeys.extend(df.loc[df['values']==maxval,'keys'])\n",
    "        maxvals.extend([maxval])\n",
    "        rowindex=df[df['values']==maxval].index[0]\n",
    "        df.drop([rowindex],inplace=True)\n",
    "    return maxkeys,maxvals\n",
    "\n",
    "mysterygraph=nx.read_gml(path=\"assets/graph.gml\")\n",
    "print(\"1:\",mysterygraph.number_of_nodes(),\"\\n2:\",mysterygraph.number_of_edges())\n",
    "print(\"4:\",max_dict(nx.degree(mysterygraph),1))\n",
    "print(\"5:\",nx.average_clustering(mysterygraph))\n",
    "print(\"6:\",max_dict(between,3))"
   ]
  }
 ],
 "metadata": {
  "hide_input": false,
  "kernelspec": {
   "display_name": "Python [default]",
   "language": "python",
   "name": "python3"
  },
  "language_info": {
   "codemirror_mode": {
    "name": "ipython",
    "version": 3
   },
   "file_extension": ".py",
   "mimetype": "text/x-python",
   "name": "python",
   "nbconvert_exporter": "python",
   "pygments_lexer": "ipython3",
   "version": "3.5.3"
  }
 },
 "nbformat": 4,
 "nbformat_minor": 2
}
