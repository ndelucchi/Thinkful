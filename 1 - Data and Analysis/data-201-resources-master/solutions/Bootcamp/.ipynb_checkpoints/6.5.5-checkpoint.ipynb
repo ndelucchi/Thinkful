{
 "cells": [
  {
   "cell_type": "markdown",
   "metadata": {},
   "source": [
    "# Nested model drill answers:\n",
    "\n",
    "The student should not do an LRT for the random intercept and random slope models, as they are not nested.\n",
    "\n",
    "For the random slope vs random slope/intercept models, they should run this test and choose the random intercept/slope model.\n",
    "\n",
    "All code here assumes the code from the previous notebook has been run already.  It will not run independently."
   ]
  },
  {
   "cell_type": "code",
   "execution_count": null,
   "metadata": {
    "collapsed": true
   },
   "outputs": [],
   "source": [
    "print(likelihood_ratio_test(ris_result,rs_result))"
   ]
  },
  {
   "cell_type": "markdown",
   "metadata": {},
   "source": [
    "# Does Meditation Matter Drill"
   ]
  },
  {
   "cell_type": "code",
   "execution_count": null,
   "metadata": {
    "collapsed": true
   },
   "outputs": [],
   "source": [
    "experimental_model = smf.mixedlm(\"P ~ Week+cond+Week*cond\",data=PE_long,groups=PE_long['ID'], re_formula=\"~Week\")\n",
    "result = experimental_model.fit(method='nm', maxiter=200, full_output=True)\n",
    "print(result.summary())"
   ]
  }
 ],
 "metadata": {
  "hide_input": false,
  "kernelspec": {
   "display_name": "Python [default]",
   "language": "python",
   "name": "python3"
  },
  "language_info": {
   "codemirror_mode": {
    "name": "ipython",
    "version": 3
   },
   "file_extension": ".py",
   "mimetype": "text/x-python",
   "name": "python",
   "nbconvert_exporter": "python",
   "pygments_lexer": "ipython3",
   "version": "3.5.3"
  }
 },
 "nbformat": 4,
 "nbformat_minor": 2
}
