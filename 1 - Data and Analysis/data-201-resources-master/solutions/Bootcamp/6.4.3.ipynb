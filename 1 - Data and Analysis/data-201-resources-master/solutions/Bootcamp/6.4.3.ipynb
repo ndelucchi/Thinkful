{
 "cells": [
  {
   "cell_type": "code",
   "execution_count": null,
   "metadata": {
    "collapsed": true
   },
   "outputs": [],
   "source": [
    "# Example for bigrams\n",
    "\n",
    "# Using gatsby tokenized file from lesson 6.4.3\n",
    "\n",
    "# Creating the bigrams\n",
    "gatsby_ngram =list()\n",
    "for word in gatsby:\n",
    "    if word.i < (len(gatsby)-1) and word.is_punct==False and word.nbor().is_punct==False:\n",
    "        gatsby_ngram.append([word,word.nbor()])\n",
    "\n",
    "# removing bigrams with stopwords in them\n",
    "bigrams_filt = [\"{} {}\".format(bigram[0],bigram[1]) for bigram in gatsby_ngram if bigram[0].is_stop==False and bigram[1].is_stop==False]\n",
    "bigrams=set(bigrams_filt)"
   ]
  },
  {
   "cell_type": "code",
   "execution_count": null,
   "metadata": {
    "collapsed": true
   },
   "outputs": [],
   "source": [
    "window=9\n",
    "\n",
    "\n",
    "#Creating a grid indicating whether words are within 4 places of the target word\n",
    "adjacency=pd.DataFrame(columns=bigrams,index=bigrams,data=0)\n",
    "\n",
    "#Iterating through each word in the text and indicating which of the unique words are its neighbors\n",
    "for i,bigram in enumerate(bigrams_filt):\n",
    "    # Making sure to stop at the end of the string, even if there are less than four words left after the target.\n",
    "    end=max(0,len(bigrams_filt)-(len(bigrams_filt)-(i+window)))\n",
    "    # The potential neighbors.\n",
    "    neighbors=bigrams_filt[i+1:end]\n",
    "    # Adding 1 to the adjacency matrix for neighbors of the target word\n",
    "    adjacency.loc[bigram,neighbors]=adjacency.loc[bigram,neighbors]+1\n",
    "\n",
    "print('done!')"
   ]
  },
  {
   "cell_type": "code",
   "execution_count": null,
   "metadata": {
    "collapsed": true
   },
   "outputs": [],
   "source": [
    "# Running TextRank\n",
    "nx_bigrams = nx.from_numpy_matrix(adjacency.as_matrix())\n",
    "ranks=nx.pagerank(nx_bigrams, alpha=.85, tol=.00000001)\n",
    "\n",
    "# Identifying the five most highly ranked keywords\n",
    "ranked = sorted(((ranks[i],s) for i,s in enumerate(bigrams)),\n",
    "                reverse=True)\n",
    "print(ranked[:5])"
   ]
  }
 ],
 "metadata": {
  "hide_input": false,
  "kernelspec": {
   "display_name": "Python [default]",
   "language": "python",
   "name": "python3"
  },
  "language_info": {
   "codemirror_mode": {
    "name": "ipython",
    "version": 3
   },
   "file_extension": ".py",
   "mimetype": "text/x-python",
   "name": "python",
   "nbconvert_exporter": "python",
   "pygments_lexer": "ipython3",
   "version": "3.5.3"
  }
 },
 "nbformat": 4,
 "nbformat_minor": 2
}
