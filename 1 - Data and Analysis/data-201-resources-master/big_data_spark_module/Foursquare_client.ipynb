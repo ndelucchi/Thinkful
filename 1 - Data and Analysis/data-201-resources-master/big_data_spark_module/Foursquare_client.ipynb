{
 "cells": [
  {
   "cell_type": "code",
   "execution_count": 1,
   "metadata": {
    "colab": {
     "base_uri": "https://localhost:8080/",
     "height": 272
    },
    "colab_type": "code",
    "executionInfo": {
     "elapsed": 5478,
     "status": "ok",
     "timestamp": 1549833767850,
     "user": {
      "displayName": "Yunus Bulut",
      "photoUrl": "",
      "userId": "10252913168794832935"
     },
     "user_tz": -180
    },
    "id": "erPF206LC2xJ",
    "outputId": "9660a95b-caac-48f7-daca-5773db59d3ac"
   },
   "outputs": [
    {
     "name": "stdout",
     "output_type": "stream",
     "text": [
      "Collecting foursquare\n",
      "  Downloading https://files.pythonhosted.org/packages/7e/9f/21ef283c50eb576eaebb0525d8a988baffe4d59ac2bbb1f9d84434bdf616/foursquare-1%212016.9.12.tar.gz\n",
      "Requirement already satisfied: requests>=2.1 in /usr/local/lib/python3.6/dist-packages (from foursquare) (2.18.4)\n",
      "Requirement already satisfied: six in /usr/local/lib/python3.6/dist-packages (from foursquare) (1.11.0)\n",
      "Requirement already satisfied: chardet<3.1.0,>=3.0.2 in /usr/local/lib/python3.6/dist-packages (from requests>=2.1->foursquare) (3.0.4)\n",
      "Requirement already satisfied: certifi>=2017.4.17 in /usr/local/lib/python3.6/dist-packages (from requests>=2.1->foursquare) (2018.11.29)\n",
      "Requirement already satisfied: urllib3<1.23,>=1.21.1 in /usr/local/lib/python3.6/dist-packages (from requests>=2.1->foursquare) (1.22)\n",
      "Requirement already satisfied: idna<2.7,>=2.5 in /usr/local/lib/python3.6/dist-packages (from requests>=2.1->foursquare) (2.6)\n",
      "Building wheels for collected packages: foursquare\n",
      "  Building wheel for foursquare (setup.py) ... \u001b[?25ldone\n",
      "\u001b[?25h  Stored in directory: /root/.cache/pip/wheels/c1/a4/ff/e07a4f4f02ef7189c5b1e0738a09131f6c5f2de811ce3a39a0\n",
      "Successfully built foursquare\n",
      "Installing collected packages: foursquare\n",
      "Successfully installed foursquare-1!2016.9.12\n",
      "Drive already mounted at /content/gdrive; to attempt to forcibly remount, call drive.mount(\"/content/gdrive\", force_remount=True).\n"
     ]
    }
   ],
   "source": [
    "!pip install foursquare\n",
    "\n",
    "# mount Google Drive\n",
    "from google.colab import drive\n",
    "drive.mount('/content/gdrive')"
   ]
  },
  {
   "cell_type": "code",
   "execution_count": 0,
   "metadata": {
    "colab": {},
    "colab_type": "code",
    "id": "wSGrWQ6bPJZ9"
   },
   "outputs": [],
   "source": [
    "import foursquare\n",
    "import datetime\n",
    "import time\n",
    "\n",
    "client_id = \"Your_Foursquare_Client_ID\"\n",
    "client_secret = \"Your_Foursquare_Client_Secret\"\n",
    "client = foursquare.Foursquare(client_id=client_id, client_secret=client_secret)\n",
    "\n",
    "cities = [\"New York\",\"Los Angeles\",\"Chicago\",\"Houston\",\"Phoenix\",\"Philadelphia\",\"San Antonio\",\"San Diego\",\"Dallas\",\"San Jose\",\"Austin\",\"Jacksonville\",\"San Francisco\",\"Columbus\",\"Fort Worth\",\"Indianapolis\",\"Charlotte\",\"Seattle\",\"Denver\",\"Washington\",\"Boston\",\"El Paso\",\"Detroit\",\"Nashville\",\"Memphis\",\"Portland\",\"Oklahoma City\",\"Las Vegas\",\"Louisville\",\"Baltimore\",\"Milwaukee\",\"Albuquerque\",\"Tucson\",\"Fresno\",\"Sacramento\",\"Mesa\",\"Kansas City\",\"Atlanta\",\"Long Beach\",\"Omaha\",\"Raleigh\",\"Colorado Springs\",\"Miami\",\"Virginia Beach\",\"Oakland\",\"Minneapolis\",\"Tulsa\",\"Arlington\",\"New Orleans\",\"Wichita\",\"Cleveland\",\"Tampa\",\"Bakersfield\",\"Aurora\",\"Anaheim\",\"Honolulu\",\"Santa Ana\",\"Riverside\",\"Corpus Christi\",\"Lexington\",\"Stockton\",\"St. Louis\",\"Saint Paul\",\"Henderson\",\"Pittsburgh\",\"Cincinnati\",\"Anchorage\",\"Greensboro\",\"Plano\",\"Newark\",\"Lincoln\",\"Orlando\",\"Irvine\",\"Toledo\",\"Jersey City\",\"Chula Vista\",\"Durham\",\"Fort Wayne\",\"St. Petersburg\",\"Laredo\",\"Buffalo\",\"Madison\",\"Lubbock\",\"Chandler\",\"Scottsdale\",\"Reno\",\"Glendale\",\"Norfolk\",\"North Las Vegas\",\"Gilbert\",\"Chesapeake\",\"Irving\",\"Hialeah\",\"Garland\",\"Fremont\",\"Richmond\",\"Boise\",\"Baton Rouge\",\"Des Moines\",\"Spokane\",\"San Bernardino\",\"Modesto\",\"Tacoma\",\"Fontana\",\"Santa Clarita\",\"Birmingham\",\"Oxnard\",\"Fayetteville\",\"Rochester\",\"Moreno Valley\",\"Glendale\",\"Yonkers\",\"Huntington Beach\",\"Aurora\",\"Salt Lake City\",\"Amarillo\",\"Montgomery\",\"Grand Rapids\",\"Little Rock\",\"Akron\",\"Augusta\",\"Huntsville\",\"Columbus\",\"Grand Prairie\",\"Shreveport\",\"Overland Park\",\"Tallahassee\",\"Mobile\",\"Port St. Lucie\",\"Knoxville\",\"Worcester\",\"Tempe\",\"Cape Coral\",\"Brownsville\",\"McKinney\",\"Providence\",\"Fort Lauderdale\",\"Newport News\",\"Chattanooga\",\"Rancho Cucamonga\",\"Frisco\",\"Sioux Falls\",\"Oceanside\",\"Ontario\",\"Vancouver\",\"Santa Rosa\",\"Garden Grove\",\"Elk Grove\",\"Pembroke Pines\",\"Salem\",\"Eugene\",\"Peoria\",\"Corona\",\"Springfield\",\"Jackson\",\"Cary\",\"Fort Collins\",\"Hayward\",\"Lancaster\",\"Alexandria\",\"Salinas\",\"Palmdale\",\"Lakewood\",\"Springfield\",\"Sunnyvale\",\"Hollywood\",\"Pasadena\",\"Clarksville\",\"Pomona\",\"Kansas City\",\"Macon\",\"Escondido\",\"Paterson\",\"Joliet\",\"Naperville\",\"Rockford\",\"Torrance\",\"Bridgeport\",\"Savannah\",\"Killeen\",\"Bellevue\",\"Mesquite\",\"Syracuse\",\"McAllen\",\"Pasadena\",\"Orange\",\"Fullerton\",\"Dayton\",\"Miramar\",\"Olathe\",\"Thornton\",\"Waco\",\"Murfreesboro\",\"Denton\",\"West Valley City\",\"Midland\",\"Carrollton\",\"Roseville\",\"Warren\",\"Charleston\",\"Hampton\",\"Surprise\",\"Columbia\",\"Coral Springs\",\"Visalia\",\"Sterling Heights\",\"Gainesville\",\"Cedar Rapids\",\"New Haven\",\"Stamford\",\"Elizabeth\",\"Concord\",\"Thousand Oaks\",\"Kent\",\"Santa Clara\",\"Simi Valley\",\"Lafayette\",\"Topeka\",\"Athens\",\"Round Rock\",\"Hartford\",\"Norman\",\"Victorville\",\"Fargo\",\"Berkeley\",\"Vallejo\",\"Abilene\",\"Columbia\",\"Ann Arbor\",\"Allentown\",\"Pearland\",\"Beaumont\",\"Wilmington\",\"Evansville\",\"Arvada\",\"Provo\",\"Independence\",\"Lansing\",\"Odessa\",\"Richardson\",\"Fairfield\",\"El Monte\",\"Rochester\",\"Clearwater\",\"Carlsbad\",\"Springfield\",\"Temecula\",\"West Jordan\",\"Costa Mesa\",\"Miami Gardens\",\"Cambridge\",\"College Station\",\"Murrieta\",\"Downey\",\"Peoria\",\"Westminster\",\"Elgin\",\"Antioch\",\"Palm Bay\",\"High Point\",\"Lowell\",\"Manchester\",\"Pueblo\",\"Gresham\",\"North Charleston\",\"Ventura\",\"Inglewood\",\"Pompano Beach\",\"Centennial\",\"West Palm Beach\",\"Everett\",\"Richmond\",\"Clovis\",\"Billings\",\"Waterbury\",\"Broken Arrow\",\"Lakeland\",\"West Covina\",\"Boulder\",\"Daly City\",\"Santa Maria\",\"Hillsboro\",\"Sandy Springs\",\"Norwalk\",\"Lewisville\",\"Greeley\",\"Davie\",\"Green Bay\",\"Tyler\",\"League City\",\"Burbank\",\"San Mateo\",\"Wichita Falls\",\"El Cajon\",\"Rialto\",\"Lakewood\",\"Edison\",\"Davenport\",\"South Bend\",\"Woodbridge\",\"Las Cruces\",\"Vista\",\"Renton\",\"Sparks\",\"Clinton\",\"Allen\",\"Tuscaloosa\",\"San Angelo\",\"Vacaville\"]"
   ]
  },
  {
   "cell_type": "code",
   "execution_count": 0,
   "metadata": {
    "colab": {},
    "colab_type": "code",
    "id": "C1Oca4OhDA_6"
   },
   "outputs": [],
   "source": [
    "for city in cities:\n",
    "  try:\n",
    "    with open(\"/content/gdrive/My Drive/Colab Datasets/foursquare_logs/log_\"+\"\".join(city.split(\" \"))+str(datetime.datetime.now().time().strftime(\"%Y%m%d%H%m%s\"))+\".txt\", \"w\") as f:\n",
    "      trending_venues = client.venues.trending(params={\"near\":city, \"limit\":10})\n",
    "\n",
    "      for venue in trending_venues[\"venues\"]:\n",
    "        f.write(venue[\"categories\"][0][\"name\"] + \",\" + str(venue[\"hereNow\"][\"count\"])+\"\\n\")\n",
    "\n",
    "  except FailedGeocode:\n",
    "    continue"
   ]
  }
 ],
 "metadata": {
  "colab": {
   "collapsed_sections": [],
   "name": "Foursquare_client.ipynb",
   "provenance": [],
   "version": "0.3.2"
  },
  "kernelspec": {
   "display_name": "Python 3",
   "language": "python",
   "name": "python3"
  },
  "language_info": {
   "codemirror_mode": {
    "name": "ipython",
    "version": 3
   },
   "file_extension": ".py",
   "mimetype": "text/x-python",
   "name": "python",
   "nbconvert_exporter": "python",
   "pygments_lexer": "ipython3",
   "version": "3.6.5"
  },
  "latex_envs": {
   "LaTeX_envs_menu_present": true,
   "autoclose": false,
   "autocomplete": true,
   "bibliofile": "biblio.bib",
   "cite_by": "apalike",
   "current_citInitial": 1,
   "eqLabelWithNumbers": true,
   "eqNumInitial": 1,
   "hotkeys": {
    "equation": "Ctrl-E",
    "itemize": "Ctrl-I"
   },
   "labels_anchors": false,
   "latex_user_defs": false,
   "report_style_numbering": false,
   "user_envs_cfg": false
  },
  "varInspector": {
   "cols": {
    "lenName": 16,
    "lenType": 16,
    "lenVar": 40
   },
   "kernels_config": {
    "python": {
     "delete_cmd_postfix": "",
     "delete_cmd_prefix": "del ",
     "library": "var_list.py",
     "varRefreshCmd": "print(var_dic_list())"
    },
    "r": {
     "delete_cmd_postfix": ") ",
     "delete_cmd_prefix": "rm(",
     "library": "var_list.r",
     "varRefreshCmd": "cat(var_dic_list()) "
    }
   },
   "types_to_exclude": [
    "module",
    "function",
    "builtin_function_or_method",
    "instance",
    "_Feature"
   ],
   "window_display": false
  }
 },
 "nbformat": 4,
 "nbformat_minor": 1
}
