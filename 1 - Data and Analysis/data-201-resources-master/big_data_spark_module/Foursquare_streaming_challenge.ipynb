{
 "cells": [
  {
   "cell_type": "markdown",
   "metadata": {
    "colab_type": "text",
    "id": "cgbZfXmzCUdO"
   },
   "source": [
    "Running Your Queries In Spark\n",
    "---------------------------\n",
    "\n",
    "You need to take the data from Foursquare and perform your analysis based on the question you chose.\n",
    "\n",
    "In our example below, we do the following:\n",
    "1. We read the files that our Foursquare client generates from the drive.\n",
    "2. For each city, we get the trending venue categories and the number of people currently being there.\n",
    "3. We add up the numbers for the same categories.\n",
    "\n",
    "You can extend this into a web dashboard, or plots inside this notebook if you choose."
   ]
  },
  {
   "cell_type": "markdown",
   "metadata": {
    "colab_type": "text",
    "id": "eSj1iaJVCUdQ"
   },
   "source": [
    "----------------------------------------------------------------------------------------------------------------------"
   ]
  },
  {
   "cell_type": "code",
   "execution_count": 1,
   "metadata": {
    "colab": {
     "base_uri": "https://localhost:8080/",
     "height": 326
    },
    "colab_type": "code",
    "executionInfo": {
     "elapsed": 76779,
     "status": "ok",
     "timestamp": 1549833733877,
     "user": {
      "displayName": "Yunus Bulut",
      "photoUrl": "",
      "userId": "10252913168794832935"
     },
     "user_tz": -180
    },
    "id": "mD08W5K1Ch90",
    "outputId": "ff713d5a-6ecc-4583-b8c2-d08a5a8cd0ce"
   },
   "outputs": [
    {
     "name": "stdout",
     "output_type": "stream",
     "text": [
      "Collecting pyspark\n",
      "\u001b[?25l  Downloading https://files.pythonhosted.org/packages/88/01/a37e827c2d80c6a754e40e99b9826d978b55254cc6c6672b5b08f2e18a7f/pyspark-2.4.0.tar.gz (213.4MB)\n",
      "\u001b[K    100% |████████████████████████████████| 213.4MB 93kB/s \n",
      "\u001b[?25hCollecting py4j==0.10.7 (from pyspark)\n",
      "\u001b[?25l  Downloading https://files.pythonhosted.org/packages/e3/53/c737818eb9a7dc32a7cd4f1396e787bd94200c3997c72c1dbe028587bd76/py4j-0.10.7-py2.py3-none-any.whl (197kB)\n",
      "\u001b[K    100% |████████████████████████████████| 204kB 32.4MB/s \n",
      "\u001b[?25hBuilding wheels for collected packages: pyspark\n",
      "  Building wheel for pyspark (setup.py) ... \u001b[?25ldone\n",
      "\u001b[?25h  Stored in directory: /root/.cache/pip/wheels/cd/54/c2/abfcc942eddeaa7101228ebd6127a30dbdf903c72db4235b23\n",
      "Successfully built pyspark\n",
      "Installing collected packages: py4j, pyspark\n",
      "Successfully installed py4j-0.10.7 pyspark-2.4.0\n",
      "Go to this URL in a browser: https://accounts.google.com/o/oauth2/auth?client_id=947318989803-6bn6qk8qdgf4n4g3pfee6491hc0brc4i.apps.googleusercontent.com&redirect_uri=urn%3Aietf%3Awg%3Aoauth%3A2.0%3Aoob&scope=email%20https%3A%2F%2Fwww.googleapis.com%2Fauth%2Fdocs.test%20https%3A%2F%2Fwww.googleapis.com%2Fauth%2Fdrive%20https%3A%2F%2Fwww.googleapis.com%2Fauth%2Fdrive.photos.readonly%20https%3A%2F%2Fwww.googleapis.com%2Fauth%2Fpeopleapi.readonly&response_type=code\n",
      "\n",
      "Enter your authorization code:\n",
      "··········\n",
      "Mounted at /content/gdrive\n"
     ]
    }
   ],
   "source": [
    "# Install Java, Spark, Findspark and PySpark\n",
    "!apt-get install openjdk-8-jdk-headless -qq > /dev/null\n",
    "!wget -q http://apache.osuosl.org/spark/spark-2.4.0/spark-2.4.0-bin-hadoop2.7.tgz\n",
    "!tar xf spark-2.4.0-bin-hadoop2.7.tgz\n",
    "\n",
    "import os\n",
    "os.environ[\"JAVA_HOME\"] = \"/usr/lib/jvm/java-8-openjdk-amd64\"\n",
    "os.environ[\"SPARK_HOME\"] = \"/content/spark-2.4.0-bin-hadoop2.7\"\n",
    "\n",
    "!pip install -q findspark\n",
    "!pip install pyspark\n",
    "\n",
    "# mount Google Drive\n",
    "from google.colab import drive\n",
    "drive.mount('/content/gdrive')"
   ]
  },
  {
   "cell_type": "markdown",
   "metadata": {
    "colab_type": "text",
    "id": "1DqJ14-oCUdR"
   },
   "source": [
    "#### Import the relevant modules"
   ]
  },
  {
   "cell_type": "code",
   "execution_count": 0,
   "metadata": {
    "colab": {},
    "colab_type": "code",
    "id": "uB7RJbkVCUdS"
   },
   "outputs": [],
   "source": [
    "from pyspark import SparkConf,SparkContext\n",
    "from pyspark.streaming import StreamingContext\n",
    "from pyspark.sql import SparkSession"
   ]
  },
  {
   "cell_type": "markdown",
   "metadata": {
    "colab_type": "text",
    "id": "bDNTGU1ZQ7RT"
   },
   "source": [
    "#### The code below deletes all the log files inside the foursquare_logs directory"
   ]
  },
  {
   "cell_type": "code",
   "execution_count": 0,
   "metadata": {
    "colab": {},
    "colab_type": "code",
    "id": "Baad7teNQ1Nk"
   },
   "outputs": [],
   "source": [
    "import shutil\n",
    "folder = \"/content/gdrive/My Drive/Colab Datasets/foursquare_logs\"\n",
    "for the_file in os.listdir(folder):\n",
    "    file_path = os.path.join(folder, the_file)\n",
    "    try:\n",
    "        if os.path.isfile(file_path):\n",
    "            os.unlink(file_path)\n",
    "        #elif os.path.isdir(file_path): shutil.rmtree(file_path)\n",
    "    except Exception as e:\n",
    "        print(e)"
   ]
  },
  {
   "cell_type": "markdown",
   "metadata": {
    "colab_type": "text",
    "id": "sAOal5elCUdX"
   },
   "source": [
    "#### We now create a helper function that allow us to store the aggregate number for each category."
   ]
  },
  {
   "cell_type": "code",
   "execution_count": 0,
   "metadata": {
    "colab": {},
    "colab_type": "code",
    "id": "zzWBviOUvAr9"
   },
   "outputs": [],
   "source": [
    "def updateFunction(newValues, runningCount):\n",
    "    if runningCount is None:\n",
    "        runningCount = 0\n",
    "    return sum(newValues, runningCount)"
   ]
  },
  {
   "cell_type": "code",
   "execution_count": 0,
   "metadata": {
    "colab": {},
    "colab_type": "code",
    "id": "D-lrCR8vCUdW"
   },
   "outputs": [],
   "source": [
    "# create spark configuration\n",
    "conf = SparkConf()\n",
    "conf.setAppName(\"FoursquareStreamApp\")\n",
    "\n",
    "# create spark context with the above configuration\n",
    "sc = SparkContext.getOrCreate(conf=conf)\n",
    "sc.setLogLevel(\"ERROR\")\n",
    "\n",
    "# create the Streaming Context from the above spark context with \n",
    "# interval size 10 seconds\n",
    "ssc = StreamingContext(sc,10)\n",
    "\n",
    "# setting a checkpoint to allow RDD recovery\n",
    "ssc.checkpoint(\"checkpoint_FoursquareApp\")\n",
    "\n",
    "# read data from drive\n",
    "dataStream = ssc.textFileStream(\"/content/gdrive/My Drive/Colab Datasets/foursquare_logs\")"
   ]
  },
  {
   "cell_type": "markdown",
   "metadata": {
    "colab_type": "text",
    "id": "t0ivwUnLCUda"
   },
   "source": [
    "#### Finally, we implement our primary workflow.\n",
    "\n",
    "After the implementation of our workflow, we begin the streaming with `ssc.start()`. The query stays open until we terminate it (`ssc.awaitTermination()`)."
   ]
  },
  {
   "cell_type": "code",
   "execution_count": 6,
   "metadata": {
    "colab": {
     "base_uri": "https://localhost:8080/",
     "height": 5740
    },
    "colab_type": "code",
    "executionInfo": {
     "elapsed": 303150,
     "status": "error",
     "timestamp": 1549833960307,
     "user": {
      "displayName": "Yunus Bulut",
      "photoUrl": "",
      "userId": "10252913168794832935"
     },
     "user_tz": -180
    },
    "id": "20pGq1udCUdb",
    "outputId": "391d8e36-c8de-4066-c89e-47c11fa37a53"
   },
   "outputs": [
    {
     "name": "stdout",
     "output_type": "stream",
     "text": [
      "-------------------------------------------\n",
      "Time: 2019-02-10 21:22:30\n",
      "-------------------------------------------\n",
      "\n",
      "-------------------------------------------\n",
      "Time: 2019-02-10 21:22:40\n",
      "-------------------------------------------\n",
      "\n",
      "-------------------------------------------\n",
      "Time: 2019-02-10 21:22:50\n",
      "-------------------------------------------\n",
      "('Art Museum', 15)\n",
      "('Train Station', 10)\n",
      "('Coffee Shop', 10)\n",
      "('Gourmet Shop', 6)\n",
      "('Market', 8)\n",
      "('Multiplex', 8)\n",
      "('Theater', 7)\n",
      "('Park', 6)\n",
      "('Exhibit', 6)\n",
      "\n",
      "-------------------------------------------\n",
      "Time: 2019-02-10 21:23:00\n",
      "-------------------------------------------\n",
      "('Art Museum', 15)\n",
      "('Train Station', 10)\n",
      "('Coffee Shop', 16)\n",
      "('Gourmet Shop', 6)\n",
      "('Café', 9)\n",
      "('American Restaurant', 6)\n",
      "('Brewery', 7)\n",
      "('Market', 8)\n",
      "('Multiplex', 8)\n",
      "('Theater', 7)\n",
      "...\n",
      "\n",
      "-------------------------------------------\n",
      "Time: 2019-02-10 21:23:10\n",
      "-------------------------------------------\n",
      "('Art Museum', 15)\n",
      "('Train Station', 10)\n",
      "('Coffee Shop', 16)\n",
      "('Gourmet Shop', 6)\n",
      "('Café', 9)\n",
      "('American Restaurant', 6)\n",
      "('Brewery', 7)\n",
      "('Market', 8)\n",
      "('Multiplex', 8)\n",
      "('Theater', 7)\n",
      "...\n",
      "\n",
      "-------------------------------------------\n",
      "Time: 2019-02-10 21:23:20\n",
      "-------------------------------------------\n",
      "('Art Museum', 15)\n",
      "('Train Station', 10)\n",
      "('Coffee Shop', 22)\n",
      "('Gourmet Shop', 6)\n",
      "('Café', 18)\n",
      "('American Restaurant', 6)\n",
      "('Brewery', 7)\n",
      "('Market', 8)\n",
      "('Multiplex', 8)\n",
      "('Theater', 7)\n",
      "...\n",
      "\n",
      "-------------------------------------------\n",
      "Time: 2019-02-10 21:23:30\n",
      "-------------------------------------------\n",
      "('Art Museum', 15)\n",
      "('Train Station', 10)\n",
      "('Coffee Shop', 22)\n",
      "('Gourmet Shop', 6)\n",
      "('Café', 18)\n",
      "('American Restaurant', 6)\n",
      "('Brewery', 7)\n",
      "('Market', 8)\n",
      "('Multiplex', 8)\n",
      "('Theater', 7)\n",
      "...\n",
      "\n",
      "-------------------------------------------\n",
      "Time: 2019-02-10 21:23:40\n",
      "-------------------------------------------\n",
      "('Art Museum', 24)\n",
      "('Train Station', 10)\n",
      "('Coffee Shop', 22)\n",
      "('Gourmet Shop', 6)\n",
      "('Café', 18)\n",
      "('American Restaurant', 6)\n",
      "('Brewery', 7)\n",
      "('Market', 8)\n",
      "('Multiplex', 8)\n",
      "('Theater', 7)\n",
      "...\n",
      "\n",
      "-------------------------------------------\n",
      "Time: 2019-02-10 21:23:50\n",
      "-------------------------------------------\n",
      "('Art Museum', 24)\n",
      "('Train Station', 10)\n",
      "('Coffee Shop', 56)\n",
      "('Gourmet Shop', 6)\n",
      "('Café', 41)\n",
      "('American Restaurant', 6)\n",
      "('Brewery', 7)\n",
      "('County', 85)\n",
      "('Bar', 8)\n",
      "('Market', 8)\n",
      "...\n",
      "\n",
      "-------------------------------------------\n",
      "Time: 2019-02-10 21:24:00\n",
      "-------------------------------------------\n",
      "('Art Museum', 24)\n",
      "('Train Station', 10)\n",
      "('Coffee Shop', 56)\n",
      "('Gourmet Shop', 6)\n",
      "('Café', 41)\n",
      "('American Restaurant', 6)\n",
      "('Brewery', 7)\n",
      "('County', 85)\n",
      "('Bar', 8)\n",
      "('Market', 8)\n",
      "...\n",
      "\n",
      "-------------------------------------------\n",
      "Time: 2019-02-10 21:24:10\n",
      "-------------------------------------------\n",
      "('Art Museum', 24)\n",
      "('Train Station', 10)\n",
      "('Coffee Shop', 56)\n",
      "('Gourmet Shop', 6)\n",
      "('Café', 41)\n",
      "('American Restaurant', 6)\n",
      "('Brewery', 7)\n",
      "('County', 85)\n",
      "('Bar', 8)\n",
      "('Market', 8)\n",
      "...\n",
      "\n",
      "-------------------------------------------\n",
      "Time: 2019-02-10 21:24:20\n",
      "-------------------------------------------\n",
      "('Art Museum', 24)\n",
      "('Train Station', 10)\n",
      "('Coffee Shop', 56)\n",
      "('Gourmet Shop', 6)\n",
      "('Café', 41)\n",
      "('American Restaurant', 6)\n",
      "('Brewery', 7)\n",
      "('County', 85)\n",
      "('Bar', 8)\n",
      "('Market', 8)\n",
      "...\n",
      "\n",
      "-------------------------------------------\n",
      "Time: 2019-02-10 21:24:30\n",
      "-------------------------------------------\n",
      "('Art Museum', 24)\n",
      "('Train Station', 10)\n",
      "('Coffee Shop', 56)\n",
      "('Gourmet Shop', 6)\n",
      "('Café', 41)\n",
      "('American Restaurant', 6)\n",
      "('Brewery', 7)\n",
      "('County', 85)\n",
      "('Bar', 8)\n",
      "('Market', 8)\n",
      "...\n",
      "\n",
      "-------------------------------------------\n",
      "Time: 2019-02-10 21:24:40\n",
      "-------------------------------------------\n",
      "('Art Museum', 24)\n",
      "('Train Station', 10)\n",
      "('Coffee Shop', 56)\n",
      "('Gourmet Shop', 6)\n",
      "('Café', 41)\n",
      "('American Restaurant', 6)\n",
      "('Brewery', 7)\n",
      "('County', 85)\n",
      "('Bar', 8)\n",
      "('Market', 8)\n",
      "...\n",
      "\n",
      "-------------------------------------------\n",
      "Time: 2019-02-10 21:24:50\n",
      "-------------------------------------------\n",
      "('Art Museum', 24)\n",
      "('Train Station', 10)\n",
      "('Coffee Shop', 56)\n",
      "('Gourmet Shop', 6)\n",
      "('Café', 41)\n",
      "('American Restaurant', 6)\n",
      "('Brewery', 7)\n",
      "('County', 85)\n",
      "('Bar', 8)\n",
      "('Market', 8)\n",
      "...\n",
      "\n",
      "-------------------------------------------\n",
      "Time: 2019-02-10 21:25:00\n",
      "-------------------------------------------\n",
      "('Art Museum', 24)\n",
      "('Train Station', 10)\n",
      "('Coffee Shop', 56)\n",
      "('Gourmet Shop', 6)\n",
      "('Café', 41)\n",
      "('American Restaurant', 6)\n",
      "('Brewery', 7)\n",
      "('County', 85)\n",
      "('Bar', 8)\n",
      "('Market', 8)\n",
      "...\n",
      "\n",
      "-------------------------------------------\n",
      "Time: 2019-02-10 21:25:10\n",
      "-------------------------------------------\n",
      "('Art Museum', 24)\n",
      "('Train Station', 10)\n",
      "('Coffee Shop', 56)\n",
      "('Gourmet Shop', 6)\n",
      "('Café', 41)\n",
      "('American Restaurant', 6)\n",
      "('Brewery', 7)\n",
      "('County', 85)\n",
      "('Bar', 8)\n",
      "('Market', 8)\n",
      "...\n",
      "\n",
      "-------------------------------------------\n",
      "Time: 2019-02-10 21:25:20\n",
      "-------------------------------------------\n",
      "('Art Museum', 24)\n",
      "('Train Station', 10)\n",
      "('Coffee Shop', 56)\n",
      "('Gourmet Shop', 6)\n",
      "('Café', 41)\n",
      "('American Restaurant', 6)\n",
      "('Brewery', 7)\n",
      "('County', 85)\n",
      "('Bar', 8)\n",
      "('Market', 8)\n",
      "...\n",
      "\n",
      "-------------------------------------------\n",
      "Time: 2019-02-10 21:25:30\n",
      "-------------------------------------------\n",
      "('Art Museum', 24)\n",
      "('Train Station', 10)\n",
      "('Coffee Shop', 56)\n",
      "('Gourmet Shop', 6)\n",
      "('Café', 41)\n",
      "('American Restaurant', 6)\n",
      "('Brewery', 7)\n",
      "('County', 85)\n",
      "('Bar', 8)\n",
      "('Market', 8)\n",
      "...\n",
      "\n",
      "-------------------------------------------\n",
      "Time: 2019-02-10 21:25:40\n",
      "-------------------------------------------\n",
      "('Art Museum', 24)\n",
      "('Train Station', 10)\n",
      "('Coffee Shop', 56)\n",
      "('Gourmet Shop', 6)\n",
      "('Café', 41)\n",
      "('American Restaurant', 6)\n",
      "('Brewery', 7)\n",
      "('County', 85)\n",
      "('Bar', 8)\n",
      "('Market', 8)\n",
      "...\n",
      "\n",
      "-------------------------------------------\n",
      "Time: 2019-02-10 21:25:50\n",
      "-------------------------------------------\n",
      "('Art Museum', 24)\n",
      "('Train Station', 10)\n",
      "('Coffee Shop', 56)\n",
      "('Gourmet Shop', 6)\n",
      "('Café', 41)\n",
      "('American Restaurant', 6)\n",
      "('Brewery', 7)\n",
      "('County', 85)\n",
      "('Bar', 8)\n",
      "('Market', 8)\n",
      "...\n",
      "\n"
     ]
    },
    {
     "ename": "KeyboardInterrupt",
     "evalue": "ignored",
     "output_type": "error",
     "traceback": [
      "\u001b[0;31m---------------------------------------------------------------------------\u001b[0m",
      "\u001b[0;31mKeyboardInterrupt\u001b[0m                         Traceback (most recent call last)",
      "\u001b[0;32m<ipython-input-6-ce4555a3e39c>\u001b[0m in \u001b[0;36m<module>\u001b[0;34m()\u001b[0m\n\u001b[1;32m      9\u001b[0m \u001b[0;34m\u001b[0m\u001b[0m\n\u001b[1;32m     10\u001b[0m \u001b[0;31m# wait for the streaming to finish\u001b[0m\u001b[0;34m\u001b[0m\u001b[0;34m\u001b[0m\u001b[0;34m\u001b[0m\u001b[0m\n\u001b[0;32m---> 11\u001b[0;31m \u001b[0mssc\u001b[0m\u001b[0;34m.\u001b[0m\u001b[0mawaitTermination\u001b[0m\u001b[0;34m(\u001b[0m\u001b[0;34m)\u001b[0m\u001b[0;34m\u001b[0m\u001b[0;34m\u001b[0m\u001b[0m\n\u001b[0m",
      "\u001b[0;32m/usr/local/lib/python3.6/dist-packages/pyspark/streaming/context.py\u001b[0m in \u001b[0;36mawaitTermination\u001b[0;34m(self, timeout)\u001b[0m\n\u001b[1;32m    190\u001b[0m         \"\"\"\n\u001b[1;32m    191\u001b[0m         \u001b[0;32mif\u001b[0m \u001b[0mtimeout\u001b[0m \u001b[0;32mis\u001b[0m \u001b[0;32mNone\u001b[0m\u001b[0;34m:\u001b[0m\u001b[0;34m\u001b[0m\u001b[0;34m\u001b[0m\u001b[0m\n\u001b[0;32m--> 192\u001b[0;31m             \u001b[0mself\u001b[0m\u001b[0;34m.\u001b[0m\u001b[0m_jssc\u001b[0m\u001b[0;34m.\u001b[0m\u001b[0mawaitTermination\u001b[0m\u001b[0;34m(\u001b[0m\u001b[0;34m)\u001b[0m\u001b[0;34m\u001b[0m\u001b[0;34m\u001b[0m\u001b[0m\n\u001b[0m\u001b[1;32m    193\u001b[0m         \u001b[0;32melse\u001b[0m\u001b[0;34m:\u001b[0m\u001b[0;34m\u001b[0m\u001b[0;34m\u001b[0m\u001b[0m\n\u001b[1;32m    194\u001b[0m             \u001b[0mself\u001b[0m\u001b[0;34m.\u001b[0m\u001b[0m_jssc\u001b[0m\u001b[0;34m.\u001b[0m\u001b[0mawaitTerminationOrTimeout\u001b[0m\u001b[0;34m(\u001b[0m\u001b[0mint\u001b[0m\u001b[0;34m(\u001b[0m\u001b[0mtimeout\u001b[0m \u001b[0;34m*\u001b[0m \u001b[0;36m1000\u001b[0m\u001b[0;34m)\u001b[0m\u001b[0;34m)\u001b[0m\u001b[0;34m\u001b[0m\u001b[0;34m\u001b[0m\u001b[0m\n",
      "\u001b[0;32m/usr/local/lib/python3.6/dist-packages/py4j/java_gateway.py\u001b[0m in \u001b[0;36m__call__\u001b[0;34m(self, *args)\u001b[0m\n\u001b[1;32m   1253\u001b[0m             \u001b[0mproto\u001b[0m\u001b[0;34m.\u001b[0m\u001b[0mEND_COMMAND_PART\u001b[0m\u001b[0;34m\u001b[0m\u001b[0;34m\u001b[0m\u001b[0m\n\u001b[1;32m   1254\u001b[0m \u001b[0;34m\u001b[0m\u001b[0m\n\u001b[0;32m-> 1255\u001b[0;31m         \u001b[0manswer\u001b[0m \u001b[0;34m=\u001b[0m \u001b[0mself\u001b[0m\u001b[0;34m.\u001b[0m\u001b[0mgateway_client\u001b[0m\u001b[0;34m.\u001b[0m\u001b[0msend_command\u001b[0m\u001b[0;34m(\u001b[0m\u001b[0mcommand\u001b[0m\u001b[0;34m)\u001b[0m\u001b[0;34m\u001b[0m\u001b[0;34m\u001b[0m\u001b[0m\n\u001b[0m\u001b[1;32m   1256\u001b[0m         return_value = get_return_value(\n\u001b[1;32m   1257\u001b[0m             answer, self.gateway_client, self.target_id, self.name)\n",
      "\u001b[0;32m/usr/local/lib/python3.6/dist-packages/py4j/java_gateway.py\u001b[0m in \u001b[0;36msend_command\u001b[0;34m(self, command, retry, binary)\u001b[0m\n\u001b[1;32m    983\u001b[0m         \u001b[0mconnection\u001b[0m \u001b[0;34m=\u001b[0m \u001b[0mself\u001b[0m\u001b[0;34m.\u001b[0m\u001b[0m_get_connection\u001b[0m\u001b[0;34m(\u001b[0m\u001b[0;34m)\u001b[0m\u001b[0;34m\u001b[0m\u001b[0;34m\u001b[0m\u001b[0m\n\u001b[1;32m    984\u001b[0m         \u001b[0;32mtry\u001b[0m\u001b[0;34m:\u001b[0m\u001b[0;34m\u001b[0m\u001b[0;34m\u001b[0m\u001b[0m\n\u001b[0;32m--> 985\u001b[0;31m             \u001b[0mresponse\u001b[0m \u001b[0;34m=\u001b[0m \u001b[0mconnection\u001b[0m\u001b[0;34m.\u001b[0m\u001b[0msend_command\u001b[0m\u001b[0;34m(\u001b[0m\u001b[0mcommand\u001b[0m\u001b[0;34m)\u001b[0m\u001b[0;34m\u001b[0m\u001b[0;34m\u001b[0m\u001b[0m\n\u001b[0m\u001b[1;32m    986\u001b[0m             \u001b[0;32mif\u001b[0m \u001b[0mbinary\u001b[0m\u001b[0;34m:\u001b[0m\u001b[0;34m\u001b[0m\u001b[0;34m\u001b[0m\u001b[0m\n\u001b[1;32m    987\u001b[0m                 \u001b[0;32mreturn\u001b[0m \u001b[0mresponse\u001b[0m\u001b[0;34m,\u001b[0m \u001b[0mself\u001b[0m\u001b[0;34m.\u001b[0m\u001b[0m_create_connection_guard\u001b[0m\u001b[0;34m(\u001b[0m\u001b[0mconnection\u001b[0m\u001b[0;34m)\u001b[0m\u001b[0;34m\u001b[0m\u001b[0;34m\u001b[0m\u001b[0m\n",
      "\u001b[0;32m/usr/local/lib/python3.6/dist-packages/py4j/java_gateway.py\u001b[0m in \u001b[0;36msend_command\u001b[0;34m(self, command)\u001b[0m\n\u001b[1;32m   1150\u001b[0m \u001b[0;34m\u001b[0m\u001b[0m\n\u001b[1;32m   1151\u001b[0m         \u001b[0;32mtry\u001b[0m\u001b[0;34m:\u001b[0m\u001b[0;34m\u001b[0m\u001b[0;34m\u001b[0m\u001b[0m\n\u001b[0;32m-> 1152\u001b[0;31m             \u001b[0manswer\u001b[0m \u001b[0;34m=\u001b[0m \u001b[0msmart_decode\u001b[0m\u001b[0;34m(\u001b[0m\u001b[0mself\u001b[0m\u001b[0;34m.\u001b[0m\u001b[0mstream\u001b[0m\u001b[0;34m.\u001b[0m\u001b[0mreadline\u001b[0m\u001b[0;34m(\u001b[0m\u001b[0;34m)\u001b[0m\u001b[0;34m[\u001b[0m\u001b[0;34m:\u001b[0m\u001b[0;34m-\u001b[0m\u001b[0;36m1\u001b[0m\u001b[0;34m]\u001b[0m\u001b[0;34m)\u001b[0m\u001b[0;34m\u001b[0m\u001b[0;34m\u001b[0m\u001b[0m\n\u001b[0m\u001b[1;32m   1153\u001b[0m             \u001b[0mlogger\u001b[0m\u001b[0;34m.\u001b[0m\u001b[0mdebug\u001b[0m\u001b[0;34m(\u001b[0m\u001b[0;34m\"Answer received: {0}\"\u001b[0m\u001b[0;34m.\u001b[0m\u001b[0mformat\u001b[0m\u001b[0;34m(\u001b[0m\u001b[0manswer\u001b[0m\u001b[0;34m)\u001b[0m\u001b[0;34m)\u001b[0m\u001b[0;34m\u001b[0m\u001b[0;34m\u001b[0m\u001b[0m\n\u001b[1;32m   1154\u001b[0m             \u001b[0;32mif\u001b[0m \u001b[0manswer\u001b[0m\u001b[0;34m.\u001b[0m\u001b[0mstartswith\u001b[0m\u001b[0;34m(\u001b[0m\u001b[0mproto\u001b[0m\u001b[0;34m.\u001b[0m\u001b[0mRETURN_MESSAGE\u001b[0m\u001b[0;34m)\u001b[0m\u001b[0;34m:\u001b[0m\u001b[0;34m\u001b[0m\u001b[0;34m\u001b[0m\u001b[0m\n",
      "\u001b[0;32m/usr/lib/python3.6/socket.py\u001b[0m in \u001b[0;36mreadinto\u001b[0;34m(self, b)\u001b[0m\n\u001b[1;32m    584\u001b[0m         \u001b[0;32mwhile\u001b[0m \u001b[0;32mTrue\u001b[0m\u001b[0;34m:\u001b[0m\u001b[0;34m\u001b[0m\u001b[0;34m\u001b[0m\u001b[0m\n\u001b[1;32m    585\u001b[0m             \u001b[0;32mtry\u001b[0m\u001b[0;34m:\u001b[0m\u001b[0;34m\u001b[0m\u001b[0;34m\u001b[0m\u001b[0m\n\u001b[0;32m--> 586\u001b[0;31m                 \u001b[0;32mreturn\u001b[0m \u001b[0mself\u001b[0m\u001b[0;34m.\u001b[0m\u001b[0m_sock\u001b[0m\u001b[0;34m.\u001b[0m\u001b[0mrecv_into\u001b[0m\u001b[0;34m(\u001b[0m\u001b[0mb\u001b[0m\u001b[0;34m)\u001b[0m\u001b[0;34m\u001b[0m\u001b[0;34m\u001b[0m\u001b[0m\n\u001b[0m\u001b[1;32m    587\u001b[0m             \u001b[0;32mexcept\u001b[0m \u001b[0mtimeout\u001b[0m\u001b[0;34m:\u001b[0m\u001b[0;34m\u001b[0m\u001b[0;34m\u001b[0m\u001b[0m\n\u001b[1;32m    588\u001b[0m                 \u001b[0mself\u001b[0m\u001b[0;34m.\u001b[0m\u001b[0m_timeout_occurred\u001b[0m \u001b[0;34m=\u001b[0m \u001b[0;32mTrue\u001b[0m\u001b[0;34m\u001b[0m\u001b[0;34m\u001b[0m\u001b[0m\n",
      "\u001b[0;31mKeyboardInterrupt\u001b[0m: "
     ]
    }
   ],
   "source": [
    "visitor_counts = dataStream.map(lambda x: (x.split(\",\")[0], int(x.split(\",\")[1]))).reduceByKey(lambda a, b: a + b)\n",
    "\n",
    "runningCounts = visitor_counts.updateStateByKey(updateFunction)\n",
    "\n",
    "runningCounts.pprint()\n",
    "\n",
    "# start the streaming computation\n",
    "ssc.start()\n",
    "\n",
    "# wait for the streaming to finish\n",
    "ssc.awaitTermination()"
   ]
  },
  {
   "cell_type": "markdown",
   "metadata": {
    "colab_type": "text",
    "id": "OnsmqWJAy0wx"
   },
   "source": [
    "#### When the running process halts, you may need to stop the current Spark Context by running the following cell:"
   ]
  },
  {
   "cell_type": "code",
   "execution_count": 0,
   "metadata": {
    "colab": {},
    "colab_type": "code",
    "id": "5IYD42Mt01D8"
   },
   "outputs": [],
   "source": [
    "ssc.stop()"
   ]
  }
 ],
 "metadata": {
  "colab": {
   "collapsed_sections": [],
   "name": "Foursquare_streaming_challenge.ipynb",
   "provenance": [],
   "version": "0.3.2"
  },
  "kernelspec": {
   "display_name": "Python 3",
   "language": "python",
   "name": "python3"
  },
  "language_info": {
   "codemirror_mode": {
    "name": "ipython",
    "version": 3
   },
   "file_extension": ".py",
   "mimetype": "text/x-python",
   "name": "python",
   "nbconvert_exporter": "python",
   "pygments_lexer": "ipython3",
   "version": "3.6.5"
  },
  "latex_envs": {
   "LaTeX_envs_menu_present": true,
   "autoclose": false,
   "autocomplete": true,
   "bibliofile": "biblio.bib",
   "cite_by": "apalike",
   "current_citInitial": 1,
   "eqLabelWithNumbers": true,
   "eqNumInitial": 1,
   "hotkeys": {
    "equation": "Ctrl-E",
    "itemize": "Ctrl-I"
   },
   "labels_anchors": false,
   "latex_user_defs": false,
   "report_style_numbering": false,
   "user_envs_cfg": false
  },
  "varInspector": {
   "cols": {
    "lenName": 16,
    "lenType": 16,
    "lenVar": 40
   },
   "kernels_config": {
    "python": {
     "delete_cmd_postfix": "",
     "delete_cmd_prefix": "del ",
     "library": "var_list.py",
     "varRefreshCmd": "print(var_dic_list())"
    },
    "r": {
     "delete_cmd_postfix": ") ",
     "delete_cmd_prefix": "rm(",
     "library": "var_list.r",
     "varRefreshCmd": "cat(var_dic_list()) "
    }
   },
   "types_to_exclude": [
    "module",
    "function",
    "builtin_function_or_method",
    "instance",
    "_Feature"
   ],
   "window_display": false
  }
 },
 "nbformat": 4,
 "nbformat_minor": 1
}
