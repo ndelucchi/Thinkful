{
 "cells": [
  {
   "cell_type": "markdown",
   "metadata": {},
   "source": [
    "# Challenge: Model Comparison\n",
    "You now know two kinds of regression and two kinds of classifier. So let's use that to compare models!\n",
    "\n",
    "Comparing models is something data scientists do all the time. There's very rarely just one model that would be possible to run for a given situation, so learning to choose the best one is very important.\n",
    "\n",
    "Here let's work on regression. Find a data set and build a KNN Regression and an OLS regression. Compare the two. How similar are they? Do they miss in different ways?\n",
    "\n",
    "Create a Jupyter notebook with your models. At the end in a markdown cell write a few paragraphs to describe the models' behaviors and why you favor one model or the other. Try to determine whether there is a situation where you would change your mind, or whether one is unambiguously better than the other. Lastly, try to note what it is about the data that causes the better model to outperform the weaker model. Submit a link to your notebook below."
   ]
  },
  {
   "cell_type": "code",
   "execution_count": 1,
   "metadata": {},
   "outputs": [],
   "source": [
    "import pandas as pd\n",
    "import numpy as np\n",
    "import matplotlib.pyplot as plt\n",
    "import statistics as sts\n",
    "from sklearn import linear_model\n",
    "import scipy\n",
    "from sklearn import neighbors\n",
    "from sklearn.model_selection import cross_val_score\n",
    "from sklearn.metrics import mean_squared_error as mse\n",
    "%matplotlib inline"
   ]
  },
  {
   "cell_type": "markdown",
   "metadata": {},
   "source": [
    "# Data"
   ]
  },
  {
   "cell_type": "code",
   "execution_count": 2,
   "metadata": {},
   "outputs": [
    {
     "name": "stdout",
     "output_type": "stream",
     "text": [
      "   Company  Time  Financial Distress      x1        x2       x3       x4  \\\n",
      "0        1     1            0.010636  1.2810  0.022934  0.87454  1.21640   \n",
      "1        1     2           -0.455970  1.2700  0.006454  0.82067  1.00490   \n",
      "2        1     3           -0.325390  1.0529 -0.059379  0.92242  0.72926   \n",
      "3        1     4           -0.566570  1.1131 -0.015229  0.85888  0.80974   \n",
      "4        2     1            1.357300  1.0623  0.107020  0.81460  0.83593   \n",
      "\n",
      "         x5        x6       x7 ...       x74    x75     x76     x77   x78  \\\n",
      "0  0.060940  0.188270  0.52510 ...    85.437  27.07  26.102  16.000  16.0   \n",
      "1 -0.014080  0.181040  0.62288 ...   107.090  31.31  30.194  17.000  16.0   \n",
      "2  0.020476  0.044865  0.43292 ...   120.870  36.07  35.273  17.000  15.0   \n",
      "3  0.076037  0.091033  0.67546 ...    54.806  39.80  38.377  17.167  16.0   \n",
      "4  0.199960  0.047800  0.74200 ...    85.437  27.07  26.102  16.000  16.0   \n",
      "\n",
      "   x79  x80       x81  x82  x83  \n",
      "0  0.2   22  0.060390   30   49  \n",
      "1  0.4   22  0.010636   31   50  \n",
      "2 -0.2   22 -0.455970   32   51  \n",
      "3  5.6   22 -0.325390   33   52  \n",
      "4  0.2   29  1.251000    7   27  \n",
      "\n",
      "[5 rows x 86 columns]\n"
     ]
    }
   ],
   "source": [
    "distress = pd.read_csv('Financial Distress.csv')\n",
    "print(distress.head())"
   ]
  },
  {
   "cell_type": "markdown",
   "metadata": {},
   "source": [
    "[Data](https://www.kaggle.com/shebrahimi/financial-distress)\n",
    "\n",
    "The target variable is denoted by \"Financial Distress\" if it is greater than -0.50 the company should be considered as healthy (0). Otherwise, it would be regarded as financially distressed (1)."
   ]
  },
  {
   "cell_type": "markdown",
   "metadata": {},
   "source": [
    "# OLS Regression"
   ]
  },
  {
   "cell_type": "code",
   "execution_count": 3,
   "metadata": {},
   "outputs": [
    {
     "name": "stdout",
     "output_type": "stream",
     "text": [
      "R-squared:  0.4138037866827684\n",
      "Fold Accuracy: -26985.74 (+/- 186292.43)\n",
      "MSE: 4.122362242119699\n",
      "rMSE: 2.0303601262139925\n"
     ]
    }
   ],
   "source": [
    "x = distress.drop('Financial Distress', axis=1)\n",
    "y = distress['Financial Distress']\n",
    "\n",
    "# Instantiate our model.\n",
    "regr = linear_model.LinearRegression()\n",
    "\n",
    "# Fit our model to our data.\n",
    "regr.fit(x, y)\n",
    "\n",
    "# Calculate score\n",
    "regr_score = cross_val_score(regr, x, y, cv=20)\n",
    "# Display the attributes we calculated.\n",
    "#print('Coefficients: \\n', regr.coef_)\n",
    "#print('Intercept: \\n', regr.intercept_)\n",
    "print('R-squared: ',regr.score(x,y))\n",
    "print(\"Fold Accuracy: %0.2f (+/- %0.2f)\" % (regr_score.mean(), regr_score.std() * 2))\n",
    "\n",
    "y_pred = regr.predict(x)\n",
    "\n",
    "print('MSE:', mse(y,y_pred))\n",
    "print('rMSE:',mse(y,y_pred)**.5)"
   ]
  },
  {
   "cell_type": "markdown",
   "metadata": {},
   "source": [
    "# KNN Regression"
   ]
  },
  {
   "cell_type": "code",
   "execution_count": 4,
   "metadata": {},
   "outputs": [
    {
     "name": "stdout",
     "output_type": "stream",
     "text": [
      "Unweighted KNN R-squared:  0.2732229842292031\n"
     ]
    },
    {
     "ename": "NameError",
     "evalue": "name 'score' is not defined",
     "output_type": "error",
     "traceback": [
      "\u001b[0;31m---------------------------------------------------------------------------\u001b[0m",
      "\u001b[0;31mNameError\u001b[0m                                 Traceback (most recent call last)",
      "\u001b[0;32m<ipython-input-4-237e8aab2bbb>\u001b[0m in \u001b[0;36m<module>\u001b[0;34m\u001b[0m\n\u001b[1;32m     10\u001b[0m \u001b[0mknn_score\u001b[0m \u001b[0;34m=\u001b[0m \u001b[0mcross_val_score\u001b[0m\u001b[0;34m(\u001b[0m\u001b[0mknn\u001b[0m\u001b[0;34m,\u001b[0m \u001b[0mX\u001b[0m\u001b[0;34m,\u001b[0m \u001b[0mY\u001b[0m\u001b[0;34m,\u001b[0m \u001b[0mcv\u001b[0m\u001b[0;34m=\u001b[0m\u001b[0;36m20\u001b[0m\u001b[0;34m)\u001b[0m\u001b[0;34m\u001b[0m\u001b[0;34m\u001b[0m\u001b[0m\n\u001b[1;32m     11\u001b[0m \u001b[0mprint\u001b[0m\u001b[0;34m(\u001b[0m\u001b[0;34m'Unweighted KNN R-squared: '\u001b[0m\u001b[0;34m,\u001b[0m\u001b[0mknn\u001b[0m\u001b[0;34m.\u001b[0m\u001b[0mscore\u001b[0m\u001b[0;34m(\u001b[0m\u001b[0mX\u001b[0m\u001b[0;34m,\u001b[0m\u001b[0mY\u001b[0m\u001b[0;34m)\u001b[0m\u001b[0;34m)\u001b[0m\u001b[0;34m\u001b[0m\u001b[0;34m\u001b[0m\u001b[0m\n\u001b[0;32m---> 12\u001b[0;31m \u001b[0mprint\u001b[0m\u001b[0;34m(\u001b[0m\u001b[0;34m\"Fold Unweighted KNN Accuracy: %0.2f (+/- %0.2f)\"\u001b[0m \u001b[0;34m%\u001b[0m \u001b[0;34m(\u001b[0m\u001b[0mscore\u001b[0m\u001b[0;34m.\u001b[0m\u001b[0mmean\u001b[0m\u001b[0;34m(\u001b[0m\u001b[0;34m)\u001b[0m\u001b[0;34m,\u001b[0m \u001b[0mscore\u001b[0m\u001b[0;34m.\u001b[0m\u001b[0mstd\u001b[0m\u001b[0;34m(\u001b[0m\u001b[0;34m)\u001b[0m \u001b[0;34m*\u001b[0m \u001b[0;36m2\u001b[0m\u001b[0;34m)\u001b[0m\u001b[0;34m)\u001b[0m\u001b[0;34m\u001b[0m\u001b[0;34m\u001b[0m\u001b[0m\n\u001b[0m\u001b[1;32m     13\u001b[0m \u001b[0;34m\u001b[0m\u001b[0m\n\u001b[1;32m     14\u001b[0m \u001b[0mY_pred\u001b[0m \u001b[0;34m=\u001b[0m \u001b[0mknn\u001b[0m\u001b[0;34m.\u001b[0m\u001b[0mpredict\u001b[0m\u001b[0;34m(\u001b[0m\u001b[0mX\u001b[0m\u001b[0;34m)\u001b[0m\u001b[0;34m\u001b[0m\u001b[0;34m\u001b[0m\u001b[0m\n",
      "\u001b[0;31mNameError\u001b[0m: name 'score' is not defined"
     ]
    }
   ],
   "source": [
    "# Build our model.\n",
    "knn = neighbors.KNeighborsRegressor(n_neighbors=10)\n",
    "X = distress.drop('Financial Distress', axis=1)\n",
    "Y = distress['Financial Distress']\n",
    "\n",
    "# Fit our model to the data.\n",
    "knn.fit(X, Y)\n",
    "\n",
    "# Calculate score\n",
    "knn_score = cross_val_score(knn, X, Y, cv=20)\n",
    "print('Unweighted KNN R-squared: ',knn.score(X,Y))\n",
    "print(\"Fold Unweighted KNN Accuracy: %0.2f (+/- %0.2f)\" % (score.mean(), score.std() * 2))\n",
    "\n",
    "Y_pred = knn.predict(X)\n",
    "\n",
    "print('Unweighted KNN MSE:', mse(Y,Y_pred))\n",
    "print('Unweighted KNN rMSE:',mse(Y,Y_pred)**.5)"
   ]
  },
  {
   "cell_type": "code",
   "execution_count": 55,
   "metadata": {},
   "outputs": [
    {
     "name": "stdout",
     "output_type": "stream",
     "text": [
      "Weiyhed KNN R-squared:  1.0\n",
      "Fold Weighted KNN Accuracy: 0.33 (+/- 0.28)\n",
      "Weighted KNN MSE: 0.0\n",
      "Weighted KNN rMSE: 0.0\n"
     ]
    }
   ],
   "source": [
    "# Build our model.\n",
    "knn = neighbors.KNeighborsRegressor(n_neighbors=10, weights='distance')\n",
    "X = distress.drop('Financial Distress', axis=1)\n",
    "Y = distress['Financial Distress']\n",
    "\n",
    "# Fit our model to the data.\n",
    "knn.fit(X, Y)\n",
    "\n",
    "# Calculate score\n",
    "knn_score = cross_val_score(knn, X, Y, cv=20)\n",
    "print('Weigthed KNN R-squared: ',knn.score(X,Y))\n",
    "print(\"Fold Weighted KNN Accuracy: %0.2f (+/- %0.2f)\" % (score.mean(), score.std() * 2))\n",
    "\n",
    "Y_pred = knn.predict(X)\n",
    "\n",
    "print('Weighted KNN MSE:', mse(Y,Y_pred))\n",
    "print('Weighted KNN rMSE:',mse(Y,Y_pred)**.5)"
   ]
  },
  {
   "cell_type": "markdown",
   "metadata": {},
   "source": [
    "# With Output Feature Engineered"
   ]
  },
  {
   "cell_type": "code",
   "execution_count": 56,
   "metadata": {
    "scrolled": false
   },
   "outputs": [
    {
     "name": "stdout",
     "output_type": "stream",
     "text": [
      "   Company  Time  Financial Distress      x1        x2       x3       x4  \\\n",
      "0        1     1            0.010636  1.2810  0.022934  0.87454  1.21640   \n",
      "1        1     2           -0.455970  1.2700  0.006454  0.82067  1.00490   \n",
      "2        1     3           -0.325390  1.0529 -0.059379  0.92242  0.72926   \n",
      "3        1     4           -0.566570  1.1131 -0.015229  0.85888  0.80974   \n",
      "4        2     1            1.357300  1.0623  0.107020  0.81460  0.83593   \n",
      "\n",
      "         x5        x6       x7   ...       x75     x76     x77   x78  x79  \\\n",
      "0  0.060940  0.188270  0.52510   ...     27.07  26.102  16.000  16.0  0.2   \n",
      "1 -0.014080  0.181040  0.62288   ...     31.31  30.194  17.000  16.0  0.4   \n",
      "2  0.020476  0.044865  0.43292   ...     36.07  35.273  17.000  15.0 -0.2   \n",
      "3  0.076037  0.091033  0.67546   ...     39.80  38.377  17.167  16.0  5.6   \n",
      "4  0.199960  0.047800  0.74200   ...     27.07  26.102  16.000  16.0  0.2   \n",
      "\n",
      "   x80       x81  x82  x83  fin_dis  \n",
      "0   22  0.060390   30   49        0  \n",
      "1   22  0.010636   31   50        0  \n",
      "2   22 -0.455970   32   51        0  \n",
      "3   22 -0.325390   33   52        1  \n",
      "4   29  1.251000    7   27        0  \n",
      "\n",
      "[5 rows x 87 columns]\n"
     ]
    }
   ],
   "source": [
    "distress_sel = pd.read_csv('Financial Distress.csv')\n",
    "distress_sel['fin_dis'] = distress_sel['Financial Distress'].map(lambda x: 0 if x > -0.50 else 1)\n",
    "print(distress_sel.head())"
   ]
  },
  {
   "cell_type": "markdown",
   "metadata": {},
   "source": [
    "# OLS Regression with Feature Engineering"
   ]
  },
  {
   "cell_type": "code",
   "execution_count": 57,
   "metadata": {},
   "outputs": [
    {
     "name": "stdout",
     "output_type": "stream",
     "text": [
      "R-squared:  0.20964936272078705\n",
      "Fold Accuracy: -796808.09 (+/- 6918070.14)\n",
      "MSE: 0.028188088572372472\n",
      "rMSE: 0.16789308673192138\n"
     ]
    }
   ],
   "source": [
    "x = distress_sel.drop(['Financial Distress','fin_dis'], axis=1)\n",
    "y = distress_sel['fin_dis']\n",
    "\n",
    "# Instantiate our model.\n",
    "regr = linear_model.LinearRegression()\n",
    "\n",
    "# Fit our model to our data.\n",
    "regr.fit(x, y)\n",
    "\n",
    "# Calculate score\n",
    "regr_score = cross_val_score(regr, x, y, cv=20)\n",
    "# Display the attributes we calculated.\n",
    "#print('Coefficients: \\n', regr.coef_)\n",
    "#print('Intercept: \\n', regr.intercept_)\n",
    "print('R-squared: ',regr.score(x,y))\n",
    "print(\"Fold Accuracy: %0.2f (+/- %0.2f)\" % (regr_score.mean(), regr_score.std() * 2))\n",
    "\n",
    "y_pred = regr.predict(x)\n",
    "\n",
    "print('MSE:', mse(y,y_pred))\n",
    "print('rMSE:',mse(y,y_pred)**.5)"
   ]
  },
  {
   "cell_type": "markdown",
   "metadata": {},
   "source": [
    "# KNN Regression with Feature Engineering"
   ]
  },
  {
   "cell_type": "code",
   "execution_count": 58,
   "metadata": {},
   "outputs": [
    {
     "name": "stdout",
     "output_type": "stream",
     "text": [
      "Unweighted KNN R-squared:  0.265670248868778\n",
      "Fold Unweighted KNN Accuracy: 0.33 (+/- 0.28)\n",
      "Unweighted KNN MSE: 0.026190087145969505\n",
      "Unweighted KNN rMSE: 0.16183351675709673\n"
     ]
    }
   ],
   "source": [
    "# Build our model.\n",
    "knn = neighbors.KNeighborsRegressor(n_neighbors=10)\n",
    "X = distress_sel.drop(['Financial Distress','fin_dis'], axis=1)\n",
    "Y = distress_sel['fin_dis']\n",
    "\n",
    "# Fit our model to the data.\n",
    "knn.fit(X, Y)\n",
    "\n",
    "# Calculate score\n",
    "knn_score = cross_val_score(knn, X, Y, cv=20)\n",
    "print('Unweighted KNN R-squared: ',knn.score(X,Y))\n",
    "print(\"Fold Unweighted KNN Accuracy: %0.2f (+/- %0.2f)\" % (score.mean(), score.std() * 2))\n",
    "\n",
    "Y_pred = knn.predict(X)\n",
    "\n",
    "print('Unweighted KNN MSE:', mse(Y,Y_pred))\n",
    "print('Unweighted KNN rMSE:',mse(Y,Y_pred)**.5)"
   ]
  },
  {
   "cell_type": "code",
   "execution_count": 59,
   "metadata": {},
   "outputs": [
    {
     "name": "stdout",
     "output_type": "stream",
     "text": [
      "Weighted Knn R-squared:  1.0\n",
      "Fold Weighted Accuracy: 0.33 (+/- 0.28)\n",
      "Weighted KNN MSE: 0.0\n",
      "Weighted KNN rMSE: 0.0\n"
     ]
    }
   ],
   "source": [
    "# Build our model.\n",
    "knn = neighbors.KNeighborsRegressor(n_neighbors=10, weights='distance')\n",
    "X = distress_sel.drop(['Financial Distress','fin_dis'], axis=1)\n",
    "Y = distress_sel['fin_dis']\n",
    "\n",
    "# Fit our model to the data.\n",
    "knn.fit(X, Y)\n",
    "\n",
    "# Calculate score\n",
    "knn_score = cross_val_score(knn, X, Y, cv=20)\n",
    "print('Weighted Knn R-squared: ',knn.score(X,Y))\n",
    "print(\"Fold Weighted Accuracy: %0.2f (+/- %0.2f)\" % (score.mean(), score.std() * 2))\n",
    "\n",
    "Y_pred = knn.predict(X)\n",
    "\n",
    "print('Weighted KNN MSE:', mse(Y,Y_pred))\n",
    "print('Weighted KNN rMSE:',mse(Y,Y_pred)**.5)"
   ]
  },
  {
   "cell_type": "code",
   "execution_count": null,
   "metadata": {},
   "outputs": [],
   "source": []
  }
 ],
 "metadata": {
  "kernelspec": {
   "display_name": "Python 3",
   "language": "python",
   "name": "python3"
  },
  "language_info": {
   "codemirror_mode": {
    "name": "ipython",
    "version": 3
   },
   "file_extension": ".py",
   "mimetype": "text/x-python",
   "name": "python",
   "nbconvert_exporter": "python",
   "pygments_lexer": "ipython3",
   "version": "3.7.2"
  }
 },
 "nbformat": 4,
 "nbformat_minor": 2
}
