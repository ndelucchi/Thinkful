{
 "cells": [
  {
   "cell_type": "markdown",
   "metadata": {},
   "source": [
    "# Capstone Presentation\n",
    "You're ready to put into practice everything you've learned so far.\n",
    "\n",
    "First: Go out and find a dataset of interest. It could be from one of our recommended resources, some other aggregation, or scraped yourself. Just make sure it has lots of variables in it, including an outcome of interest to you.\n",
    "\n",
    "Second: Explore the data. Get to know the data. Spend a lot of time going over its quirks and peccadilloes. You should understand how it was gathered, what's in it, and what the variables look like.\n",
    "\n",
    "Third: Model your outcome of interest. You should try several different approaches and really work to tune a variety of models before using the model evaluation techniques to choose what you consider to be the best performer. Make sure to think about explanatory versus predictive power and experiment with both.\n",
    "\n",
    "So, here is the deliverable: Prepare a slide deck and 15 minute presentation that guides viewers through your model. Be sure to cover a few specific things:\n",
    "\n",
    "* A specified research question your model addresses\n",
    "* How you chose your model specification and what alternatives you compared it to\n",
    "* The practical uses of your model for an audience of interest\n",
    "* Any weak points or shortcomings of your model\n",
    "\n",
    "This presentation is not a drill. You'll be presenting this slide deck live to a group as the culmination of your work in the last two supervised learning units. As a secondary matter, your slides and / or the Jupyter notebook you use or adapt them into should be worthy of inclusion as examples of your work product when applying to jobs.\n",
    "\n",
    "Good luck!"
   ]
  },
  {
   "cell_type": "markdown",
   "metadata": {},
   "source": [
    "# Dataset Information:\n",
    "\n",
    "This database once contained 76 attributes, but all published experiments refer to using a subset of 14 of them. In particular, the [Cleveland database](https://www.kaggle.com/ronitf/heart-disease-uci) is the only one that has been used by ML researchers to  this date. The \"target\" field refers to the presence of heart disease in the patient. Experiments with the Cleveland database have concentrated on simply attempting to distinguish presence (value 1) from absence (value 0). \n",
    "\n",
    "The names and social security numbers of the patients were recently removed from the database. \n",
    "\n",
    "### Source:\n",
    "\n",
    "### Acknowledgements\n",
    "\n",
    "##### Creators: \n",
    "1. Hungarian Institute of Cardiology. Budapest: Andras Janosi, M.D. \n",
    "2. University Hospital, Zurich, Switzerland: William Steinbrunn, M.D. \n",
    "3. University Hospital, Basel, Switzerland: Matthias Pfisterer, M.D. \n",
    "4. V.A. Medical Center, Long Beach and Cleveland Clinic Foundation: Robert Detrano, M.D., Ph.D.\n",
    "\n",
    "##### Donor: \n",
    "David W. Aha (aha '@' ics.uci.edu) (714) 856-8779\n",
    "\n",
    "\n",
    "See if you can find any other trends in heart data to predict certain cardiovascular events or find any clear indications of heart health.\n",
    "\n",
    "\n",
    "\n",
    "[data](https://www.kaggle.com/ronitf/heart-disease-uci)\n",
    "\n",
    "\n",
    "[data_full](https://archive.ics.uci.edu/ml/datasets/heart%2BDisease)"
   ]
  },
  {
   "cell_type": "code",
   "execution_count": null,
   "metadata": {},
   "outputs": [],
   "source": [
    "import time\n",
    "import numpy as np\n",
    "import pandas as pd\n",
    "import seaborn as sns\n",
    "import matplotlib.pyplot as plt\n",
    "\n",
    "from sklearn import tree\n",
    "from sklearn.svm import SVC\n",
    "from sklearn import ensemble\n",
    "from sklearn import neighbors\n",
    "from sklearn import preprocessing\n",
    "from sklearn.utils import resample\n",
    "#from imblearn.over_sampling import SMOTENC\n",
    "from sklearn.pipeline import make_pipeline\n",
    "from sklearn.naive_bayes import BernoulliNB, GaussianNB\n",
    "from sklearn.metrics import mean_squared_error, r2_score\n",
    "from sklearn.discriminant_analysis import QuadraticDiscriminantAnalysis\n",
    "from sklearn.model_selection import train_test_split, cross_val_score, GridSearchCV, KFold, StratifiedShuffleSplit\n",
    "\n",
    "import warnings \n",
    "warnings.simplefilter('ignore')\n",
    "\n",
    "%matplotlib inline"
   ]
  },
  {
   "cell_type": "code",
   "execution_count": 2,
   "metadata": {
    "scrolled": false
   },
   "outputs": [
    {
     "name": "stdout",
     "output_type": "stream",
     "text": [
      "<class 'pandas.core.frame.DataFrame'>\n",
      "Int64Index: 303 entries, 0 to 302\n",
      "Data columns (total 14 columns):\n",
      "age                 303 non-null int64\n",
      "sex                 303 non-null int64\n",
      "chest_pain          303 non-null int64\n",
      "resting_bp          303 non-null int64\n",
      "serum_chol          303 non-null int64\n",
      "fasting_bs          303 non-null int64\n",
      "resting_ecg         303 non-null int64\n",
      "max_hr              303 non-null int64\n",
      "ex_ang              303 non-null int64\n",
      "st_depress          303 non-null float64\n",
      "slope_st_depress    303 non-null int64\n",
      "num_mv              303 non-null int64\n",
      "thalassemia         303 non-null int64\n",
      "target              303 non-null int64\n",
      "dtypes: float64(1), int64(13)\n",
      "memory usage: 35.5 KB\n",
      "None\n"
     ]
    }
   ],
   "source": [
    "heart = pd.read_csv('heart_disease.csv')\n",
    "heart.columns = ['age','sex','chest_pain','resting_bp',\n",
    "                 'serum_chol','fasting_bs','resting_ecg',\n",
    "                 'max_hr','ex_ang','st_depress',\n",
    "                 'slope_st_depress','num_mv', 'thalassemia','target']\n",
    "heart = heart.dropna()\n",
    "print(heart.info())"
   ]
  },
  {
   "cell_type": "markdown",
   "metadata": {},
   "source": [
    "# Exploration of Data"
   ]
  },
  {
   "cell_type": "code",
   "execution_count": 3,
   "metadata": {},
   "outputs": [
    {
     "name": "stdout",
     "output_type": "stream",
     "text": [
      "<class 'pandas.core.frame.DataFrame'>\n",
      "Int64Index: 303 entries, 0 to 302\n",
      "Data columns (total 14 columns):\n",
      "age                 303 non-null int64\n",
      "sex                 303 non-null int64\n",
      "chest_pain          303 non-null int64\n",
      "resting_bp          303 non-null int64\n",
      "serum_chol          303 non-null int64\n",
      "fasting_bs          303 non-null int64\n",
      "resting_ecg         303 non-null int64\n",
      "max_hr              303 non-null int64\n",
      "ex_ang              303 non-null int64\n",
      "st_depress          303 non-null float64\n",
      "slope_st_depress    303 non-null int64\n",
      "num_mv              303 non-null int64\n",
      "thalassemia         303 non-null int64\n",
      "target              303 non-null int64\n",
      "dtypes: float64(1), int64(13)\n",
      "memory usage: 35.5 KB\n",
      "None\n"
     ]
    }
   ],
   "source": [
    "#print(heart.head())\n",
    "print(heart.info())"
   ]
  },
  {
   "cell_type": "markdown",
   "metadata": {},
   "source": [
    "## Feature Information: \n",
    "1. age = age \n",
    "2. sex = sex \n",
    "3. chest_pain = chest pain type (1 = typical angina, 2 = atypical angina, 3 = non-anginal pain,4 = asymptomatic ) \n",
    "4. resting_bp = resting blood pressure \n",
    "5. serum_chol = serum cholesterol in mg/dl \n",
    "6. fasting_bp = fasting blood sugar > 120 mg/dl\n",
    "7. resting_ecg = resting electrocardiographic results (0 = normal, 1 = having ST-T wave abnormality (T wave inversions and/or ST elevation or depression of > 0.05 mV), 2 = showing probable or definite left ventricular hypertrophy by Estes' criteria )\n",
    "8. max_hr = maximum heart rate achieved \n",
    "9. ex_ang = exercise induced angina (binary, 1 = yes) \n",
    "10. st_depress = ST depression induced by exercise relative to rest \n",
    "11. the slope of the peak exercise ST segment \n",
    "12. number of major vessels (values 0-3) colored by fluoroscopy\n",
    "13. thalassemia = thalassemia (3 = normal, 6 = fixed defect, 7 = reversible defect)\n",
    "14. target = presence of heart disease (binary, 1 = present)\n",
    "\n",
    "\n",
    "* Angina is chest pain or discomfort caused when your heart muscle doesn't get enough oxygen-rich blood. It may feel like pressure or squeezing in your chest. The discomfort also can occur in your shoulders, arms, neck, jaw, or back. Angina pain may even feel like indigestion.\n",
    "\n",
    "* ST depression refers to a finding on an electrocardiogram wherein the trace in the ST segment is abnormally low below the baseline.\n",
    "\n",
    "* Thalassemia is an inherited blood disorder characterized by less hemoglobin and fewer red blood cells in your body than normal. Hemoglobin is the substance in your red blood cells that allows them to carry oxygen. The low hemoglobin and fewer red blood cells of thalassemia may cause anemia, leaving you fatigued. If you have mild thalassemia, you may not need treatment. But if you have a more severe form of the disorder, you may need regular blood transfusions. You can also take steps on your own to cope with fatigue, such as choosing a healthy diet and exercising regularly."
   ]
  },
  {
   "cell_type": "code",
   "execution_count": 4,
   "metadata": {
    "scrolled": false
   },
   "outputs": [
    {
     "data": {
      "image/png": "[encoded data removed]",
      "text/plain": [
       "<Figure size 432x288 with 1 Axes>"
      ]
     },
     "metadata": {
      "needs_background": "light"
     },
     "output_type": "display_data"
    },
    {
     "name": "stdout",
     "output_type": "stream",
     "text": [
      "count    303.000000\n",
      "mean      54.366337\n",
      "std        9.082101\n",
      "min       29.000000\n",
      "25%       47.500000\n",
      "50%       55.000000\n",
      "75%       61.000000\n",
      "max       77.000000\n",
      "Name: age, dtype: float64\n"
     ]
    },
    {
     "data": {
      "text/plain": [
       "<Figure size 432x288 with 0 Axes>"
      ]
     },
     "metadata": {},
     "output_type": "display_data"
    },
    {
     "data": {
      "image/png": "[encoded data removed]",
      "text/plain": [
       "<Figure size 360x360 with 1 Axes>"
      ]
     },
     "metadata": {
      "needs_background": "light"
     },
     "output_type": "display_data"
    },
    {
     "name": "stdout",
     "output_type": "stream",
     "text": [
      "Male Age\n",
      " count    207.000000\n",
      "mean      53.758454\n",
      "std        8.883803\n",
      "min       29.000000\n",
      "25%       47.000000\n",
      "50%       54.000000\n",
      "75%       59.500000\n",
      "max       77.000000\n",
      "Name: age, dtype: float64\n",
      "\n",
      "Female Age\n",
      " count    96.000000\n",
      "mean     55.677083\n",
      "std       9.409396\n",
      "min      34.000000\n",
      "25%      49.750000\n",
      "50%      57.000000\n",
      "75%      63.000000\n",
      "max      76.000000\n",
      "Name: age, dtype: float64\n"
     ]
    }
   ],
   "source": [
    "plt.figure()\n",
    "sns.distplot(heart.age)\n",
    "plt.title(\"Age Distribution\")\n",
    "plt.show()\n",
    "print(heart.age.describe())\n",
    "\n",
    "plt.figure()\n",
    "g = sns.catplot(x='sex',y='age',data=heart,kind='violin')\n",
    "sns.swarmplot(x='sex', y='age', color=\"k\", size=3, data=heart, ax=g.ax)\n",
    "plt.title(\"Sex-Age Violin Plot\")\n",
    "g.set_xticklabels(labels=['female','male'])\n",
    "plt.show()\n",
    "\n",
    "\n",
    "print('Male Age\\n', heart['age'][heart.sex==1].describe())\n",
    "print('\\nFemale Age\\n',heart['age'][heart.sex==0].describe())\n"
   ]
  },
  {
   "cell_type": "markdown",
   "metadata": {},
   "source": [
    "We see that our age demographic is skewed to older indoviduals with a mean of 54 and we have double the male observations than female observations."
   ]
  },
  {
   "cell_type": "markdown",
   "metadata": {},
   "source": [
    "# Feature engineering\n",
    "\n",
    "Based on the correlation of our variables, we might be able to find some meaningful features to fit our model with!"
   ]
  },
  {
   "cell_type": "code",
   "execution_count": 5,
   "metadata": {},
   "outputs": [
    {
     "data": {
      "image/png": "[encoded data removed]",
      "text/plain": [
       "<Figure size 792x648 with 2 Axes>"
      ]
     },
     "metadata": {
      "needs_background": "light"
     },
     "output_type": "display_data"
    }
   ],
   "source": [
    "corr = heart.corr()\n",
    "\n",
    "# Generate a mask for the upper triangle\n",
    "mask = np.zeros_like(corr, dtype=np.bool)\n",
    "mask[np.triu_indices_from(mask)] = True\n",
    "\n",
    "# Set up the matplotlib figure\n",
    "f, ax = plt.subplots(figsize=(11, 9))\n",
    "\n",
    "# Generate a custom diverging colormap\n",
    "cmap = sns.diverging_palette(220, 10, as_cmap=True)\n",
    "\n",
    "# Draw the heatmap with the mask and correct aspect ratio\n",
    "sns.heatmap(corr, cmap=cmap, vmin=0, vmax=1, mask=mask, center=0,\n",
    "            square=True, linewidths=.5, cbar_kws={\"shrink\": .5})\n",
    "plt.title(\"Correlation plot for Heart Disease features\")\n",
    "plt.show()"
   ]
  },
  {
   "cell_type": "markdown",
   "metadata": {},
   "source": [
    "Looking at the top-most correlated features for the \"target\" feature, lets make a feature that accentuates these variables."
   ]
  },
  {
   "cell_type": "code",
   "execution_count": 6,
   "metadata": {},
   "outputs": [],
   "source": [
    "heart['f1'] = (heart.chest_pain * heart.resting_ecg * \n",
    "               heart.max_hr * heart.slope_st_depress)"
   ]
  },
  {
   "cell_type": "markdown",
   "metadata": {},
   "source": [
    "## Making Dummies\n",
    "\n",
    "Despite the fact that chest_pain, resting_ecg, and thalassemia are all type int64, they are really categorical in nature so we should make dummies out of them to better the machine learning for our model."
   ]
  },
  {
   "cell_type": "code",
   "execution_count": 7,
   "metadata": {},
   "outputs": [
    {
     "name": "stdout",
     "output_type": "stream",
     "text": [
      "       chest_pain  resting_ecg  thalassemia\n",
      "count  303.000000   303.000000   303.000000\n",
      "mean     0.966997     0.528053     2.313531\n",
      "std      1.032052     0.525860     0.612277\n",
      "min      0.000000     0.000000     0.000000\n",
      "25%      0.000000     0.000000     2.000000\n",
      "50%      1.000000     1.000000     2.000000\n",
      "75%      2.000000     1.000000     3.000000\n",
      "max      3.000000     2.000000     3.000000\n"
     ]
    }
   ],
   "source": [
    "print(heart[['chest_pain','resting_ecg','thalassemia']].describe())"
   ]
  },
  {
   "cell_type": "code",
   "execution_count": 8,
   "metadata": {},
   "outputs": [],
   "source": [
    "heart_dum = heart\n",
    "\n",
    "# Convert the numeric (but acutally catergorical) to srtings\n",
    "def chest_pain_types(series):\n",
    "    if series == 1:\n",
    "        return \"typical_angina\"\n",
    "    elif series == 2:\n",
    "        return \"atypical_angina\"\n",
    "    elif series == 3:\n",
    "        return \"non_anginal_pain\"\n",
    "    elif series == 4:\n",
    "        return \"asymptomatic\"\n",
    "\n",
    "heart_dum['chest_types'] = heart['chest_pain'].apply(chest_pain_types)\n",
    "\n",
    "def thalassemia_types(series):\n",
    "    if series == 3:\n",
    "        return \"thal_norm\"\n",
    "    elif series == 6:\n",
    "        return \"thal_fixed\"\n",
    "    elif series == 7:\n",
    "        return \"thal_reversable\"\n",
    "\n",
    "heart_dum['thal_types'] = heart['thalassemia'].apply(thalassemia_types)\n",
    "\n",
    "def ecg_types(series):\n",
    "    if series == 0:\n",
    "        return \"ecg_norm\"\n",
    "    elif series == 1:\n",
    "        return \"ecg_wave_abnormal\"\n",
    "    elif series == 2:\n",
    "        return \"ecg_hypertrophy\"\n",
    "\n",
    "heart_dum['ecg_types'] = heart['resting_ecg'].apply(ecg_types)\n",
    "\n",
    "# Concat dummies back into the dataframe\n",
    "heart_dum = pd.concat([heart_dum,pd.get_dummies(heart_dum['chest_types'])], axis=1)\n",
    "heart_dum = pd.concat([heart_dum,pd.get_dummies(heart_dum['thal_types'])], axis=1)\n",
    "heart_dum = pd.concat([heart_dum,pd.get_dummies(heart_dum['ecg_types'])], axis=1)\n",
    "\n",
    "#Ensure all new columns are numeric 'int64'\n",
    "columns = ['atypical_angina', 'non_anginal_pain', 'typical_angina', \n",
    "           'thal_norm', 'ecg_hypertrophy', 'ecg_norm', 'ecg_wave_abnormal']\n",
    "for column in columns:\n",
    "    heart_dum[column] = heart_dum[column].astype('int64')\n",
    "\n",
    "    # Drop original columns to avoid confusion/overfiting\n",
    "heart_dum = heart_dum.drop(['chest_types','thal_types','ecg_types'],axis=1)\n",
    "heart_dum = heart_dum.drop(['chest_pain','thalassemia','resting_ecg'],axis=1)"
   ]
  },
  {
   "cell_type": "code",
   "execution_count": 9,
   "metadata": {},
   "outputs": [
    {
     "data": {
      "image/png": "[encoded data removed]",
      "text/plain": [
       "<Figure size 792x648 with 2 Axes>"
      ]
     },
     "metadata": {
      "needs_background": "light"
     },
     "output_type": "display_data"
    }
   ],
   "source": [
    "corr = heart_dum.corr()\n",
    "\n",
    "# Generate a mask for the upper triangle\n",
    "mask = np.zeros_like(corr, dtype=np.bool)\n",
    "mask[np.triu_indices_from(mask)] = True\n",
    "\n",
    "# Set up the matplotlib figure\n",
    "f, ax = plt.subplots(figsize=(11, 9))\n",
    "\n",
    "# Generate a custom diverging colormap\n",
    "cmap = sns.diverging_palette(220, 10, as_cmap=True)\n",
    "\n",
    "# Draw the heatmap with the mask and correct aspect ratio\n",
    "sns.heatmap(corr, cmap=cmap, vmin=0, vmax=1, mask=mask, center=0,\n",
    "            square=True, linewidths=.5, cbar_kws={\"shrink\": .5})\n",
    "plt.title(\"Correlation plot for Heart Disease features\")\n",
    "plt.show()"
   ]
  },
  {
   "cell_type": "code",
   "execution_count": 10,
   "metadata": {},
   "outputs": [],
   "source": [
    "heart_sel = heart_dum[['typical_angina','non_anginal_pain','atypical_angina','f1','slope_st_depress','max_hr','ecg_wave_abnormal','target']]"
   ]
  },
  {
   "cell_type": "markdown",
   "metadata": {},
   "source": [
    "# Examination of non-tuned models"
   ]
  },
  {
   "cell_type": "code",
   "execution_count": 11,
   "metadata": {},
   "outputs": [],
   "source": [
    "#Too avoid noise/over-fitting\n",
    "X = heart_sel.drop('target',axis=1)\n",
    "y = heart_sel['target']\n",
    "\n",
    "# Initiate train_test_split\n",
    "X_train, X_test, y_train, y_test = train_test_split(X, y, test_size=0.1, random_state=1,stratify=y)\n",
    "\n",
    "# Scaling X to ease learning\n",
    "scaler = preprocessing.StandardScaler().fit(X_train) #try Normalizer too\n",
    "X_train = scaler.transform(X_train)\n",
    "X_test = scaler.transform(X_test)"
   ]
  },
  {
   "cell_type": "code",
   "execution_count": 12,
   "metadata": {},
   "outputs": [
    {
     "name": "stdout",
     "output_type": "stream",
     "text": [
      "NBB: 0.725000 (0.175000) 0.774194\n",
      "RFC: 0.700000 (0.187083) 0.741935\n",
      "KNN: 0.900000 (0.122474) 0.870968\n",
      "DTC: 0.675000 (0.160078) 0.677419\n",
      "GNB: 0.775000 (0.207666) 0.741935\n",
      "SVC: 0.850000 (0.122474) 0.741935\n",
      "GBC: 0.700000 (0.187083) 0.741935\n",
      "ABC: 0.700000 (0.187083) 0.709677\n",
      "ETC: 0.750000 (0.223607) 0.741935\n",
      "QDA: 0.650000 (0.200000) 0.741935\n"
     ]
    }
   ],
   "source": [
    "# Spot Check Algorithms\n",
    "models = []\n",
    "models.append(('NBB', BernoulliNB()))\n",
    "models.append(('RFC', ensemble.RandomForestClassifier()))\n",
    "models.append(('KNN', neighbors.KNeighborsClassifier()))\n",
    "models.append(('DTC', tree.DecisionTreeClassifier()))\n",
    "models.append(('GNB', GaussianNB()))\n",
    "models.append(('SVC', SVC()))\n",
    "models.append(('GBC', ensemble.GradientBoostingClassifier()))\n",
    "models.append(('ABC', ensemble.AdaBoostClassifier()))\n",
    "models.append(('ETC', ensemble.ExtraTreesClassifier()))\n",
    "models.append(('QDA', QuadraticDiscriminantAnalysis()))\n",
    "# evaluate each model in turn\n",
    "results = []\n",
    "ac_results = []\n",
    "names = []\n",
    "for name, model in models:\n",
    "    split = StratifiedShuffleSplit(n_splits=10, random_state=1337)\n",
    "    #split = KFold(n_splits=10, random_state=1337)\n",
    "    model = model.fit(X_train,y_train)\n",
    "    acc_results = model.score(X_test,y_test)\n",
    "    cv_results = cross_val_score(model, X_test, y_test, cv=split, scoring='accuracy')\n",
    "    #cv_results = cross_val_score(model, X, y, cv=kfold, scoring='accuracy')\n",
    "    results.append(cv_results)\n",
    "    ac_results.append(acc_results)\n",
    "    names.append(name)\n",
    "    msg = \"%s: %f (%f) %f\" % (name, cv_results.mean(), cv_results.std(), acc_results)\n",
    "    #msg = \"%s: %f\" % (name, acc_results)\n",
    "    print(msg)"
   ]
  },
  {
   "cell_type": "markdown",
   "metadata": {},
   "source": [
    "Above we see that the K Nearest Neighbors model yields the highest cross validation score; let's see if we can do any parameter tuning to achieve better than the non-tuned model."
   ]
  },
  {
   "cell_type": "code",
   "execution_count": 13,
   "metadata": {},
   "outputs": [
    {
     "name": "stdout",
     "output_type": "stream",
     "text": [
      "Processing...\n",
      "\n",
      " -- 5.3565 seconds for model fit --\n",
      "Best Parameters:\n",
      "  {'kneighborsclassifier__algorithm': 'ball_tree', 'kneighborsclassifier__n_neighbors': 3, 'kneighborsclassifier__p': 1, 'kneighborsclassifier__weights': 'uniform'}\n",
      "Refit:  True\n",
      "\n",
      "Training Accuracy:\n",
      "    0.8198529411764706\n",
      "Testing Accuracy:\n",
      "    0.8064516129032258\n",
      "\n",
      "Cross Validation:\n",
      "    0.78 +/- 0.07\n",
      "\n",
      " -- 39.1553 seconds for results--\n"
     ]
    }
   ],
   "source": [
    "print('Processing...')\n",
    "\n",
    "start_time = time.time()\n",
    "\n",
    "# Declare data preprocessing steps\n",
    "pipeline = make_pipeline(preprocessing.StandardScaler(), \n",
    "                         neighbors.KNeighborsClassifier())\n",
    "\n",
    "split = StratifiedShuffleSplit(n_splits=10, random_state=1337)\n",
    "\n",
    "# Declare hyperparameters to tune\n",
    "hyperparameters = { 'kneighborsclassifier__n_neighbors' : [1,2,3,4,5,6,7,8,9,10],\n",
    "                  'kneighborsclassifier__weights' : ['uniform', 'distance'],\n",
    "                  'kneighborsclassifier__p': [1,2],\n",
    "                  'kneighborsclassifier__algorithm': ['auto', 'ball_tree', 'kd_tree', 'brute'] \n",
    "                  }\n",
    " \n",
    "# Tune model using cross-validation pipeline\n",
    "knn = GridSearchCV(estimator=pipeline,param_grid=hyperparameters, cv=split)\n",
    "knn.fit(X_train, y_train)\n",
    "\n",
    "t= round((time.time() - start_time),4)\n",
    "print(\"\\n -- %s seconds for model fit --\" % t)\n",
    "                                                    \n",
    "start_time = time.time()\n",
    "                                                    \n",
    "# Refit on the entire training set\n",
    "# No additional code needed if clf.refit == True (default is True)\n",
    "print('Best Parameters:\\n ', knn.best_params_)\n",
    "print('Refit: ', knn.refit)\n",
    " \n",
    "# Evaluate model pipeline on test data\n",
    "print('\\nTraining Accuracy:\\n   ', knn.score(X_train, y_train))\n",
    "print('Testing Accuracy:\\n   ', knn.score(X_test, y_test))\n",
    "\n",
    "score = cross_val_score(knn, X_test, y_test, cv=split)\n",
    "print('\\nCross Validation:\\n    %0.2f +/- %0.2f' %(score.mean(),score.std()))\n",
    "#print('MSE:\\n ',mean_squared_error(y_test, y_pred))\n",
    "\n",
    "t= round((time.time() - start_time),4)\n",
    "print(\"\\n -- %s seconds for results--\" % t)"
   ]
  },
  {
   "cell_type": "markdown",
   "metadata": {},
   "source": [
    "Great, now let's try out the best parameters identified in the cell above"
   ]
  },
  {
   "cell_type": "code",
   "execution_count": 14,
   "metadata": {},
   "outputs": [
    {
     "name": "stdout",
     "output_type": "stream",
     "text": [
      "--KNN Model Results--\n",
      "\n",
      "Cross Validation:\n",
      "    0.80 (+/- 0.15)\n",
      "[1.   0.75 0.75 0.5  0.75 0.75 1.   1.   0.75 0.75]\n",
      "\n",
      "Training Accuracy:\n",
      "    0.8198529411764706\n",
      "Testing Accuracy:\n",
      "    0.8064516129032258\n",
      "\n",
      "- 0.0344 seconds -\n"
     ]
    }
   ],
   "source": [
    "start_time = time.time()\n",
    "\n",
    "# Instantiate our model and store it in a new variable, then fit it.\n",
    "knn = neighbors.KNeighborsClassifier(n_neighbors=3,weights='uniform',p=1,algorithm='ball_tree')\n",
    "knn.fit(X_train, y_train)\n",
    "\n",
    "print('--KNN Model Results--')\n",
    "score = cross_val_score(knn, X_test, y_test, cv=split, scoring='accuracy')\n",
    "print(\"\\nCross Validation:\\n    %0.2f (+/- %0.2f)\" % (score.mean(), score.std()))\n",
    "print(score)\n",
    "\n",
    "print('\\nTraining Accuracy:\\n   ', knn.score(X_train, y_train))\n",
    "print('Testing Accuracy:\\n   ', knn.score(X_test, y_test))\n",
    "\n",
    "t= round((time.time() - start_time),4)\n",
    "print(\"\\n- %s seconds -\" % t)"
   ]
  },
  {
   "cell_type": "markdown",
   "metadata": {},
   "source": [
    "The above is pretty disappointing, especially considering that the non-tuned model showed a cross valudation score of 0.90, when here we are getting a 0.80. Let's see if we can replicate the 0.90 score with the defaults."
   ]
  },
  {
   "cell_type": "code",
   "execution_count": 15,
   "metadata": {},
   "outputs": [
    {
     "name": "stdout",
     "output_type": "stream",
     "text": [
      "\n",
      "Cross Validation:\n",
      "    0.90 (+/- 0.12)\n",
      "[1.   0.75 1.   1.   0.75 0.75 1.   1.   0.75 1.  ]\n",
      "--KNN Model Results--\n",
      "\n",
      "Training Accuracy:\n",
      "    0.8051470588235294\n",
      "Testing Accuracy:\n",
      "    0.8709677419354839\n",
      "\n",
      "- 0.0367 seconds -\n"
     ]
    }
   ],
   "source": [
    "start_time = time.time()\n",
    "\n",
    "# Instantiate our model and store it in a new variable, then fit it.\n",
    "knn = neighbors.KNeighborsClassifier(n_neighbors=5,weights='uniform',p=2,algorithm='auto')\n",
    "knn.fit(X_train, y_train)\n",
    "\n",
    "score = cross_val_score(knn, X_test, y_test, cv=split, scoring='accuracy')\n",
    "print(\"\\nCross Validation:\\n    %0.2f (+/- %0.2f)\" % (score.mean(), score.std()))\n",
    "print(score)\n",
    "\n",
    "print('--KNN Model Results--\\n')\n",
    "print('Training Accuracy:\\n   ', knn.score(X_train, y_train))\n",
    "print('Testing Accuracy:\\n   ', knn.score(X_test, y_test))\n",
    "\n",
    "t= round((time.time() - start_time),4)\n",
    "print(\"\\n- %s seconds -\" % t)"
   ]
  },
  {
   "cell_type": "markdown",
   "metadata": {},
   "source": [
    "Oddly enough, it seems the default paramters actually yield the highest cross validation score!"
   ]
  },
  {
   "cell_type": "code",
   "execution_count": null,
   "metadata": {},
   "outputs": [],
   "source": []
  },
  {
   "cell_type": "markdown",
   "metadata": {},
   "source": [
    "Since K Nearest Neighbors doesn't support feature importance, we will run the ensemble Gradient Boosting model to best estimate our most important features. We'll start with a grid search to identify the best parameters:"
   ]
  },
  {
   "cell_type": "code",
   "execution_count": 18,
   "metadata": {
    "scrolled": false
   },
   "outputs": [
    {
     "name": "stdout",
     "output_type": "stream",
     "text": [
      "Processing...\n",
      "\n",
      " -- 1198.166 seconds for model fit --\n",
      "Best Parameters:\n",
      "  {'gradientboostingclassifier__loss': 'exponential', 'gradientboostingclassifier__max_depth': 6, 'gradientboostingclassifier__max_features': 4, 'gradientboostingclassifier__n_estimators': 100, 'gradientboostingclassifier__n_iter_no_change': 1, 'gradientboostingclassifier__random_state': 1337, 'gradientboostingclassifier__warm_start': True}\n",
      "Refit:  True\n",
      "\n",
      "Training Accuracy:\n",
      "    0.8786764705882353\n",
      "Testing Accuracy:\n",
      "    0.7741935483870968\n",
      "\n",
      " -- 0.0018 seconds for results--\n"
     ]
    }
   ],
   "source": [
    "print('Processing...')\n",
    "\n",
    "start_time = time.time()\n",
    "\n",
    "# Declare data preprocessing steps\n",
    "pipeline = make_pipeline(preprocessing.StandardScaler(), \n",
    "                         ensemble.GradientBoostingClassifier())\n",
    "\n",
    "split = StratifiedShuffleSplit(n_splits=10, random_state=1337)\n",
    "\n",
    "# Declare hyperparameters to tune\n",
    "hyperparameters = {'gradientboostingclassifier__n_estimators' : [100,500,1000,2000],\n",
    "                  'gradientboostingclassifier__max_depth' : [1,2,3,4,5,6],\n",
    "                  'gradientboostingclassifier__max_features': [1,2,3,4,5,6],\n",
    "                  'gradientboostingclassifier__loss': ['deviance', 'exponential'],\n",
    "                  'gradientboostingclassifier__random_state': [1337],\n",
    "                  'gradientboostingclassifier__warm_start': [True],\n",
    "                  'gradientboostingclassifier__n_iter_no_change' : [None, 1]\n",
    "                  }\n",
    " \n",
    "# Tune model using cross-validation pipeline\n",
    "gbc = GridSearchCV(estimator=pipeline,param_grid=hyperparameters, cv=split)\n",
    "gbc.fit(X_train, y_train)\n",
    "\n",
    "t= round((time.time() - start_time),4)\n",
    "print(\"\\n -- %s seconds for model fit --\" % t)\n",
    "                                                    \n",
    "start_time = time.time()\n",
    "                                                    \n",
    "# Refit on the entire training set\n",
    "# No additional code needed if clf.refit == True (default is True)\n",
    "print('Best Parameters:\\n ', gbc.best_params_)\n",
    "print('Refit: ', gbc.refit)\n",
    " \n",
    "# Evaluate model pipeline on test data\n",
    "print('\\nTraining Accuracy:\\n   ', gbc.score(X_train, y_train))\n",
    "print('Testing Accuracy:\\n   ', gbc.score(X_test, y_test))\n",
    "\n",
    "#score = cross_val_score(knn, X_test, y_test, cv=split)\n",
    "#print('\\nCross Validation:\\n    %0.2f +/- %0.2f' %(score.mean(),score.std()))\n",
    "#print('MSE:\\n ',mean_squared_error(y_test, y_pred))\n",
    "\n",
    "t= round((time.time() - start_time),4)\n",
    "print(\"\\n -- %s seconds for results--\" % t)"
   ]
  },
  {
   "cell_type": "markdown",
   "metadata": {},
   "source": [
    "Now we'll fit the model with the ideintified parameters:"
   ]
  },
  {
   "cell_type": "code",
   "execution_count": 24,
   "metadata": {},
   "outputs": [
    {
     "name": "stdout",
     "output_type": "stream",
     "text": [
      "--Random Forest Model Results--\n",
      "Training Accuracy:\n",
      "    0.8786764705882353\n",
      "Testing Accuracy:\n",
      "    0.7741935483870968\n",
      "\n",
      "Cross Validation:\n",
      "    0.72 +/- 0.13\n",
      "\n",
      "- 0.073 seconds -\n"
     ]
    }
   ],
   "source": [
    "start_time = time.time()\n",
    "\n",
    "# Initialize and fit our forrest of trees\n",
    "gbc = ensemble.GradientBoostingClassifier(loss='exponential',\n",
    "                                          max_depth=6,max_features=4,\n",
    "                                          n_estimators=100,\n",
    "                                          n_iter_no_change=1 ,\n",
    "                                          random_state=1337,\n",
    "                                          warm_start=True)\n",
    "gbc = gbc.fit(X_train, y_train)\n",
    "\n",
    "print('--Random Forest Model Results--')\n",
    "print('Training Accuracy:\\n   ', gbc.score(X_train, y_train))\n",
    "print('Testing Accuracy:\\n   ', gbc.score(X_test, y_test))\n",
    "\n",
    "score = cross_val_score(gbc, X_test, y_test, cv=split,scoring='accuracy')\n",
    "print('\\nCross Validation:\\n    %0.2f +/- %0.2f' %(score.mean(),score.std()))\n",
    "\n",
    "t= round((time.time() - start_time),4)\n",
    "print(\"\\n- %s seconds -\" % t)"
   ]
  },
  {
   "cell_type": "markdown",
   "metadata": {},
   "source": [
    "And get our most important variables:"
   ]
  },
  {
   "cell_type": "code",
   "execution_count": 25,
   "metadata": {},
   "outputs": [
    {
     "data": {
      "image/png": "[encoded data removed]",
      "text/plain": [
       "<Figure size 432x288 with 1 Axes>"
      ]
     },
     "metadata": {
      "needs_background": "light"
     },
     "output_type": "display_data"
    }
   ],
   "source": [
    "feature_importance = gbc.feature_importances_\n",
    "\n",
    "# Make importances relative to max importance.\n",
    "feature_importance = 100.0 * (feature_importance / feature_importance.max())\n",
    "sorted_idx = np.argsort(feature_importance)\n",
    "pos = np.arange(sorted_idx.shape[0]) + .5\n",
    "plt.subplot(1, 2, 2)\n",
    "plt.barh(pos, feature_importance[sorted_idx], align='center')\n",
    "plt.yticks(pos, X.columns[sorted_idx])\n",
    "plt.xlabel('Relative Importance')\n",
    "plt.title('ABC Variable Importance')\n",
    "plt.show()"
   ]
  },
  {
   "cell_type": "markdown",
   "metadata": {},
   "source": [
    "Looks like max_hr is our most important variable by a significant margin, followed by slope_st_depress, and our engineered feature f1!"
   ]
  },
  {
   "cell_type": "code",
   "execution_count": 16,
   "metadata": {},
   "outputs": [],
   "source": [
    "#attempted without scaling X\n",
    "#attempted class balancing on \"sex\"\n",
    "#attempted heart_dum without selecting specific features\n",
    "#attempted heart without creating dumming or selecting specific features\n",
    "#attempted scaling X before train/test split"
   ]
  },
  {
   "cell_type": "code",
   "execution_count": 17,
   "metadata": {},
   "outputs": [],
   "source": [
    "#conclusion, more data, obstacles"
   ]
  },
  {
   "cell_type": "code",
   "execution_count": null,
   "metadata": {},
   "outputs": [],
   "source": [
    "for classifier use only model.score(X_test,y_test)\n",
    "for regressor use model.score and mse\n",
    "compare dummifying the categorical features"
   ]
  }
 ],
 "metadata": {
  "kernelspec": {
   "display_name": "Python 3",
   "language": "python",
   "name": "python3"
  },
  "language_info": {
   "codemirror_mode": {
    "name": "ipython",
    "version": 3
   },
   "file_extension": ".py",
   "mimetype": "text/x-python",
   "name": "python",
   "nbconvert_exporter": "python",
   "pygments_lexer": "ipython3",
   "version": "3.7.2"
  }
 },
 "nbformat": 4,
 "nbformat_minor": 2
}
