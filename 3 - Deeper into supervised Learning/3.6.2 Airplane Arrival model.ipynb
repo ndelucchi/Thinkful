{
 "cells": [
  {
   "cell_type": "code",
   "execution_count": 1,
   "metadata": {},
   "outputs": [],
   "source": [
    "import pandas as pd\n",
    "import numpy as np\n",
    "import seaborn as sns\n",
    "import matplotlib.pyplot as plt\n",
    "import time\n",
    "\n",
    "from datetime import datetime as dt\n",
    "from sklearn.model_selection import train_test_split\n",
    "from sklearn.model_selection import cross_val_score\n",
    "from sklearn import ensemble\n",
    "%matplotlib inline"
   ]
  },
  {
   "cell_type": "code",
   "execution_count": 2,
   "metadata": {},
   "outputs": [
    {
     "name": "stdout",
     "output_type": "stream",
     "text": [
      "--- 20.40904998779297 seconds ---\n"
     ]
    }
   ],
   "source": [
    "start_time = time.time()\n",
    "flights = pd.read_csv('2008.csv')\n",
    "print('--- {} seconds ---'.format(time.time()-start_time))\n",
    "flights1 = flights\n",
    "#print(flights.info())"
   ]
  },
  {
   "cell_type": "code",
   "execution_count": 16,
   "metadata": {},
   "outputs": [
    {
     "name": "stdout",
     "output_type": "stream",
     "text": [
      "0    2211.0\n",
      "1    1002.0\n",
      "2     804.0\n",
      "3    1054.0\n",
      "4    1959.0\n",
      "Name: ArrTime, dtype: float64\n"
     ]
    }
   ],
   "source": [
    "print(flights1['ArrTime'].head())"
   ]
  },
  {
   "cell_type": "code",
   "execution_count": 81,
   "metadata": {},
   "outputs": [
    {
     "name": "stderr",
     "output_type": "stream",
     "text": [
      "/Users/nickdelucchi/anaconda3/lib/python3.7/site-packages/ipykernel_launcher.py:14: SettingWithCopyWarning: \n",
      "A value is trying to be set on a copy of a slice from a DataFrame.\n",
      "Try using .loc[row_indexer,col_indexer] = value instead\n",
      "\n",
      "See the caveats in the documentation: http://pandas.pydata.org/pandas-docs/stable/indexing.html#indexing-view-versus-copy\n",
      "  \n",
      "/Users/nickdelucchi/anaconda3/lib/python3.7/site-packages/ipykernel_launcher.py:17: SettingWithCopyWarning: \n",
      "A value is trying to be set on a copy of a slice from a DataFrame.\n",
      "Try using .loc[row_indexer,col_indexer] = value instead\n",
      "\n",
      "See the caveats in the documentation: http://pandas.pydata.org/pandas-docs/stable/indexing.html#indexing-view-versus-copy\n",
      "/Users/nickdelucchi/anaconda3/lib/python3.7/site-packages/ipykernel_launcher.py:20: SettingWithCopyWarning: \n",
      "A value is trying to be set on a copy of a slice from a DataFrame.\n",
      "Try using .loc[row_indexer,col_indexer] = value instead\n",
      "\n",
      "See the caveats in the documentation: http://pandas.pydata.org/pandas-docs/stable/indexing.html#indexing-view-versus-copy\n"
     ]
    },
    {
     "name": "stdout",
     "output_type": "stream",
     "text": [
      "--- 15.093092918395996 seconds ---\n"
     ]
    },
    {
     "name": "stderr",
     "output_type": "stream",
     "text": [
      "/Users/nickdelucchi/anaconda3/lib/python3.7/site-packages/ipykernel_launcher.py:22: SettingWithCopyWarning: \n",
      "A value is trying to be set on a copy of a slice from a DataFrame.\n",
      "Try using .loc[row_indexer,col_indexer] = value instead\n",
      "\n",
      "See the caveats in the documentation: http://pandas.pydata.org/pandas-docs/stable/indexing.html#indexing-view-versus-copy\n"
     ]
    },
    {
     "data": {
      "text/plain": [
       "0    2211\n",
       "1    1002\n",
       "2    0804\n",
       "3    1054\n",
       "4    1959\n",
       "Name: ArrTime, dtype: object"
      ]
     },
     "execution_count": 81,
     "metadata": {},
     "output_type": "execute_result"
    }
   ],
   "source": [
    "start_time = time.time()\n",
    "\n",
    "# to reset df\n",
    "flights1 = flights\n",
    "\n",
    "columns = ['ArrTime', 'DepTime','CRSDepTime','CRSArrTime']\n",
    "\n",
    "#for item in columns:\n",
    "\n",
    "# drops all rows with NA in select columns \n",
    "flights1 = flights1.dropna(subset=columns)\n",
    "\n",
    "# convert float type to int type to remove decimal place\n",
    "flights1['ArrTime'] = flights1.ArrTime.astype(int)\n",
    "\n",
    "# convert int type to str type to prep for date time manipulation\n",
    "flights1['ArrTime'] = flights1['ArrTime'].astype('str')\n",
    "\n",
    "# pad the left side of the string with '0's to max length of 4 chars  \n",
    "flights1['ArrTime'] = flights1['ArrTime'].str.pad(width=4, side='left',fillchar='0') \n",
    "\n",
    "flights1['ArrTime'] = flights1['ArrTime'].str.replace('2400','0000')\n",
    "\n",
    "# convert string to datetime\n",
    "#flights1['ArrTime'] = pd.to_datetime(flights1['ArrTime'], format = '%H%M')\n",
    "#flights1['ArrTime'] = flights1['ArrTime'].apply(lambda x: dt.strptime(x, '%H%M'))\n",
    "\n",
    "print('--- {} seconds ---'.format(time.time()-start_time))\n",
    "\n",
    "flights1['ArrTime'].head()"
   ]
  },
  {
   "cell_type": "code",
   "execution_count": 57,
   "metadata": {
    "code_folding": [
     2,
     12,
     28,
     37
    ]
   },
   "outputs": [
    {
     "name": "stdout",
     "output_type": "stream",
     "text": [
      "Starting progress monitor\n",
      "10 iterations done\n",
      "20 iterations done\n",
      "30 iterations done\n",
      "40 iterations done\n",
      "50 iterations done\n",
      "60 iterations done\n",
      "70 iterations done\n",
      "80 iterations done\n",
      "90 iterations done\n",
      "100 iterations done\n",
      "110 iterations done\n",
      "120 iterations done\n",
      "130 iterations done\n",
      "140 iterations done\n",
      "150 iterations done\n",
      "160 iterations done\n",
      "170 iterations done\n",
      "180 iterations done\n",
      "190 iterations done\n",
      "200 iterations done\n",
      "210 iterations done\n",
      "220 iterations done\n",
      "230 iterations done\n",
      "240 iterations done\n",
      "250 iterations done\n",
      "260 iterations done\n",
      "270 iterations done\n",
      "280 iterations done\n",
      "290 iterations done\n",
      "300 iterations done\n",
      "310 iterations done\n",
      "320 iterations done\n",
      "330 iterations done\n",
      "340 iterations done\n",
      "350 iterations done\n",
      "360 iterations done\n",
      "370 iterations done\n",
      "380 iterations done\n",
      "390 iterations done\n",
      "400 iterations done\n",
      "410 iterations done\n",
      "420 iterations done\n",
      "430 iterations done\n",
      "440 iterations done\n",
      "450 iterations done\n",
      "460 iterations done\n",
      "470 iterations done\n",
      "480 iterations done\n",
      "490 iterations done\n",
      "500 iterations done\n",
      "510 iterations done\n",
      "520 iterations done\n",
      "530 iterations done\n",
      "540 iterations done\n",
      "550 iterations done\n",
      "560 iterations done\n",
      "570 iterations done\n",
      "580 iterations done\n",
      "590 iterations done\n",
      "600 iterations done\n",
      "610 iterations done\n",
      "620 iterations done\n",
      "630 iterations done\n",
      "640 iterations done\n",
      "650 iterations done\n",
      "660 iterations done\n",
      "670 iterations done\n",
      "680 iterations done\n",
      "690 iterations done\n",
      "700 iterations done\n",
      "710 iterations done\n",
      "720 iterations done\n",
      "730 iterations done\n",
      "740 iterations done\n",
      "750 iterations done\n",
      "760 iterations done\n",
      "770 iterations done\n",
      "780 iterations done\n",
      "790 iterations done\n",
      "800 iterations done\n",
      "810 iterations done\n",
      "820 iterations done\n",
      "830 iterations done\n",
      "840 iterations done\n",
      "850 iterations done\n",
      "860 iterations done\n",
      "870 iterations done\n",
      "880 iterations done\n",
      "890 iterations done\n",
      "900 iterations done\n",
      "910 iterations done\n",
      "920 iterations done\n",
      "930 iterations done\n",
      "940 iterations done\n",
      "950 iterations done\n",
      "960 iterations done\n",
      "970 iterations done\n",
      "980 iterations done\n",
      "990 iterations done\n",
      "1000 iterations done\n",
      "1010 iterations done\n",
      "1020 iterations done\n",
      "1030 iterations done\n",
      "1040 iterations done\n",
      "1050 iterations done\n",
      "1060 iterations done\n",
      "1070 iterations done\n",
      "1080 iterations done\n",
      "1090 iterations done\n",
      "1100 iterations done\n",
      "1110 iterations done\n",
      "1120 iterations done\n",
      "1130 iterations done\n",
      "1140 iterations done\n",
      "1150 iterations done\n",
      "1160 iterations done\n",
      "1170 iterations done\n",
      "1180 iterations done\n",
      "1190 iterations done\n",
      "1200 iterations done\n",
      "1210 iterations done\n",
      "1220 iterations done\n",
      "1230 iterations done\n",
      "1240 iterations done\n",
      "1250 iterations done\n",
      "1260 iterations done\n",
      "1270 iterations done\n",
      "1280 iterations done\n",
      "1290 iterations done\n",
      "1300 iterations done\n",
      "1310 iterations done\n",
      "1320 iterations done\n",
      "1330 iterations done\n",
      "1340 iterations done\n",
      "1350 iterations done\n",
      "1360 iterations done\n",
      "1370 iterations done\n",
      "1380 iterations done\n",
      "1390 iterations done\n",
      "1400 iterations done\n",
      "1410 iterations done\n",
      "1420 iterations done\n",
      "1430 iterations done\n",
      "1440 iterations done\n",
      "1450 iterations done\n",
      "1460 iterations done\n",
      "1470 iterations done\n",
      "1480 iterations done\n",
      "1490 iterations done\n",
      "1500 iterations done\n",
      "1510 iterations done\n",
      "1520 iterations done\n",
      "1530 iterations done\n",
      "1540 iterations done\n",
      "1550 iterations done\n",
      "1560 iterations done\n",
      "1570 iterations done\n",
      "1580 iterations done\n",
      "1590 iterations done\n",
      "1600 iterations done\n",
      "1610 iterations done\n",
      "1620 iterations done\n",
      "1630 iterations done\n",
      "1640 iterations done\n",
      "1650 iterations done\n",
      "1660 iterations done\n",
      "1670 iterations done\n",
      "1680 iterations done\n",
      "1690 iterations done\n",
      "1700 iterations done\n",
      "1710 iterations done\n",
      "1720 iterations done\n",
      "1730 iterations done\n"
     ]
    },
    {
     "ename": "ValueError",
     "evalue": "unconverted data remains: 0",
     "output_type": "error",
     "traceback": [
      "\u001b[0;31m---------------------------------------------------------------------------\u001b[0m",
      "\u001b[0;31mValueError\u001b[0m                                Traceback (most recent call last)",
      "\u001b[0;32m<ipython-input-57-9512a536b145>\u001b[0m in \u001b[0;36m<module>\u001b[0;34m\u001b[0m\n\u001b[1;32m     42\u001b[0m \u001b[0mco1\u001b[0m \u001b[0;34m=\u001b[0m \u001b[0mprogress_coroutine\u001b[0m\u001b[0;34m(\u001b[0m\u001b[0;34m)\u001b[0m\u001b[0;34m\u001b[0m\u001b[0;34m\u001b[0m\u001b[0m\n\u001b[1;32m     43\u001b[0m \u001b[0;31m#co2 = percentage_coroutine(len(data_series))\u001b[0m\u001b[0;34m\u001b[0m\u001b[0;34m\u001b[0m\u001b[0;34m\u001b[0m\u001b[0m\n\u001b[0;32m---> 44\u001b[0;31m \u001b[0mflights1\u001b[0m\u001b[0;34m[\u001b[0m\u001b[0;34m'ArrTime'\u001b[0m\u001b[0;34m]\u001b[0m\u001b[0;34m.\u001b[0m\u001b[0mapply\u001b[0m\u001b[0;34m(\u001b[0m\u001b[0mtrace_progress\u001b[0m\u001b[0;34m(\u001b[0m\u001b[0;32mlambda\u001b[0m \u001b[0mx\u001b[0m\u001b[0;34m:\u001b[0m \u001b[0mdt\u001b[0m\u001b[0;34m.\u001b[0m\u001b[0mstrptime\u001b[0m\u001b[0;34m(\u001b[0m\u001b[0mx\u001b[0m\u001b[0;34m,\u001b[0m \u001b[0;34m'%H%M'\u001b[0m\u001b[0;34m)\u001b[0m\u001b[0;34m,\u001b[0m \u001b[0mprogress\u001b[0m \u001b[0;34m=\u001b[0m \u001b[0mco1\u001b[0m\u001b[0;34m)\u001b[0m\u001b[0;34m)\u001b[0m\u001b[0;34m\u001b[0m\u001b[0;34m\u001b[0m\u001b[0m\n\u001b[0m\u001b[1;32m     45\u001b[0m \u001b[0;31m#data_series.apply(trace_progress(my_func, progress = co2))\u001b[0m\u001b[0;34m\u001b[0m\u001b[0;34m\u001b[0m\u001b[0;34m\u001b[0m\u001b[0m\n",
      "\u001b[0;32m~/anaconda3/lib/python3.7/site-packages/pandas/core/series.py\u001b[0m in \u001b[0;36mapply\u001b[0;34m(self, func, convert_dtype, args, **kwds)\u001b[0m\n\u001b[1;32m   3192\u001b[0m             \u001b[0;32melse\u001b[0m\u001b[0;34m:\u001b[0m\u001b[0;34m\u001b[0m\u001b[0;34m\u001b[0m\u001b[0m\n\u001b[1;32m   3193\u001b[0m                 \u001b[0mvalues\u001b[0m \u001b[0;34m=\u001b[0m \u001b[0mself\u001b[0m\u001b[0;34m.\u001b[0m\u001b[0mastype\u001b[0m\u001b[0;34m(\u001b[0m\u001b[0mobject\u001b[0m\u001b[0;34m)\u001b[0m\u001b[0;34m.\u001b[0m\u001b[0mvalues\u001b[0m\u001b[0;34m\u001b[0m\u001b[0;34m\u001b[0m\u001b[0m\n\u001b[0;32m-> 3194\u001b[0;31m                 \u001b[0mmapped\u001b[0m \u001b[0;34m=\u001b[0m \u001b[0mlib\u001b[0m\u001b[0;34m.\u001b[0m\u001b[0mmap_infer\u001b[0m\u001b[0;34m(\u001b[0m\u001b[0mvalues\u001b[0m\u001b[0;34m,\u001b[0m \u001b[0mf\u001b[0m\u001b[0;34m,\u001b[0m \u001b[0mconvert\u001b[0m\u001b[0;34m=\u001b[0m\u001b[0mconvert_dtype\u001b[0m\u001b[0;34m)\u001b[0m\u001b[0;34m\u001b[0m\u001b[0;34m\u001b[0m\u001b[0m\n\u001b[0m\u001b[1;32m   3195\u001b[0m \u001b[0;34m\u001b[0m\u001b[0m\n\u001b[1;32m   3196\u001b[0m         \u001b[0;32mif\u001b[0m \u001b[0mlen\u001b[0m\u001b[0;34m(\u001b[0m\u001b[0mmapped\u001b[0m\u001b[0;34m)\u001b[0m \u001b[0;32mand\u001b[0m \u001b[0misinstance\u001b[0m\u001b[0;34m(\u001b[0m\u001b[0mmapped\u001b[0m\u001b[0;34m[\u001b[0m\u001b[0;36m0\u001b[0m\u001b[0;34m]\u001b[0m\u001b[0;34m,\u001b[0m \u001b[0mSeries\u001b[0m\u001b[0;34m)\u001b[0m\u001b[0;34m:\u001b[0m\u001b[0;34m\u001b[0m\u001b[0;34m\u001b[0m\u001b[0m\n",
      "\u001b[0;32mpandas/_libs/src/inference.pyx\u001b[0m in \u001b[0;36mpandas._libs.lib.map_infer\u001b[0;34m()\u001b[0m\n",
      "\u001b[0;32m<ipython-input-57-9512a536b145>\u001b[0m in \u001b[0;36mcallf\u001b[0;34m(*args, **kwargs)\u001b[0m\n\u001b[1;32m     32\u001b[0m             \u001b[0mprogress\u001b[0m\u001b[0;34m.\u001b[0m\u001b[0msend\u001b[0m\u001b[0;34m(\u001b[0m\u001b[0;32mNone\u001b[0m\u001b[0;34m)\u001b[0m\u001b[0;34m\u001b[0m\u001b[0;34m\u001b[0m\u001b[0m\n\u001b[1;32m     33\u001b[0m \u001b[0;34m\u001b[0m\u001b[0m\n\u001b[0;32m---> 34\u001b[0;31m         \u001b[0;32mreturn\u001b[0m \u001b[0mfunc\u001b[0m\u001b[0;34m(\u001b[0m\u001b[0;34m*\u001b[0m\u001b[0margs\u001b[0m\u001b[0;34m,\u001b[0m \u001b[0;34m**\u001b[0m\u001b[0mkwargs\u001b[0m\u001b[0;34m)\u001b[0m\u001b[0;34m\u001b[0m\u001b[0;34m\u001b[0m\u001b[0m\n\u001b[0m\u001b[1;32m     35\u001b[0m \u001b[0;34m\u001b[0m\u001b[0m\n\u001b[1;32m     36\u001b[0m     \u001b[0;32mreturn\u001b[0m \u001b[0mcallf\u001b[0m\u001b[0;34m\u001b[0m\u001b[0;34m\u001b[0m\u001b[0m\n",
      "\u001b[0;32m<ipython-input-57-9512a536b145>\u001b[0m in \u001b[0;36m<lambda>\u001b[0;34m(x)\u001b[0m\n\u001b[1;32m     42\u001b[0m \u001b[0mco1\u001b[0m \u001b[0;34m=\u001b[0m \u001b[0mprogress_coroutine\u001b[0m\u001b[0;34m(\u001b[0m\u001b[0;34m)\u001b[0m\u001b[0;34m\u001b[0m\u001b[0;34m\u001b[0m\u001b[0m\n\u001b[1;32m     43\u001b[0m \u001b[0;31m#co2 = percentage_coroutine(len(data_series))\u001b[0m\u001b[0;34m\u001b[0m\u001b[0;34m\u001b[0m\u001b[0;34m\u001b[0m\u001b[0m\n\u001b[0;32m---> 44\u001b[0;31m \u001b[0mflights1\u001b[0m\u001b[0;34m[\u001b[0m\u001b[0;34m'ArrTime'\u001b[0m\u001b[0;34m]\u001b[0m\u001b[0;34m.\u001b[0m\u001b[0mapply\u001b[0m\u001b[0;34m(\u001b[0m\u001b[0mtrace_progress\u001b[0m\u001b[0;34m(\u001b[0m\u001b[0;32mlambda\u001b[0m \u001b[0mx\u001b[0m\u001b[0;34m:\u001b[0m \u001b[0mdt\u001b[0m\u001b[0;34m.\u001b[0m\u001b[0mstrptime\u001b[0m\u001b[0;34m(\u001b[0m\u001b[0mx\u001b[0m\u001b[0;34m,\u001b[0m \u001b[0;34m'%H%M'\u001b[0m\u001b[0;34m)\u001b[0m\u001b[0;34m,\u001b[0m \u001b[0mprogress\u001b[0m \u001b[0;34m=\u001b[0m \u001b[0mco1\u001b[0m\u001b[0;34m)\u001b[0m\u001b[0;34m)\u001b[0m\u001b[0;34m\u001b[0m\u001b[0;34m\u001b[0m\u001b[0m\n\u001b[0m\u001b[1;32m     45\u001b[0m \u001b[0;31m#data_series.apply(trace_progress(my_func, progress = co2))\u001b[0m\u001b[0;34m\u001b[0m\u001b[0;34m\u001b[0m\u001b[0;34m\u001b[0m\u001b[0m\n",
      "\u001b[0;32m~/anaconda3/lib/python3.7/_strptime.py\u001b[0m in \u001b[0;36m_strptime_datetime\u001b[0;34m(cls, data_string, format)\u001b[0m\n\u001b[1;32m    575\u001b[0m     \"\"\"Return a class cls instance based on the input string and the\n\u001b[1;32m    576\u001b[0m     format string.\"\"\"\n\u001b[0;32m--> 577\u001b[0;31m     \u001b[0mtt\u001b[0m\u001b[0;34m,\u001b[0m \u001b[0mfraction\u001b[0m\u001b[0;34m,\u001b[0m \u001b[0mgmtoff_fraction\u001b[0m \u001b[0;34m=\u001b[0m \u001b[0m_strptime\u001b[0m\u001b[0;34m(\u001b[0m\u001b[0mdata_string\u001b[0m\u001b[0;34m,\u001b[0m \u001b[0mformat\u001b[0m\u001b[0;34m)\u001b[0m\u001b[0;34m\u001b[0m\u001b[0;34m\u001b[0m\u001b[0m\n\u001b[0m\u001b[1;32m    578\u001b[0m     \u001b[0mtzname\u001b[0m\u001b[0;34m,\u001b[0m \u001b[0mgmtoff\u001b[0m \u001b[0;34m=\u001b[0m \u001b[0mtt\u001b[0m\u001b[0;34m[\u001b[0m\u001b[0;34m-\u001b[0m\u001b[0;36m2\u001b[0m\u001b[0;34m:\u001b[0m\u001b[0;34m]\u001b[0m\u001b[0;34m\u001b[0m\u001b[0;34m\u001b[0m\u001b[0m\n\u001b[1;32m    579\u001b[0m     \u001b[0margs\u001b[0m \u001b[0;34m=\u001b[0m \u001b[0mtt\u001b[0m\u001b[0;34m[\u001b[0m\u001b[0;34m:\u001b[0m\u001b[0;36m6\u001b[0m\u001b[0;34m]\u001b[0m \u001b[0;34m+\u001b[0m \u001b[0;34m(\u001b[0m\u001b[0mfraction\u001b[0m\u001b[0;34m,\u001b[0m\u001b[0;34m)\u001b[0m\u001b[0;34m\u001b[0m\u001b[0;34m\u001b[0m\u001b[0m\n",
      "\u001b[0;32m~/anaconda3/lib/python3.7/_strptime.py\u001b[0m in \u001b[0;36m_strptime\u001b[0;34m(data_string, format)\u001b[0m\n\u001b[1;32m    360\u001b[0m     \u001b[0;32mif\u001b[0m \u001b[0mlen\u001b[0m\u001b[0;34m(\u001b[0m\u001b[0mdata_string\u001b[0m\u001b[0;34m)\u001b[0m \u001b[0;34m!=\u001b[0m \u001b[0mfound\u001b[0m\u001b[0;34m.\u001b[0m\u001b[0mend\u001b[0m\u001b[0;34m(\u001b[0m\u001b[0;34m)\u001b[0m\u001b[0;34m:\u001b[0m\u001b[0;34m\u001b[0m\u001b[0;34m\u001b[0m\u001b[0m\n\u001b[1;32m    361\u001b[0m         raise ValueError(\"unconverted data remains: %s\" %\n\u001b[0;32m--> 362\u001b[0;31m                           data_string[found.end():])\n\u001b[0m\u001b[1;32m    363\u001b[0m \u001b[0;34m\u001b[0m\u001b[0m\n\u001b[1;32m    364\u001b[0m     \u001b[0miso_year\u001b[0m \u001b[0;34m=\u001b[0m \u001b[0myear\u001b[0m \u001b[0;34m=\u001b[0m \u001b[0;32mNone\u001b[0m\u001b[0;34m\u001b[0m\u001b[0;34m\u001b[0m\u001b[0m\n",
      "\u001b[0;31mValueError\u001b[0m: unconverted data remains: 0"
     ]
    }
   ],
   "source": [
    "#from pandas import Series\n",
    "\n",
    "def progress_coroutine(print_on = 10):\n",
    "    print (\"Starting progress monitor\")\n",
    "\n",
    "    iterations = 0\n",
    "    while True:\n",
    "        yield\n",
    "        iterations += 1\n",
    "        if (iterations % print_on == 0):\n",
    "            print (\"{} iterations done\".format(iterations))\n",
    "\n",
    "def percentage_coroutine(to_process, print_on_percent = 0.10):\n",
    "    print (\"Starting progress percentage monitor\")\n",
    "\n",
    "    processed = 0\n",
    "    count = 0\n",
    "    print_count = to_process*print_on_percent\n",
    "    while True:\n",
    "        yield\n",
    "        processed += 1\n",
    "        count += 1\n",
    "        if (count >= print_count):\n",
    "            count = 0\n",
    "            pct = (float(processed)/float(to_process))*100\n",
    "\n",
    "            print (\"{}% finished\".format(pct))\n",
    "\n",
    "def trace_progress(func, progress = None):\n",
    "    def callf(*args, **kwargs):\n",
    "        if (progress is not None):\n",
    "            progress.send(None)\n",
    "\n",
    "        return func(*args, **kwargs)\n",
    "\n",
    "    return callf\n",
    "\n",
    "def my_func(i):\n",
    "    return i ** 2\n",
    "\n",
    "#data_series = Series(list(range(100)))\n",
    "co1 = progress_coroutine()\n",
    "#co2 = percentage_coroutine(len(data_series))\n",
    "flights1['ArrTime'].apply(trace_progress(lambda x: dt.strptime(x, '%H%M'), progress = co1))\n",
    "#data_series.apply(trace_progress(my_func, progress = co2))"
   ]
  },
  {
   "cell_type": "code",
   "execution_count": 82,
   "metadata": {},
   "outputs": [
    {
     "name": "stderr",
     "output_type": "stream",
     "text": [
      "/Users/nickdelucchi/anaconda3/lib/python3.7/site-packages/ipykernel_launcher.py:7: SettingWithCopyWarning: \n",
      "A value is trying to be set on a copy of a slice from a DataFrame.\n",
      "Try using .loc[row_indexer,col_indexer] = value instead\n",
      "\n",
      "See the caveats in the documentation: http://pandas.pydata.org/pandas-docs/stable/indexing.html#indexing-view-versus-copy\n",
      "  import sys\n"
     ]
    }
   ],
   "source": [
    "#print(flights1['ArrTime'].iloc[1739])\n",
    "#k = dt.strptime(flights1['ArrTime'].iloc[1739],'%H%M')\n",
    "#k = dt.strptime('0000','%H%M')\n",
    "#print(k)\n",
    "# convert string to datetime\n",
    "#flights1['ArrTime'] = flights1['ArrTime'].apply(lambda x: pd.to_datetime(x, '%H%M'))\n",
    "flights1['ArrTime'] = flights1['ArrTime'].apply(lambda x: dt.strptime(x, '%H%M'))"
   ]
  },
  {
   "cell_type": "code",
   "execution_count": 83,
   "metadata": {},
   "outputs": [
    {
     "data": {
      "text/plain": [
       "0   1900-01-01 22:11:00\n",
       "1   1900-01-01 10:02:00\n",
       "2   1900-01-01 08:04:00\n",
       "3   1900-01-01 10:54:00\n",
       "4   1900-01-01 19:59:00\n",
       "Name: ArrTime, dtype: datetime64[ns]"
      ]
     },
     "execution_count": 83,
     "metadata": {},
     "output_type": "execute_result"
    }
   ],
   "source": [
    "flights1['ArrTime'].head()"
   ]
  },
  {
   "cell_type": "code",
   "execution_count": 19,
   "metadata": {
    "scrolled": false
   },
   "outputs": [
    {
     "data": {
      "text/html": [
       "<div>\n",
       "<style scoped>\n",
       "    .dataframe tbody tr th:only-of-type {\n",
       "        vertical-align: middle;\n",
       "    }\n",
       "\n",
       "    .dataframe tbody tr th {\n",
       "        vertical-align: top;\n",
       "    }\n",
       "\n",
       "    .dataframe thead th {\n",
       "        text-align: right;\n",
       "    }\n",
       "</style>\n",
       "<table border=\"1\" class=\"dataframe\">\n",
       "  <thead>\n",
       "    <tr style=\"text-align: right;\">\n",
       "      <th></th>\n",
       "      <th>Year</th>\n",
       "      <th>Month</th>\n",
       "      <th>DayofMonth</th>\n",
       "      <th>DayOfWeek</th>\n",
       "      <th>DepTime</th>\n",
       "      <th>CRSDepTime</th>\n",
       "      <th>ArrTime</th>\n",
       "      <th>CRSArrTime</th>\n",
       "      <th>UniqueCarrier</th>\n",
       "      <th>FlightNum</th>\n",
       "      <th>...</th>\n",
       "      <th>TaxiIn</th>\n",
       "      <th>TaxiOut</th>\n",
       "      <th>Cancelled</th>\n",
       "      <th>CancellationCode</th>\n",
       "      <th>Diverted</th>\n",
       "      <th>CarrierDelay</th>\n",
       "      <th>WeatherDelay</th>\n",
       "      <th>NASDelay</th>\n",
       "      <th>SecurityDelay</th>\n",
       "      <th>LateAircraftDelay</th>\n",
       "    </tr>\n",
       "  </thead>\n",
       "  <tbody>\n",
       "  </tbody>\n",
       "</table>\n",
       "<p>0 rows × 29 columns</p>\n",
       "</div>"
      ],
      "text/plain": [
       "Empty DataFrame\n",
       "Columns: [Year, Month, DayofMonth, DayOfWeek, DepTime, CRSDepTime, ArrTime, CRSArrTime, UniqueCarrier, FlightNum, TailNum, ActualElapsedTime, CRSElapsedTime, AirTime, ArrDelay, DepDelay, Origin, Dest, Distance, TaxiIn, TaxiOut, Cancelled, CancellationCode, Diverted, CarrierDelay, WeatherDelay, NASDelay, SecurityDelay, LateAircraftDelay]\n",
       "Index: []\n",
       "\n",
       "[0 rows x 29 columns]"
      ]
     },
     "execution_count": 19,
     "metadata": {},
     "output_type": "execute_result"
    }
   ],
   "source": [
    "flights1[flights1['ArrTime'] == '0']"
   ]
  },
  {
   "cell_type": "code",
   "execution_count": 42,
   "metadata": {},
   "outputs": [
    {
     "name": "stdout",
     "output_type": "stream",
     "text": [
      "Series([], Name: ArrTime, dtype: int64)\n"
     ]
    }
   ],
   "source": [
    "f = flights1['ArrTime'].apply(lambda x: len(x))\n",
    "print(f[f!=4])"
   ]
  },
  {
   "cell_type": "code",
   "execution_count": 64,
   "metadata": {
    "scrolled": true
   },
   "outputs": [],
   "source": [
    "\n",
    "#flights1['Late'] = flights['CRSArrTime'] - flights['ArrTime']\n",
    "#flights_sel = flights1.drop(['Year', 'Month', 'DayofMonth', 'TailNum','UniqueCarrier', 'Origin', \"Dest\", 'Cancelled', 'CancellationCode'],axis=1)\n"
   ]
  },
  {
   "cell_type": "code",
   "execution_count": null,
   "metadata": {},
   "outputs": [],
   "source": []
  }
 ],
 "metadata": {
  "kernelspec": {
   "display_name": "Python 3",
   "language": "python",
   "name": "python3"
  },
  "language_info": {
   "codemirror_mode": {
    "name": "ipython",
    "version": 3
   },
   "file_extension": ".py",
   "mimetype": "text/x-python",
   "name": "python",
   "nbconvert_exporter": "python",
   "pygments_lexer": "ipython3",
   "version": "3.7.2"
  }
 },
 "nbformat": 4,
 "nbformat_minor": 2
}
