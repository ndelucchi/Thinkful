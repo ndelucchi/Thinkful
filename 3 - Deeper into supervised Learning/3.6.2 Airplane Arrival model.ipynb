{
 "cells": [
  {
   "cell_type": "code",
   "execution_count": 1,
   "metadata": {},
   "outputs": [],
   "source": [
    "import pandas as pd\n",
    "import numpy as np\n",
    "import seaborn as sns\n",
    "import matplotlib.pyplot as plt\n",
    "import time\n",
    "\n",
    "from datetime import datetime as dt\n",
    "from sklearn.model_selection import train_test_split\n",
    "from sklearn.model_selection import cross_val_score\n",
    "from sklearn import ensemble\n",
    "%matplotlib inline"
   ]
  },
  {
   "cell_type": "code",
   "execution_count": 10,
   "metadata": {},
   "outputs": [
    {
     "name": "stdout",
     "output_type": "stream",
     "text": [
      "--- 21.10949397087097 seconds ---\n",
      "<class 'pandas.core.frame.DataFrame'>\n",
      "RangeIndex: 7009728 entries, 0 to 7009727\n",
      "Data columns (total 29 columns):\n",
      "Year                 int64\n",
      "Month                int64\n",
      "DayofMonth           int64\n",
      "DayOfWeek            int64\n",
      "DepTime              float64\n",
      "CRSDepTime           int64\n",
      "ArrTime              float64\n",
      "CRSArrTime           int64\n",
      "UniqueCarrier        object\n",
      "FlightNum            int64\n",
      "TailNum              object\n",
      "ActualElapsedTime    float64\n",
      "CRSElapsedTime       float64\n",
      "AirTime              float64\n",
      "ArrDelay             float64\n",
      "DepDelay             float64\n",
      "Origin               object\n",
      "Dest                 object\n",
      "Distance             int64\n",
      "TaxiIn               float64\n",
      "TaxiOut              float64\n",
      "Cancelled            int64\n",
      "CancellationCode     object\n",
      "Diverted             int64\n",
      "CarrierDelay         float64\n",
      "WeatherDelay         float64\n",
      "NASDelay             float64\n",
      "SecurityDelay        float64\n",
      "LateAircraftDelay    float64\n",
      "dtypes: float64(14), int64(10), object(5)\n",
      "memory usage: 1.5+ GB\n",
      "None\n"
     ]
    }
   ],
   "source": [
    "start_time = time.time()\n",
    "flights = pd.read_csv('2008.csv')\n",
    "print('--- {} seconds ---'.format(time.time()-start_time))\n",
    "flights1 = flights\n",
    "print(flights.info())"
   ]
  },
  {
   "cell_type": "code",
   "execution_count": 3,
   "metadata": {
    "scrolled": true
   },
   "outputs": [
    {
     "name": "stdout",
     "output_type": "stream",
     "text": [
      "float64\n"
     ]
    }
   ],
   "source": [
    "#print(flights1[['ArrTime', 'DepTime','CRSDepTime','CRSArrTime']].info())\n",
    "print(flights1['ArrTime'].dtypes)"
   ]
  },
  {
   "cell_type": "code",
   "execution_count": 4,
   "metadata": {
    "code_folding": [
     2,
     12,
     28,
     37
    ]
   },
   "outputs": [],
   "source": [
    "#from pandas import Series\n",
    "\n",
    "def progress_coroutine(print_on = 10):\n",
    "    print (\"Starting progress monitor\")\n",
    "\n",
    "    iterations = 0\n",
    "    while True:\n",
    "        yield\n",
    "        iterations += 1\n",
    "        if (iterations % print_on == 0):\n",
    "            print (\"{} iterations done\".format(iterations))\n",
    "\n",
    "def percentage_coroutine(to_process, print_on_percent = 0.10):\n",
    "    print (\"Starting progress percentage monitor\")\n",
    "\n",
    "    processed = 0\n",
    "    count = 0\n",
    "    print_count = to_process*print_on_percent\n",
    "    while True:\n",
    "        yield\n",
    "        processed += 1\n",
    "        count += 1\n",
    "        if (count >= print_count):\n",
    "            count = 0\n",
    "            pct = (float(processed)/float(to_process))*100\n",
    "\n",
    "            print (\"{}% finished\".format(pct))\n",
    "\n",
    "def trace_progress(func, progress = None):\n",
    "    def callf(*args, **kwargs):\n",
    "        if (progress is not None):\n",
    "            progress.send(None)\n",
    "\n",
    "        return func(*args, **kwargs)\n",
    "\n",
    "    return callf\n",
    "\n",
    "def my_func(i):\n",
    "    return i ** 2\n",
    "\n",
    "#data_series = Series(list(range(100)))\n",
    "co1 = progress_coroutine()\n",
    "#co2 = percentage_coroutine(len(data_series))\n",
    "#trace_progress(flights1.DepTime.astype(int), progress = co1)\n",
    "#data_series.apply(trace_progress(my_func, progress = co2))"
   ]
  },
  {
   "cell_type": "code",
   "execution_count": 11,
   "metadata": {},
   "outputs": [
    {
     "name": "stderr",
     "output_type": "stream",
     "text": [
      "/Users/nickdelucchi/anaconda3/lib/python3.7/site-packages/ipykernel_launcher.py:14: SettingWithCopyWarning: \n",
      "A value is trying to be set on a copy of a slice from a DataFrame.\n",
      "Try using .loc[row_indexer,col_indexer] = value instead\n",
      "\n",
      "See the caveats in the documentation: http://pandas.pydata.org/pandas-docs/stable/indexing.html#indexing-view-versus-copy\n",
      "  \n",
      "/Users/nickdelucchi/anaconda3/lib/python3.7/site-packages/ipykernel_launcher.py:16: SettingWithCopyWarning: \n",
      "A value is trying to be set on a copy of a slice from a DataFrame.\n",
      "Try using .loc[row_indexer,col_indexer] = value instead\n",
      "\n",
      "See the caveats in the documentation: http://pandas.pydata.org/pandas-docs/stable/indexing.html#indexing-view-versus-copy\n",
      "  app.launch_new_instance()\n",
      "/Users/nickdelucchi/anaconda3/lib/python3.7/site-packages/ipykernel_launcher.py:18: SettingWithCopyWarning: \n",
      "A value is trying to be set on a copy of a slice from a DataFrame.\n",
      "Try using .loc[row_indexer,col_indexer] = value instead\n",
      "\n",
      "See the caveats in the documentation: http://pandas.pydata.org/pandas-docs/stable/indexing.html#indexing-view-versus-copy\n",
      "/Users/nickdelucchi/anaconda3/lib/python3.7/site-packages/ipykernel_launcher.py:20: SettingWithCopyWarning: \n",
      "A value is trying to be set on a copy of a slice from a DataFrame.\n",
      "Try using .loc[row_indexer,col_indexer] = value instead\n",
      "\n",
      "See the caveats in the documentation: http://pandas.pydata.org/pandas-docs/stable/indexing.html#indexing-view-versus-copy\n",
      "/Users/nickdelucchi/anaconda3/lib/python3.7/site-packages/ipykernel_launcher.py:22: SettingWithCopyWarning: \n",
      "A value is trying to be set on a copy of a slice from a DataFrame.\n",
      "Try using .loc[row_indexer,col_indexer] = value instead\n",
      "\n",
      "See the caveats in the documentation: http://pandas.pydata.org/pandas-docs/stable/indexing.html#indexing-view-versus-copy\n",
      "/Users/nickdelucchi/anaconda3/lib/python3.7/site-packages/ipykernel_launcher.py:24: SettingWithCopyWarning: \n",
      "A value is trying to be set on a copy of a slice from a DataFrame.\n",
      "Try using .loc[row_indexer,col_indexer] = value instead\n",
      "\n",
      "See the caveats in the documentation: http://pandas.pydata.org/pandas-docs/stable/indexing.html#indexing-view-versus-copy\n"
     ]
    },
    {
     "name": "stdout",
     "output_type": "stream",
     "text": [
      "--- 238.46519088745117 seconds ---\n",
      "    ArrTime   DepTime CRSDepTime CRSArrTime\n",
      "0  22:11:00  20:03:00   19:55:00   22:25:00\n",
      "1  10:02:00  07:54:00   07:35:00   10:00:00\n",
      "2  08:04:00  06:28:00   06:20:00   07:50:00\n",
      "3  10:54:00  09:26:00   09:30:00   11:00:00\n",
      "4  19:59:00  18:29:00   17:55:00   19:25:00\n",
      "ArrTime       object\n",
      "DepTime       object\n",
      "CRSDepTime    object\n",
      "CRSArrTime    object\n",
      "dtype: object\n"
     ]
    }
   ],
   "source": [
    "start_time = time.time()\n",
    "\n",
    "# to reset df\n",
    "flights1 = flights\n",
    "\n",
    "columns = ['ArrTime', 'DepTime','CRSDepTime','CRSArrTime']\n",
    "#columns = ['ArrTime']\n",
    "\n",
    "for item in columns:\n",
    "    # drops all rows with NA in select columns \n",
    "    flights1 = flights1.dropna(subset=columns)\n",
    "    if flights1[item].dtypes == 'float64' :\n",
    "        # convert float type to int type to remove decimal place\n",
    "        flights1[item] = flights1[item].astype(int)\n",
    "    # convert int type to str type to prep for date time manipulation\n",
    "    flights1[item] = flights1[item].astype('str')\n",
    "    # pad the left side of the string with '0's to max length of 4 chars  \n",
    "    flights1[item] = flights1[item].str.pad(width=4, side='left',fillchar='0') \n",
    "    # replace error causing entry\n",
    "    flights1[item] = flights1[item].str.replace('2400','0000')\n",
    "    # convert string to datetime\n",
    "    flights1[item] = flights1[item].apply(lambda x: dt.strptime(x, '%H%M'))\n",
    "    # remove the date part that for some reason shows up despite NOT requesting it above\n",
    "    flights1[item] = flights1[item].dt.time\n",
    "\n",
    "print('--- {} seconds ---'.format(time.time()-start_time))\n",
    "\n",
    "print(flights1[['ArrTime', 'DepTime','CRSDepTime','CRSArrTime']].head())\n",
    "print(flights1[['ArrTime', 'DepTime','CRSDepTime','CRSArrTime']].dtypes)"
   ]
  },
  {
   "cell_type": "code",
   "execution_count": 17,
   "metadata": {},
   "outputs": [],
   "source": [
    "#t_flight_time\n",
    "#flights1['t_flight_time'] = \n",
    "#print(flights1['CRSArrTime'] - flights1['CRSDepTime'])\n",
    "#print(flights1['t_flight_time'])\n",
    "#flights1['t_arr'] = dt.combine(dt.date(flights1['Year'], flights1['Month'],flights1['DayOfWeek']),flights1['ArrTime'])\n",
    "#print(flights1['t_arr'].head())\n",
    "#p_flight_time\n",
    "#arr_diff\n",
    "\n"
   ]
  },
  {
   "cell_type": "code",
   "execution_count": 25,
   "metadata": {},
   "outputs": [
    {
     "name": "stdout",
     "output_type": "stream",
     "text": [
      "Empty DataFrame\n",
      "Columns: [Year, Month, DayofMonth, DayOfWeek, DepTime, CRSDepTime, ArrTime, CRSArrTime, UniqueCarrier, FlightNum, TailNum, ActualElapsedTime, CRSElapsedTime, AirTime, ArrDelay, DepDelay, Origin, Dest, Distance, TaxiIn, TaxiOut, Cancelled, CancellationCode, Diverted, CarrierDelay, WeatherDelay, NASDelay, SecurityDelay, LateAircraftDelay]\n",
      "Index: []\n",
      "\n",
      "[0 rows x 29 columns]\n"
     ]
    }
   ],
   "source": []
  },
  {
   "cell_type": "code",
   "execution_count": 19,
   "metadata": {
    "scrolled": false
   },
   "outputs": [
    {
     "data": {
      "text/html": [
       "<div>\n",
       "<style scoped>\n",
       "    .dataframe tbody tr th:only-of-type {\n",
       "        vertical-align: middle;\n",
       "    }\n",
       "\n",
       "    .dataframe tbody tr th {\n",
       "        vertical-align: top;\n",
       "    }\n",
       "\n",
       "    .dataframe thead th {\n",
       "        text-align: right;\n",
       "    }\n",
       "</style>\n",
       "<table border=\"1\" class=\"dataframe\">\n",
       "  <thead>\n",
       "    <tr style=\"text-align: right;\">\n",
       "      <th></th>\n",
       "      <th>Year</th>\n",
       "      <th>Month</th>\n",
       "      <th>DayofMonth</th>\n",
       "      <th>DayOfWeek</th>\n",
       "      <th>DepTime</th>\n",
       "      <th>CRSDepTime</th>\n",
       "      <th>ArrTime</th>\n",
       "      <th>CRSArrTime</th>\n",
       "      <th>UniqueCarrier</th>\n",
       "      <th>FlightNum</th>\n",
       "      <th>...</th>\n",
       "      <th>TaxiIn</th>\n",
       "      <th>TaxiOut</th>\n",
       "      <th>Cancelled</th>\n",
       "      <th>CancellationCode</th>\n",
       "      <th>Diverted</th>\n",
       "      <th>CarrierDelay</th>\n",
       "      <th>WeatherDelay</th>\n",
       "      <th>NASDelay</th>\n",
       "      <th>SecurityDelay</th>\n",
       "      <th>LateAircraftDelay</th>\n",
       "    </tr>\n",
       "  </thead>\n",
       "  <tbody>\n",
       "  </tbody>\n",
       "</table>\n",
       "<p>0 rows × 29 columns</p>\n",
       "</div>"
      ],
      "text/plain": [
       "Empty DataFrame\n",
       "Columns: [Year, Month, DayofMonth, DayOfWeek, DepTime, CRSDepTime, ArrTime, CRSArrTime, UniqueCarrier, FlightNum, TailNum, ActualElapsedTime, CRSElapsedTime, AirTime, ArrDelay, DepDelay, Origin, Dest, Distance, TaxiIn, TaxiOut, Cancelled, CancellationCode, Diverted, CarrierDelay, WeatherDelay, NASDelay, SecurityDelay, LateAircraftDelay]\n",
       "Index: []\n",
       "\n",
       "[0 rows x 29 columns]"
      ]
     },
     "execution_count": 19,
     "metadata": {},
     "output_type": "execute_result"
    }
   ],
   "source": [
    "flights1[flights1['ArrTime'] == '0']"
   ]
  },
  {
   "cell_type": "code",
   "execution_count": 42,
   "metadata": {},
   "outputs": [
    {
     "name": "stdout",
     "output_type": "stream",
     "text": [
      "Series([], Name: ArrTime, dtype: int64)\n"
     ]
    }
   ],
   "source": [
    "f = flights1['ArrTime'].apply(lambda x: len(x))\n",
    "print(f[f!=4])"
   ]
  },
  {
   "cell_type": "code",
   "execution_count": 64,
   "metadata": {
    "scrolled": true
   },
   "outputs": [],
   "source": [
    "\n",
    "#flights1['Late'] = flights['CRSArrTime'] - flights['ArrTime']\n",
    "#flights_sel = flights1.drop(['Year', 'Month', 'DayofMonth', 'TailNum','UniqueCarrier', 'Origin', \"Dest\", 'Cancelled', 'CancellationCode'],axis=1)\n"
   ]
  },
  {
   "cell_type": "code",
   "execution_count": null,
   "metadata": {},
   "outputs": [],
   "source": []
  }
 ],
 "metadata": {
  "kernelspec": {
   "display_name": "Python 3",
   "language": "python",
   "name": "python3"
  },
  "language_info": {
   "codemirror_mode": {
    "name": "ipython",
    "version": 3
   },
   "file_extension": ".py",
   "mimetype": "text/x-python",
   "name": "python",
   "nbconvert_exporter": "python",
   "pygments_lexer": "ipython3",
   "version": "3.7.2"
  }
 },
 "nbformat": 4,
 "nbformat_minor": 2
}
