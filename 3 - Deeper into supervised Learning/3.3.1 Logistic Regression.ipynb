{
 "cells": [
  {
   "cell_type": "code",
   "execution_count": 1,
   "metadata": {
    "hide_input": false,
    "run_control": {
     "frozen": false,
     "read_only": false
    }
   },
   "outputs": [],
   "source": [
    "import numpy as np\n",
    "import matplotlib.pyplot as plt\n",
    "import pandas as pd\n",
    "import seaborn as sns\n",
    "import statsmodels.api as sm\n",
    "from sklearn.linear_model import LogisticRegression"
   ]
  },
  {
   "cell_type": "markdown",
   "metadata": {
    "run_control": {
     "frozen": false,
     "read_only": false
    }
   },
   "source": [
    "As you may recall, one of the requirements of linear regression was a continuous outcome variable, $y$.  Linear regression can be used to predict things like how much money a customer will spend due to a certain promotion, or how happy employees are in reaction to different management styles.  But oftentimes, we are actually interested in predicting the probability of an outcome – whether a customer will buy a product or not, or whether an employee will leave the company or stay.  For situations like those, where the outcome is categorical rather than continuous, we can use logistic regression.  Yes, this means we are using regression as a classifier!"
   ]
  },
  {
   "cell_type": "markdown",
   "metadata": {},
   "source": [
    "## Logistic regression vs  linear regression\n",
    "\n",
    "The formula for multivariate linear regression relating outcome $y$ to a matrix of variables $X$ is: \n",
    "$$y=\\alpha + \\beta X$$\n",
    "You may also see it as $y=\\beta X$, where $X$ includes an intercept variable with all values set to 1.  These are equivalent.\n",
    "\n",
    "The formula for **binary logistic regression** relating $p$ (the probability of getting $y=1$ rather than $y=0$ in outcome variable $y$) to a matrix of variables $X$ is: \n",
    "$$ln\\left(\\dfrac p{1-p}\\right)=\\beta X$$\n",
    "\n",
    "If $p$ is the probability of $y=1$, and there are only two possible values for $y$ ($0$ and $1$), then $1-p$ is the probability of $y=0$.  The ratio of $p$ to $1-p$ gives **the odds** of getting $y=1$.  For example, if an unfair coin has an 80% probability of turning up heads, then the odds of getting heads on any given flip are $.8/(1-.8)=4$.  In other words, for any given coin flip, you are four times more likely to get heads than tails.  Conversely, of course, the odds of getting tails are $.2/(1-.2)=.25$.  The convention is to calculate the odds of the more likely outcome over the less likely outcome, as odds less than $1$ (like $.25$) are not very intuitive.\n",
    "\n",
    "After the transformation, logistic regression and linear regression behave in the same way and follow the same assumptions: _linearity_ (of the transformed probabilities and the predictors), _multivariate normality of the residuals_, _homoscedasticity_ (variance of the residuals is constant across all predicted values), and _low multicollinearity_. \n",
    "\n",
    "\n",
    "### Quick check\n",
    "\n",
    "What are the odds of getting heads if you flip a fair coin?"
   ]
  },
  {
   "cell_type": "code",
   "execution_count": 2,
   "metadata": {},
   "outputs": [
    {
     "name": "stdout",
     "output_type": "stream",
     "text": [
      "1.0 times more likely to get heads than tails\n"
     ]
    }
   ],
   "source": [
    "fair_coin = 0.5/(1-0.5)\n",
    "print(fair_coin, 'times more likely to get heads than tails')"
   ]
  },
  {
   "cell_type": "markdown",
   "metadata": {},
   "source": [
    "## Why log?\n",
    "You will also see $ln\\left(\\dfrac p{1-p}\\right)$ summarized as $logit(p)$.  In either case, it represents the natural log of the odds of getting $y=1$.  We convert our binary outcome $y(0,1)$ into logged odds because regression requires normally distributed residuals, which come from a linear relationship between outcome and predictor. You can't get those from binary outcomes or odds on their own, as we will demonstrate.\n",
    "\n",
    "First, let's create a continuous variable `x` and a binary variable `y` and graph them:"
   ]
  },
  {
   "cell_type": "code",
   "execution_count": 3,
   "metadata": {
    "run_control": {
     "frozen": false,
     "read_only": false
    }
   },
   "outputs": [
    {
     "data": {
      "image/png": "[encoded data removed]",
      "text/plain": [
       "<Figure size 432x288 with 1 Axes>"
      ]
     },
     "metadata": {
      "needs_background": "light"
     },
     "output_type": "display_data"
    }
   ],
   "source": [
    "# Set the random seed so that the 'random' data is the same each time\n",
    "# the code is run.\n",
    "np.random.seed(seed=456613)\n",
    "\n",
    "# Create some data.\n",
    "df = pd.DataFrame()\n",
    "for probs in list(range(2, 9)):\n",
    "    tmp = pd.DataFrame({\n",
    "        'y': np.random.binomial(1, probs / 10, size=(1, 100))[0],\n",
    "        'x': probs\n",
    "    }) \n",
    "    df = df.append(tmp)\n",
    "\n",
    "# Continuous predictor.\n",
    "x = df['x']\n",
    "\n",
    "# Binary outcome.\n",
    "bin_y = df['y']\n",
    "\n",
    "# Calculate linear regression for x and bin_y.\n",
    "fit = np.polyfit(x,bin_y,1)\n",
    "\n",
    "# Work as a function to return the predicted value of y.\n",
    "fit_fn = np.poly1d(fit)\n",
    "\n",
    "# Add a little 'noise' to the data for graphing purposes.\n",
    "jitter = np.random.randn(700)\n",
    "\n",
    "# Display our results.\n",
    "plt.plot(x + jitter, bin_y + jitter / 100, 'yo', x, fit_fn(x), '--k')\n",
    "plt.xlabel('Continuous x')\n",
    "plt.ylabel('Binary y')\n",
    "plt.show()"
   ]
  },
  {
   "cell_type": "markdown",
   "metadata": {
    "run_control": {
     "frozen": false,
     "read_only": false
    }
   },
   "source": [
    "While we _could_ fit a linear regression line to this data, you can see that it would be a very poor fit.  A well-fitting regression line will reflect the shape of the data, and this line cannot do that because the binary y only takes two possible values.  The relationship between x and y is very, very non-linear.  If we tried to do regression anyway, it would lead to a very badly fitting model.\n",
    "\n",
    "Let's try another strategy and convert those binary values into the odds of getting $y=1$ for each value of $x$."
   ]
  },
  {
   "cell_type": "code",
   "execution_count": 4,
   "metadata": {
    "run_control": {
     "frozen": false,
     "read_only": false
    }
   },
   "outputs": [
    {
     "data": {
      "image/png": "[encoded data removed]",
      "text/plain": [
       "<Figure size 432x288 with 1 Axes>"
      ]
     },
     "metadata": {
      "needs_background": "light"
     },
     "output_type": "display_data"
    }
   ],
   "source": [
    "# Unique values in x.\n",
    "xvals = x.unique()\n",
    "\n",
    "# Calculate and store the odds.\n",
    "yodds = []\n",
    "for xi in xvals: \n",
    "    y1_ct = bin_y[x == xi].sum()  # The number of trials y = 1.\n",
    "    y0_ct = len(bin_y[x == xi]) - y1_ct  # The number of trials y = 0.\n",
    "    yodds.append(y1_ct / y0_ct)  # Odds of getting y = 1 for xi.\n",
    "    \n",
    "# Calculate linear regression for x and yodds.\n",
    "fit = np.polyfit(xvals, yodds, 1)\n",
    "\n",
    "# Work as a function to return the predicted value of yodds.\n",
    "fit_fn = np.poly1d(fit)\n",
    "\n",
    "# Display our work.\n",
    "plt.plot(xvals, yodds, 'yo', xvals, fit_fn(xvals), '--k')\n",
    "plt.xlabel('Continuous x')\n",
    "plt.ylabel('Odds of y=1')\n",
    "plt.show()"
   ]
  },
  {
   "cell_type": "markdown",
   "metadata": {},
   "source": [
    "That's starting to look nicer.\n",
    "\n",
    "To get the odds, we counted up how many times $y=1$ for each value of $x$ and divided it by the number of times $y=0$.  This gives us the odds of getting $y=1$ for each value of $x$.  The odds are a continuous variable, rather than a binary one. However, as we can see, the relationship between the odds and the continuous $x$ is still not linear – there is variation in the odds that isn't being captured by $x$.\n",
    "\n",
    "To capture that nonlinearity, we can try a non-linear transformation of the odds variable."
   ]
  },
  {
   "cell_type": "markdown",
   "metadata": {},
   "source": [
    "## Linear vs non-linear transformations\n",
    "\n",
    "A linear transformation is one where the relationship between the original value and the transformed value is the same for all values in a variable.  Addition, subtraction, multiplication, and division are examples of linear transformations:\n",
    "\n",
    "|x|x+3|x+3-1|x*5|x*4/2|\n",
    "|-|-|-|-|-|\n",
    "|1|4|3|5|2|\n",
    "|2|5|4|10|4|\n",
    "|3|6|5|15|6|\n",
    "|4|7|6|20|8|\n",
    "\n",
    "For the addition example, the input is _always 3 less_ than the output. For the multiplication example, the output _is always 5 times larger_ than the input. \n",
    "\n",
    "Not every transformation is linear. Let's look at squaring and logarithms for example.\n",
    "\n",
    "|x|x<sup>2</sup>|x<sup>2</sup>/x|log<sub>2</sub>(x)|log_x-x|\n",
    "|-|-|-|-|-|\n",
    "|1|1|1|0|-1|\n",
    "|2|4|2|1|-1|\n",
    "|3|9|3|1.58|-1.42|\n",
    "|4|16|4|2|-2|\n",
    "\n",
    "Here a one-unit change in the input ($x$) to the square and log transformations doesn't create same-sized changes in the output.  For the square transformation, the larger the input, the _bigger_ the impact of increasing or decreasing the input by 1.  For the logrithm transformation, the larger the input, the _smaller_ the impact of increasing or decreasing the input by 1 (except for log(1), which is a special case)."
   ]
  },
  {
   "cell_type": "markdown",
   "metadata": {},
   "source": [
    "## Logarithms to the rescue\n",
    "\n",
    "Formally, a logarithm is the power to which the base must be raised to produce the number being logged.  For log base 2, the log of 1 is 0, because $2^0=1$.  Similarly, the log of 2 is 1, because $2^1=2$.  The log of 3 is 1.58 (and some more digits) because $2^{1.58...}=3$.\n",
    "\n",
    "Logarithms are useful when dealing with data where values become more and more widely spaced as they become larger. If you look back to the graph we just made, you'll see that the difference between the odds for $x=7$ and $x=8$ is at least 10 times larger than the difference between $x=1$ and $x=2$.  Logging the odds \"shrinks\" the values toward zero, with a greater shrinkage factor for larger values.  For us, that means logging the odds has the possibility of evening up the distances between the odds values, leading to a linear relationship with x.\n",
    "\n",
    "Now let's try taking the log of the odds:"
   ]
  },
  {
   "cell_type": "code",
   "execution_count": 5,
   "metadata": {},
   "outputs": [
    {
     "data": {
      "image/png": "[encoded data removed]",
      "text/plain": [
       "<Figure size 432x288 with 1 Axes>"
      ]
     },
     "metadata": {
      "needs_background": "light"
     },
     "output_type": "display_data"
    }
   ],
   "source": [
    "# Natural log of the odds.\n",
    "ln_yodds = np.log(yodds)\n",
    "\n",
    "# Calculate linear regression for x and yodds.\n",
    "fit = np.polyfit(xvals, ln_yodds, 1)\n",
    "\n",
    "# Works as a function to return the predicted value of yodds.\n",
    "fit_fn = np.poly1d(fit)\n",
    "\n",
    "# Display.\n",
    "plt.plot(xvals, ln_yodds, 'yo', xvals, fit_fn(xvals), '--k')\n",
    "plt.xlabel('Continuous x')\n",
    "plt.ylabel('Log odds of y=1')\n",
    "\n",
    "plt.show()"
   ]
  },
  {
   "cell_type": "markdown",
   "metadata": {
    "run_control": {
     "frozen": false,
     "read_only": false
    }
   },
   "source": [
    "Now _that_ looks more like a linear relationship, with distances of similar magnitude between the points.  Regression can work with this.  The drawback, of course, is that working with logged odds leads to conclusions like \"A 1-year increase in age leads to a 2.2 log-odds increase in the likelihood of having a hearing problem,\" which is basically gibberish to most people.  As a result, when interpreting individual coefficients from a binary logistic regression, it is customary to back-transform the log-odds into odds by exponentiating ($e^{logit(p)}$), and then interpret the odds.\n",
    "\n",
    "Note that it is the convention to use the natural log when logging the odds, and therefore the exponentiation uses Euler's number $e$ as the base."
   ]
  },
  {
   "cell_type": "markdown",
   "metadata": {},
   "source": [
    "## Thinking Like a Data Scientist\n",
    "\n",
    "The ability to clearly communicate results like this is a _key skill_ of the data scientist. Your data and models are worthless unless people understand them well enough to act. \n",
    "\n",
    "Imagine you ran a binary logistic regression predicting likelihood of developing a hearing problem, using age in years and male (0=female, 1=male) as predictors. Your final model looks like this: \n",
    "\n",
    "$$logit(HasHearingProblem) = -1 + .02 * age + 1 * male$$\n",
    "\n",
    "Write out a description of the effects that age and gender have on the odds of developing hearing problems in terms a layperson could understand.  Include estimates for the odds of hearing problems in a 95 year old woman and a 50 year old man. Discuss your interpretation with your mentor."
   ]
  },
  {
   "cell_type": "markdown",
   "metadata": {},
   "source": [
    "gender being a binary variable would have a limited impact between individuals of the same age but opposite gender, separating them by a value of 1.\n",
    "Age being a continuus variable would have noticeable impact between individuals of the same gender but an age difference of, for example, 5 years."
   ]
  },
  {
   "cell_type": "code",
   "execution_count": 10,
   "metadata": {},
   "outputs": [
    {
     "name": "stdout",
     "output_type": "stream",
     "text": [
      "10.0\n",
      "18.0\n"
     ]
    }
   ],
   "source": [
    "man_50 = -1 + 0.2*50 + 1*1\n",
    "woman_95 = -1 + 0.2*95 + 1*0\n",
    "print(man_50)\n",
    "print(woman_95)"
   ]
  },
  {
   "cell_type": "markdown",
   "metadata": {},
   "source": [
    "## Fitting a binary logistic model using statsmodels\n",
    "\n",
    "Now, let's try fitting our own binary logistic model.  We'll be using a common dataset predicting university admission based on GPA, GRE, and school ranking (from 1, the best, to 4, the worst).\n",
    "\n",
    "We're using just the 'gpa' and 'gre' variables as predictors for now.\n",
    "\n",
    "First, we inspect the data:"
   ]
  },
  {
   "cell_type": "code",
   "execution_count": 30,
   "metadata": {
    "run_control": {
     "frozen": false,
     "read_only": false
    },
    "scrolled": false
   },
   "outputs": [
    {
     "name": "stdout",
     "output_type": "stream",
     "text": [
      "<class 'pandas.core.frame.DataFrame'>\n",
      "RangeIndex: 400 entries, 0 to 399\n",
      "Data columns (total 4 columns):\n",
      "admit    400 non-null int64\n",
      "gre      400 non-null int64\n",
      "gpa      400 non-null float64\n",
      "rank     400 non-null int64\n",
      "dtypes: float64(1), int64(3)\n",
      "memory usage: 12.6 KB\n",
      "None\n"
     ]
    },
    {
     "data": {
      "image/png": "[encoded data removed]",
      "text/plain": [
       "<Figure size 432x288 with 1 Axes>"
      ]
     },
     "metadata": {},
     "output_type": "display_data"
    },
    {
     "data": {
      "image/png": "[encoded data removed]",
      "text/plain": [
       "<Figure size 432x288 with 1 Axes>"
      ]
     },
     "metadata": {},
     "output_type": "display_data"
    },
    {
     "name": "stderr",
     "output_type": "stream",
     "text": [
      "/Users/nickdelucchi/anaconda3/lib/python3.7/site-packages/scipy/stats/stats.py:1713: FutureWarning: Using a non-tuple sequence for multidimensional indexing is deprecated; use `arr[tuple(seq)]` instead of `arr[seq]`. In the future this will be interpreted as an array index, `arr[np.array(seq)]`, which will result either in an error or a different result.\n",
      "  return np.add.reduce(sorted[indexer] * weights, axis=axis) / sumval\n"
     ]
    },
    {
     "data": {
      "image/png": "[encoded data removed]",
      "text/plain": [
       "<Figure size 432x288 with 1 Axes>"
      ]
     },
     "metadata": {},
     "output_type": "display_data"
    }
   ],
   "source": [
    "# Read in the data.\n",
    "df = pd.read_csv(\"https://www.dropbox.com/s/qhf0ocdqb3gh7ni/logistic_regression.csv?dl=1\") \n",
    "\n",
    "# Take a peek.\n",
    "print(df.info())\n",
    "\n",
    "# Prettier plots are better.\n",
    "sns.set_style(\"white\")\n",
    "\n",
    "# Bivariate relationships of predictors to admissions outcome.\n",
    "sns.boxplot(x=\"admit\", y=\"gpa\", data=df)\n",
    "plt.show()\n",
    "sns.boxplot(x=\"admit\", y=\"gre\", data=df)\n",
    "plt.show()\n",
    "\n",
    "# Relationship between predictors.\n",
    "sns.regplot(x='gre', y='gpa', data=df)\n",
    "plt.show()"
   ]
  },
  {
   "cell_type": "markdown",
   "metadata": {
    "run_control": {
     "frozen": false,
     "read_only": false
    }
   },
   "source": [
    "Looks like our predictors may add some value, but they are also correlated with each other, which could cause some problems.  Let's go ahead:"
   ]
  },
  {
   "cell_type": "code",
   "execution_count": 12,
   "metadata": {
    "run_control": {
     "frozen": false,
     "read_only": false
    },
    "scrolled": false
   },
   "outputs": [
    {
     "name": "stdout",
     "output_type": "stream",
     "text": [
      "Optimization terminated successfully.\n",
      "         Current function value: 0.600430\n",
      "         Iterations 5\n",
      "                           Logit Regression Results                           \n",
      "==============================================================================\n",
      "Dep. Variable:                  admit   No. Observations:                  400\n",
      "Model:                          Logit   Df Residuals:                      397\n",
      "Method:                           MLE   Df Model:                            2\n",
      "Date:                Sat, 06 Apr 2019   Pseudo R-squ.:                 0.03927\n",
      "Time:                        15:49:34   Log-Likelihood:                -240.17\n",
      "converged:                       True   LL-Null:                       -249.99\n",
      "                                        LLR p-value:                 5.456e-05\n",
      "==============================================================================\n",
      "                 coef    std err          z      P>|z|      [0.025      0.975]\n",
      "------------------------------------------------------------------------------\n",
      "gre            0.0027      0.001      2.544      0.011       0.001       0.005\n",
      "gpa            0.7547      0.320      2.361      0.018       0.128       1.381\n",
      "intercept     -4.9494      1.075     -4.604      0.000      -7.057      -2.842\n",
      "==============================================================================\n"
     ]
    },
    {
     "name": "stderr",
     "output_type": "stream",
     "text": [
      "/Users/nickdelucchi/anaconda3/lib/python3.7/site-packages/ipykernel_launcher.py:6: SettingWithCopyWarning: \n",
      "A value is trying to be set on a copy of a slice from a DataFrame.\n",
      "Try using .loc[row_indexer,col_indexer] = value instead\n",
      "\n",
      "See the caveats in the documentation: http://pandas.pydata.org/pandas-docs/stable/indexing.html#indexing-view-versus-copy\n",
      "  \n"
     ]
    }
   ],
   "source": [
    "# Declare predictors.\n",
    "X_statsmod = df[['gre', 'gpa']]\n",
    "\n",
    "# The Statsmodels formulation requires a column with constant value 1 that\n",
    "# will act as the intercept.\n",
    "X_statsmod['intercept'] = 1 \n",
    "\n",
    "# Declare and fit the model.\n",
    "logit = sm.Logit(df['admit'], X_statsmod)\n",
    "result = logit.fit()\n",
    "\n",
    "# Lots of information about the model and its coefficients, but the\n",
    "# accuracy rate for predictions is missing.\n",
    "print(result.summary())"
   ]
  },
  {
   "cell_type": "code",
   "execution_count": 13,
   "metadata": {},
   "outputs": [
    {
     "name": "stdout",
     "output_type": "stream",
     "text": [
      "\n",
      " Accuracy by admission status\n",
      "col_0    0   1\n",
      "admit         \n",
      "0      263  10\n",
      "1      118   9\n",
      "\n",
      " Percentage accuracy\n",
      "0.68\n"
     ]
    }
   ],
   "source": [
    "# Calculate accuracy. First, get probability that each row will be admitted.\n",
    "pred_statsmod = result.predict(X_statsmod)\n",
    "\n",
    "# Code admission as 1 if probability is greater than .5.\n",
    "pred_y_statsmod = np.where(pred_statsmod < .5, 0, 1)\n",
    "\n",
    "# Accuracy table.\n",
    "table = pd.crosstab(df['admit'], pred_y_statsmod)\n",
    "\n",
    "print('\\n Accuracy by admission status')\n",
    "print(table)\n",
    "print('\\n Percentage accuracy')\n",
    "print((table.iloc[0,0] + table.iloc[1,1]) / (table.sum().sum()))"
   ]
  },
  {
   "cell_type": "markdown",
   "metadata": {
    "run_control": {
     "frozen": false,
     "read_only": false
    }
   },
   "source": [
    "## Fitting a binary logistic model using SKLearn\n",
    "\n",
    "Unlike the statsmodels formulation, which just fits a standard binary logistic model that can be replicated using any other standard statistical software, the SKlearn logistic regression functionality includes a parameter regularization element that penalizes extremely large parameters in the name of increasing predictive accuracy.  We will talk more about this in the assignments on ridge and lasso regression, coming up next.  For now, the parameter \"C\" has been set to a very large number, which decreases the effectiveness of the regularization so that parameter estimates will be similar to the ones from 'statsmodels' above."
   ]
  },
  {
   "cell_type": "code",
   "execution_count": 22,
   "metadata": {
    "run_control": {
     "frozen": false,
     "read_only": false
    }
   },
   "outputs": [
    {
     "name": "stdout",
     "output_type": "stream",
     "text": [
      "Coefficients:  [0.74746175 0.00267018]\n",
      "intercept:  -4.911516605894616\n",
      "\n",
      " Accuracy by admission status\n",
      "admit    0    1\n",
      "row_0          \n",
      "0      263  118\n",
      "1       10    9\n",
      "\n",
      " Percentage accuracy\n",
      "0.68\n"
     ]
    },
    {
     "name": "stderr",
     "output_type": "stream",
     "text": [
      "/Users/nickdelucchi/anaconda3/lib/python3.7/site-packages/sklearn/linear_model/logistic.py:433: FutureWarning: Default solver will be changed to 'lbfgs' in 0.22. Specify a solver to silence this warning.\n",
      "  FutureWarning)\n"
     ]
    }
   ],
   "source": [
    "# Declare a logistic regression classifier.\n",
    "# Parameter regularization coefficient C described above.\n",
    "lr = LogisticRegression(C=1e9)\n",
    "y = df['admit']\n",
    "X = df[['gpa', 'gre']]\n",
    "\n",
    "# Fit the model.\n",
    "fit = lr.fit(X, y)\n",
    "\n",
    "# Display.\n",
    "print('Coefficients: ', fit.coef_[0][0:2])\n",
    "print('intercept: ', fit.intercept_[0])\n",
    "pred_y_sklearn = lr.predict(X)\n",
    "\n",
    "print('\\n Accuracy by admission status')\n",
    "print(pd.crosstab(pred_y_sklearn, y))\n",
    "\n",
    "print('\\n Percentage accuracy')\n",
    "print(lr.score(X, y))"
   ]
  },
  {
   "cell_type": "markdown",
   "metadata": {
    "run_control": {
     "frozen": false,
     "read_only": false
    }
   },
   "source": [
    "## Challenge: optimize the model(s)\n",
    "\n",
    "While the two packages yield similar accuracy rates, they have very different patterns of error.  Play with the models by adding additional features and shrinking the regularization coefficient to see if you can get the accuracy higher than 68%.  "
   ]
  },
  {
   "cell_type": "code",
   "execution_count": 34,
   "metadata": {
    "scrolled": true
   },
   "outputs": [
    {
     "name": "stdout",
     "output_type": "stream",
     "text": [
      "Coefficients:  [-1.66242897e-01  8.63187494e-02 -4.73685602e-01 -1.53293781e-02\n",
      " -7.99241477e-02  2.02242231e-04]\n",
      "intercept:  -0.1160180226063749\n",
      "\n",
      " Accuracy by admission status\n",
      "admit    0    1\n",
      "row_0          \n",
      "0      255  100\n",
      "1       18   27\n",
      "\n",
      " Percentage accuracy\n",
      "0.705\n"
     ]
    },
    {
     "name": "stderr",
     "output_type": "stream",
     "text": [
      "/Users/nickdelucchi/anaconda3/lib/python3.7/site-packages/sklearn/linear_model/logistic.py:433: FutureWarning: Default solver will be changed to 'lbfgs' in 0.22. Specify a solver to silence this warning.\n",
      "  FutureWarning)\n"
     ]
    }
   ],
   "source": [
    "# Declare a logistic regression classifier.\n",
    "# Parameter regularization coefficient C described above.\n",
    "lr = LogisticRegression(C=1e3)\n",
    "df['gre_gpa'] = df.gre/df.gpa\n",
    "df['sum'] = df.gre+df.gpa\n",
    "df['product'] = df['gre']*df['gpa']/df['rank']\n",
    "X = df[['gpa', 'gre', 'rank','gre_gpa', 'sum', 'product']]\n",
    "y = df['admit']\n",
    "\n",
    "# Fit the model.\n",
    "fit = lr.fit(X, y)\n",
    "\n",
    "# Display.\n",
    "print('Coefficients: ', fit.coef_[0])\n",
    "print('intercept: ', fit.intercept_[0])\n",
    "pred_y_sklearn = lr.predict(X)\n",
    "\n",
    "print('\\n Accuracy by admission status')\n",
    "print(pd.crosstab(pred_y_sklearn, y))\n",
    "\n",
    "print('\\n Percentage accuracy')\n",
    "print(lr.score(X, y))"
   ]
  },
  {
   "cell_type": "markdown",
   "metadata": {
    "run_control": {
     "frozen": false,
     "read_only": false
    }
   },
   "source": [
    "## Beyond Binary\n",
    "\n",
    "What if we wanted to use regression to predict a categorical variable with more than two possible outcomes?  Then we can use _multinomial logistic regression_, of which _binary logistic regression_ is a special case.  (Which is to say, binary logistic regression is a type of multinomial logistic regression with only two possible outcomes.)  SKLearn can handle multinomial logistic regression without a hiccup – the code will be exactly the same as what we used above, only we would feed it an outcome variable $y$ with more than two categories.\n",
    "\n",
    "What if we have an ordinal variable like where runners placed in a race?  We could treat it as continuous, but that would involve pretending that the distance between the 4th and 5th place finishers is the same size as the distance between the 44th and 45th place finishers.  We may not want to do that.  Instead, we can use _ordinal logistic regression_, which behaves like multinomial logistic regression but also incorporates information about the order of the categories.  If you ever need this functionality, the Python package [mord](http://pythonhosted.org/mord/) implements ordinal logistic regression in the style of SKlearn."
   ]
  },
  {
   "cell_type": "code",
   "execution_count": null,
   "metadata": {
    "collapsed": true
   },
   "outputs": [],
   "source": []
  }
 ],
 "metadata": {
  "hide_input": false,
  "kernelspec": {
   "display_name": "Python 3",
   "language": "python",
   "name": "python3"
  },
  "language_info": {
   "codemirror_mode": {
    "name": "ipython",
    "version": 3
   },
   "file_extension": ".py",
   "mimetype": "text/x-python",
   "name": "python",
   "nbconvert_exporter": "python",
   "pygments_lexer": "ipython3",
   "version": "3.7.2"
  },
  "toc": {
   "colors": {
    "hover_highlight": "#DAA520",
    "running_highlight": "#FF0000",
    "selected_highlight": "#FFD700"
   },
   "moveMenuLeft": true,
   "nav_menu": {
    "height": "171px",
    "width": "252px"
   },
   "navigate_menu": true,
   "number_sections": true,
   "sideBar": true,
   "threshold": 4,
   "toc_cell": false,
   "toc_section_display": "block",
   "toc_window_display": false
  }
 },
 "nbformat": 4,
 "nbformat_minor": 2
}
