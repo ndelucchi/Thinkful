{
 "cells": [
  {
   "cell_type": "markdown",
   "metadata": {},
   "source": [
    "Now that you have two new regression methods at your fingertips, it's time to give them a spin. In fact, for this challenge, let's put them together! Pick a dataset of your choice with a binary outcome and the potential for at least 15 features. If you're drawing a blank, the crime rates in 2013 dataset has a lot of variables that could be made into a modelable binary outcome.\n",
    "\n",
    "Engineer your features, then create three models. Each model will be run on a training set and a test-set (or multiple test-sets, if you take a folds approach). The models should be:\n",
    "\n",
    "Vanilla logistic regression\n",
    "Ridge logistic regression\n",
    "Lasso logistic regression\n",
    "If you're stuck on how to begin combining your two new modeling skills, here's a hint: the SKlearn LogisticRegression method has a \"penalty\" argument that takes either 'l1' or 'l2' as a value.\n",
    "\n",
    "In your report, evaluate all three models and decide on your best. Be clear about the decisions you made that led to these models (feature selection, regularization parameter selection, model evaluation criteria) and why you think that particular model is the best of the three. Also reflect on the strengths and limitations of regression as a modeling approach. Were there things you couldn't do but you wish you could have done?"
   ]
  },
  {
   "cell_type": "code",
   "execution_count": 12,
   "metadata": {},
   "outputs": [],
   "source": [
    "import pandas as pd\n",
    "import seaborn as sns\n",
    "import numpy as np\n",
    "import matplotlib.pyplot as plt\n",
    "from sklearn.linear_model import LogisticRegression\n",
    "%matplotlib inline"
   ]
  },
  {
   "cell_type": "code",
   "execution_count": 15,
   "metadata": {},
   "outputs": [],
   "source": [
    "distress = pd.read_csv('Financial Distress.csv')\n",
    "x = distress.drop('Financial Distress', axis=1)\n",
    "distress['Financial Distress'] = np.where(distress['Financial Distress'] > -0.50, 0, 1)\n",
    "y = distress['Financial Distress']"
   ]
  },
  {
   "cell_type": "markdown",
   "metadata": {},
   "source": [
    "# Vanilla Logistic Regression"
   ]
  },
  {
   "cell_type": "code",
   "execution_count": 19,
   "metadata": {},
   "outputs": [
    {
     "name": "stderr",
     "output_type": "stream",
     "text": [
      "/Users/nickdelucchi/anaconda3/lib/python3.7/site-packages/sklearn/linear_model/logistic.py:433: FutureWarning: Default solver will be changed to 'lbfgs' in 0.22. Specify a solver to silence this warning.\n",
      "  FutureWarning)\n"
     ]
    },
    {
     "name": "stdout",
     "output_type": "stream",
     "text": [
      "Coefficients and Intercept:\n",
      "[[-2.22207733e-05 -1.99011853e-07 -2.32288612e-07 -4.67956933e-08\n",
      "  -5.73007671e-08 -1.43432927e-07 -5.02924748e-08 -3.10856139e-08\n",
      "  -1.32565441e-07  3.05165278e-05 -1.59160191e-07 -4.11403197e-08\n",
      "  -8.05524231e-08 -2.99286176e-06 -8.67320086e-08  4.11720298e-07\n",
      "  -3.27087807e-05 -2.95707852e-06  3.58731876e-05 -8.25944465e-09\n",
      "   1.83461546e-05 -2.10228549e-08 -2.65969960e-07  1.46470703e-06\n",
      "  -6.94303202e-08 -4.94666732e-08 -2.69832264e-04 -1.79841990e-06\n",
      "   2.60875521e-06 -4.98265794e-08 -7.83388217e-09 -4.65366064e-08\n",
      "  -8.05522925e-06  1.99537823e-05 -1.23528289e-07 -2.74376085e-05\n",
      "  -2.37458150e-05 -8.84832636e-08  5.59582515e-08 -7.91981822e-08\n",
      "  -6.78747185e-06 -4.46991957e-08 -2.93946079e-08 -1.98852220e-06\n",
      "  -1.15372705e-06 -7.07250006e-07 -1.02713842e-07 -8.44605590e-08\n",
      "   2.94858845e-06 -4.04967373e-04  3.55761045e-07 -7.46030031e-08\n",
      "  -1.79020971e-06 -2.69974225e-06 -5.36648294e-08 -1.16439283e-04\n",
      "  -9.51511614e-08 -2.80342203e-08  1.21600121e-07  6.52667639e-10\n",
      "  -1.09600349e-06 -3.31640698e-08 -1.02176845e-06 -1.78538909e-06\n",
      "  -5.40006434e-07 -2.16196395e-06 -2.45619632e-06 -4.36341662e-06\n",
      "  -1.68155041e-06 -1.48046637e-04 -1.20418391e-05 -1.78780349e-06\n",
      "  -4.96926107e-06 -4.14131226e-07 -4.77021373e-06 -1.13724304e-05\n",
      "   9.60749693e-07  1.26808840e-06 -2.13606755e-06 -1.88016126e-06\n",
      "  -9.23590947e-08 -2.91094476e-06 -2.09331815e-07 -1.25226607e-06\n",
      "  -4.05537430e-06]]\n",
      "[-1.44032909e-07]\n",
      "\n",
      " Accuracy by admission status:\n",
      "Financial Distress     0    1\n",
      "row_0                        \n",
      "0                   3531  128\n",
      "1                      5    8\n",
      "\n",
      " Percentage accuracy:\n",
      "   0.9638\n"
     ]
    },
    {
     "name": "stderr",
     "output_type": "stream",
     "text": [
      "/Users/nickdelucchi/anaconda3/lib/python3.7/site-packages/sklearn/svm/base.py:922: ConvergenceWarning: Liblinear failed to converge, increase the number of iterations.\n",
      "  \"the number of iterations.\", ConvergenceWarning)\n"
     ]
    }
   ],
   "source": [
    "from sklearn.linear_model import LogisticRegression\n",
    "\n",
    "#initiate our model\n",
    "logr = LogisticRegression(C=1e5)\n",
    "\n",
    "#fit the model\n",
    "fit_log = logr.fit(x,y)\n",
    "\n",
    "# Display.\n",
    "print('Coefficients and Intercept:')\n",
    "print(fit_log.coef_)\n",
    "print(fit_log.intercept_)\n",
    "pred_y_sklearn = logreg.predict(x)\n",
    "\n",
    "print('\\n Accuracy by admission status:')\n",
    "print(pd.crosstab(pred_y_sklearn, y))\n",
    "\n",
    "print('\\n Percentage accuracy:')\n",
    "print('  ',round(logreg.score(x, y),4))"
   ]
  },
  {
   "cell_type": "markdown",
   "metadata": {},
   "source": [
    "# Logistic Ridge Regression"
   ]
  },
  {
   "cell_type": "code",
   "execution_count": 20,
   "metadata": {},
   "outputs": [
    {
     "name": "stderr",
     "output_type": "stream",
     "text": [
      "/Users/nickdelucchi/anaconda3/lib/python3.7/site-packages/sklearn/linear_model/logistic.py:433: FutureWarning: Default solver will be changed to 'lbfgs' in 0.22. Specify a solver to silence this warning.\n",
      "  FutureWarning)\n"
     ]
    },
    {
     "name": "stdout",
     "output_type": "stream",
     "text": [
      "Coefficients and Intercept:\n",
      "[[-2.22207733e-05 -1.99011853e-07 -2.32288612e-07 -4.67956933e-08\n",
      "  -5.73007671e-08 -1.43432927e-07 -5.02924748e-08 -3.10856139e-08\n",
      "  -1.32565441e-07  3.05165278e-05 -1.59160191e-07 -4.11403197e-08\n",
      "  -8.05524231e-08 -2.99286176e-06 -8.67320086e-08  4.11720298e-07\n",
      "  -3.27087807e-05 -2.95707852e-06  3.58731876e-05 -8.25944465e-09\n",
      "   1.83461546e-05 -2.10228549e-08 -2.65969960e-07  1.46470703e-06\n",
      "  -6.94303202e-08 -4.94666732e-08 -2.69832264e-04 -1.79841990e-06\n",
      "   2.60875521e-06 -4.98265794e-08 -7.83388217e-09 -4.65366064e-08\n",
      "  -8.05522925e-06  1.99537823e-05 -1.23528289e-07 -2.74376085e-05\n",
      "  -2.37458150e-05 -8.84832636e-08  5.59582515e-08 -7.91981822e-08\n",
      "  -6.78747185e-06 -4.46991957e-08 -2.93946079e-08 -1.98852220e-06\n",
      "  -1.15372705e-06 -7.07250006e-07 -1.02713842e-07 -8.44605590e-08\n",
      "   2.94858845e-06 -4.04967373e-04  3.55761045e-07 -7.46030031e-08\n",
      "  -1.79020971e-06 -2.69974225e-06 -5.36648294e-08 -1.16439283e-04\n",
      "  -9.51511614e-08 -2.80342203e-08  1.21600121e-07  6.52667639e-10\n",
      "  -1.09600349e-06 -3.31640698e-08 -1.02176845e-06 -1.78538909e-06\n",
      "  -5.40006434e-07 -2.16196395e-06 -2.45619632e-06 -4.36341662e-06\n",
      "  -1.68155041e-06 -1.48046637e-04 -1.20418391e-05 -1.78780349e-06\n",
      "  -4.96926107e-06 -4.14131226e-07 -4.77021373e-06 -1.13724304e-05\n",
      "   9.60749693e-07  1.26808840e-06 -2.13606755e-06 -1.88016126e-06\n",
      "  -9.23590947e-08 -2.91094476e-06 -2.09331815e-07 -1.25226607e-06\n",
      "  -4.05537430e-06]]\n",
      "[-1.44032909e-07]\n",
      "\n",
      " Accuracy by admission status:\n",
      "Financial Distress     0    1\n",
      "row_0                        \n",
      "0                   3535  135\n",
      "1                      1    1\n",
      "\n",
      " Percentage accuracy:\n",
      "   0.963\n"
     ]
    },
    {
     "name": "stderr",
     "output_type": "stream",
     "text": [
      "/Users/nickdelucchi/anaconda3/lib/python3.7/site-packages/sklearn/svm/base.py:922: ConvergenceWarning: Liblinear failed to converge, increase the number of iterations.\n",
      "  \"the number of iterations.\", ConvergenceWarning)\n"
     ]
    }
   ],
   "source": [
    "#initiate our model\n",
    "logreg = LogisticRegression(penalty='l2',C=1e5)\n",
    "\n",
    "#fit the model\n",
    "fit_ridge = logreg.fit(x,y)\n",
    "\n",
    "# Display.\n",
    "print('Coefficients and Intercept:')\n",
    "print(fit_ridge.coef_)\n",
    "print(fit_ridge.intercept_)\n",
    "pred_y_sklearn = logreg.predict(x)\n",
    "\n",
    "print('\\n Accuracy by admission status:')\n",
    "print(pd.crosstab(pred_y_sklearn, y))\n",
    "\n",
    "print('\\n Percentage accuracy:')\n",
    "print('  ',round(logreg.score(x, y),4))"
   ]
  },
  {
   "cell_type": "markdown",
   "metadata": {},
   "source": [
    "# Logistic Lasso Regression"
   ]
  },
  {
   "cell_type": "code",
   "execution_count": 21,
   "metadata": {},
   "outputs": [
    {
     "name": "stderr",
     "output_type": "stream",
     "text": [
      "/Users/nickdelucchi/anaconda3/lib/python3.7/site-packages/sklearn/linear_model/logistic.py:433: FutureWarning: Default solver will be changed to 'lbfgs' in 0.22. Specify a solver to silence this warning.\n",
      "  FutureWarning)\n"
     ]
    },
    {
     "name": "stdout",
     "output_type": "stream",
     "text": [
      "Coefficients and Intercept:\n",
      "[[ 6.55289230e-04  3.38563135e-02 -2.75584751e-01 -2.27359412e+00\n",
      "  -2.14498038e+00  3.23773307e-01 -9.01944606e+00  9.57385788e-01\n",
      "  -5.79834674e-01  2.10630424e-04  2.24143978e-01 -1.01680374e+01\n",
      "   5.53557579e-01  2.70526214e-07 -7.65373981e+00  5.28679798e-02\n",
      "  -5.26413253e-05  4.47092672e-04  6.65123162e-07  1.43986097e+00\n",
      "  -4.95029766e-05 -2.37432627e+00 -2.40242168e-01  2.25471900e-03\n",
      "   9.22981068e-01  1.03544229e+00 -7.07515139e-04 -4.14673133e-02\n",
      "   1.78655672e-05 -3.40933372e-01  6.86644849e+00  1.68773352e+00\n",
      "   3.28403594e-08  1.92549344e-06 -6.86927490e-02  2.07350124e-06\n",
      "  -3.92141891e-04 -2.72940047e+00 -3.17497415e-01 -2.83599739e-02\n",
      "  -3.41917531e-02 -7.87204432e-01 -4.09321300e-02 -2.05148237e-03\n",
      "  -1.50002566e-02 -8.05184518e-02 -1.23674745e-01  3.32552762e+00\n",
      "   1.49781432e-07  2.30468419e-04  3.19334495e-02  2.81187580e-02\n",
      "  -1.22994109e-02  4.34000381e-04 -8.16911044e-01 -9.45504675e-05\n",
      "  -7.26052638e-02  8.84612549e-01  4.07988196e-03 -7.01682857e+00\n",
      "  -1.61740200e-03 -1.09290624e+00  2.80646189e-03  1.76348925e-02\n",
      "  -1.30385630e-03  3.54252463e-02  3.98991572e-03 -1.85200824e-02\n",
      "   1.10858441e-02  1.54751503e-05 -1.31341224e-03  9.25222206e-04\n",
      "  -2.22659354e-03 -4.43153483e-02  3.08439578e-03 -1.38430110e-03\n",
      "  -2.48640729e-03  4.23996157e-03  1.22881826e-02 -3.57956084e-03\n",
      "   1.74110308e-03 -4.42336774e-03 -5.64194916e-02 -1.13113986e-02\n",
      "   6.93580796e-03]]\n",
      "[-0.13259023]\n",
      "\n",
      " Accuracy by admission status:\n",
      "Financial Distress     0    1\n",
      "row_0                        \n",
      "0                   3535  135\n",
      "1                      1    1\n",
      "\n",
      " Percentage accuracy:\n",
      "   0.963\n"
     ]
    },
    {
     "name": "stderr",
     "output_type": "stream",
     "text": [
      "/Users/nickdelucchi/anaconda3/lib/python3.7/site-packages/sklearn/svm/base.py:922: ConvergenceWarning: Liblinear failed to converge, increase the number of iterations.\n",
      "  \"the number of iterations.\", ConvergenceWarning)\n"
     ]
    }
   ],
   "source": [
    "#initiate our model\n",
    "loglass = LogisticRegression(penalty='l1',C=1e5)\n",
    "\n",
    "#fit the model\n",
    "fit_lass = loglass.fit(x,y)\n",
    "\n",
    "# Display.\n",
    "print('Coefficients and Intercept:')\n",
    "print(fit_lass.coef_)\n",
    "print(fit_lass.intercept_)\n",
    "pred_y_sklearn = logreg.predict(x)\n",
    "\n",
    "print('\\n Accuracy by admission status:')\n",
    "print(pd.crosstab(pred_y_sklearn, y))\n",
    "\n",
    "print('\\n Percentage accuracy:')\n",
    "print('  ',round(logreg.score(x, y),4))"
   ]
  },
  {
   "cell_type": "code",
   "execution_count": null,
   "metadata": {},
   "outputs": [],
   "source": []
  }
 ],
 "metadata": {
  "kernelspec": {
   "display_name": "Python 3",
   "language": "python",
   "name": "python3"
  },
  "language_info": {
   "codemirror_mode": {
    "name": "ipython",
    "version": 3
   },
   "file_extension": ".py",
   "mimetype": "text/x-python",
   "name": "python",
   "nbconvert_exporter": "python",
   "pygments_lexer": "ipython3",
   "version": "3.7.2"
  }
 },
 "nbformat": 4,
 "nbformat_minor": 2
}
