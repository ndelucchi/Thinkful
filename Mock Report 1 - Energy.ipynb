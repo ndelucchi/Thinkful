{
 "cells": [
  {
   "cell_type": "code",
   "execution_count": 1,
   "metadata": {},
   "outputs": [],
   "source": [
    "import numpy as np\n",
    "import matplotlib.pyplot as plt\n",
    "import pandas as pd\n",
    "%matplotlib notebook"
   ]
  },
  {
   "cell_type": "markdown",
   "metadata": {},
   "source": [
    "The question I sought to answer for this report is \"How have the different energy sources trended over the past 50 years in the United States?\"\n",
    "\n",
    "I was able to find utilities firm revenue statistics data from the 2002, 2007, and 2012 United States Economic Census located [here](https://www.census.gov/programs-surveys/economic-census/data/tables.All.html)"
   ]
  },
  {
   "cell_type": "code",
   "execution_count": 46,
   "metadata": {},
   "outputs": [],
   "source": [
    "ecen2002 = pd.read_csv(\"2002 Economic Census of the United states - Utilities- Subject Series - Estab and Firm Size- Revenue Size of Firms for the United States - 2002.csv\",header = [0,1])\n",
    "ecen2007 = pd.read_csv(\"2007 Economic Census of the United states - Utilities- Subject Series - Estab and Firm Size- Revenue Size of Firms for the United States - 2007.csv\",header = [0,1])\n",
    "ecen2012 = pd.read_csv(\"2012 Economic Census of the United states - Utilities- Subject Series - Estab and Firm Size- Revenue Size of Firms for the United States - 2012.csv\",header = [0,1])"
   ]
  },
  {
   "cell_type": "markdown",
   "metadata": {},
   "source": [
    "The data are imported and a header of \\[0,1\\] is noted to include a short description for the header from the data file."
   ]
  },
  {
   "cell_type": "code",
   "execution_count": 111,
   "metadata": {
    "scrolled": true
   },
   "outputs": [],
   "source": [
    "#print(ecen2012.head())\n",
    "#list(ecen2012)\n",
    "#print(ecen2007.dtypes)\n",
    "selection2012 = ecen2012[\"NAICS.id\"].isin([221111,221112,221113,221114,221115,221116,221117,221118])\n",
    "selection2007 = ecen2007[\"NAICS.id\"].isin([221111,221112,221113,221114,221115,221116,221117,221118])\n",
    "selection2002 = ecen2002[\"NAICS.id\"].isin([221111,221112,221113,221114,221115,221116,221117,221118])\n",
    "#print(selection2002[64:89])\n",
    "\n",
    "ecen2012_energies = ecen2012[selection2012[\"2012 NAICS code\"]]\n",
    "ecen2007_energies = ecen2007[selection2007[\"2007 NAICS code\"]]\n",
    "ecen2002_energies = ecen2002[selection2002[\"2002 NAICS code\"]]\n",
    "#print(ecen2002_energies)"
   ]
  },
  {
   "cell_type": "markdown",
   "metadata": {},
   "source": [
    "Here we selected the data where the NAICS ID code matches for electricity generating codes across 8 different sources and generated dataframes where these selections are true."
   ]
  },
  {
   "cell_type": "code",
   "execution_count": 186,
   "metadata": {},
   "outputs": [
    {
     "name": "stdout",
     "output_type": "stream",
     "text": [
      "EMP                Number of paid employees for pay period including March 12                             object\n",
      "                   Paid employees for pay period including March 12 (number)                              object\n",
      "ESTAB              Number of establishments                                                                int64\n",
      "FIRM               Number of firms                                                                       float64\n",
      "                   Total number of firms                                                                 float64\n",
      "GEO.display-label  Geographic area name                                                                   object\n",
      "GEO.id             Geographic identifier code                                                             object\n",
      "GEO.id2            Id2                                                                                   float64\n",
      "NAICS LABEL        Meaning of 2002 NAICS code                                                             object\n",
      "                   Meaning of 2007 NAICS code                                                             object\n",
      "                   Meaning of 2012 NAICS code                                                             object\n",
      "NAICS              2002 NAICS code                                                                       float64\n",
      "                   2007 NAICS code                                                                       float64\n",
      "                   2012 NAICS code                                                                       float64\n",
      "PAYANN             Annual payroll ($1,000)                                                                object\n",
      "PAYANT             Annual payroll ($1,000)                                                                object\n",
      "PAYQ1T             First-quarter payroll ($1,000)                                                         object\n",
      "PAYQTR1            First-quarter payroll ($1,000)                                                         object\n",
      "GROUPING_LABEL     Meaning of Sales, receipts, or revenue size of firms operated the entire year code     object\n",
      "                   Meaning of Sls/rcpts/rev size of firms operated entire year code                       object\n",
      "RCPSZFF.id         Sales, receipts, or revenue size of firms operated the entire year code               float64\n",
      "                   Sls/rcpts/rev size of firms operated entire year code                                 float64\n",
      "REVENUE            Revenue ($1,000)                                                                       object\n",
      "YEAR               Year                                                                                    int64\n",
      "dtype: object\n"
     ]
    }
   ],
   "source": [
    "frames = [ecen2012_energies,ecen2007_energies,ecen2002_energies]\n",
    "ecen_energies = pd.concat(frames)\n",
    "ecen_energies = ecen_energies.reset_index(drop=True)\n",
    "ecen_energies.rename(columns={\"NAICS.id\":\"NAICS\",\"NAICS.display-label\": \"NAICS LABEL\",\"YEAR.id\":\"YEAR\", \"RCPSZFF.display-label\":\"GROUPING_LABEL\", \"RCPTOT\":\"REVENUE\"},inplace=True)\n",
    "#ecen_energies[\"REVENUE\"].astype(\"int64\")\n",
    "print(ecen_energies.dtypes)\n"
   ]
  },
  {
   "cell_type": "markdown",
   "metadata": {},
   "source": [
    "The dataframes are concatenated."
   ]
  },
  {
   "cell_type": "code",
   "execution_count": 188,
   "metadata": {},
   "outputs": [
    {
     "name": "stdout",
     "output_type": "stream",
     "text": [
      "                                                         EMP  \\\n",
      "  Number of paid employees for pay period including March 12   \n",
      "0                                               3464           \n",
      "1                                                  h           \n",
      "2                                                 25           \n",
      "3                                                 20           \n",
      "4                                                 47           \n",
      "\n",
      "                                                             \\\n",
      "  Paid employees for pay period including March 12 (number)   \n",
      "0                                                NaN          \n",
      "1                                                NaN          \n",
      "2                                                NaN          \n",
      "3                                                NaN          \n",
      "4                                                NaN          \n",
      "\n",
      "                     ESTAB            FIRM                        \\\n",
      "  Number of establishments Number of firms Total number of firms   \n",
      "0                      405           137.0                   NaN   \n",
      "1                      393           125.0                   NaN   \n",
      "2                       20            20.0                   NaN   \n",
      "3                        9             9.0                   NaN   \n",
      "4                       20            19.0                   NaN   \n",
      "\n",
      "     GEO.display-label                     GEO.id GEO.id2  \\\n",
      "  Geographic area name Geographic identifier code     Id2   \n",
      "0        United States                  0100000US     NaN   \n",
      "1        United States                  0100000US     NaN   \n",
      "2        United States                  0100000US     NaN   \n",
      "3        United States                  0100000US     NaN   \n",
      "4        United States                  0100000US     NaN   \n",
      "\n",
      "                 NAICS LABEL                             ...   \\\n",
      "  Meaning of 2002 NAICS code Meaning of 2007 NAICS code  ...    \n",
      "0                        NaN                        NaN  ...    \n",
      "1                        NaN                        NaN  ...    \n",
      "2                        NaN                        NaN  ...    \n",
      "3                        NaN                        NaN  ...    \n",
      "4                        NaN                        NaN  ...    \n",
      "\n",
      "                   PAYANN                  PAYANT  \\\n",
      "  Annual payroll ($1,000) Annual payroll ($1,000)   \n",
      "0                  274179                     NaN   \n",
      "1                       D                     NaN   \n",
      "2                     651                     NaN   \n",
      "3                     402                     NaN   \n",
      "4                    1938                     NaN   \n",
      "\n",
      "                          PAYQ1T                        PAYQTR1  \\\n",
      "  First-quarter payroll ($1,000) First-quarter payroll ($1,000)   \n",
      "0                            NaN                          75946   \n",
      "1                            NaN                              D   \n",
      "2                            NaN                            149   \n",
      "3                            NaN                             92   \n",
      "4                            NaN                            435   \n",
      "\n",
      "                                                                      GROUPING_LABEL  \\\n",
      "  Meaning of Sales, receipts, or revenue size of firms operated the entire year code   \n",
      "0                                          All firms                                   \n",
      "1                 Firms operated for the entire year                                   \n",
      "2  Firms operated entire year with sales/receipts...                                   \n",
      "3  Firms operated entire year with sales/receipts...                                   \n",
      "4  Firms operated entire year with sales/receipts...                                   \n",
      "\n",
      "                                                                    \\\n",
      "  Meaning of Sls/rcpts/rev size of firms operated entire year code   \n",
      "0                                                NaN                 \n",
      "1                                                NaN                 \n",
      "2                                                NaN                 \n",
      "3                                                NaN                 \n",
      "4                                                NaN                 \n",
      "\n",
      "                                                               RCPSZFF.id  \\\n",
      "  Sales, receipts, or revenue size of firms operated the entire year code   \n",
      "0                                                1.0                        \n",
      "1                                                4.0                        \n",
      "2                                              514.0                        \n",
      "3                                              523.0                        \n",
      "4                                              525.0                        \n",
      "\n",
      "                                                                 REVENUE  YEAR  \n",
      "  Sls/rcpts/rev size of firms operated entire year code Revenue ($1,000)  Year  \n",
      "0                                                NaN             2452297  2012  \n",
      "1                                                NaN                   D  2012  \n",
      "2                                                NaN                 884  2012  \n",
      "3                                                NaN                1446  2012  \n",
      "4                                                NaN                6918  2012  \n",
      "\n",
      "[5 rows x 24 columns]\n"
     ]
    }
   ],
   "source": [
    "hydr = ecen_energies[\"NAICS\"]==221111\n",
    "hydro = ecen_energies[(hydr[\"2002 NAICS code\"]) | (hydr[\"2007 NAICS code\"]) | (hydr[\"2012 NAICS code\"])]\n",
    "hydro = hydro.reset_index(drop=True)\n",
    "print(hydro.head())\n",
    "\n",
    "#plt.figure()\n",
    "#plt.pie(x=hydro[\"YEAR\"],y=hydro[\"REVENUE\"])\n",
    "#plt.show()"
   ]
  },
  {
   "cell_type": "code",
   "execution_count": null,
   "metadata": {},
   "outputs": [],
   "source": []
  },
  {
   "cell_type": "code",
   "execution_count": null,
   "metadata": {},
   "outputs": [],
   "source": []
  }
 ],
 "metadata": {
  "kernelspec": {
   "display_name": "Python 3",
   "language": "python",
   "name": "python3"
  },
  "language_info": {
   "codemirror_mode": {
    "name": "ipython",
    "version": 3
   },
   "file_extension": ".py",
   "mimetype": "text/x-python",
   "name": "python",
   "nbconvert_exporter": "python",
   "pygments_lexer": "ipython3",
   "version": "3.7.0"
  }
 },
 "nbformat": 4,
 "nbformat_minor": 2
}
